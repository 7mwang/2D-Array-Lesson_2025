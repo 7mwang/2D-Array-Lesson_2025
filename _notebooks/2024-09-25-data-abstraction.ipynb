{
 "cells": [
  {
   "cell_type": "raw",
   "metadata": {
    "vscode": {
     "languageId": "raw"
    }
   },
   "source": [
    "---\n",
    "layout: post\n",
    "title: 3.2 - Data Abstraction\n",
    "description: Nolan & Jacob's Data Abstraction Presentation\n",
    "permalink: /posts/nolantest\n",
    "toc: true\n",
    "comments: true\n",
    "---"
   ]
  },
  {
   "cell_type": "markdown",
   "metadata": {},
   "source": [
    "# Nolan & Jacob's Presentation\n",
    "\n",
    "## Variable Types\n",
    "\n",
    "Integers (int)\n",
    "\n",
    "> A number **without** decimals/fractions. Good for simple math & counting\n",
    "\n",
    "```python\n",
    "three = 3\n",
    "print(three)\n",
    "# -> 3\n",
    "```\n",
    "\n",
    "Floating-Point Numbers (float)\n",
    "\n",
    "> A number **with** decimals. Good for math.\n",
    "\n",
    "```python\n",
    "deci = 2.5\n",
    "print(deci - 2)\n",
    "# -> 0.5\n",
    "```\n",
    "\n",
    "Strings (str)\n",
    "\n",
    "> Basically Text. Good for when you need to use words, like names.\n",
    "\n",
    "```python\n",
    "name = \"Nolan\"\n",
    "print(\"This was written by \" + name)\n",
    "```\n",
    "\n",
    "Lists (list)\n",
    "\n",
    "> A list of different variables that **is editable**. Also know as an _array_ in Javascript and other languages.\n",
    "\n",
    "```python\n",
    "classes = [\"Math\", \"Spanish\", \"Photo\"]\n",
    "print(classes[0])\n",
    "print(classes[1])\n",
    "print(classes[2])\n",
    "print(classes)\n",
    "# note: indexes in Python and Javascript start at 0, not one\n",
    "#-> Math\n",
    "# -> Spanish\n",
    "# -> Photo\n",
    "# -> ['Math', 'Spanish', 'Photo']\n",
    "\n",
    "classes[1] = \"NOT Spanish >:)\"\n",
    "classes.append(\"AP Lunch\")\n",
    "print(classes)\n",
    "# -> ['Math', 'NOT Spanish >:)', 'Photo', 'AP Lunch']\n",
    "```\n",
    "\n",
    "Tuples (tuple)\n",
    "\n",
    "> A list, but can't change the keys in it **(immutable)**\n",
    "\n",
    "`thingsyoucantchange = (\"your height\", \"your middle name\")`\n",
    "\n",
    "Dictionaries (dict)\n",
    "\n",
    "> Think of it like a two column table, one side has the name of a varable, and the other side its value. Basically a list, but also with the names of the values/keys. Known as an _object_ in Javascript and other languages.\n",
    "\n",
    "```python\n",
    "jacob = {\n",
    "    \"age\": 15, # int\n",
    "    \"school\": \"Del Norte\", # str\n",
    "    \"classes\": [\"Math\", \"English\", \"CSP\"] # list\n",
    "}\n",
    "\n",
    "print(jacob)\n",
    "# important note: in both python and js, you put commas at the end of a key if there is a key after, and unlike js, in python you NEED to use quotes around the key's name.\n",
    "# -> {'age': 15, 'school': 'Del Norte', 'classes': ['Math', 'English', 'CSP']}\n",
    "print(jacob[\"age\"])\n",
    "# -> 15\n",
    "print(jacob[\"classes\"][1])\n",
    "# -> English\n",
    "```\n",
    "\n",
    "Sets (set)\n",
    "\n",
    "> A list, but you can't change any of the values (immutable) and you can't access certain values in it with an **index.**\n",
    "\n",
    "```python\n",
    "thingsyouwillalwayshave = {\"small height\", \"an unchangable middlename\", \"brainrot\"}\n",
    "```\n",
    "\n",
    "Booleans (bool)\n",
    "\n",
    "> True or false **(binary)**.\n",
    "\n",
    "```python\n",
    "facts = True\n",
    "print(\"Magic 8 Ball, does Nolan deserve an A in this class?\")\n",
    "print(\"[8] Magic 8 Ball is thinking ...\")\n",
    "print(\"[8] The ball has decided, that is \" + str(facts))\n",
    "\n",
    "'''\n",
    "Magic 8 Ball, does Nolan deserve an A in this class?\n",
    "[8] Magic 8 Ball is thinking ...\n",
    "[8] The ball has decided, that is True\n",
    "'''\n",
    "# Also, make sure that True and False have the first letter capitalized.\n",
    "```\n",
    "\n",
    "None (NoneType)\n",
    "\n",
    "> A variable with no type / value. Good for a placeholder &/or to show no value.\n",
    "\n",
    "`x = None #capital letter`\n"
   ]
  },
  {
   "cell_type": "markdown",
   "metadata": {},
   "source": [
    "## Using JSON\n",
    "\n",
    "JSON = JavaScript Object Notation.\n",
    "Similar (almost the same) as a `dict`. Used to store and transfer data easily, this is the form of data transferred in most APIs (99.99999%)\n",
    "\n",
    "### Pythob to JSON\n"
   ]
  },
  {
   "cell_type": "code",
   "execution_count": 1,
   "metadata": {},
   "outputs": [
    {
     "name": "stdout",
     "output_type": "stream",
     "text": [
      "{\"name\": \"Mercedes CLR GTR\", \"performance\": {\"engine\": \"6.0-liter V12\", \"horsepower\": 600, \"acceleration\": \"0 to 100 km/h in 3.7 seconds\", \"top_speed\": \"over 320 km/h\"}, \"features\": {\"aerodynamics\": \"advanced\", \"stability_technologies\": \"cutting-edge\", \"stability_control\": \"exceptional during high-speed maneuvers\"}, \"pricing\": {\"original_price\": \"$1.5 million\", \"production_run\": 5, \"rarity\": \"highly sought after by racing enthusiasts and collectors\"}}\n"
     ]
    }
   ],
   "source": [
    "import json # make sure to import this or it will break ur code\n",
    "\n",
    "# dict\n",
    "mercedes_clr_gtr = {\n",
    "    \"name\": \"Mercedes CLR GTR\",\n",
    "    \"performance\": {\n",
    "        \"engine\": \"6.0-liter V12\",\n",
    "        \"horsepower\": 600,\n",
    "        \"acceleration\": \"0 to 100 km/h in 3.7 seconds\",\n",
    "        \"top_speed\": \"over 320 km/h\"\n",
    "    },\n",
    "    \"features\": {\n",
    "        \"aerodynamics\": \"advanced\",\n",
    "        \"stability_technologies\": \"cutting-edge\",\n",
    "        \"stability_control\": \"exceptional during high-speed maneuvers\"\n",
    "    },\n",
    "    \"pricing\": {\n",
    "        \"original_price\": \"$1.5 million\",\n",
    "        \"production_run\": 5,\n",
    "        \"rarity\": \"highly sought after by racing enthusiasts and collectors\"\n",
    "    }\n",
    "}\n",
    "\n",
    "# as you can see, you can mix and match different data types such as strings, int/floats, bools, dicts, lists, etc\n",
    "\n",
    "jsonstring = json.dumps(mercedes_clr_gtr) \n",
    "\n",
    "print(jsonstring)"
   ]
  },
  {
   "cell_type": "markdown",
   "metadata": {},
   "source": [
    "### Formatting"
   ]
  },
  {
   "cell_type": "code",
   "execution_count": 9,
   "metadata": {},
   "outputs": [
    {
     "name": "stdout",
     "output_type": "stream",
     "text": [
      "Example 1:\n",
      " {\"name\": \"Porsche 911\", \"performance\": {\"engine\": \"3.0-liter twin-turbo flat-six\", \"horsepower\": 379, \"acceleration\": \"0 to 100 km/h in 4.2 seconds\", \"top_speed\": \"291 km/h\"}, \"features\": {\"driving_assistance\": \"adaptive cruise control\", \"exterior\": \"iconic design\", \"interior\": \"premium materials\"}, \"pricing\": {\"original_price\": \"$101,200\", \"production_run\": \"ongoing\", \"rarity\": \"exclusive\"}}\n",
      "\n",
      "Example 2:\n",
      " {\n",
      "  \"name\": \"Porsche 911\",\n",
      "  \"performance\": {\n",
      "    \"engine\": \"3.0-liter twin-turbo flat-six\",\n",
      "    \"horsepower\": 379,\n",
      "    \"acceleration\": \"0 to 100 km/h in 4.2 seconds\",\n",
      "    \"top_speed\": \"291 km/h\"\n",
      "  },\n",
      "  \"features\": {\n",
      "    \"driving_assistance\": \"adaptive cruise control\",\n",
      "    \"exterior\": \"iconic design\",\n",
      "    \"interior\": \"premium materials\"\n",
      "  },\n",
      "  \"pricing\": {\n",
      "    \"original_price\": \"$101,200\",\n",
      "    \"production_run\": \"ongoing\",\n",
      "    \"rarity\": \"exclusive\"\n",
      "  }\n",
      "}\n",
      "\n",
      "Example 3:\n",
      " {\n",
      "    \"name\": \"Porsche 911\",\n",
      "    \"performance\": {\n",
      "        \"engine\": \"3.0-liter twin-turbo flat-six\",\n",
      "        \"horsepower\": 379,\n",
      "        \"acceleration\": \"0 to 100 km/h in 4.2 seconds\",\n",
      "        \"top_speed\": \"291 km/h\"\n",
      "    },\n",
      "    \"features\": {\n",
      "        \"driving_assistance\": \"adaptive cruise control\",\n",
      "        \"exterior\": \"iconic design\",\n",
      "        \"interior\": \"premium materials\"\n",
      "    },\n",
      "    \"pricing\": {\n",
      "        \"original_price\": \"$101,200\",\n",
      "        \"production_run\": \"ongoing\",\n",
      "        \"rarity\": \"exclusive\"\n",
      "    }\n",
      "}\n"
     ]
    }
   ],
   "source": [
    "import json\n",
    "\n",
    "porsche_911 = {\n",
    "    \"name\": \"Porsche 911\",\n",
    "    \"performance\": {\n",
    "        \"engine\": \"3.0-liter twin-turbo flat-six\",\n",
    "        \"horsepower\": 379,\n",
    "        \"acceleration\": \"0 to 100 km/h in 4.2 seconds\",\n",
    "        \"top_speed\": \"291 km/h\"\n",
    "    },\n",
    "    \"features\": {\n",
    "        \"driving_assistance\": \"adaptive cruise control\",\n",
    "        \"exterior\": \"iconic design\",\n",
    "        \"interior\": \"premium materials\"\n",
    "    },\n",
    "    \"pricing\": {\n",
    "        \"original_price\": \"$101,200\",\n",
    "        \"production_run\": \"ongoing\",\n",
    "        \"rarity\": \"exclusive\"\n",
    "    }\n",
    "}\n",
    "\n",
    "# Example 1: Default formatting\n",
    "json_string_1 = json.dumps(porsche_911)\n",
    "print(\"Example 1:\\n\", json_string_1)\n",
    "\n",
    "# Example 2: Pretty-printing with 2 spaces indentation\n",
    "json_string_2 = json.dumps(porsche_911, indent=2)\n",
    "print(\"\\nExample 2:\\n\", json_string_2)\n",
    "\n",
    "# Example 3: Pretty-printing with no spaces between keys and values\n",
    "json_string_3 = json.dumps(porsche_911, indent=4, separators=(',', ': '))\n",
    "print(\"\\nExample 3:\\n\", json_string_3)\n"
   ]
  },
  {
   "cell_type": "markdown",
   "metadata": {},
   "source": [
    "### JSON to Python"
   ]
  },
  {
   "cell_type": "code",
   "execution_count": 5,
   "metadata": {},
   "outputs": [
    {
     "name": "stdout",
     "output_type": "stream",
     "text": [
      "{'name': 'John', 'age': 30, 'city': 'New York'}\n",
      "30\n"
     ]
    }
   ],
   "source": [
    "import json\n",
    "\n",
    "x =  '{ \"name\":\"John\", \"age\":30, \"city\":\"New York\"}' # mr morts example json (im too lazy to come up with something original the mercedes clr gtr took waay to much time)\n",
    "\n",
    "y = json.loads(x) # js equivalent is JSON.parse()\n",
    "\n",
    "print(y) # returns a dict\n",
    "print(y[\"age\"])"
   ]
  },
  {
   "cell_type": "markdown",
   "metadata": {},
   "source": [
    "## Assignment!\n",
    "\n",
    "Create code that does the following\n",
    "* Uses a dictionary\n",
    "* Contains at least 3 **different** types of variables in the dict, one of which must be a list\n",
    "* Changes keys in the dict, including a key in the list\n",
    "* Converts the dict to JSON\n",
    "\n",
    "**Extra Credit:** do some kind of math in your code to change a key\n",
    "\n",
    "Ideas: some recipe thing.\n",
    "\n",
    "*Here's Nolan's example:*"
   ]
  },
  {
   "cell_type": "code",
   "execution_count": 8,
   "metadata": {},
   "outputs": [
    {
     "name": "stdout",
     "output_type": "stream",
     "text": [
      "{'owner': 'Lil Bro', 'dollars': 50, 'food': ['apps', 'pizza', 'banana']}\n",
      "['apps', 'pizza', 'half-eaten banana']\n",
      "25.0\n",
      "{\"owner\": \"Lil Bro\", \"dollars\": 25.0, \"food\": [\"apps\", \"pizza\", \"half-eaten banana\"]}\n"
     ]
    }
   ],
   "source": [
    "import json # make sure to skibidi import\n",
    "\n",
    "possesions = {\n",
    "    \"owner\": \"Lil Bro\",\n",
    "    \"dollars\": 50,\n",
    "    \"food\": [\n",
    "        \"apps\",\n",
    "        \"pizza\",\n",
    "        \"banana\"\n",
    "    ]\n",
    "}\n",
    "\n",
    "print(possesions)\n",
    "# bob the minion eats part of the banana\n",
    "possesions[\"food\"][2] = \"half-eaten banana\"\n",
    "print(possesions[\"food\"])\n",
    "# fanum tax\n",
    "possesions[\"dollars\"] = possesions[\"dollars\"] / 2\n",
    "print(possesions[\"dollars\"]) # notice that it changes to a float\n",
    "\n",
    "# json\n",
    "print(json.dumps(possesions))"
   ]
  },
  {
   "cell_type": "markdown",
   "metadata": {},
   "source": [
    "<hr />\n",
    "ah man i was compiling this to see if it turned out right and running make on portfolio_2025 is actual living hell bro it has so many fricking notebooks i have been sitting here for like 2 mins now its 11:47 just PLEASE finish already computer"
   ]
  }
 ],
 "metadata": {
  "kernelspec": {
   "display_name": "Python 3",
   "language": "python",
   "name": "python3"
  },
  "language_info": {
   "codemirror_mode": {
    "name": "ipython",
    "version": 3
   },
   "file_extension": ".py",
   "mimetype": "text/x-python",
   "name": "python",
   "nbconvert_exporter": "python",
   "pygments_lexer": "ipython3",
   "version": "3.11.2"
  },
  "orig_nbformat": 4
 },
 "nbformat": 4,
 "nbformat_minor": 2
}
