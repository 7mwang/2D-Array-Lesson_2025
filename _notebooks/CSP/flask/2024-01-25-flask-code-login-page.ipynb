{
 "cells": [
  {
   "cell_type": "markdown",
   "metadata": {},
   "source": [
    "---\n",
    "layout: post\n",
    "title: Create A Login Page Flask Full-Stack web application \n",
    "description: Full Stack Development with Flask explained by terms and examples.\n",
    "permalink: /flask-code-login\n",
    "author: Isabel Marilla\n",
    "menu: nav/flask.html\n",
    "toc: true\n",
    "---"
   ]
  },
  {
   "cell_type": "markdown",
   "metadata": {},
   "source": [
    "# Introduction\n",
    "In any web application, the login page is essential for user authentication and access control. In this tutorial, we'll explore the process of creating a login page using Flask, a lightweight and versatile Python web framework that is well-suited for full-stack web development.\n",
    "\n",
    "### What You'll Learn\n",
    "\n",
    "In this step-by-step guide, you'll learn how to:\n",
    "-  Understand Authentication \n",
    "- Use a Flask application.\n",
    "- Design and implement a user login form.\n",
    "- Validate login credentials to ensure proper authentication.\n",
    "- Connect the front-end login form to the back-end Flask application.\n",
    " \n",
    "\n",
    "### Building the Login Page\n",
    "\n",
    "We'll start by setting up the basic UI outline for the login form. Then, we'll discuss the backend components, including database/API interactions and how they work together. Next, we'll integrate the frontend with the backend using API calls. Finally, we'll cover implementing credential validation to ensure correct user authentication.\n",
    "\n"
   ]
  },
  {
   "cell_type": "markdown",
   "metadata": {},
   "source": [
    "## Frontend HTML\n",
    "\n",
    "For our frontend, we need a basic outline for our UI. For example, here is the basic HTML login code I created for this site. The attributes we usually see for the login form include username and password. In accordance with the ideation page, the the \"username\" corresponds with the uid element in the backend, so the request payload should include the uid. \n",
    "\n",
    "For our outline though, the \"uid\" attribute would be hard for users to understand. What does it mean to them? Since the \"uid\" attribute should be the user's Github id, the label should be Github Id. That way, users know how to fill in the form correctly. \n",
    "\n",
    "\n",
    "When a user submits the form, their credentials will be validated, and they will be authenticated against the database. If the user does not exist or if the credentials don't match, there will be a 401 UNAUTHORIZED error. \n",
    "\n",
    "(If you need information about styling a login form for your website, you can click on the Style tab above for information about using SASS.)\n"
   ]
  }
 ],
 "metadata": {
  "language_info": {
   "name": "python"
  }
 },
 "nbformat": 4,
 "nbformat_minor": 2
}
