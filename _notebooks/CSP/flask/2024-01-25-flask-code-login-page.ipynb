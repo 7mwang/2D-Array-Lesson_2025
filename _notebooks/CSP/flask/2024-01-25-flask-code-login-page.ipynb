{
 "cells": [
  {
   "cell_type": "markdown",
   "metadata": {},
   "source": [
    "---\n",
    "layout: post\n",
    "title: Create A Login Page Flask Full-Stack web application \n",
    "description: Full Stack Development with Flask explained by terms and examples.\n",
    "permalink: /flask-code-login\n",
    "author: Isabel Marilla\n",
    "menu: nav/flask.html\n",
    "toc: true\n",
    "---"
   ]
  }
 ],
 "metadata": {
  "language_info": {
   "name": "python"
  }
 },
 "nbformat": 4,
 "nbformat_minor": 2
}
