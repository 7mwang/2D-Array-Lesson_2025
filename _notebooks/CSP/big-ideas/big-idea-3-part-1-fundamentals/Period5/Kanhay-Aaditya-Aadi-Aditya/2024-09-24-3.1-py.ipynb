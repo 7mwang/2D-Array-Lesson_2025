{
 "cells": [
  {
   "cell_type": "raw",
   "metadata": {
    "vscode": {
     "languageId": "raw"
    }
   },
   "source": [
    "---\n",
    "layout: post\n",
    "title: yummy\n",
    "description: variables\n",
    "permalink: /variables/\n",
    "---"
   ]
  },
  {
   "cell_type": "markdown",
   "metadata": {},
   "source": [
    "# Introduction to Variables in Python\n",
    "\n",
    "A variables is used to store data in Python.\n"
   ]
  },
  {
   "cell_type": "raw",
   "metadata": {
    "vscode": {
     "languageId": "raw"
    }
   },
   "source": [
    "# Data Manipulation in Python\n",
    "\n",
    "Data manipulation is a crucial skill in data science. Python provides several libraries for data manipulation, including pandas and numpy."
   ]
  },
  {
   "cell_type": "code",
   "execution_count": 6,
   "metadata": {},
   "outputs": [
    {
     "name": "stdout",
     "output_type": "stream",
     "text": [
      "True\n",
      "False\n",
      "True\n",
      "False\n",
      "Hello, World!\n",
      "Alice\n",
      "Alice\n",
      "['Math', 'Science']\n",
      "[1, 2, 3, 4, 5]\n",
      "['apple', 'banana', 'cherry']\n",
      "Hello, World!\n",
      "Alice\n",
      "Alice\n",
      "['Math', 'Science']\n",
      "[1, 2, 3, 4, 5]\n",
      "['apple', 'banana', 'cherry']\n"
     ]
    }
   ],
   "source": [
    "# Booleans\n",
    "\n",
    "is_student = True\n",
    "is_teacher = False\n",
    "print(is_student)  # Output: True\n",
    "print(is_teacher)  # Output: False\n",
    "\n",
    "# Strings\n",
    "\n",
    "# Booleans\n",
    "\n",
    "is_student = True\n",
    "is_teacher = False\n",
    "print(is_student)  # Output: True\n",
    "print(is_teacher)  # Output: False\n",
    "\n",
    "# Strings\n",
    "# Strings are sequences of characters, used to store text.\n",
    "\n",
    "greeting = \"Hello, World!\"\n",
    "name = 'Alice'\n",
    "print(greeting)  # Output: Hello, World!\n",
    "print(name)  # Output: Alice\n",
    "\n",
    "# Dictionaries\n",
    "# Dictionaries are collections of key-value pairs.\n",
    "\n",
    "student = {\n",
    "    'name': 'Alice',\n",
    "    'age': 25,\n",
    "    'courses': ['Math', 'Science']\n",
    "}\n",
    "print(student['name'])  # Output: Alice\n",
    "print(student['courses'])  # Output: ['Math', 'Science']\n",
    "\n",
    "# Arrays (Lists)\n",
    "# Lists are ordered collections of items.\n",
    "\n",
    "numbers = [1, 2, 3, 4, 5]\n",
    "fruits = ['apple', 'banana', 'cherry']\n",
    "print(numbers)  # Output: [1, 2, 3, 4, 5]\n",
    "print(fruits)  # Output: ['apple', 'banana', 'cherry']\n",
    "greeting = \"Hello, World!\"\n",
    "name = 'Alice'\n",
    "print(greeting)  # Output: Hello, World!\n",
    "print(name)  # Output: Alice\n",
    "\n",
    "# Dictionaries\n",
    "\n",
    "student = {\n",
    "    'name': 'Alice',\n",
    "    'age': 25,\n",
    "    'courses': ['Math', 'Science']\n",
    "}\n",
    "print(student['name'])  # Output: Alice\n",
    "print(student['courses'])  # Output: ['Math', 'Science']\n",
    "\n",
    "\n",
    "# Arrays (Lists)\n",
    "\n",
    "numbers = [1, 2, 3, 4, 5]\n",
    "fruits = ['apple', 'banana', 'cherry']\n",
    "print(numbers)  # Output: [1, 2, 3, 4, 5]\n",
    "print(fruits)  # Output: ['apple', 'banana', 'cherry']"
   ]
  },
  {
   "cell_type": "code",
   "execution_count": null,
   "metadata": {
    "vscode": {
     "languageId": "markdown"
    }
   },
   "outputs": [],
   "source": []
  }
 ],
 "metadata": {
  "kernelspec": {
   "display_name": "Python 3",
   "language": "python",
   "name": "python3"
  },
  "language_info": {
   "codemirror_mode": {
    "name": "ipython",
    "version": 3
   },
   "file_extension": ".py",
   "mimetype": "text/x-python",
   "name": "python",
   "nbconvert_exporter": "python",
   "pygments_lexer": "ipython3",
   "version": "3.10.12"
  }
 },
 "nbformat": 4,
 "nbformat_minor": 2
}
