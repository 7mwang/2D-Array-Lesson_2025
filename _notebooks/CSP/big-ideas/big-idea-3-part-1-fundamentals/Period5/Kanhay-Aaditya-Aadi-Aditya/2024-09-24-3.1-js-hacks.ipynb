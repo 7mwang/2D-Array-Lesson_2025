{
 "cells": [
  {
   "cell_type": "markdown",
   "metadata": {},
   "source": [
    "---\n",
    "layout: post\n",
    "title: Popcorn Hacks\n",
    "description: popcorn hacks\n",
    "permalink: /yay/\n",
    "comments: true\n",
    "---"
   ]
  },
  {
   "cell_type": "markdown",
   "metadata": {},
   "source": [
    "Popcorn Hacks for Python Variables\n",
    "\n",
    "These are the 3 popcorn hacks for python variables."
   ]
  },
  {
   "cell_type": "code",
   "execution_count": null,
   "metadata": {},
   "outputs": [],
   "source": [
    "# Try making your own set of 3 variables\n",
    "\n",
    "# Example:\n",
    "\n",
    "a = 20\n",
    "favorite_subject = \"CSP\"\n",
    "favorite_sport = \"Basketball\"\n",
    "\n",
    "# Popcorn Hacks: Now try making your own SnakeCase variable and set the variable equal to a integer.\n",
    "\n",
    "# Example:\n",
    "\n",
    "cool_sport = \"Basketball\"\n",
    "\n",
    "# Popcorn Hack: Try making your own PascalCase variable\n",
    "\n",
    "# Example:\n",
    "\n",
    "CoolSport = \"Basketball\"\n",
    "\n",
    "# Popcorn Hack: Try making your own CamelCase variable\n",
    "\n",
    "# Example:\n",
    "\n",
    "coolSport = \"Basketball\"\n",
    "\n"
   ]
  },
  {
   "cell_type": "markdown",
   "metadata": {},
   "source": [
    "Popcorn hacks for Javascript Variables\n",
    "\n",
    "These are the 3 popcorn hacks for javascript variables."
   ]
  },
  {
   "cell_type": "code",
   "execution_count": null,
   "metadata": {
    "vscode": {
     "languageId": "javascript"
    }
   },
   "outputs": [],
   "source": [
    "// Declare a set of your own three variables\n",
    "\n",
    "// Example:\n",
    "\n",
    "let a = 20;\n",
    "let favorite_subject = \"CSP\";\n",
    "let favorite_sport = \"Basketball\";\n",
    "\n",
    "\n",
    "// Declare an object variable, and log the object to the console\n",
    "\n",
    "// Example:\n",
    "\n",
    "const person = {\n",
    "    firstName: \"Cool\",\n",
    "    lastName: \"Person\",\n",
    "    age: 40,\n",
    "    job: teacher,\n",
    "    hobbies: [\"reading\", \"traveling\", \"coding\"]\n",
    "};\n",
    "\n",
    "console.log(person);\n",
    "\n",
    "\n",
    "// Create two integer type variables, and create two string type variables, and add the two sets of variables together, and log to the console\n",
    "\n",
    "let num1 = 30;\n",
    "let num2 = 10;\n",
    "\n",
    "let string1 = \"This is \";\n",
    "let string2 = \"very cool.\";\n",
    "\n",
    "console.log(num1 + num2);\n",
    "console.log(string1 + string2);\n",
    "\n",
    "\n"
   ]
  },
  {
   "cell_type": "markdown",
   "metadata": {
    "vscode": {
     "languageId": "javascript"
    }
   },
   "source": [
    "Popcorn hacks for Python Strings\n",
    "\n",
    "These are the 3 popcorn hacks for python strings"
   ]
  },
  {
   "cell_type": "code",
   "execution_count": null,
   "metadata": {},
   "outputs": [],
   "source": [
    "# Find the number of characters in your last name using len.\n",
    "\n",
    "# Example:\n",
    "\n",
    "length = len(\"Williams\")\n",
    "print(length)\n",
    "\n",
    "# Use concat to merge your first and last name together.\n",
    "\n",
    "# Example:\n",
    "\n",
    "concat_string = \"Trent\" + \"Williams\"\n",
    "print(concat_string)\n",
    "\n",
    "# Use substring to show only the 3rd to 6th characters\n",
    "\n",
    "# Example:\n",
    "\n",
    "substring = concat_string[2:6]\n",
    "print(substring)"
   ]
  },
  {
   "cell_type": "markdown",
   "metadata": {},
   "source": [
    "Popcorn hacks for JavaScript Strings\n",
    "\n",
    "These are the 3 popcorn hacks for javascript strings"
   ]
  },
  {
   "cell_type": "code",
   "execution_count": 1,
   "metadata": {
    "vscode": {
     "languageId": "javascript"
    }
   },
   "outputs": [
    {
     "ename": "SyntaxError",
     "evalue": "invalid syntax (3249359937.py, line 1)",
     "output_type": "error",
     "traceback": [
      "\u001b[0;36m  File \u001b[0;32m\"/tmp/ipykernel_27510/3249359937.py\"\u001b[0;36m, line \u001b[0;32m1\u001b[0m\n\u001b[0;31m    // # Find the number of characters in your last name.\u001b[0m\n\u001b[0m    ^\u001b[0m\n\u001b[0;31mSyntaxError\u001b[0m\u001b[0;31m:\u001b[0m invalid syntax\n"
     ]
    }
   ],
   "source": [
    "// Find the number of characters in your last name.\n",
    "\n",
    "// Example:\n",
    "\n",
    "let last_name = \"Williams\";\n",
    "let length = last_name.length;\n",
    "\n",
    "console.log(length);\n",
    "\n",
    "// Merge your first and last name together.\n",
    "\n",
    "// Example: \n",
    "\n",
    "let name = \"Trent\" + \" \" + \"Williams\";\n",
    "\n",
    "console.log(name);\n",
    "\n",
    "// Show only the 2rd to 8th characters in your name\n",
    "\n",
    "// Example:\n",
    "\n",
    "let substring = name.substring(1,8);\n",
    "\n",
    "console.log(substring);\n",
    "\n"
   ]
  }
 ],
 "metadata": {
  "kernelspec": {
   "display_name": "Python 3",
   "language": "python",
   "name": "python3"
  },
  "language_info": {
   "codemirror_mode": {
    "name": "ipython",
    "version": 3
   },
   "file_extension": ".py",
   "mimetype": "text/x-python",
   "name": "python",
   "nbconvert_exporter": "python",
   "pygments_lexer": "ipython3",
   "version": "3.10.12"
  }
 },
 "nbformat": 4,
 "nbformat_minor": 2
}
