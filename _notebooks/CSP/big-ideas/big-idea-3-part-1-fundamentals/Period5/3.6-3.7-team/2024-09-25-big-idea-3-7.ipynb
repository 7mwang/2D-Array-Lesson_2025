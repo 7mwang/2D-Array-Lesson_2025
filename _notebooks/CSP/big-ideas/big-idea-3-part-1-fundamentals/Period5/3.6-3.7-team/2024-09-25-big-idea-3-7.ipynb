{
 "cells": [
  {
   "cell_type": "raw",
   "metadata": {
    "vscode": {
     "languageId": "raw"
    }
   },
   "source": [
    "---\n",
    "comments: true\n",
    "layout: post\n",
    "title: 3.7 Nested Conditionals \n",
    "description: Student led teaching on Conditionals. \n",
    "permalink: \n",
    "categories: [CSP Big Ideas]\n",
    "author: Abby\n",
    "menu: \n",
    "---"
   ]
  }
 ],
 "metadata": {
  "language_info": {
   "name": "python"
  }
 },
 "nbformat": 4,
 "nbformat_minor": 2
}
