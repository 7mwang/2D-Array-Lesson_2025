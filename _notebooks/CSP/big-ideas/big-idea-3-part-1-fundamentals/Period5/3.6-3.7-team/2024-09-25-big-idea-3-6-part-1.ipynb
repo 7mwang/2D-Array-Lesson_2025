{
 "cells": [
  {
   "cell_type": "raw",
   "metadata": {
    "vscode": {
     "languageId": "raw"
    }
   },
   "source": [
    "---\n",
    "comments: true\n",
    "layout: post\n",
    "title: 3.6.1 Conditionals \n",
    "description: Student led teaching on Conditionals. \n",
    "categories: [CSP Big Ideas]\n",
    "author: Shriya\n",
    "---"
   ]
  },
  {
   "cell_type": "markdown",
   "metadata": {},
   "source": [
    "# Introduction\n",
    "A conditional statement allows you to execute certain code only if a specified condition evaluates to true. It typically involves keywords like if, and can include elif and else to handle multiple conditions."
   ]
  },
  {
   "cell_type": "markdown",
   "metadata": {},
   "source": [
    "# Baking Example of Conditional in **Python**\n",
    "This is an exmaple of a conditional that would occur when using an oven for baking. These are important as it shows when to start the oven and use it. \n"
   ]
  },
  {
   "cell_type": "code",
   "execution_count": null,
   "metadata": {},
   "outputs": [],
   "source": [
    "if oven_temperature >= 350:\n",
    "    start_baking()  # Calls a function to start the baking process"
   ]
  },
  {
   "cell_type": "markdown",
   "metadata": {},
   "source": [
    "This code shows that once the oven is at 350 degrees it will turn on and start the baking process. "
   ]
  },
  {
   "cell_type": "markdown",
   "metadata": {},
   "source": [
    "# Baking Example of Conditional in **Javascript**\n",
    "This is an exmaple of a conditional that would occur when using an oven for baking; the same as above but in javascript!"
   ]
  },
  {
   "cell_type": "code",
   "execution_count": null,
   "metadata": {
    "vscode": {
     "languageId": "javascript"
    }
   },
   "outputs": [],
   "source": [
    "function startBaking() {\n",
    "    // Code to start the baking process\n",
    "    // For example, you might want to change some state or update UI here\n",
    "}\n",
    "\n",
    "let ovenTemperature = 375; // Example temperature\n",
    "\n",
    "if (ovenTemperature >= 350) {\n",
    "    startBaking(); // Calls a function to start the baking process\n",
    "}\n"
   ]
  }
 ],
 "metadata": {
  "language_info": {
   "name": "python"
  }
 },
 "nbformat": 4,
 "nbformat_minor": 2
}
