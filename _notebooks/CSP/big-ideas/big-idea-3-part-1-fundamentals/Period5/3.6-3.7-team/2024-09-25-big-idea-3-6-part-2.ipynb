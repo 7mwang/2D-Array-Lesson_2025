{
 "cells": [
  {
   "cell_type": "raw",
   "metadata": {
    "vscode": {
     "languageId": "raw"
    }
   },
   "source": [
    "---\n",
    "layout: post\n",
    "title: Big Ideas 3.6 Conditionals Part 2\n",
    "Description: If Else Statements\n",
    "author: Nathan\n",
    "---\n",
    "\n"
   ]
  },
  {
   "cell_type": "markdown",
   "metadata": {},
   "source": [
    "# 3.6 Conditionals Part 2 - Conditionals with if else statements"
   ]
  },
  {
   "cell_type": "markdown",
   "metadata": {},
   "source": [
    "If {} Else {}\n",
    "\n",
    "An if else statement lets a program execute a different action based on whether a specific condition is true or not."
   ]
  },
  {
   "cell_type": "markdown",
   "metadata": {},
   "source": [
    "## Flowchart Example\n",
    "<img src=\"{{site.baseurl}}/images/csp-period-5-flowcharts/if-else-statement.png\" alt=\"If Else Flowchart\">"
   ]
  },
  {
   "cell_type": "markdown",
   "metadata": {},
   "source": [
    "## Python Example"
   ]
  },
  {
   "cell_type": "code",
   "execution_count": null,
   "metadata": {},
   "outputs": [],
   "source": [
    "%%python\n",
    "# Example\n",
    "number = 5\n",
    "\n",
    "if number > 0:\n",
    "    print(\"Positive\")\n",
    "else:\n",
    "    print(\"Not positive\")\n"
   ]
  },
  {
   "cell_type": "markdown",
   "metadata": {},
   "source": [
    "## Javascript Example"
   ]
  },
  {
   "cell_type": "code",
   "execution_count": null,
   "metadata": {
    "vscode": {
     "languageId": "javascript"
    }
   },
   "outputs": [],
   "source": [
    "%%js\n",
    "// Example 1\n",
    "let number = 5;\n",
    "\n",
    "if (number > 0) {\n",
    "    console.log(\"Positive\");\n",
    "} else {\n",
    "    console.log(\"Not positive\");\n",
    "}\n",
    "\n",
    "// Example 2: Using a ternary operator\n",
    "number = 5;\n",
    "let message = number > 0 ? \"Positive\" : \"Not positive\";\n",
    "console.log(message);\n",
    "\n",
    "// Example 3: Defining a number and using nested ternary operators\n",
    "number = -3;\n",
    "message = number > 0 ? \"Positive\" : (number === 0 ? \"Zero\" : \"Negative\");\n",
    "console.log(message);"
   ]
  },
  {
   "cell_type": "markdown",
   "metadata": {},
   "source": [
    "# Popcorn Hack\n",
    "The following is a basic if else statement condition. Interact with this cell by changing what the number equals to see the code cell print out the message!"
   ]
  },
  {
   "cell_type": "code",
   "execution_count": null,
   "metadata": {},
   "outputs": [],
   "source": [
    "%%python\n",
    "\n",
    "number = 5\n",
    "message = \"Positive\" if number > 0 else \"Not positive\"\n",
    "print(message)\n",
    "\n",
    "# Define a number\n",
    "number = -3\n",
    "\n",
    "message = (\n",
    "    \"Positive\" if number > 0 \n",
    "    else \"Zero\" if number == 0 \n",
    "    else \"Negative\"\n",
    ")\n",
    "\n",
    "# Print the result\n",
    "print(message)"
   ]
  }
 ],
 "metadata": {
  "language_info": {
   "name": "python"
  }
 },
 "nbformat": 4,
 "nbformat_minor": 2
}
