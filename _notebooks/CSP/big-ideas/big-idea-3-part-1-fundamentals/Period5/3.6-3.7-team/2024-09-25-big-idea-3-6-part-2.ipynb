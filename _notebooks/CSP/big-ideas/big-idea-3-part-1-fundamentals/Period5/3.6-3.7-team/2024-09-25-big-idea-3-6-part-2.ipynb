{
 "cells": [
  {
   "cell_type": "raw",
   "metadata": {
    "vscode": {
     "languageId": "raw"
    }
   },
   "source": [
    "---\n",
    "layout: post\n",
    "title: Big Ideas 3.6 Conditionals Part 2\n",
    "Description: If Else Statements\n",
    "author: Nathan\n",
    "---\n",
    "\n"
   ]
  },
  {
   "cell_type": "markdown",
   "metadata": {},
   "source": [
    "# 3.6 Conditionals Part 2\n",
    "If {} Else {}\n",
    "An if else statement lets a program execute a different action based on whether a specific condition is true or not.\n"
   ]
  },
  {
   "cell_type": "code",
   "execution_count": null,
   "metadata": {},
   "outputs": [],
   "source": [
    "# Example\n",
    "number = 5\n",
    "\n",
    "if number > 0:\n",
    "    print(\"Positive\")\n",
    "else:\n",
    "    print(\"Not positive\")\n",
    "\n",
    "# Here's a basic Hack for If {} Else {} Statements\n",
    "number = 5\n",
    "message = \"Positive\" if number > 0 else \"Not positive\"\n",
    "print(message)\n"
   ]
  }
 ],
 "metadata": {
  "language_info": {
   "name": "python"
  }
 },
 "nbformat": 4,
 "nbformat_minor": 2
}
