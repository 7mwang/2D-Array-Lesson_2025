{
 "cells": [
  {
   "cell_type": "raw",
   "metadata": {
    "vscode": {
     "languageId": "raw"
    }
   },
   "source": [
    "---\n",
    "layout: post\n",
    "title: Big Ideas 3.6 Conditionals Part 2\n",
    "Description: If Else Statements\n",
    "author: Nathan\n",
    "---\n",
    "\n"
   ]
  },
  {
   "cell_type": "markdown",
   "metadata": {},
   "source": [
    "# 3.6 Conditionals Part 2\n",
    "If {} Else {}\n",
    "An if else statement lets a program execute a different action based on whether a specific condition is true or not.\n"
   ]
  },
  {
   "cell_type": "code",
   "execution_count": 1,
   "metadata": {},
   "outputs": [
    {
     "name": "stdout",
     "output_type": "stream",
     "text": [
      "Positive\n",
      "Positive\n"
     ]
    }
   ],
   "source": [
    "%%python\n",
    "# Example\n",
    "number = 5\n",
    "\n",
    "if number > 0:\n",
    "    print(\"Positive\")\n",
    "else:\n",
    "    print(\"Not positive\")\n",
    "\n",
    "# Here's a basic Hack for If {} Else {} Statements\n",
    "number = 5\n",
    "message = \"Positive\" if number > 0 else \"Not positive\"\n",
    "print(message)\n"
   ]
  }
 ],
 "metadata": {
  "kernelspec": {
   "display_name": "venv",
   "language": "python",
   "name": "python3"
  },
  "language_info": {
   "codemirror_mode": {
    "name": "ipython",
    "version": 3
   },
   "file_extension": ".py",
   "mimetype": "text/x-python",
   "name": "python",
   "nbconvert_exporter": "python",
   "pygments_lexer": "ipython3",
   "version": "3.12.6"
  }
 },
 "nbformat": 4,
 "nbformat_minor": 2
}
