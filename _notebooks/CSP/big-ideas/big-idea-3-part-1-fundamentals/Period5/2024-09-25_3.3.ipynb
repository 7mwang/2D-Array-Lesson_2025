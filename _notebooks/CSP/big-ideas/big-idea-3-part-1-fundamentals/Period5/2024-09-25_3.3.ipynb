{
 "cells": [
  {
   "cell_type": "markdown",
   "id": "2a07ae5e",
   "metadata": {},
   "source": [
    "# <b>Mathematical Expressions</b>\n",
    "- Expressions used everywhere to communicate arithmetic operations such as addition, subtraction, muliplaction, and division"
   ]
  },
  {
   "cell_type": "markdown",
   "id": "be083eed",
   "metadata": {},
   "source": [
    "# <b>Important Terms<b>\n",
    " - Algorithm: A list of steps that occur in a specific order\n",
    " - Sequencing: Things are done in order\n",
    " - Flow chart: A way to write an algorithm; use arrows to tell the descision\n",
    " - Psuedo code: Fake code. It's verbal instructions and comments on what each section is doing"
   ]
  },
  {
   "cell_type": "markdown",
   "id": "d136d47b",
   "metadata": {
    "vscode": {
     "languageId": "plaintext"
    }
   },
   "source": [
    "# <b>Hacks<b>\n",
    "- Create an algorithm that adds 2 set variables together, then it divides that number by 4, then prints that number\n",
    "- The python code down below follows a specific order. First the computer will register num1 as 5 and num2 as 11. Then it will print num1 and then num2.\n",
    "```python\n",
    "num1 = 5\n",
    "num2 = 11\n",
    "print(num1)\n",
    "print(num2)"
   ]
  },
  {
   "cell_type": "markdown",
   "id": "0ea9f43e",
   "metadata": {},
   "source": [
    "# <b>Continued Mathematical Operators<b>\n",
    "- Addition: a + b\n",
    "- Subtraction: a - b\n",
    "- Multiplication: a * b\n",
    "- Division: a / b\n",
    "- Modulus(remainder of a / b): a MOD b\n",
    "- For python MOD is %\n",
    "- Math is in order of operations\n"
   ]
  },
  {
   "cell_type": "markdown",
   "id": "0140b7d4",
   "metadata": {},
   "source": [
    "# <b>Hacks<b>\n",
    " - What will the code below print?\n",
    "```python\n",
    "numb1 = 12\n",
    "numb2 = 8\n",
    "numer3 = (numb1 + numb2) / 2\n",
    "print((numer3/numb1)+2)\n"
   ]
  },
  {
   "cell_type": "markdown",
   "id": "866dcda6",
   "metadata": {
    "vscode": {
     "languageId": "plaintext"
    }
   },
   "source": [
    "# <b>Hacks<b>\n",
    "- Make a algorithm that adds whatever 2 numbers the user inputs"
   ]
  },
  {
   "cell_type": "code",
   "execution_count": 2,
   "id": "0dd4ea97",
   "metadata": {},
   "outputs": [
    {
     "name": "stdout",
     "output_type": "stream",
     "text": [
      "12\n"
     ]
    }
   ],
   "source": [
    "x=int(input())\n",
    "y=int(input())\n",
    "print(x+y)"
   ]
  },
  {
   "cell_type": "markdown",
   "id": "b67575ea",
   "metadata": {},
   "source": [
    "# <b>Homework<b>\n",
    "- Create a calculator that takes in 2 numbers and adds, subracts, divides, or multiplies based on the input given."
   ]
  },
  {
   "cell_type": "code",
   "execution_count": 3,
   "id": "541f3a91",
   "metadata": {},
   "outputs": [
    {
     "name": "stdout",
     "output_type": "stream",
     "text": [
      "2.0\n"
     ]
    }
   ],
   "source": [
    "x=int(input())\n",
    "y=int(input())\n",
    "z=input(\"Enter the operation: \")\n",
    "if z == \"+\":\n",
    "    print(x+y)\n",
    "elif z == \"-\":\n",
    "    print(x-y)\n",
    "elif z == \"*\":\n",
    "    print(x*z)\n",
    "elif z == \"/\":\n",
    "    print(x/y)"
   ]
  }
 ],
 "metadata": {
  "kernelspec": {
   "display_name": "Python 3 (ipykernel)",
   "language": "python",
   "name": "python3"
  },
  "language_info": {
   "codemirror_mode": {
    "name": "ipython",
    "version": 3
   },
   "file_extension": ".py",
   "mimetype": "text/x-python",
   "name": "python",
   "nbconvert_exporter": "python",
   "pygments_lexer": "ipython3",
   "version": "3.10.12"
  }
 },
 "nbformat": 4,
 "nbformat_minor": 5
}
