{
 "cells": [
  {
   "cell_type": "markdown",
   "id": "2a07ae5e",
   "metadata": {},
   "source": [
    "# <b>Mathematical Expressions</b>\n",
    "- Expressions used everywhere to communicate arithmetic operations such as addition, subtraction, muliplaction, and division"
   ]
  },
  {
   "cell_type": "markdown",
   "id": "be083eed",
   "metadata": {},
   "source": [
    "# <b>Important Terms<b>\n",
    " - Algorithm: A list of steps that occur in a specific order\n",
    " - Sequencing: Things are done in order\n",
    " - Flow chart: A way to write an algorithm; use arrows to tell the descision\n",
    " - Psuedo code: Fake code. It's verbal instructions and comments on what each section is doing"
   ]
  },
  {
   "cell_type": "markdown",
   "id": "d136d47b",
   "metadata": {
    "vscode": {
     "languageId": "plaintext"
    }
   },
   "source": [
    "# <b>Hacks<b>\n",
    "- Create an algorithm that adds 2 set variables together, then it divides that number by 4, then prints that number\n",
    "```python\n",
    "numero1 = 5\n",
    "number2 = 11\n",
    "print((numero1+number2)/4)\n",
    "\n"
   ]
  }
 ],
 "metadata": {
  "kernelspec": {
   "display_name": "Python 3 (ipykernel)",
   "language": "python",
   "name": "python3"
  },
  "language_info": {
   "codemirror_mode": {
    "name": "ipython",
    "version": 3
   },
   "file_extension": ".py",
   "mimetype": "text/x-python",
   "name": "python",
   "nbconvert_exporter": "python",
   "pygments_lexer": "ipython3",
   "version": "3.10.12"
  }
 },
 "nbformat": 4,
 "nbformat_minor": 5
}
