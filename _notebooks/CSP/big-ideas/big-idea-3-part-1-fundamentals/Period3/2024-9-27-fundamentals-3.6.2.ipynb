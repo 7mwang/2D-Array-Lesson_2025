{
 "cells": [
  {
   "cell_type": "markdown",
   "metadata": {
    "vscode": {
     "languageId": "javascript"
    }
   },
   "source": [
    "---\n",
    "layout: post\n",
    "title: If Statements\n",
    "description: if statements\n",
    "permalink: /csp/big-idea/p3/3-6-2\n",
    "---\n",
    "\n",
    "## Example of JavaScript Conditionals\n",
    "\n",
    "```javascript\n",
    "function getGrade() {\n",
    "  let score = prompt(\"Enter the score (0-100):\");\n",
    "  score = Number(score);  // Convert input to a number\n",
    "\n",
    "  if (score >= 90) {\n",
    "    console.log(\"A\");\n",
    "  } else if (score >= 80) {\n",
    "    console.log(\"B\");\n",
    "  } else if (score >= 70) {\n",
    "    console.log(\"C\");\n",
    "  } else {\n",
    "    console.log(\"F\");\n",
    "  }\n",
    "}\n",
    "\n",
    "// Call the function to get a grade\n",
    "getGrade();\n",
    "\n"
   ]
  }
 ],
 "metadata": {
  "language_info": {
   "name": "python"
  }
 },
 "nbformat": 4,
 "nbformat_minor": 2
}
