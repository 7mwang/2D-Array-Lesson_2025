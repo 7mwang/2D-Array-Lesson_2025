{
 "cells": [
  {
   "cell_type": "raw",
<<<<<<< HEAD
   "metadata": {},
   "source": [
<<<<<<< HEAD
    "## Example of JavaScript Conditionals\n",
    "\n",
    "```javascript\n",
    "function getGrade() {\n",
    "  let score = prompt(\"Enter the score (0-100):\");\n",
    "  score = Number(score);  // Convert input to a number\n",
    "\n",
    "  if (score >= 90) {\n",
    "    console.log(\"A\");\n",
    "  } else if (score >= 80) {\n",
    "    console.log(\"B\");\n",
    "  } else if (score >= 70) {\n",
    "    console.log(\"C\");\n",
    "  } else {\n",
    "    console.log(\"F\");\n",
    "  }\n",
    "}\n",
    "\n",
    "// Call the function to get a grade\n",
    "getGrade();\n"
=======
=======
   "metadata": {
    "vscode": {
     "languageId": "raw"
    }
   },
   "source": [
>>>>>>> 63fed6f8df87aec5d20464a09046df27cb7d4a66
    "---\n",
    "toc: false\n",
    "comments: true\n",
    "layout: post\n",
<<<<<<< HEAD
    "title: 3.6.2 More If Statements\n",
=======
    "title: 3.6.2 Simple Javascript Conditionals\n",
>>>>>>> 63fed6f8df87aec5d20464a09046df27cb7d4a66
    "permalink: /csp/big-idea/p3/3-6-2\n",
    "categories: [CSP Big Ideas]\n",
    "author:  Zoe, Avika, Rutvik, Jonah, Aarush\n",
    "menu: nav/csp_units/csp_unit3_p3_fundamentals.html\n",
    "---"
   ]
  },
  {
<<<<<<< HEAD
=======
   "cell_type": "markdown",
   "metadata": {
    "vscode": {
     "languageId": "raw"
    }
   },
   "source": [
    "## Testing Your Skills (Hack #1)\n",
    "How Conditionals Work:\n",
    "if statement: The condition inside the if block checks if the score is greater than or equal to 90.  If true, it runs the block of code that prints \"A\".\n",
    "else if statement: This checks another condition if the first if statement is false. Each else if provides an additional condition to check, such as whether the score is between 80 and 89.\n",
    "else statement: The else block runs if none of the previous conditions are true. This is the fallback case, which in this example applies to any score below 70."
   ]
  },
  {
>>>>>>> 63fed6f8df87aec5d20464a09046df27cb7d4a66
   "cell_type": "code",
   "execution_count": null,
   "metadata": {
    "vscode": {
     "languageId": "javascript"
    }
   },
   "outputs": [],
   "source": [
    "function getGrade() {\n",
<<<<<<< HEAD
    "   let score = prompt(\"Enter the score (0-100):\");\n",
    "   score = Number(score);  // Convert input to a number\n",
    "    if (score >= 90) {\n",
    "     console.log(\"A\");\n",
    "   } else if (score >= 80) {\n",
    "     console.log(\"B\");\n",
    "   } else if (score >= 70) {\n",
    "     console.log(\"C\");\n",
    "   } else {\n",
    "     console.log(\"F\");\n",
    " }\n",
    "  // Call the function to get a grade\n",
    " getGrade();"
>>>>>>> d2a738e (trying to fix conflict)
=======
    "    let score = prompt(\"Enter the score (0-100):\");\n",
    "    score = Number(score);  // Convert input to a number\n",
    "  \n",
    "    if (score >= 90) {\n",
    "      console.log(\"A\");\n",
    "    } else if (score >= 80) {\n",
    "      console.log(\"B\");\n",
    "    } else if (score >= 70) {\n",
    "      console.log(\"C\");\n",
    "    } else {\n",
    "      console.log(\"F\");\n",
    "    }\n",
    "  }\n",
    "  \n",
    "  // Call the function to get a grade\n",
    "  getGrade();\n",
    "  "
>>>>>>> 63fed6f8df87aec5d20464a09046df27cb7d4a66
   ]
  }
 ],
 "metadata": {
  "kernelspec": {
   "display_name": "Python 3.12.5 64-bit",
   "language": "python",
   "name": "python3"
  },
  "language_info": {
   "name": "python",
   "version": "3.12.5"
  },
  "vscode": {
   "interpreter": {
    "hash": "b0fa6594d8f4cbf19f97940f81e996739fb7646882a419484c72d19e05852a7e"
   }
  }
 },
 "nbformat": 4,
 "nbformat_minor": 2
}
