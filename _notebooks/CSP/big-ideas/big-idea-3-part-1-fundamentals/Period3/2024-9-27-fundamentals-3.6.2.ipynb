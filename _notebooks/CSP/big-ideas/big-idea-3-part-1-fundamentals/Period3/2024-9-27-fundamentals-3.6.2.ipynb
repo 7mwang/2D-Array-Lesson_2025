{
 "cells": [
  {
   "cell_type": "markdown",
   "metadata": {},
   "source": [
    "## Example of JavaScript Conditionals\n",
    "\n",
    "```javascript\n",
    "function getGrade() {\n",
    "  let score = prompt(\"Enter the score (0-100):\");\n",
    "  score = Number(score);  // Convert input to a number\n",
    "\n",
    "  if (score >= 90) {\n",
    "    console.log(\"A\");\n",
    "  } else if (score >= 80) {\n",
    "    console.log(\"B\");\n",
    "  } else if (score >= 70) {\n",
    "    console.log(\"C\");\n",
    "  } else {\n",
    "    console.log(\"F\");\n",
    "  }\n",
    "}\n",
    "\n",
    "// Call the function to get a grade\n",
    "getGrade();\n"
   ]
  }
 ],
 "metadata": {
  "kernelspec": {
   "display_name": "Python 3.12.5 64-bit",
   "language": "python",
   "name": "python3"
  },
  "language_info": {
   "name": "python",
   "version": "3.12.5"
  },
  "vscode": {
   "interpreter": {
    "hash": "b0fa6594d8f4cbf19f97940f81e996739fb7646882a419484c72d19e05852a7e"
   }
  }
 },
 "nbformat": 4,
 "nbformat_minor": 2
}
