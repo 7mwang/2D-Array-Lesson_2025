{
 "cells": [
  {
   "cell_type": "raw",
   "metadata": {},
   "source": [
<<<<<<< HEAD
    "## Example of JavaScript Conditionals\n",
    "\n",
    "```javascript\n",
    "function getGrade() {\n",
    "  let score = prompt(\"Enter the score (0-100):\");\n",
    "  score = Number(score);  // Convert input to a number\n",
    "\n",
    "  if (score >= 90) {\n",
    "    console.log(\"A\");\n",
    "  } else if (score >= 80) {\n",
    "    console.log(\"B\");\n",
    "  } else if (score >= 70) {\n",
    "    console.log(\"C\");\n",
    "  } else {\n",
    "    console.log(\"F\");\n",
    "  }\n",
    "}\n",
    "\n",
    "// Call the function to get a grade\n",
    "getGrade();\n"
=======
    "---\n",
    "toc: false\n",
    "comments: true\n",
    "layout: post\n",
    "title: 3.6.2 More If Statements\n",
    "permalink: /csp/big-idea/p3/3-6-2\n",
    "categories: [CSP Big Ideas]\n",
    "author:  Zoe, Avika, Rutvik, Jonah, Aarush\n",
    "menu: nav/csp_units/csp_unit3_p3_fundamentals.html\n",
    "---"
   ]
  },
  {
   "cell_type": "code",
   "execution_count": null,
   "metadata": {
    "vscode": {
     "languageId": "javascript"
    }
   },
   "outputs": [],
   "source": [
    "function getGrade() {\n",
    "   let score = prompt(\"Enter the score (0-100):\");\n",
    "   score = Number(score);  // Convert input to a number\n",
    "    if (score >= 90) {\n",
    "     console.log(\"A\");\n",
    "   } else if (score >= 80) {\n",
    "     console.log(\"B\");\n",
    "   } else if (score >= 70) {\n",
    "     console.log(\"C\");\n",
    "   } else {\n",
    "     console.log(\"F\");\n",
    " }\n",
    "  // Call the function to get a grade\n",
    " getGrade();"
>>>>>>> d2a738e (trying to fix conflict)
   ]
  }
 ],
 "metadata": {
  "kernelspec": {
   "display_name": "Python 3.12.5 64-bit",
   "language": "python",
   "name": "python3"
  },
  "language_info": {
   "name": "python",
   "version": "3.12.5"
  },
  "vscode": {
   "interpreter": {
    "hash": "b0fa6594d8f4cbf19f97940f81e996739fb7646882a419484c72d19e05852a7e"
   }
  }
 },
 "nbformat": 4,
 "nbformat_minor": 2
}
