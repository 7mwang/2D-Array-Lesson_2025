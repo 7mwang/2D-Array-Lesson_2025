{
 "cells": [
  {
   "cell_type": "raw",
   "metadata": {
    "vscode": {
     "languageId": "raw"
    }
   },
   "source": [
    "---\n",
    "toc: false\n",
    "comments: true\n",
    "layout: post\n",
    "title: \"3.8.3 Looping Through a List With Indexes\"\n",
    "description: Learn how to make a list, and loop through it\n",
    "permalink: /csp/big-idea/p3/3-8-3\n",
    "categories: [CSP Big Ideas]\n",
    "author: Elliot\n",
    "menu: nav/csp_units/csp_unit3_p3_fundamentals.html\n",
    "---"
   ]
  },
  {
   "cell_type": "markdown",
   "metadata": {},
   "source": [
    "# Looping with Index\n",
    "\n",
    "Looping with index means going through each item in a list while also knowing the position (index) of each item.\n",
    "\n",
    "### Basic Overview:\n",
    "When looping through a list with an index, you're iterating over the list while keeping track of both the position (index) and the value (item) at that position. This approach is particularly helpful when you need to perform operations based on the position of elements in the list, such as comparing, updating, or displaying items.\n",
    "\n",
    "- **Index**: The position of an element in the list.\n",
    "- **Value**: The actual item in the list at that position.\n",
    "\n",
    "You can use `range(len(list))` to generate a sequence of numbers that represent the positions (indexes) of the list items."
   ]
  },
  {
   "cell_type": "code",
   "execution_count": 2,
   "metadata": {},
   "outputs": [
    {
     "name": "stdout",
     "output_type": "stream",
     "text": [
      "Index: 1\n",
      "Element: 4\n",
      "Index: 2\n",
      "Element: 6\n",
      "Index: 3\n",
      "Element: 7\n",
      "Index: 4\n",
      "Element: 2\n"
     ]
    }
   ],
   "source": [
    "lst = [4, 6, 7, 2]\n",
    "\n",
    "for i in range(len(lst)):  # Loop through each index\n",
    "    print('Index: ' + str(i + 1))  # Print the index, starting from 1\n",
    "    print('Element: ' + str(lst[i]))  # Print the element at that index\n"
   ]
  },
  {
   "cell_type": "markdown",
   "metadata": {},
   "source": [
    "### What's Happening:\n",
    "- In this lesson, we are looping through a list and using the **index** to keep track of both the position and the value of each element.\n",
    "- Python lists are zero-indexed, meaning the first element starts at index 0. However, if you want to start counting from 1, you can adjust the index by adding 1.\n",
    "- The **range(len(list))** function generates the list's index numbers, and inside the loop, each index is used to access the corresponding value in the list.\n",
    "- This method is useful when you need to know both the **position** and the **value** of each item, such as for updating or comparing elements based on their index."
   ]
  },
  {
   "cell_type": "markdown",
   "metadata": {},
   "source": [
    "<h2>Practice Problem</h2>\n",
    "    <p style=\"font-size: 20px;\">Here, there are four names in a list. Write code so that when the code runs, the index will be listed and the element(names) will be written under it."
   ]
  },
  {
   "cell_type": "code",
   "execution_count": 2,
   "metadata": {},
   "outputs": [],
   "source": [
    "# List of names\n",
    "names = [\"Alice\", \"Bob\", \"Charlie\", \"Diana\"]\n",
    "\n",
    "# Write a loop to print the index and name at that index\n"
   ]
  },
  {
   "cell_type": "markdown",
   "metadata": {},
   "source": [
    "<h2>Answer:</h2>"
   ]
  },
  {
   "cell_type": "markdown",
   "metadata": {},
   "source": [
    "names = [\"Alice\", \"Bob\", \"Charlie\", \"Diana\"]\n",
    "\n",
    "# Write a loop to print the index and name at that index\n",
    "\n",
    "for i in range(len(names)):  # Loop through each index\n",
    "    print('Index: ' + str(i + 1))  # Print the index, starting from 1\n",
    "    print('names: ' + str(names[i]))  # Print the element at that index"
   ]
  },
  {
   "cell_type": "markdown",
   "metadata": {},
   "source": [
    "from IPython.core.display import HTML; HTML(\"<style>body { font-size: 18px; }</style>\")\n",
    "### Additional Notes:\n",
    "\n",
    "- **Indexing in Python**: Python lists are zero-indexed, meaning the first element has an index of 0. If you want the index to start from 1, you can adjust it by adding 1 during printing.\n",
    "- **Useful for Tracking**: Looping with index is useful in situations where you need to track the position of elements, especially when performing comparisons or updates based on their position.\n"
   ]
  },
  {
   "cell_type": "code",
   "execution_count": null,
   "metadata": {},
   "outputs": [],
   "source": [
    "from IPython.core.display import HTML, display\n",
    "\n",
    "# Inject CSS into the Jupyter Notebook\n",
    "css_code = '''\n",
    "<style>\n",
    "  /* Style for the body */\n",
    "  body {\n",
    "    background-color: #1e1e1e; /* Dark background */\n",
    "    color: #f0f0f0; /* Light text */\n",
    "    font-family: 'Roboto', sans-serif; /* Modern font */\n",
    "    line-height: 1.6; /* Improved readability */\n",
    "    padding: 20px; /* Padding around the content */\n",
    "  }\n",
    "\n",
    "  /* Style for code blocks */\n",
    "  pre {\n",
    "    background-color: #2e2e2e; /* Slightly lighter background for code blocks */\n",
    "    border: 2px solid #4caf50; /* Green border for code blocks */\n",
    "    border-radius: 5px; /* Slightly rounded corners */\n",
    "    padding: 10px; /* Padding inside the code blocks */\n",
    "    font-family: 'Courier New', monospace; /* Monospaced font for code */\n",
    "    color: #f0f0f0; /* Light text */\n",
    "  }\n",
    "\n",
    "  /* Style for headings */\n",
    "  h1, h2, h3, h4, h5, h6 {\n",
    "    color: #4caf50; /* Green color for headings */\n",
    "    font-weight: bold; /* Bold headings */\n",
    "  }\n",
    "\n",
    "  /* Style for links */\n",
    "  a {\n",
    "    color: #4caf50; /* Green color for links */\n",
    "    text-decoration: none; /* No underline */\n",
    "  }\n",
    "  a:hover {\n",
    "    text-decoration: underline; /* Underline on hover */\n",
    "  }\n",
    "\n",
    "  /* Custom button styling */\n",
    "  .button {\n",
    "    background-color: #4caf50; /* Green button background */\n",
    "    border: none;\n",
    "    color: white;\n",
    "    padding: 10px 20px;\n",
    "    text-align: center;\n",
    "    text-decoration: none;\n",
    "    display: inline-block;\n",
    "    font-size: 16px;\n",
    "    margin: 4px 2px;\n",
    "    cursor: pointer;\n",
    "    border-radius: 8px; /* Rounded corners */\n",
    "  }\n",
    "\n",
    "  /* Responsive adjustments */\n",
    "  @media (max-width: 600px) {\n",
    "    body {\n",
    "      padding: 10px; /* Smaller padding on small screens */\n",
    "    }\n",
    "    .button {\n",
    "      font-size: 14px; /* Smaller font for buttons on small screens */\n",
    "    }\n",
    "  }\n",
    "</style>\n",
    "'''\n",
    "\n",
    "# Hide the output\n",
    "display(HTML(css_code))\n"
   ]
  },
  {
   "cell_type": "code",
   "execution_count": null,
   "metadata": {},
   "outputs": [],
   "source": [
    "<script src=\"https://utteranc.es/client.js\"\n",
    "        repo=\"Ellioty15/Sprint2_2025\"\n",
    "        issue-term=\"pathname\"\n",
    "        theme=\"github-light\"\n",
    "        crossorigin=\"anonymous\"\n",
    "        async>\n",
    "</script>\n",
    "\n",
    "\n",
    "\n",
    "\n",
    "\n"
   ]
  }
 ],
 "metadata": {
  "kernelspec": {
   "display_name": "venv",
   "language": "python",
   "name": "python3"
  },
  "language_info": {
   "codemirror_mode": {
    "name": "ipython",
    "version": 3
   },
   "file_extension": ".py",
   "mimetype": "text/x-python",
   "name": "python",
   "nbconvert_exporter": "python",
   "pygments_lexer": "ipython3",
   "version": "3.12.3"
  }
 },
 "nbformat": 4,
 "nbformat_minor": 2
}
