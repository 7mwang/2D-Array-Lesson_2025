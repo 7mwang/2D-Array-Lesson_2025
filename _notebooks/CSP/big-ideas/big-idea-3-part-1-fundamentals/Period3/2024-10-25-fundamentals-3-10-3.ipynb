{
 "cells": [
  {
   "cell_type": "raw",
   "metadata": {
    "vscode": {
     "languageId": "raw"
    }
   },
   "source": [
    "---\n",
    "toc: false\n",
    "comments: true\n",
    "layout: post\n",
    "title: 3.10 Python Hacks\n",
    "description: Student practice using python lists.\n",
    "permalink: /csp/big-idea/p3/3-10-3\n",
    "categories: [CSP Big Ideas]\n",
    "author:  Ryan, Jackson, Arush, Yash, Aranya\n",
    "menu: nav/csp_units/csp_unit3_p3_fundamentals.html\n",
    "---"
   ]
  },
  {
   "cell_type": "markdown",
   "metadata": {},
   "source": [
    "## Hacks\n",
    "\n",
    "Review the previous items and the lesson to produce: \n",
    "\n",
    "- Create a program that lets users manage a list of their choosing. Users can add elements, remove them, check if an element exists, and display the current list. \n",
    "- A function that can find the maximum and minimum value of a list using iteration."
   ]
  }
 ],
 "metadata": {
  "language_info": {
   "name": "python"
  }
 },
 "nbformat": 4,
 "nbformat_minor": 2
}
