{
 "cells": [
  {
   "cell_type": "raw",
   "metadata": {
    "vscode": {
     "languageId": "raw"
    }
   },
   "source": [
    "---\n",
    "toc: false\n",
    "comments: true\n",
    "layout: post\n",
    "title: 3.10 Javascript Hacks\n",
    "description: Student practice using Javascript for lists. \n",
    "permalink: /csp/big-idea/p3/3-10-4\n",
    "categories: [CSP Big Ideas]\n",
    "author:  Ryan, Jackson, Arush, Yash, Aranya\n",
    "menu: nav/csp_units/csp_unit3_p3_fundamentals.html\n",
    "---"
   ]
  },
  {
   "cell_type": "markdown",
   "metadata": {},
   "source": [
    "### Javascript Hack\n",
    "\n",
    "- It's time to go shopping! Try to create a program that allows users to manage items using an array, which can be visually represented with a shopping cart. While not necessary, feel free to show the cart filling up with icons (items) as the user adds/subtracts items. "
   ]
  }
 ],
 "metadata": {
  "language_info": {
   "name": "python"
  }
 },
 "nbformat": 4,
 "nbformat_minor": 2
}
