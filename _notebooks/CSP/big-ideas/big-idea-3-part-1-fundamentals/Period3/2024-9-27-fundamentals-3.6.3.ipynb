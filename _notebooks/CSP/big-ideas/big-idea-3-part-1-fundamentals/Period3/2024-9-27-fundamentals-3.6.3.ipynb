{
 "cells": [
  {
   "cell_type": "markdown",
   "metadata": {},
   "source": [
    "Python Conditionals:\n",
    "\n",
    "elif statement: This is short for \"else if\" for python. It allows you to check multiple conditions after the if statement. If the first condition is False but this one is True, it runs.\n",
    "\n",
    "if statement: This checks a condition. If the condition evaluates to True, the code block under the if statement is executed.\n",
    "\n",
    "else statement: If none of the previous conditions are True, the code under else is executed.\n",
    "\n",
    "\n",
    "Example of Python Conditionals: "
   ]
  },
  {
   "cell_type": "code",
   "execution_count": null,
   "metadata": {},
   "outputs": [],
   "source": [
    "age = 18\n",
    "\n",
    "if age < 18:\n",
    "    print(\"You are a minor.\")\n",
    "elif age == 18:\n",
    "    print(\"You just became an adult!\")\n",
    "else:\n",
    "    print(\"You are an adult.\")\n"
   ]
  }
 ],
 "metadata": {
  "language_info": {
   "name": "python"
  }
 },
 "nbformat": 4,
 "nbformat_minor": 2
}
