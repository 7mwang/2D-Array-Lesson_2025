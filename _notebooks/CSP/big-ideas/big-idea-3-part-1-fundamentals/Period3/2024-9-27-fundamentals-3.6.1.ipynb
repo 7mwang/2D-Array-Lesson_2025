{
 "cells": [
  {
   "cell_type": "raw",
<<<<<<< HEAD
   "metadata": {},
=======
   "metadata": {
    "vscode": {
     "languageId": "raw"
    }
   },
>>>>>>> 63fed6f8df87aec5d20464a09046df27cb7d4a66
   "source": [
    "---\n",
    "toc: false\n",
    "comments: true\n",
    "layout: post\n",
<<<<<<< HEAD
    "title: 3.6.1 If Statements\n",
=======
    "title: 3.6.1 Simple Python Conditionals Example\n",
>>>>>>> 63fed6f8df87aec5d20464a09046df27cb7d4a66
    "permalink: /csp/big-idea/p3/3-6-1\n",
    "categories: [CSP Big Ideas]\n",
    "author:  Zoe, Avika, Rutvik, Jonah, Aarush\n",
    "menu: nav/csp_units/csp_unit3_p3_fundamentals.html\n",
    "---"
   ]
  },
  {
   "cell_type": "markdown",
   "metadata": {},
   "source": [
<<<<<<< HEAD
    "Conditionals in both **JavaScript** and **Python** are used to execute code only if certain conditions are true. They allow programs to make decisions based on logical tests and are essential for controlling the flow of execution in programs.\n",
    "\n",
    "## Example of Python Conditionals"
=======
    "Conditionals in both **JavaScript** and **Python** are used to execute code only if certain conditions are true. They allow programs to make decisions based on logical tests and are essential for controlling the flow of execution in programs."
>>>>>>> 63fed6f8df87aec5d20464a09046df27cb7d4a66
   ]
  },
  {
   "cell_type": "code",
   "execution_count": null,
   "metadata": {},
   "outputs": [],
   "source": [
    "score = 85\n",
    "\n",
    "if score >= 90:\n",
    "    print(\"A\")\n",
    "elif score >= 80:\n",
    "    print(\"B\")\n",
    "elif score >= 70:\n",
    "    print(\"C\")\n",
    "else:\n",
    "    print(\"F\")"
   ]
  }
 ],
 "metadata": {
  "kernelspec": {
   "display_name": "Python 3.12.5 64-bit",
   "language": "python",
   "name": "python3"
  },
  "language_info": {
   "name": "python",
   "version": "3.12.5"
  },
  "vscode": {
   "interpreter": {
    "hash": "b0fa6594d8f4cbf19f97940f81e996739fb7646882a419484c72d19e05852a7e"
   }
  }
 },
 "nbformat": 4,
 "nbformat_minor": 2
}
