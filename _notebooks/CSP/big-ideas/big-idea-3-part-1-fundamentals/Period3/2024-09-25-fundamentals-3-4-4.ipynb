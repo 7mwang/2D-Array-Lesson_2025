{
 "cells": [
  {
   "cell_type": "raw",
   "metadata": {
    "vscode": {
     "languageId": "raw"
    }
   },
   "source": [
    "---\n",
    "toc: false\n",
    "comments: true\n",
    "layout: post\n",
    "title: Javascript Strings Hacks\n",
    "description: These are the hacks students are required to complete to demonstrate understanding of the content.\n",
    "permalink: /csp/big-idea/p3/3-4-4\n",
    "categories: [CSP Big Ideas]\n",
    "author:  Ahaan, Spencer, Vasanth, Xavier\n",
    "menu: nav/csp_units/csp_unit3_p3_fundamentals.html\n",
    "---"
   ]
  },
  {
   "cell_type": "markdown",
   "metadata": {},
   "source": [
    "## Javascript Strings\n",
    "The concepts of Python Strings & Javascript Strings are the same, however the way these concepts are implemented across these two languages vary, and there are some important distinctions that'll be highlighted in this blog. If you haven't already, check out the first blog that goes into detail about what strings are as we won't be covering that here."
   ]
  },
  {
   "cell_type": "markdown",
   "metadata": {},
   "source": [
    "### Making Strings\n",
    "When it comes to making strings, there are ways of going about it--- Each method requiring that one surrounds the text they want to make a string with these characters. These methods are listed below:\n",
    "\n",
    "Single Quotes ('...')\n",
    "Double Quotes (\"...\")\n",
    "Backticks     (`...`)\n",
    "\n",
    "Single Quotes and Double Quotes are the most conventionally used and serve the same purpose. Surrounding text as to delinate them as strings and not another data type. So most of the time, you'll be using either single or double quotes.\n",
    "\n",
    "However, the last option, strings that use backticks (known as template strings), are also very important to know and a proficient coder in Javascript will take advantage of this type of string when the opportunity arises. We'll come back to this string, but what you should know now is that it allows you to implant javascript code that isn't inherentely a string into your string, such as a variable. This can be super helpful, and we'll come back to that soon.\n"
   ]
  },
  {
   "cell_type": "code",
   "execution_count": null,
   "metadata": {},
   "outputs": [],
   "source": []
  }
 ],
 "metadata": {
  "language_info": {
   "name": "python"
  }
 },
 "nbformat": 4,
 "nbformat_minor": 2
}
