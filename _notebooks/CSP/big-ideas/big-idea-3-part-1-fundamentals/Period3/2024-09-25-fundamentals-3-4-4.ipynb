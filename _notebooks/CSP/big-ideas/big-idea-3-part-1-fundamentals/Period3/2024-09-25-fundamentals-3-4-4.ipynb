{
 "cells": [
  {
   "cell_type": "raw",
   "metadata": {
    "vscode": {
     "languageId": "raw"
    }
   },
   "source": [
    "---\n",
    "toc: false\n",
    "comments: true\n",
    "layout: post\n",
    "title: Javascript Strings Hacks\n",
    "description: These are the hacks students are required to complete to demonstrate understanding of the content.\n",
    "permalink: /csp/big-idea/p3/3-4-4\n",
    "categories: [CSP Big Ideas]\n",
    "author:  Ahaan, Spencer, Vasanth, Xavier\n",
    "menu: nav/csp_units/csp_unit3_p3_fundamentals.html\n",
    "---"
   ]
  },
  {
   "cell_type": "markdown",
   "metadata": {},
   "source": [
    "## Javascript Strings\n",
    "The concepts of Python Strings & Javascript Strings are the same, however the way these concepts are implemented across these two languages vary, and there are some important distinctions that'll be highlighted in this blog. If you haven't already, check out the first blog that goes into detail about what strings are as we won't be covering that here."
   ]
  },
  {
   "cell_type": "markdown",
   "metadata": {},
   "source": [
    "### Making Strings\n",
    "When it comes to making strings, there are ways of going about it--- Each method requiring that one surrounds the text they want to make a string with these characters. These methods are listed below:\n",
    "\n",
    "Single Quotes ('...')\n",
    "Double Quotes (\"...\")\n",
    "Backticks     (`...`)\n",
    "\n",
    "Single Quotes and Double Quotes are the most conventionally used and serve the same purpose. Surrounding text as to delinate them as strings and not another data type. So most of the time, you'll be using either single or double quotes.\n",
    "\n",
    "However, the last option, strings that use backticks (known as template strings), are also very important to know and a proficient coder in Javascript will take advantage of this type of string when the opportunity arises. We'll come back to this string later, but what you should know now is that it allows you to implant javascript code that isn't inherentely a string into your string, such as a variable.\n",
    "\n",
    "To confirm whether a variable is a string or not, you can put the potential string inside typeof().\n"
   ]
  },
  {
   "cell_type": "code",
   "execution_count": null,
   "metadata": {
    "vscode": {
     "languageId": "javascript"
    }
   },
   "outputs": [],
   "source": [
    "// Single Quotes\n",
    "let greeting = 'Hello World.'\n",
    "\n",
    "// Double Quotes\n",
    "let age = \"15\"\n",
    "\n",
    "// Checking if string\n",
    "typeof(greeting)\n",
    "typeof(age)"
   ]
  },
  {
   "cell_type": "markdown",
   "metadata": {},
   "source": [
    "### Concatenation\n",
    "Concatenation is the combining or joining of different strings. It allows us to take one string and merge it with another. Refer to the example below:"
   ]
  },
  {
   "cell_type": "code",
   "execution_count": null,
   "metadata": {
    "vscode": {
     "languageId": "javascript"
    }
   },
   "outputs": [],
   "source": [
    "let greeting = \"Hello \" + \"World\";\n",
    "console.log(greeting); // Outputs: Hello World"
   ]
  },
  {
   "cell_type": "markdown",
   "metadata": {},
   "source": [
    "The idea behind concatenation serves to solve the problem that often we need to separate strings to store dynamic data (such as data inputted by the user) and combine them to create one coherent string."
   ]
  },
  {
   "cell_type": "code",
   "execution_count": null,
   "metadata": {
    "vscode": {
     "languageId": "javascript"
    }
   },
   "outputs": [],
   "source": [
    "let userName = prompt(\"Enter your name: \");\n",
    "let userAge = prompt(\"Enter your age: \");\n",
    "\n",
    "let message = \"Your name is \" + userName + \" and you are \" + userAge + \" years old.\""
   ]
  },
  {
   "cell_type": "markdown",
   "metadata": {},
   "source": [
    "Now, while concatenation is great to know & understand, when coding in Javascript, there has never been a time where I have actually used concatenation in a real project, simply because of how messy and inefficient it is compared to **string interpolation**. \n"
   ]
  },
  {
   "cell_type": "markdown",
   "metadata": {},
   "source": [
    "### String Interpolation\n",
    "String interpolation brings us back to the sacred backticks or template string! Instead of joining different strings together, template strings allow us to have variables and other javascript expressions directly embedded into our string.\n",
    "\n",
    "The following example is the same as the one above, but we utilize interpolation instead of concatenation:"
   ]
  },
  {
   "cell_type": "code",
   "execution_count": null,
   "metadata": {
    "vscode": {
     "languageId": "javascript"
    }
   },
   "outputs": [],
   "source": [
    "let userName = prompt(\"Enter your name: \");\n",
    "let userAge = prompt(\"Enter your age: \");\n",
    "\n",
    "let message = `Your name is ${userName} and you are ${userAge} years old.`\n",
    "\n",
    "// BEFORE: let message = \"Your name is \" + userName + \" and you are \" + userAge + \" years old.\""
   ]
  },
  {
   "cell_type": "markdown",
   "metadata": {},
   "source": [
    "As you can see for yourself, interpolation is much cleaner & efficient than concatenation. The only things you need to do in order to interpolate a string is to:\n",
    "1. Use backticks\n",
    "2. Surround the variable or javascript expression in **${variable_here}**"
   ]
  },
  {
   "cell_type": "markdown",
   "metadata": {},
   "source": [
    "### Popcorn Hack #1\n",
    "- Define three variables: name, age, city\n",
    "- Combine these variables into the following message: Hello, my name is [*name*]. I am [*age*] years old and I live in [*city*].\n",
    "- Do this exercise using both concatenation and interpolation"
   ]
  },
  {
   "cell_type": "markdown",
   "metadata": {},
   "source": [
    "<details>\n",
    "<summary>See Example Answer</summary>\n",
    "<pre><code>\n",
    "let name = Xavier\n",
    "let age = 15\n",
    "let city = San Diego\n",
    "\n",
    " //Concatenation\n",
    "let concatenatedMessage = \"Hello my name is \" + name + \". I am \" + age + \" years old and I live in \" + city + \".\"\n",
    "\n",
    "//Interpolation\n",
    "let Interpolatedmessage = \"Hello my name is ${name}. I am ${age} years old and I live in ${city}.\n",
    "    \n",
    "</code></pre>\n",
    "</details>"
   ]
  },
  {
   "cell_type": "markdown",
   "metadata": {},
   "source": [
    "### Indexing a Character\n",
    "\n",
    "Indexing a character is just a more technically correct way of saying how to access a character within a string. Each character in a string is assigned a number that we can use to access it individually."
   ]
  },
  {
   "cell_type": "code",
   "execution_count": null,
   "metadata": {
    "vscode": {
     "languageId": "javascript"
    }
   },
   "outputs": [],
   "source": [
    "let state = \"California\"\n",
    "\n",
    "console.log(state[0]) //Output: C\n",
    "console.log(state.at(0)) //Output: C\n",
    "\n",
    "console.log(state[-1]) //Output: undefined\n",
    "console.log(state.at(-1)) //Output: a"
   ]
  },
  {
   "cell_type": "markdown",
   "metadata": {},
   "source": [
    "If you recall from the Python Strings Lesson, the first character starts at 0 and we can only count backwards with negative numbers. For JavaScript, there are two ways to access a character:\n",
    "\n",
    "1. brackets: **[#]**\n",
    "2. at method: **.at(#)**\n",
    "\n",
    "I personally recommend using .at() as brackets can't do negative numbers (outputs undefined) unless you take a few extra steps, making it unreasonably more complex.\n",
    "\n",
    "However, unlike Python, we cannot index multiple characters through the methods listed above. It's not as simple unfortunately as [0:7]. This leads us into our next section on how to index multiple strings through **substrings**"
   ]
  },
  {
   "cell_type": "markdown",
   "metadata": {},
   "source": []
  }
 ],
 "metadata": {
  "kernelspec": {
   "display_name": "Python 3 (ipykernel)",
   "language": "python",
   "name": "python3"
  }
 },
 "nbformat": 4,
 "nbformat_minor": 2
}
