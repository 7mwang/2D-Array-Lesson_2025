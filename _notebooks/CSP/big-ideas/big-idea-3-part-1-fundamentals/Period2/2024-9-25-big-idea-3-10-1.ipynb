{
 "cells": [
  {
   "cell_type": "raw",
   "metadata": {},
   "source": [
    "---\n",
    "toc: false\n",
    "comments: true\n",
    "layout: post\n",
    "title: 3.10.1 List Operations\n",
    "description: Student led teaching on Lists. Learn how storage and manipulation of multiple items using indexing to access individual elements.\n",
    "permalink: /csp/big-idea/p2/3-10-1\n",
    "categories: [CSP Big Ideas]\n",
    "author:  Alex\n",
    "menu: nav/csp_units/csp_unit3_p2_fundamentals.html\n",
    "---"
   ]
  },
  {
   "cell_type": "markdown",
   "metadata": {
    "vscode": {
     "languageId": "plaintext"
    }
   },
   "source": [
    "## Lists\n",
    "\n",
    "In python, lists are containers which can store various types of data. They are ordered, meaning they are arranged in a numbered sequence starting at 0 (first element is 0th element), and are mutuable, which means we can change the data in a list."
   ]
  },
  {
   "cell_type": "code",
   "execution_count": 7,
   "metadata": {},
   "outputs": [],
   "source": [
    "# Creating an empty list\n",
    "\n",
    "mylist = []"
   ]
  },
  {
   "cell_type": "code",
   "execution_count": 2,
   "metadata": {},
   "outputs": [
    {
     "name": "stdout",
     "output_type": "stream",
     "text": [
      "['apple', 'orange', 'banana']\n"
     ]
    }
   ],
   "source": [
    "# apple is 0th element, orange is 1st, and banana is second\n",
    "mylist = [\"apple\", \"orange\", \"banana\"]\n",
    "\n",
    "print(mylist)"
   ]
  },
  {
   "cell_type": "markdown",
   "metadata": {},
   "source": [
    "## List Manipulation\n",
    "\n",
    "We can use many different operations on a table just like how you use mathematical operations on numbers.\n",
    "\n",
    "In Python, some of these operations include:\n",
    "- Indexing: accessing a list item through its index, or position in the list\n",
    "- Assigning: assigning new values to list through referencing indices\n",
    "- Inserting: adding new values to a list without overwriting existing ones (sometimes pushes other values up an index)\n",
    "- Appending: adding values to the end of a list\n",
    "- Removing: delete values by index, sometimes causing other values to move down in list\n",
    "- Length: find how many values are in a list"
   ]
  },
  {
   "cell_type": "code",
   "execution_count": 6,
   "metadata": {},
   "outputs": [
    {
     "name": "stdout",
     "output_type": "stream",
     "text": [
      "apple\n",
      "orange\n"
     ]
    }
   ],
   "source": [
    "# Indexing\n",
    "# Values in a table can be accessing using the list[index] format, where 'list' is your list name and 'index' is the numeric position of your data value in the list\n",
    "mylist = [\"apple\", \"orange\", \"banana\"]\n",
    "\n",
    "print(mylist[0])\n",
    "print(mylist[1])"
   ]
  },
  {
   "cell_type": "code",
   "execution_count": 8,
   "metadata": {},
   "outputs": [
    {
     "name": "stdout",
     "output_type": "stream",
     "text": [
      "['apple', 'foo', 'watermelon']\n"
     ]
    }
   ],
   "source": [
    "# Assigning values\n",
    "# We can assign values by taking the list at a certain index and setting that to a new value\n",
    "# You can also take list elements and assign them to another list\n",
    "\n",
    "mylist = [\"apple\", \"orange\", \"banana\"]\n",
    "mylist2 = [\"foo\", \"bar\"]\n",
    "\n",
    "mylist[2] = \"watermelon\"\n",
    "mylist[1] = mylist2[0]\n",
    "\n",
    "print(mylist)"
   ]
  },
  {
   "cell_type": "code",
   "execution_count": 11,
   "metadata": {},
   "outputs": [
    {
     "name": "stdout",
     "output_type": "stream",
     "text": [
      "['apple', 'orange', 'watermelon', 'banana']\n"
     ]
    }
   ],
   "source": [
    "# Inserting\n",
    "# When inserting values, you use the .insert table method and specify the index and value you are inserting\n",
    "\n",
    "mylist = [\"apple\", \"orange\", \"banana\"]\n",
    "mylist.insert(2,\"watermelon\")\n",
    "\n",
    "print(mylist)"
   ]
  },
  {
   "cell_type": "code",
   "execution_count": 1,
   "metadata": {},
   "outputs": [
    {
     "name": "stdout",
     "output_type": "stream",
     "text": [
      "['apple', 'orange', 'banana', 'watermelon']\n"
     ]
    }
   ],
   "source": [
    "# Appending\n",
    "# Appending is just like inserting, but doesnt take an index parameter and will add your value to the end of the list\n",
    "\n",
    "mylist = [\"apple\", \"orange\", \"banana\"]\n",
    "mylist.append(\"watermelon\")\n",
    "\n",
    "print(mylist)"
   ]
  },
  {
   "cell_type": "code",
   "execution_count": 2,
   "metadata": {},
   "outputs": [
    {
     "name": "stdout",
     "output_type": "stream",
     "text": [
      "['orange', 'banana']\n"
     ]
    }
   ],
   "source": [
    "# Removing\n",
    "# You can remove a value using .remove method, by giving an value that you want removed\n",
    "\n",
    "mylist = [\"apple\", \"orange\", \"banana\"]\n",
    "mylist.remove(\"apple\")\n",
    "\n",
    "print(mylist)"
   ]
  },
  {
   "cell_type": "code",
   "execution_count": 3,
   "metadata": {},
   "outputs": [
    {
     "name": "stdout",
     "output_type": "stream",
     "text": [
      "3\n"
     ]
    }
   ],
   "source": [
    "# Length\n",
    "# len() function gives you the amount of elements in your list \n",
    "\n",
    "mylist = [\"apple\", \"orange\", \"banana\"]\n",
    "\n",
    "print(len(mylist))"
   ]
  },
  {
   "cell_type": "code",
   "execution_count": 4,
   "metadata": {},
   "outputs": [
    {
     "name": "stdout",
     "output_type": "stream",
     "text": [
      "apple\n",
      "orange\n",
      "banana\n"
     ]
    }
   ],
   "source": [
    "# Iterating through a list using for loops\n",
    "# Use the 'in' keyword while specifying an iterator variable 'fruit' for list\n",
    "\n",
    "mylist = [\"apple\", \"orange\", \"banana\"]\n",
    "\n",
    "for fruit in mylist:\n",
    "    print(fruit)"
   ]
  },
  {
   "cell_type": "markdown",
   "metadata": {},
   "source": [
    "## Popcorn Hack\n",
    "\n",
    "- Take user input with input() function and append data to a list\n",
    "- Add all numbers in list and print sum\n",
    "- Allow removing of values using .pop method (removes last element in list)"
   ]
  },
  {
   "cell_type": "code",
   "execution_count": 9,
   "metadata": {},
   "outputs": [
    {
     "name": "stdout",
     "output_type": "stream",
     "text": [
      "Adding Numbers In List Script\n",
      "-------------------------\n",
      "Added 18 to list.\n",
      "Added 15 to list.\n",
      "Added 32 to list.\n",
      "Added 5 to list.\n",
      "Removed 5 from list.\n",
      "Removed 32 from list.\n",
      "Sum of numbers in list is 33\n"
     ]
    }
   ],
   "source": [
    "print(\"Adding Numbers In List Script\")\n",
    "print(\"-\"*25)\n",
    "numlist = []\n",
    "while True:\n",
    "    start = input(\"Would you like to (1) enter numbers (2) add numbers (3) remove last value added or (4) exit: \")\n",
    "    if start == \"1\":\n",
    "        val = input(\"Enter a numeric value: \") # take input while storing it in a variable\n",
    "        try: \n",
    "            test = int(val) # testing to see if input is an integer (numeric)\n",
    "        except:\n",
    "            print(\"Please enter a valid number\")\n",
    "            continue # 'continue' keyword skips to next step of while loop (basically restarting the loop)\n",
    "        numlist.append(int(val)) # append method to add values\n",
    "        print(\"Added \"+val+\" to list.\")\n",
    "    elif start == \"2\":\n",
    "        sum = 0\n",
    "        for num in numlist: # loop through list and add all values to sum variable\n",
    "            sum += num\n",
    "        print(\"Sum of numbers in list is \"+str(sum))\n",
    "    elif start == \"3\":\n",
    "        if len(numlist) > 0: # Make sure there are values in list to remove\n",
    "            print(\"Removed \"+str(numlist[len(numlist)-1])+\" from list.\")\n",
    "            numlist.pop()\n",
    "        else:\n",
    "            print(\"No values to delete\")\n",
    "    elif start == \"4\":\n",
    "        break # Break out of the while loop, or it will continue running forever\n",
    "    else:\n",
    "        continue\n",
    "\n",
    "\n"
   ]
  },
  {
   "cell_type": "markdown",
   "metadata": {},
   "source": [
    "## Homework\n",
    "\n",
    "- Create a python script that starts out with a list containing various data values (type doesn't matter)\n",
    "- Allow user to input a number, check to see if number in an existing index in list\n",
    "- Remove item with given index from the list"
   ]
  }
 ],
 "metadata": {
  "kernelspec": {
   "display_name": "venv",
   "language": "python",
   "name": "python3"
  },
  "language_info": {
   "codemirror_mode": {
    "name": "ipython",
    "version": 3
   },
   "file_extension": ".py",
   "mimetype": "text/x-python",
   "name": "python",
   "nbconvert_exporter": "python",
   "pygments_lexer": "ipython3",
   "version": "3.12.3"
  }
 },
 "nbformat": 4,
 "nbformat_minor": 2
}
