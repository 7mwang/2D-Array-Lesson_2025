{
 "cells": [
  {
   "cell_type": "raw",
   "metadata": {},
   "source": [
    "---\n",
    "toc: false\n",
    "comments: true\n",
    "layout: post\n",
    "title: 3.6.2 Conditionals \n",
    "description: Student led teaching on Conditionals using Javascript and Python\n",
    "permalink: /csp/big-idea/p2/3-6-2\n",
    "categories: [CSP Big Ideas]\n",
    "author:  Kush, Nolan, Vincent, and Tarun\n",
    "menu: nav/csp_units/csp_unit3_p2_fundamentals.html\n",
    "---"
   ]
  },
  {
   "cell_type": "code",
   "execution_count": 4,
   "metadata": {
    "vscode": {
     "languageId": "javascript"
    }
   },
   "outputs": [
    {
     "data": {
      "application/javascript": "let num1 = Math.floor(Math.random() * 21); // Generates a random integer between 0 and 20\nlet num2 = Math.floor(Math.random() * 21); // Generates a random integer between 0 and 20\n\nif (num1 > num2) {\n    console.log(num1 + ' > ' + num2);\n} else if (num1 < num2) {\n    console.log(num1 + ' < ' + num2);\n} else {\n    console.log(num1 + ' = ' + num2);\n}\n",
      "text/plain": [
       "<IPython.core.display.Javascript object>"
      ]
     },
     "metadata": {},
     "output_type": "display_data"
    }
   ],
   "source": [
    "%%js\n",
    "let num1 = Math.floor(Math.random() * 21); // Generates a random integer between 0 and 20\n",
    "let num2 = Math.floor(Math.random() * 21); // Generates a random integer between 0 and 20\n",
    "\n",
    "if (num1 > num2) {\n",
    "    console.log(num1 + ' > ' + num2);\n",
    "} else if (num1 < num2) {\n",
    "    console.log(num1 + ' < ' + num2);\n",
    "} else {\n",
    "    console.log(num1 + ' = ' + num2);\n",
    "}"
   ]
  },
  {
   "cell_type": "code",
   "execution_count": 2,
   "metadata": {},
   "outputs": [
    {
     "name": "stdout",
     "output_type": "stream",
     "text": [
      "16 > 3\n"
     ]
    }
   ],
   "source": [
    "from random import randint\n",
    "num_1 = randint(0,20)\n",
    "num_2 = randint(0,20)\n",
    "if num_1>num_2:\n",
    "    print(num_1,'>',num_2)\n",
    "elif num_1<num_2:\n",
    "    print(num_1,'<',num_2)\n",
    "else:\n",
    "    print(num_1,'=',num_2)"
   ]
  },
  {
   "cell_type": "markdown",
   "metadata": {},
   "source": [
    "<head>\n",
    "<style>\n",
    "  ul li {\n",
    "    margin-bottom: 10px;\n",
    "  }\n",
    "</style>\n",
    "</head>\n",
    "<ul>\n",
    "<li>This code imports the randint function from the random module.\n",
    "<li>Two variables, num_1 and num_2, are assigned random integers between 0 and 20 using random.randint(0, 20).\n",
    "<li>A conditional checks if num_1 is greater than num_2.\n",
    "<li>If num_1 is greater than num_2, it prints num_1 > num_2.\n",
    "<li>If the first condition is False, the next condition checks if num_1 is less than num_2.\n",
    "<li>If num_1 is less than num_2, it prints num_1 < num_2.\n",
    "<li>If neither condition is True (the numbers are equal), the conditional moves to the else statement.\n",
    "<li>The else statement prints num_1 = num_2.\n",
    "</ul>"
   ]
  }
 ],
 "metadata": {
  "kernelspec": {
   "display_name": "Python 3",
   "language": "python",
   "name": "python3"
  },
  "language_info": {
   "codemirror_mode": {
    "name": "ipython",
    "version": 3
   },
   "file_extension": ".py",
   "mimetype": "text/x-python",
   "name": "python",
   "nbconvert_exporter": "python",
   "pygments_lexer": "ipython3",
   "version": "3.9.6"
  }
 },
 "nbformat": 4,
 "nbformat_minor": 2
}
