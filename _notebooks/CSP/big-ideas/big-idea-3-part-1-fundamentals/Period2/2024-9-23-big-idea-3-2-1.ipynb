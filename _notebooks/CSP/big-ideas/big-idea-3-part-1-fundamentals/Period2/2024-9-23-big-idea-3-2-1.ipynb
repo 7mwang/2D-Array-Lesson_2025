{
 "cells": [
  {
   "cell_type": "raw",
   "metadata": {
    "vscode": {
     "languageId": "raw"
    }
   },
   "source": [
    "---\n",
    "toc: false\n",
    "comments: true\n",
    "layout: post\n",
    "title: 3.2 Lesson Period 2\n",
    "description: Student led teaching on Abstraction. Teaching how various data types can use abstraction for copmutational efficiency.\n",
    "permalink: /csp/big-idea/p2/3-2-1/\n",
    "categories: [CSP Big Ideas]\n",
    "author:  Nikhil Maturi, Yash Parikh, Neil Chandra, Rohan Bojja (P.2)\n",
    "menu: nav/csp_units/csp_unit3_p2_fundamentals.html\n",
    "---"
   ]
  },
  {
   "cell_type": "markdown",
   "metadata": {},
   "source": [
    "Integers - 3.2.1"
   ]
  },
  {
   "cell_type": "raw",
   "metadata": {
    "vscode": {
     "languageId": "raw"
    }
   },
   "source": [
    "# Declaring Integers\n",
    "# They can be any length, long or short\n",
    "DogAge = 99\n",
    "CatAge = 101\n",
    "seconds_alive = 109020390\n",
    "\n",
    "# Arithmetic Operations\n",
    "print(\"DogAge\", DogAge)\n",
    "print(\"CatAge\", CatAge)\n",
    "print(\"-\"*50)\n",
    "print(\"Arithmetic Operations:\")\n",
    "print(\"DogAge + CatAge =\", DogAge + CatAge) #addition\n",
    "print(\"DogAge - CatAge =\", DogAge - CatAge) #subtraction\n",
    "print(\"DogAge * CatAge =\", DogAge * CatAge) #multiplication\n",
    "print(\"DogAge/CatAge =\", DogAge/CatAge) #division\n",
    "print(\"DogAge^CatAge =\", DogAge ** CatAge) #exponentiation\n",
    "print(\"-\"*50)\n",
    "\n",
    "# Counting\n",
    "print(\"Counting:\")\n",
    "for i in range(10):\n",
    "    print(f\"Dog Age + {i} =\", DogAge + i)\n",
    "\n",
    "# Integers are abstractions since they simplify the concept of positive and or negative by creating a single datatype for both\n",
    "# Integers also abstractions as they simplify the process of performing mathematical operations as you can do it with a single datatype"
   ]
  }
 ],
 "metadata": {
  "language_info": {
   "name": "python"
  }
 },
 "nbformat": 4,
 "nbformat_minor": 2
}
