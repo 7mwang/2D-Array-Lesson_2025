{
 "cells": [
  {
   "cell_type": "raw",
   "metadata": {
    "vscode": {
     "languageId": "raw"
    }
   },
   "source": [
    "---\n",
    "layout: post\n",
    "title: 3.4 Strings\n",
    "description: Added Homework Hacks\n",
    "categories: [Python, Javascript]\n",
    "permalink: /csp/big-idea/p2/3-4-4\n",
    "menu: nav/csp_units/csp_unit3_p2_fundamentals.html\n",
    "author: Keerthan, Mihir\n",
    "toc: true\n",
    "comments: true\n",
    "---"
   ]
  },
  {
   "cell_type": "markdown",
   "metadata": {},
   "source": [
    "## Homework Hacks"
   ]
  },
  {
   "cell_type": "markdown",
   "metadata": {},
   "source": [
    "- **Greeting Generator:**\n",
    "  - Combine both using string concatenation or interpolation to create a greeting message like \"Hello, [First Name] [Last Name]!\".\n",
    "  \n",
    "- **Palindrome Checker:**\n",
    "  - Prompt for a word or sentence and check if it reads the same forwards and backwards using string manipulation methods like `.split()`, `.reverse()`, and `.join()`.\n",
    "\n",
    "- **Character Counter:**\n",
    "  - Prompt the user for a sentence and display how many characters (including spaces) are in the string using `.length`."
   ]
  }
 ],
 "metadata": {
  "language_info": {
   "name": "python"
  }
 },
 "nbformat": 4,
 "nbformat_minor": 2
}
