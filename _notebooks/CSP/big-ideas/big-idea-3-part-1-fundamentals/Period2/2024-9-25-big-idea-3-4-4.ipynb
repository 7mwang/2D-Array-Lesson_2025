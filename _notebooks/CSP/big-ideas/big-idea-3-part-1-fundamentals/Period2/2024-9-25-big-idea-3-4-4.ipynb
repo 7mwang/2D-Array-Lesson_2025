{
 "cells": [
  {
   "cell_type": "raw",
   "metadata": {
    "vscode": {
     "languageId": "raw"
    }
   },
   "source": [
    "---\n",
    "layout: post\n",
    "title: 3.4 Strings\n",
    "description: Added Homework Hacks\n",
    "categories: [Python, Javascript]\n",
    "permalink: /csp/big-idea/p2/3-4-4\n",
    "menu: nav/csp_units/csp_unit3_p2_fundamentals.html\n",
    "author: Keerthan, Mihir\n",
    "toc: true\n",
    "comments: true\n",
    "---"
   ]
  },
  {
   "cell_type": "markdown",
   "metadata": {},
   "source": [
    "## Homework Hacks"
   ]
  },
  {
   "cell_type": "markdown",
   "metadata": {},
   "source": [
    "- **Greeting Generator:**\n",
    "  - Combine both using string concatenation or interpolation to create a greeting message like \"Hello, [First Name] [Last Name]!\".(Javascript)"
   ]
  }
 ],
 "metadata": {
  "kernelspec": {
   "display_name": "venv",
   "language": "python",
   "name": "python3"
  },
  "language_info": {
   "name": "python",
   "version": "3.12.5"
  }
 },
 "nbformat": 4,
 "nbformat_minor": 2
}
