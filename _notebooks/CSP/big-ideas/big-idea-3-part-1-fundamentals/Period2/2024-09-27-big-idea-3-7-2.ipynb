{
 "cells": [
  {
   "cell_type": "raw",
   "metadata": {
    "vscode": {
     "languageId": "raw"
    }
   },
   "source": [
    "---\n",
    "toc: false\n",
    "comments: true\n",
    "layout: post\n",
    "title: 3.7.2 Nested Conditionals and Psuedocode \n",
    "description: Student led teaching Nested Conditionals using Javascript and Python \n",
    "permalink: /csp/big-idea/p2/3-7-2\n",
    "categories: [CSP Big Ideas]\n",
    "author:  Nolan, Tarun, Kush, and Vincent \n",
    "menu: nav/csp_units/csp_unit3_p2_fundamentals.html\n",
    "---"
   ]
  },
  {
   "cell_type": "markdown",
   "metadata": {},
   "source": [
    "# Example 3: \n",
    "<head>\n",
    "<style>\n",
    " ul li {\n",
    "    margin-bottom: 10px;\n",
    "  }\n",
    "</style>\n",
    "</head>\n",
    "<ul>\n",
    "  <li> Write pseudocode to determine if a person qualifies for a discount based on their membership status and purchase amount:</li>\n",
    "  <li>if the person is a member: </li>\n",
    "  <li>If someone is a member and spends more than $100, they get a 20% discount. If they spend $100 or less, they get a 10% discount. </li>\n",
    "  <li>If they're not a member and spend more than $100, they get a 5% discount. If they spend $100 or less, they don’t get any discount. </li>\n",
    "</ul> \n"
   ]
  },
  {
   "cell_type": "code",
   "execution_count": null,
   "metadata": {},
   "outputs": [],
   "source": [
    "# Define is_member and purchase_amount\n",
    "is_member = True  # Set to True if the person is a member, False if not\n",
    "purchase_amount = 120  # Replace with the actual purchase amount\n",
    "\n",
    "# Check conditions and display the appropriate discount\n",
    "if is_member == True and purchase_amount > 100:\n",
    "    print(\"20% discount\")\n",
    "elif is_member == True and purchase_amount <= 100:\n",
    "    print(\"10% discount\")\n",
    "elif is_member == False and purchase_amount > 100:\n",
    "    print(\"5% discount\")\n",
    "else:\n",
    "    print(\"No discount\")\n"
   ]
  },
  {
   "cell_type": "code",
   "execution_count": 1,
   "metadata": {
    "vscode": {
     "languageId": "javascript"
    }
   },
   "outputs": [
    {
     "data": {
      "application/javascript": "// Define is_member and purchase_amount\nlet is_member = true;  // Set to true if the person is a member, false if not\nlet purchase_amount = 120;  // Replace with the actual purchase amount\n\n// Check conditions and display the appropriate discount\nif (is_member === true && purchase_amount > 100) {\n    console.log(\"20% discount\");\n} else if (is_member === true && purchase_amount <= 100) {\n    console.log(\"10% discount\");\n} else if (is_member === false && purchase_amount > 100) {\n    console.log(\"5% discount\");\n} else {\n    console.log(\"No discount\");\n}\n",
      "text/plain": [
       "<IPython.core.display.Javascript object>"
      ]
     },
     "metadata": {},
     "output_type": "display_data"
    }
   ],
   "source": [
    "%%js\n",
    "// Define is_member and purchase_amount\n",
    "let is_member = true;  // Set to true if the person is a member, false if not\n",
    "let purchase_amount = 120;  // Replace with the actual purchase amount\n",
    "\n",
    "// Check conditions and display the appropriate discount\n",
    "if (is_member === true && purchase_amount > 100) {\n",
    "    console.log(\"20% discount\");\n",
    "} else if (is_member === true && purchase_amount <= 100) {\n",
    "    console.log(\"10% discount\");\n",
    "} else if (is_member === false && purchase_amount > 100) {\n",
    "    console.log(\"5% discount\");\n",
    "} else {\n",
    "    console.log(\"No discount\");\n",
    "}"
   ]
  },
  {
   "cell_type": "markdown",
   "metadata": {},
   "source": [
    "# Hacks\n",
    "\n",
    "<head>\n",
    "<style>\n",
    " ul li {\n",
    "    margin-bottom: 10px;\n",
    "  }\n",
    "</style>\n",
    "</head>\n",
    "<ul>\n",
    "  <li> Create pseudocode to evaluate whether a student passes a course, considering both their exam grades and attendance record, using nested if-statements.</li>\n",
    "  <li> Write a Python code block to calculate the shipping fee based on the package's weight and the selected delivery option (standard or express), also using nested if-statements.</li>\n",
    "</ul>  "
   ]
  }
 ],
 "metadata": {
  "kernelspec": {
   "display_name": "Python 3",
   "language": "python",
   "name": "python3"
  },
  "language_info": {
   "codemirror_mode": {
    "name": "ipython",
    "version": 3
   },
   "file_extension": ".py",
   "mimetype": "text/x-python",
   "name": "python",
   "nbconvert_exporter": "python",
   "pygments_lexer": "ipython3",
   "version": "3.12.5"
  }
 },
 "nbformat": 4,
 "nbformat_minor": 2
}
