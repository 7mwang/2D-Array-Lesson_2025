{
 "cells": [
  {
   "cell_type": "markdown",
   "metadata": {},
   "source": [
    "---\n",
    "toc: false\n",
    "comments: true\n",
    "layout: post\n",
    "title: 3.7.2 Nested Conditionals Homework Hack\n",
    "description: Student led teaching on Conditionals using Javascript and Python\n",
    "permalink: /csp/big-idea/p2/3-7-1\n",
    "categories: [CSP Big Ideas]\n",
    "author:  Kush, Nolan, Vincent, and Tarun\n",
    "menu: nav/csp_units/csp_unit3_p2_fundamentals.html\n",
    "---"
   ]
  },
  {
   "cell_type": "markdown",
   "metadata": {},
   "source": [
    "<h1>Homework Hack<h1>"
   ]
  }
 ],
 "metadata": {
  "language_info": {
   "name": "python"
  }
 },
 "nbformat": 4,
 "nbformat_minor": 2
}
