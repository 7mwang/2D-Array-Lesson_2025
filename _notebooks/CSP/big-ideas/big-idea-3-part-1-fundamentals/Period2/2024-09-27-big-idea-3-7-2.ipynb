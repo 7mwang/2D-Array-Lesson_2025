{
 "cells": [
  {
   "cell_type": "raw",
   "metadata": {},
   "source": [
    "---\n",
    "toc: false\n",
    "comments: true\n",
    "layout: post\n",
    "title: 3.7.2 Nested Conditionals Homework Hack\n",
    "description: Student led teaching on Conditionals using Javascript and Python\n",
    "permalink: /csp/big-idea/p2/3-7-1\n",
    "categories: [CSP Big Ideas]\n",
    "author:  Kush, Nolan, Vincent, and Tarun\n",
    "menu: nav/csp_units/csp_unit3_p2_fundamentals.html\n",
    "---"
   ]
  },
  {
   "cell_type": "markdown",
   "metadata": {},
   "source": [
    "<h1>Homework Hack<h1>"
   ]
  },
  {
   "cell_type": "code",
   "execution_count": null,
   "metadata": {},
   "outputs": [],
   "source": [
    "# Step 1: Gather the sides of the triangle\n",
    "side1 = float(input(\"Side 1: \"))\n",
    "side2 = float(input(\"Side 2: \"))\n",
    "side3 = float(input(\"Side 3: \"))\n",
    "\n",
    "# Step 2: Check if the sides can form a triangle\n",
    "valid_triangle = (side1 + side2 > side3) and (side1 + side3 > side2) and (side2 + side3 > side1)\n",
    "\n",
    "# Step 3: Classify the triangle if valid\n",
    "if valid_triangle:\n",
    "    if side1 == side2 and side2 == side3:\n",
    "        triangle_type = \"Equilateral\"\n",
    "    elif side1 == side2 or side1 == side3 or side2 == side3:\n",
    "        triangle_type = \"Isosceles\"\n",
    "    else:\n",
    "        triangle_type = \"Scalene\"\n",
    "    print(f\"Triangle Type: {triangle_type}\")\n",
    "else:\n",
    "    print(\"The sides provided do not form a triangle.\")\n"
   ]
  },
  {
   "cell_type": "markdown",
   "metadata": {},
   "source": [
    "<h3><h3>\n",
    "\n",
    "-The code collects three sides of a triangle from the user using float(input()) to handle decimal input values.\n",
    "\n",
    "-It checks if the three sides can form a valid triangle using the triangle inequality theorem, which ensures that the sum of any two sides must be greater than the \n",
    "third.\n",
    "\n",
    "-If the sides form a valid triangle, it classifies the triangle as Equilateral (all sides equal), Isosceles (two sides equal), or Scalene (all sides different).\n",
    "\n",
    "-The classification result is then printed using an f-string for clarity.\n",
    "\n",
    "-If the sides don't meet the triangle inequality condition, the code prints a message stating the sides do not form a valid triangle.\n"
   ]
  }
 ],
 "metadata": {
  "language_info": {
   "name": "python"
  }
 },
 "nbformat": 4,
 "nbformat_minor": 2
}
