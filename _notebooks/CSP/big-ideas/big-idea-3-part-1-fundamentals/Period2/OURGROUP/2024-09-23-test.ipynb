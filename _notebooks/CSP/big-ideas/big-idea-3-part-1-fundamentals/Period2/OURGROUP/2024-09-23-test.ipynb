{
 "cells": [
  {
   "cell_type": "raw",
   "metadata": {
    "vscode": {
     "languageId": "raw"
    }
   },
   "source": [
    "---\n",
    "comments: true\n",
    "layout: post\n",
    "title: JAVASCRIPT TEST\n",
    "description: College Board topics 3.1-3.2\n",
    "toc: true\n",
    "author: TEST DUDE\n",
    "---"
   ]
  },
  {
   "cell_type": "markdown",
   "metadata": {},
   "source": [
    "<h1>Car Information</h1>\n",
    "\n",
    "<div id=\"output\"></div>\n",
    "\n",
    "<script>\n",
    "// JavaScript object\n",
    "var mydictionary = {\n",
    "    \"brand\": \"Ford\",\n",
    "    \"model\": \"Mustang\",\n",
    "    \"year\": 1964\n",
    "};\n",
    "\n",
    "// Creating HTML output with JavaScript\n",
    "var output = `\n",
    "  <p>The whole dictionary is: <pre>${JSON.stringify(mydictionary, null, 2)}</pre></p>\n",
    "  <p>The value of the key 'brand' is: ${mydictionary[\"brand\"]}</p>\n",
    "  <p>The value of the key 'model' is: ${mydictionary[\"model\"]}</p>\n",
    "  <p>The value of the key 'year' is: ${mydictionary[\"year\"]}</p>\n",
    "`;\n",
    "\n",
    "// Display the output in the HTML body\n",
    "document.getElementById(\"output\").innerHTML = output;\n",
    "</script>\n",
    "</html>\n"
   ]
  }
 ],
 "metadata": {
  "language_info": {
   "name": "python"
  }
 },
 "nbformat": 4,
 "nbformat_minor": 2
}
