{
 "cells": [
  {
   "cell_type": "raw",
   "metadata": {
    "vscode": {
     "languageId": "raw"
    }
   },
   "source": [
    "---\n",
    "toc: false\n",
    "comments: true\n",
    "layout: post\n",
    "title: 3.2 Lesson Period 2\n",
    "description: Student led teaching on Abstraction. Teaching how various data types can use abstraction for copmutational efficiency.\n",
    "permalink: /csp/big-idea/3-2-period-3\n",
    "categories: [CSP Big Ideas]\n",
    "author:  Nikhil Maturi, Yash Parikh, Neil Chandra, Rohan Bojja (P.2)\n",
    "menu: nav/csp_units/csp_unit3_p1_fundamentals.html\n",
    "---"
   ]
  },
  {
   "cell_type": "markdown",
   "metadata": {},
   "source": [
    "# Group Lesson 3.2\n",
    "#### Created by: Nikhil Maturi, Rohan Bojja, Neil Chandra, Yash Parikh"
   ]
  },
  {
   "cell_type": "markdown",
   "metadata": {},
   "source": [
    "## Integers"
   ]
  },
  {
   "cell_type": "code",
   "execution_count": 4,
   "metadata": {},
   "outputs": [
    {
     "name": "stdout",
     "output_type": "stream",
     "text": [
      "DogAge 99\n",
      "CatAge 101\n",
      "DogAge + CatAge 200\n"
     ]
    }
   ],
   "source": [
    "# Declaring Integers\n",
    "# They can be any length, long or short\n",
    "DogAge = 99\n",
    "CatAge = 101\n",
    "seconds_alive = 109020390\n",
    "# Arithmetic Operations\n",
    "print(\"DogAge\", DogAge)\n",
    "print(\"CatAge\", CatAge)\n",
    "print(\"DogAge + CatAge\", DogAge + CatAge)"
   ]
  }
 ],
 "metadata": {
  "kernelspec": {
   "display_name": "venv",
   "language": "python",
   "name": "python3"
  },
  "language_info": {
   "codemirror_mode": {
    "name": "ipython",
    "version": 3
   },
   "file_extension": ".py",
   "mimetype": "text/x-python",
   "name": "python",
   "nbconvert_exporter": "python",
   "pygments_lexer": "ipython3",
   "version": "3.9.19"
  }
 },
 "nbformat": 4,
 "nbformat_minor": 2
}
