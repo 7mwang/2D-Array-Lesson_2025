{
 "cells": [
  {
   "cell_type": "raw",
   "metadata": {
    "vscode": {
     "languageId": "raw"
    }
   },
   "source": [
    "---\n",
    "toc: false\n",
    "comments: true\n",
    "layout: post\n",
    "title: 3.2 Lesson Period 2\n",
    "description: Student led teaching on Abstraction. Teaching how various data types can use abstraction for copmutational efficiency.\n",
    "permalink: /csp/big-idea/3-2-period-3\n",
    "categories: [CSP Big Ideas]\n",
    "author:  Nikhil Maturi, Yash Parikh, Neil Chandra, Rohan Bojja (P.2)\n",
    "menu: nav/csp_units/csp_unit3_p1_fundamentals.html\n",
    "---"
   ]
  },
  {
   "cell_type": "markdown",
   "metadata": {},
   "source": [
    "# Group Lesson 3.2\n",
    "#### Created by: Nikhil Maturi, Rohan Bojja, Neil Chandra, Yash Parikh"
   ]
  },
  {
   "cell_type": "markdown",
   "metadata": {},
   "source": [
    "## Integers"
   ]
  },
  {
   "cell_type": "code",
   "execution_count": 11,
   "metadata": {},
   "outputs": [
    {
     "name": "stdout",
     "output_type": "stream",
     "text": [
      "DogAge 99\n",
      "CatAge 101\n",
      "--------------------------------------------------\n",
      "Arithmetic Operations:\n",
      "DogAge + CatAge = 200\n",
      "DogAge - CatAge = -2\n",
      "DogAge * CatAge = 9999\n",
      "DogAge/CatAge = 0.9801980198019802\n",
      "DogAge^CatAge = 3623720178604972098813098663067922123278149558725344544918977989723238743032175007053245780749266808966549534096463148419710533398337814216985343009467904985311514465603728812874382843771759324099510099\n",
      "--------------------------------------------------\n",
      "Counting:\n",
      "Dog Age + 0 = 99\n",
      "Dog Age + 1 = 100\n",
      "Dog Age + 2 = 101\n",
      "Dog Age + 3 = 102\n",
      "Dog Age + 4 = 103\n",
      "Dog Age + 5 = 104\n",
      "Dog Age + 6 = 105\n",
      "Dog Age + 7 = 106\n",
      "Dog Age + 8 = 107\n",
      "Dog Age + 9 = 108\n"
     ]
    }
   ],
   "source": [
    "# Declaring Integers\n",
    "# They can be any length, long or short\n",
    "DogAge = 99\n",
    "CatAge = 101\n",
    "seconds_alive = 109020390\n",
    "\n",
    "# Arithmetic Operations\n",
    "print(\"DogAge\", DogAge)\n",
    "print(\"CatAge\", CatAge)\n",
    "print(\"-\"*50)\n",
    "print(\"Arithmetic Operations:\")\n",
    "print(\"DogAge + CatAge =\", DogAge + CatAge) #addition\n",
    "print(\"DogAge - CatAge =\", DogAge - CatAge) #subtraction\n",
    "print(\"DogAge * CatAge =\", DogAge * CatAge) #multiplication\n",
    "print(\"DogAge/CatAge =\", DogAge/CatAge) #division\n",
    "print(\"DogAge^CatAge =\", DogAge ** CatAge) #exponentiation\n",
    "print(\"-\"*50)\n",
    "\n",
    "# Counting\n",
    "print(\"Counting:\")\n",
    "for i in range(10):\n",
    "    print(f\"Dog Age + {i} =\", DogAge + i)\n",
    "\n",
    "# Integers are abstractions since they simplify the concept of positive and or negative by creating a single datatype for both\n",
    "# Integers also abstractions as they simplify the process of performing mathematical operations as you can do it with a single datatype"
   ]
  },
  {
   "cell_type": "markdown",
   "metadata": {},
   "source": [
    "## Floats"
   ]
  },
  {
   "cell_type": "code",
   "execution_count": 5,
   "metadata": {},
   "outputs": [
    {
     "name": "stdout",
     "output_type": "stream",
     "text": [
      "Number of Chocolate Pieces 4.5\n",
      "Number of Fruit Pieces 3.5\n",
      "Number of Chocolate Pieces and Number of Fruit Pieces 8.0\n"
     ]
    }
   ],
   "source": [
    "numberOfChocolatePieces = 4.5 # this is an abstraction as to write this with integers you would have to write 9/2 which adds complexity\n",
    "numberOfFruitPieces = 7/2\n",
    "\n",
    "print(\"Number of Chocolate Pieces\", numberOfChocolatePieces)\n",
    "print(\"Number of Fruit Pieces\", numberOfFruitPieces)\n",
    "print(\"Number of Chocolate Pieces and Number of Fruit Pieces\", numberOfChocolatePieces + numberOfFruitPieces)"
   ]
  },
  {
   "cell_type": "markdown",
   "metadata": {},
   "source": [
    "## Strings"
   ]
  },
  {
   "cell_type": "code",
   "execution_count": 15,
   "metadata": {},
   "outputs": [
    {
     "name": "stdout",
     "output_type": "stream",
     "text": [
      "Concatenation:\n",
      "First name and Last Name: John Doe\n",
      "--------------------------------------------------\n",
      "Repetition:\n",
      "HaHaHaHa\n",
      "--------------------------------------------------\n",
      "Indexing:\n",
      "Water\n",
      "--------------------------------------------------\n",
      "Length of String:\n",
      "4\n",
      "--------------------------------------------------\n",
      "Changing Letter Format:\n",
      "JOHN\n",
      "John\n",
      "--------------------------------------------------\n",
      "Removing whitespace:\n",
      "Watermelon\n"
     ]
    }
   ],
   "source": [
    "# Are an abstraction since it allows you to perform operations on multiple words and/or letters without seperating them individually\n",
    "# Allows letters to be represented using language rather than numbers\n",
    "firstName = \"John\"\n",
    "lastName = \"Doe\"\n",
    "laugh = \"Ha\"\n",
    "fruit = \"Watermelon\"\n",
    "fruitWithSpace = \"   Watermelon   \"\n",
    "\n",
    "# Concatenation\n",
    "print(\"Concatenation:\")\n",
    "print(\"First name and Last Name:\", firstName + \" \" + lastName) #abstracts by allowing dynamic manipulation of strings\n",
    "print(\"-\"*50)\n",
    "\n",
    "# Repetition\n",
    "print(\"Repetition:\")\n",
    "print(laugh * 4) #abstracts having to use a loop to repeat the string\n",
    "print(\"-\"*50)\n",
    "\n",
    "# Indexing String\n",
    "print(\"Indexing:\")\n",
    "# 0 based indexing system\n",
    "print(fruit[0:5]) #abstracts having to use a loop to iterate then manually obtain the first 4 letters\n",
    "print(\"-\"*50)\n",
    "\n",
    "# Length of String\n",
    "print(\"Length of String:\")\n",
    "print(len(firstName)) #abstracts having to count the letters manually or using more steps\n",
    "print(\"-\"*50)\n",
    "\n",
    "# Change Letter Format\n",
    "# prevents having to loops to manually change letter format based on condition\n",
    "# otherwise would require checking through ASCII or other methods\n",
    "print(\"Changing Letter Format:\")\n",
    "print(firstName.upper())\n",
    "print(firstName.title())\n",
    "print(\"-\"*50)\n",
    "\n",
    "# Strip\n",
    "# Abstraction as a condition and loop is not required to identify spaces and remove them\n",
    "print(\"Removing whitespace:\")\n",
    "print(fruitWithSpace.strip())\n"
   ]
  },
  {
   "cell_type": "markdown",
   "metadata": {},
   "source": [
    "## Lists"
   ]
  },
  {
   "cell_type": "code",
   "execution_count": 6,
   "metadata": {},
   "outputs": [
    {
     "name": "stdout",
     "output_type": "stream",
     "text": [
      "['Jolly Rancher', 'Kit Kat', 'Starburst', 'Nerds', 'Nerd Clusters']\n",
      "--------------------------------------------------\n",
      "Appending i.e Adding Items to the List:\n",
      "['Jolly Rancher', 'Kit Kat', 'Starburst', 'Nerds', 'Nerd Clusters']\n",
      "--------------------------------------------------\n",
      "Removing Element from List:\n",
      "['Jolly Rancher', 'Kit Kat', 'Starburst', 'Nerds', 'Nerd Clusters', 'Laffy Taffy']\n",
      "--------------------------------------------------\n",
      "Sorts lists:\n",
      "Post sort list ['Jolly Rancher', 'Laffy Taffy', 'Nerd Clusters', 'Nerds', 'Starburst']\n"
     ]
    }
   ],
   "source": [
    "# Lists are abstraction because of their ability to group multiple data types together, without defining them separately\n",
    "# Lists also allow you to perform operations on them without excessive loops and checking, resulting in simpler code and efficiency\n",
    "candy = [\"Jolly Rancher\", \"Kit Kat\", \"Starburst\", \"Nerds\", \"Nerd Clusters\"]\n",
    "print(candy)\n",
    "print(\"-\"*50)\n",
    "\n",
    "# appending\n",
    "print(\"Appending i.e Adding Items to the List:\")\n",
    "print(candy)\n",
    "print(\"-\"*50)\n",
    "# abstracts having to manually extend list and inserting element removes that aspect of memory management\n",
    "candy.append(\"Laffy Taffy\") #adds item to end of list\n",
    "\n",
    "# removing\n",
    "print(\"Removing Element from List:\")\n",
    "print(candy)\n",
    "print(\"-\"*50)\n",
    "candy.remove(\"Kit Kat\")\n",
    "\n",
    "# sorting\n",
    "print(\"Sorts lists:\")\n",
    "candy.sort() # removes task of writing sorting algorithm from scratch with high computational efficiency, n log n.\n",
    "print(\"Post sort list\", candy)\n",
    "\n",
    "# duplicating\n",
    "candy_copy = candy.copy() # removes aspect of memory management and manual iteration to create list, and removes appending operations\n",
    "\n"
   ]
  },
  {
   "cell_type": "markdown",
   "metadata": {},
   "source": [
    "## Tuples"
   ]
  },
  {
   "cell_type": "code",
   "execution_count": 22,
   "metadata": {},
   "outputs": [
    {
     "name": "stdout",
     "output_type": "stream",
     "text": [
      "Tuple: (8, 12)\n",
      "--------------------------------------------------\n",
      "Length:\n",
      "2\n",
      "--------------------------------------------------\n",
      "Unpacking:\n",
      "x: 8\n",
      "y: 12\n",
      "--------------------------------------------------\n",
      "Repetition:\n",
      "(8, 12, 8, 12, 8, 12)\n",
      "--------------------------------------------------\n",
      "Minimum:\n",
      "8\n",
      "Maximum:\n",
      "12\n",
      "Summation:\n",
      "20\n",
      "--------------------------------------------------\n"
     ]
    }
   ],
   "source": [
    "# Tuples have many uses, they are often used in math applications for things like coordinates...\n",
    "# Tuples are immutable meaning they can't be changed after creation\n",
    "myTuple = (8, 12)\n",
    "print(\"Tuple:\", myTuple)\n",
    "print(\"-\"*50)\n",
    "\n",
    "# Tuple Length\n",
    "print(\"Length:\")\n",
    "print(len(myTuple))\n",
    "print(\"-\"*50)\n",
    "\n",
    "# Tuple Unpacking\n",
    "print(\"Unpacking:\") # abstracts having to index then manually assign\n",
    "x, y = myTuple # assigns each part of tuple to seperate variables\n",
    "print(\"x:\", x)\n",
    "print(\"y:\", y)\n",
    "print(\"-\"*50)\n",
    "\n",
    "# Tuple Repetition\n",
    "print(\"Repetition:\") # simplifies having to loop or index then reassign\n",
    "print(myTuple * 3)\n",
    "print(\"-\"*50)\n",
    "\n",
    "# Min, Max, Sum\n",
    "print(\"Minimum:\") # simplifies having to loop then compute all manually\n",
    "print(min(myTuple))\n",
    "print(\"Maximum:\")\n",
    "print(max(myTuple))\n",
    "print(\"Summation:\")\n",
    "print(sum(myTuple))\n",
    "print(\"-\"*50)"
   ]
  },
  {
   "cell_type": "code",
   "execution_count": null,
   "metadata": {},
   "outputs": [],
   "source": []
  }
 ],
 "metadata": {
  "kernelspec": {
   "display_name": "venv",
   "language": "python",
   "name": "python3"
  },
  "language_info": {
   "codemirror_mode": {
    "name": "ipython",
    "version": 3
   },
   "file_extension": ".py",
   "mimetype": "text/x-python",
   "name": "python",
   "nbconvert_exporter": "python",
   "pygments_lexer": "ipython3",
   "version": "3.9.19"
  }
 },
 "nbformat": 4,
 "nbformat_minor": 2
}
