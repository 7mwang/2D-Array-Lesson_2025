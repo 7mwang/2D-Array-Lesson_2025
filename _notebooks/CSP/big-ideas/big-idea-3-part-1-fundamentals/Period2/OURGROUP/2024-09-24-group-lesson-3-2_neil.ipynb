{
 "cells": [
  {
   "cell_type": "raw",
   "metadata": {},
   "source": [
    "---\n",
    "toc: false\n",
    "comments: true\n",
    "layout: post\n",
    "title: 3.2 Lesson Period 2\n",
    "description: Student led teaching on Abstraction. Teaching how various data types can use abstraction for copmutational efficiency.\n",
    "permalink: /csp/big-idea/3-2-period-2\n",
    "categories: [CSP Big Ideas]\n",
    "author:  Nikhil Maturi, Yash Parikh, Neil Chandra, Rohan Bojja (P.2)\n",
    "menu: nav/csp_units/csp_unit3_p1_fundamentals.html\n",
    "---"
   ]
  },
  {
   "cell_type": "markdown",
   "metadata": {},
   "source": [
    "# Group Lesson 3.2\n",
    "#### Created by: Nikhil Maturi, Rohan Bojja, Neil Chandra, Yash Parikh"
   ]
  },
  {
   "cell_type": "markdown",
   "metadata": {
    "vscode": {
     "languageId": "plaintext"
    }
   },
   "source": [
    "## Dictionaries in Javascript"
   ]
  },
  {
   "cell_type": "markdown",
   "metadata": {
    "vscode": {
     "languageId": "html"
    }
   },
   "source": [
    "<div id=\"output\"></div>\n",
    "\n",
    "<script>\n",
    "// JavaScript object\n",
    "var mydictionary = {\n",
    "    \"brand\": \"Ford\",\n",
    "    \"model\": \"Mustang\",\n",
    "    \"year\": 1964\n",
    "};\n",
    "\n",
    "// Creating HTML output with JavaScript\n",
    "var output = `\n",
    "  <p>The whole dictionary is: <pre>${JSON.stringify(mydictionary, null, 2)}</pre></p>\n",
    "  <p>The value of the key 'brand' is: ${mydictionary[\"brand\"]}</p>\n",
    "  <p>The value of the key 'model' is: ${mydictionary[\"model\"]}</p>\n",
    "  <p>The value of the key 'year' is: ${mydictionary[\"year\"]}</p>\n",
    "`;\n",
    "\n",
    "// Display the output in the HTML body\n",
    "document.getElementById(\"output\").innerHTML = output;\n",
    "</script>\n"
   ]
  },
  {
   "cell_type": "markdown",
   "metadata": {
    "vscode": {
     "languageId": "raw"
    }
   },
   "source": [
    "## Sets in Javascript"
   ]
  },
  {
   "cell_type": "markdown",
   "metadata": {
    "vscode": {
     "languageId": "javascript"
    }
   },
   "source": [
    "<div id=\"output2\"></div>\n",
    "\n",
    "<script>\n",
    "// JavaScript Set\n",
    "var myset = new Set([\"apple\", \"banana\", \"cherry\"]);\n",
    "\n",
    "// Creating HTML output with JavaScript and displaying each step directly\n",
    "document.getElementById(\"output2\").innerHTML = `\n",
    "  <p>The whole set is: ${Array.from(myset).join(\", \")}</p>\n",
    "  <p>The values in the set are: ${Array.from(myset).join(\", \")}</p>\n",
    "`;\n",
    "\n",
    "// Adding 'orange' to the set\n",
    "myset.add(\"orange\");\n",
    "document.getElementById(\"output2\").innerHTML += `\n",
    "  <p>After adding 'orange': ${Array.from(myset).join(\", \")}</p>\n",
    "`;\n",
    "\n",
    "// Removing 'banana' from the set\n",
    "myset.delete(\"banana\");\n",
    "document.getElementById(\"output2\").innerHTML += `\n",
    "  <p>After removing 'banana': ${Array.from(myset).join(\", \")}</p>\n",
    "`;\n",
    "</script>\n"
   ]
  },
  {
   "cell_type": "markdown",
   "metadata": {
    "vscode": {
     "languageId": "raw"
    }
   },
   "source": [
    "## Booleans in Javascript"
   ]
  },
  {
   "cell_type": "markdown",
   "metadata": {
    "vscode": {
     "languageId": "javascript"
    }
   },
   "source": [
    "<div id=\"output3\"></div>\n",
    "\n",
    "<script>\n",
    "// Comparison Operations\n",
    "document.getElementById(\"output3\").innerHTML = `\n",
    "  <p>print(10 > 9): ${10 > 9}</p>\n",
    "  <p>print(10 == 9): ${10 == 9}</p>\n",
    "  <p>print(10 < 9): ${10 < 9}</p>\n",
    "`;\n",
    "\n",
    "// Variables for comparison\n",
    "var a = 200;\n",
    "var b = 33;\n",
    "\n",
    "document.getElementById(\"output3\").innerHTML += `\n",
    "  <p>a is 200, b is 33</p>\n",
    "`;\n",
    "\n",
    "// Conditional check\n",
    "if (b > a) {\n",
    "  document.getElementById(\"output3\").innerHTML += `\n",
    "    <p>b is greater than a</p>\n",
    "  `;\n",
    "} else {\n",
    "  document.getElementById(\"output3\").innerHTML += `\n",
    "    <p>b is not greater than a</p>\n",
    "  `;\n",
    "}\n",
    "\n",
    "// Boolean evaluations\n",
    "document.getElementById(\"output3\").innerHTML += `\n",
    "  <p>abc: ${Boolean(\"abc\")}</p>\n",
    "  <p>123: ${Boolean(123)}</p>\n",
    "  <p>[]: ${Boolean([])}</p>\n",
    "  <p>[apple, cherry, banana]: ${Boolean([\"apple\", \"cherry\", \"banana\"])}</p>\n",
    "`;\n",
    "</script>\n"
   ]
  },
  {
   "cell_type": "markdown",
   "metadata": {},
   "source": [
    "## None in Javascript"
   ]
  },
  {
   "cell_type": "markdown",
   "metadata": {
    "vscode": {
     "languageId": "raw"
    }
   },
   "source": [
    "<div id=\"output4\"></div>\n",
    "\n",
    "<script>\n",
    "// Defining a null value (equivalent to None in Python)\n",
    "var x = null;\n",
    "\n",
    "// Displaying the initial value of x\n",
    "document.getElementById(\"output4\").innerHTML = `\n",
    "  <p>x = null</p>\n",
    "  <p>Output of x: ${x}</p>\n",
    "`;\n",
    "\n",
    "// Checking if x is true or false\n",
    "document.getElementById(\"output4\").innerHTML += `\n",
    "  <p>So is x true, or is x false?</p>\n",
    "`;\n",
    "\n",
    "if (x) {\n",
    "  document.getElementById(\"output4\").innerHTML += `\n",
    "    <p>Do you think null is True?</p>\n",
    "  `;\n",
    "} else if (x === false) {\n",
    "  document.getElementById(\"output4\").innerHTML += `\n",
    "    <p>Do you think null is False?</p>\n",
    "  `;\n",
    "} else {\n",
    "  document.getElementById(\"output4\").innerHTML += `\n",
    "    <p>Null is not True or False, null is just null...</p>\n",
    "  `;\n",
    "}\n",
    "</script>\n"
   ]
  }
 ],
 "metadata": {
  "kernelspec": {
   "display_name": "venv",
   "language": "python",
   "name": "python3"
  },
  "language_info": {
   "codemirror_mode": {
    "name": "ipython",
    "version": 3
   },
   "file_extension": ".py",
   "mimetype": "text/x-python",
   "name": "python",
   "nbconvert_exporter": "python",
   "pygments_lexer": "ipython3",
   "version": "3.12.6"
  }
 },
 "nbformat": 4,
 "nbformat_minor": 2
}
