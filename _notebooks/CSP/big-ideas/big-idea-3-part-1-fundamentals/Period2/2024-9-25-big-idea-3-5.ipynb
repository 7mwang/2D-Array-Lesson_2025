{
 "cells": [
  {
   "cell_type": "code",
   "execution_count": null,
   "metadata": {},
   "outputs": [],
   "source": [
    "# Overview of our content"
   ]
  },
  {
   "cell_type": "markdown",
   "metadata": {},
   "source": [
    "_3.5.1_Boolean Values in Python\n",
    "-Boolean Pythons \n",
    "-Rational Operators Python\n",
    "-Logical Operators Python\n",
    "\n",
    "_3.5.2_Boolean Values in Java\n",
    "-Boolean Java\n",
    "-Rational Operators Java\n",
    "-Logical Operators\n",
    "\n",
    "_3.5.3_Homework Hacks\n",
    "-Create Logic Gate Simulator in Python and Java\n",
    "\n",
    "_3.5.4_Popcorn Hacks\n",
    "-Contrapositive Law in Python and Java"
   ]
  }
 ],
 "metadata": {
  "language_info": {
   "name": "python"
  }
 },
 "nbformat": 4,
 "nbformat_minor": 2
}
