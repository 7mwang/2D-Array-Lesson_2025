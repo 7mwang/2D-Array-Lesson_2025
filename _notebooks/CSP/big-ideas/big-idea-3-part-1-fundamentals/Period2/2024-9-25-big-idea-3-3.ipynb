{
 "cells": [
  {
   "cell_type": "code",
   "execution_count": null,
   "metadata": {},
   "outputs": [],
   "source": [
    "# Overview of our content"
   ]
  },
  {
   "cell_type": "markdown",
   "metadata": {},
   "source": [
    "_3.3.1_ Mathematical Expressions\n",
    "-Mathematical Expressions Overview \n",
    "-Factorial Code Python \n",
    "-Geometry Test Simulation Python \n",
    "\n",
    "_3.3.2_Mathematical Operations\n",
    "-Mathematical Operations\n",
    "-Mathematical Operations Python Example\n",
    "\n",
    "_3.3.3_Popcorn Hacks\n",
    "-Fibonacci Sequence Practice \n",
    "\n",
    "_3.3.4_Homework Hack\n",
    "-Adding algorithms for the Fibonacci Sequence in python and java"
   ]
  }
 ],
 "metadata": {
  "language_info": {
   "name": "python"
  }
 },
 "nbformat": 4,
 "nbformat_minor": 2
}
