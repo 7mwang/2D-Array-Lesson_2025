{
 "cells": [
  {
   "cell_type": "raw",
   "metadata": {},
   "source": [
    "---\n",
    "toc: false\n",
    "comments: true\n",
    "layout: post\n",
    "title: 3.10.3 List Functions\n",
    "description: Student led teaching on Lists. Learn how storage and manipulation of multiple items using indexing to access individual elements.\n",
    "permalink: /csp/big-idea/p2/3-10-3\n",
    "categories: [CSP Big Ideas]\n",
    "author: Darsh\n",
    "menu: nav/csp_units/csp_unit3_p2_fundamentals.html\n",
    "---"
   ]
  },
  {
   "cell_type": "markdown",
   "metadata": {
    "vscode": {
     "languageId": "plaintext"
    }
   },
   "source": [
    "### Find Max and Min Numbers in a List\n",
    "\n",
    "This Python code defines a function to find the maximum and minimum numbers in a list.\n",
    "\n",
    "1. **Function**: `find_max_min(numbers)` takes a list and returns the max and min values.\n",
    "2. **Empty List Check**: Returns `(None, None)` if the list is empty.\n",
    "3. **Initialization**: Sets `max_num` and `min_num` to the first element.\n",
    "4. **Iteration**: Loops through the list to update `max_num` and `min_num`.\n",
    "5. **Example Usage**:\n",
    "\n",
    "```python\n",
    "numbers = [3, 1, 4, 1, 5, 9]\n",
    "max_num, min_num = find_max_min(numbers)\n",
    "print(f\"Max: {max_num}, Min: {min_num}\")\n"
   ]
  },
  {
   "cell_type": "code",
   "execution_count": 1,
   "metadata": {},
   "outputs": [
    {
     "name": "stdout",
     "output_type": "stream",
     "text": [
      "Maximum number: 9\n",
      "Minimum number: 1\n"
     ]
    }
   ],
   "source": [
    "def find_max_min(numbers):\n",
    "    if not numbers:\n",
    "        return None, None  # Return None if the list is empty\n",
    "    \n",
    "    max_num = numbers[0]  # Start with the first number as the max\n",
    "    min_num = numbers[0]  # Start with the first number as the min\n",
    "    \n",
    "    for num in numbers:\n",
    "        if num > max_num:\n",
    "            max_num = num  # Update max if a larger number is found\n",
    "        if num < min_num:\n",
    "            min_num = num  # Update min if a smaller number is found\n",
    "            \n",
    "    return max_num, min_num  # Return the found max and min\n",
    "\n",
    "# Example usage\n",
    "numbers = [3, 1, 4, 1, 5, 9, 2, 6, 5, 3, 5]\n",
    "max_num, min_num = find_max_min(numbers)\n",
    "\n",
    "print(f\"Maximum number: {max_num}\")\n",
    "print(f\"Minimum number: {min_num}\")\n"
   ]
  },
  {
   "cell_type": "markdown",
   "metadata": {},
   "source": [
    "### Iteration Through Loops in Python\n",
    "\n",
    "This code demonstrates how to iterate through a list using both a `for` loop and a `while` loop.\n",
    "\n",
    "1. **For Loop**: Iterates through each element in a list.\n",
    "2. **While Loop**: Continues until a condition is no longer met.\n",
    "\n",
    "#### Example Code:\n",
    "\n",
    "```python\n",
    "# List of numbers\n",
    "numbers = [1, 2, 3, 4, 5]\n",
    "\n",
    "# Using a for loop\n",
    "print(\"Using a for loop:\")\n",
    "for num in numbers:\n",
    "    print(num)\n",
    "\n",
    "# Using a while loop\n",
    "print(\"\\nUsing a while loop:\")\n",
    "index = 0\n",
    "while index < len(numbers):\n",
    "    print(numbers[index])\n",
    "    index += 1\n"
   ]
  },
  {
   "cell_type": "code",
   "execution_count": 2,
   "metadata": {},
   "outputs": [
    {
     "name": "stdout",
     "output_type": "stream",
     "text": [
      "Using a for loop:\n",
      "1\n",
      "2\n",
      "3\n",
      "4\n",
      "5\n",
      "\n",
      "Using a while loop:\n",
      "1\n",
      "2\n",
      "3\n",
      "4\n",
      "5\n"
     ]
    }
   ],
   "source": [
    "# List of numbers\n",
    "numbers = [1, 2, 3, 4, 5]\n",
    "\n",
    "# Using a for loop\n",
    "print(\"Using a for loop:\")\n",
    "for num in numbers:\n",
    "    print(num)\n",
    "\n",
    "# Using a while loop\n",
    "print(\"\\nUsing a while loop:\")\n",
    "index = 0\n",
    "while index < len(numbers):\n",
    "    print(numbers[index])\n",
    "    index += 1\n"
   ]
  },
  {
   "cell_type": "markdown",
   "metadata": {},
   "source": [
    "Another Example"
   ]
  },
  {
   "cell_type": "code",
   "execution_count": 3,
   "metadata": {},
   "outputs": [
    {
     "name": "stdout",
     "output_type": "stream",
     "text": [
      "Using a for loop:\n",
      "apple\n",
      "banana\n",
      "cherry\n",
      "date\n",
      "elderberry\n",
      "\n",
      "Using a while loop:\n",
      "apple\n",
      "banana\n",
      "cherry\n",
      "date\n",
      "elderberry\n"
     ]
    }
   ],
   "source": [
    "# List of fruits\n",
    "fruits = [\"apple\", \"banana\", \"cherry\", \"date\", \"elderberry\"]\n",
    "\n",
    "# Using a for loop\n",
    "print(\"Using a for loop:\")\n",
    "for fruit in fruits:\n",
    "    print(fruit)\n",
    "\n",
    "# Using a while loop\n",
    "print(\"\\nUsing a while loop:\")\n",
    "index = 0\n",
    "while index < len(fruits):\n",
    "    print(fruits[index])\n",
    "    index += 1\n",
    "    \n"
   ]
  },
  {
   "cell_type": "markdown",
   "metadata": {},
   "source": [
    "And here is a cool Rock, Paper, Scissors Game that uses iterations through the lists by using loops to find the right number"
   ]
  },
  {
   "cell_type": "code",
   "execution_count": 4,
   "metadata": {},
   "outputs": [
    {
     "data": {
      "text/html": [
       "\n",
       "    <div style=\"background-color: black; color: white; padding: 10px; border-radius: 5px;\">\n",
       "        <p>You chose: <strong>rock</strong></p>\n",
       "        <p>Computer chose: <strong>scissors</strong></p>\n",
       "        <p>You win!</p>\n",
       "    </div>\n",
       "    "
      ],
      "text/plain": [
       "<IPython.core.display.HTML object>"
      ]
     },
     "metadata": {},
     "output_type": "display_data"
    }
   ],
   "source": [
    "import random\n",
    "import ipywidgets as widgets\n",
    "from IPython.display import display, clear_output, HTML\n",
    "\n",
    "# Game choices\n",
    "choices = [\"rock\", \"paper\", \"scissors\"]\n",
    "\n",
    "# Function to determine the winner\n",
    "def determine_winner(player, computer):\n",
    "    if player == computer:\n",
    "        return \"It's a tie!\"\n",
    "    elif (player == \"rock\" and computer == \"scissors\") or \\\n",
    "         (player == \"paper\" and computer == \"rock\") or \\\n",
    "         (player == \"scissors\" and computer == \"paper\"):\n",
    "        return \"You win!\"\n",
    "    else:\n",
    "        return \"Computer wins!\"\n",
    "\n",
    "# Function to handle button clicks\n",
    "def on_button_click(choice):\n",
    "    computer_choice = random.choice(choices)\n",
    "    result = determine_winner(choice, computer_choice)\n",
    "    \n",
    "    # Clear previous output\n",
    "    clear_output(wait=True)\n",
    "    \n",
    "    # Display choices and result with dark theme\n",
    "    output_html = f\"\"\"\n",
    "    <div style=\"background-color: black; color: white; padding: 10px; border-radius: 5px;\">\n",
    "        <p>You chose: <strong>{choice}</strong></p>\n",
    "        <p>Computer chose: <strong>{computer_choice}</strong></p>\n",
    "        <p>{result}</p>\n",
    "    </div>\n",
    "    \"\"\"\n",
    "    \n",
    "    display(HTML(output_html))\n",
    "\n",
    "# Create buttons for each choice\n",
    "buttons = {choice: widgets.Button(description=choice.capitalize()) for choice in choices}\n",
    "\n",
    "# Set up the button click event\n",
    "for choice, button in buttons.items():\n",
    "    button.on_click(lambda b, choice=choice: on_button_click(choice))\n",
    "\n",
    "# Display buttons\n",
    "display(*buttons.values())\n",
    "\n"
   ]
  },
  {
   "cell_type": "markdown",
   "metadata": {},
   "source": [
    "## Popcorn Hack 1\n"
   ]
  },
  {
   "cell_type": "markdown",
   "metadata": {},
   "source": [
    "#### Random Meal Suggestion Generator\n",
    "\n",
    "This Python code creates a random meal suggestion by combining lists of main dishes and sides. It utilizes list comprehension and iteration to generate various meal combinations, and then selects one at random to display.\n",
    "\n",
    "#### Code\n",
    "\n",
    "```python\n",
    "import random\n",
    "\n",
    "# Define main dishes and sides\n",
    "main_dishes = ['Spaghetti', 'Tacos', 'Grilled Chicken', 'Stir Fry']\n",
    "sides = ['Salad', 'Rice', 'Garlic Bread', 'Steamed Vegetables']\n",
    "\n",
    "# Create meal combinations using iteration\n",
    "meal_combinations = [f\"{main} with {side}\" for main in main_dishes for side in sides]\n",
    "\n",
    "# Select and print a random meal combination\n",
    "print(random.choice(meal_combinations))\n",
    "\n"
   ]
  },
  {
   "cell_type": "markdown",
   "metadata": {},
   "source": [
    "##### The code below is an example of iteration of elements in a list and using the \"random.choice\" command, the code picks out a random element and pairs it with an element from another list in the code "
   ]
  },
  {
   "cell_type": "code",
   "execution_count": 5,
   "metadata": {},
   "outputs": [
    {
     "name": "stdout",
     "output_type": "stream",
     "text": [
      "Spaghetti with Garlic Bread\n"
     ]
    }
   ],
   "source": [
    "import random\n",
    "\n",
    "# Define main dishes and sides\n",
    "main_dishes = ['Spaghetti', 'Tacos', 'Grilled Chicken', 'Stir Fry']\n",
    "sides = ['Salad', 'Rice', 'Garlic Bread', 'Steamed Vegetables']\n",
    "\n",
    "# Create meal combinations using list comprehension\n",
    "meal_combinations = [f\"{main} with {side}\" for main in main_dishes for side in sides]\n",
    "\n",
    "# Print a random meal combination\n",
    "print(random.choice(meal_combinations))"
   ]
  },
  {
   "cell_type": "markdown",
   "metadata": {},
   "source": [
    "## Homework"
   ]
  },
  {
   "cell_type": "markdown",
   "metadata": {},
   "source": [
    "##### Create a list of your favortie hobbies and use loops to run through each list \n"
   ]
  }
 ],
 "metadata": {
  "kernelspec": {
   "display_name": "venv",
   "language": "python",
   "name": "python3"
  },
  "language_info": {
   "codemirror_mode": {
    "name": "ipython",
    "version": 3
   },
   "file_extension": ".py",
   "mimetype": "text/x-python",
   "name": "python",
   "nbconvert_exporter": "python",
   "pygments_lexer": "ipython3",
   "version": "3.12.3"
  }
 },
 "nbformat": 4,
 "nbformat_minor": 2
}
