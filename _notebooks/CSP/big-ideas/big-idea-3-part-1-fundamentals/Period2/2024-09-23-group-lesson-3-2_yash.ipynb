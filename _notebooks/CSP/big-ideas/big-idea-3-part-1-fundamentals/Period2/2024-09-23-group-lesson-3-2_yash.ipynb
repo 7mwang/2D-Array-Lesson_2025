{
 "cells": [
  {
   "cell_type": "raw",
   "metadata": {
    "vscode": {
     "languageId": "raw"
    }
   },
   "source": [
    "---\n",
    "toc: false\n",
    "comments: true\n",
    "layout: post\n",
    "title: 3.2 Lesson Period 2\n",
    "description: Student led teaching on Abstraction. Teaching how various data types can use abstraction for copmutational efficiency.\n",
    "permalink: /csp/big-idea/p2/3-2-1/\n",
    "categories: [CSP Big Ideas]\n",
    "author:  Nikhil Maturi, Yash Parikh, Neil Chandra, Rohan Bojja (P.2)\n",
    "menu: nav/csp_units/csp_unit3_p2_fundamentals.html\n",
    "---"
   ]
  },
  {
   "cell_type": "markdown",
   "metadata": {},
   "source": [
    "# Group Lesson 3.2\n",
    "#### Created by: Nikhil Maturi, Rohan Bojja, Neil Chandra, Yash Parikh"
   ]
  },
  {
   "cell_type": "markdown",
   "metadata": {},
   "source": [
    "## Dictionaries"
   ]
  },
  {
   "cell_type": "code",
   "execution_count": 9,
   "metadata": {},
   "outputs": [
    {
     "name": "stdout",
     "output_type": "stream",
     "text": [
      "\n",
      "The whole dictionary is:\n",
      "{'brand': 'Ford', 'model': 'Mustang', 'year': 1964}\n",
      "\n",
      "The value of the key 'brand' is:\n",
      "Ford\n",
      "\n",
      "The value of the key 'model' is:\n",
      "Mustang\n",
      "\n",
      "The value of the key 'year' is:\n",
      "1964\n"
     ]
    }
   ],
   "source": [
    "mydictionary = {\n",
    "  #key : value\n",
    "  \"brand\": \"Ford\",\n",
    "  \"model\": \"Mustang\",\n",
    "  \"year\": 1964\n",
    "}\n",
    "\n",
    "print(\"\\nThe whole dictionary is:\")\n",
    "print(mydictionary)\n",
    "\n",
    "print(\"\\nThe value of the key 'brand' is:\")\n",
    "     #dictionaryname[key]\n",
    "print(mydictionary[\"brand\"])\n",
    "\n",
    "\n",
    "print(\"\\nThe value of the key 'model' is:\")\n",
    "print(mydictionary[\"model\"])\n",
    "\n",
    "print(\"\\nThe value of the key 'year' is:\")\n",
    "print(mydictionary[\"year\"])"
   ]
  },
  {
   "cell_type": "markdown",
   "metadata": {},
   "source": [
    "## Sets"
   ]
  },
  {
   "cell_type": "code",
   "execution_count": 7,
   "metadata": {},
   "outputs": [
    {
     "name": "stdout",
     "output_type": "stream",
     "text": [
      "\n",
      "The whole set is:\n",
      "{'banana', 'apple', 'cherry'}\n",
      "\n",
      "The value of the index 0 is:\n",
      "banana\n",
      "apple\n",
      "cherry\n",
      "\n",
      "To add an orange:\n",
      "orange\n",
      "banana\n",
      "apple\n",
      "cherry\n",
      "\n",
      "To remove a banana:\n",
      "orange\n",
      "apple\n",
      "cherry\n"
     ]
    }
   ],
   "source": [
    "##Unordered, unchanged, indexed, no duplicate values\n",
    "\n",
    "myset = {\"apple\", \"banana\", \"cherry\"}\n",
    "\n",
    "print(\"\\nThe whole set is:\")\n",
    "print(myset)\n",
    "\n",
    "print(\"\\nThe value of the index 0 is:\")\n",
    "for i in myset:\n",
    "    print(i)\n",
    "\n",
    "print(\"\\nTo add an orange:\")\n",
    "myset.add(\"orange\")\n",
    "for i in myset:\n",
    "    print(i)\n",
    "\n",
    "print(\"\\nTo remove a banana:\")\n",
    "myset.remove(\"banana\")\n",
    "for i in myset:\n",
    "    print(i)"
   ]
  },
  {
   "cell_type": "markdown",
   "metadata": {},
   "source": [
    "## Boolean"
   ]
  },
  {
   "cell_type": "code",
   "execution_count": 26,
   "metadata": {},
   "outputs": [
    {
     "name": "stdout",
     "output_type": "stream",
     "text": [
      "print(10 > 9): True\n",
      "print(10 == 9): False\n",
      "print(10 < 9): False\n",
      "\n",
      "a is 200, b is 33\n",
      "b is not greater than a\n",
      "\n",
      "abc: True\n",
      "123: True\n",
      "[]: False\n",
      "[apple, cherry, banana]: True\n"
     ]
    }
   ],
   "source": [
    "print(\"print(10 > 9):\", 10 > 9)\n",
    "print(\"print(10 == 9):\", 10 == 9)\n",
    "print(\"print(10 < 9):\", 10 < 9)\n",
    "\n",
    "a = 200\n",
    "b = 33\n",
    "\n",
    "print(\"\\na is 200, b is 33\")\n",
    "\n",
    "if b > a:\n",
    "  print(\"b is greater than a\")\n",
    "else:\n",
    "  print(\"b is not greater than a\")\n",
    "\n",
    "#Almost any value is evaluated to True if it has some sort of content.\n",
    "#Any string is True, except empty strings.\n",
    "#Any number is True, except 0.\n",
    "#Any list, tuple, set, and dictionary are True, except empty ones.\n",
    "print(\"\\nabc:\", bool(\"abc\"))\n",
    "print(\"123:\", bool(123))\n",
    "print(\"[]:\", bool([]))\n",
    "print(\"[apple, cherry, banana]:\", bool([\"apple\", \"cherry\", \"banana\"]))"
   ]
  },
  {
   "cell_type": "markdown",
   "metadata": {},
   "source": [
    "## None"
   ]
  },
  {
   "cell_type": "code",
   "execution_count": 32,
   "metadata": {},
   "outputs": [
    {
     "name": "stdout",
     "output_type": "stream",
     "text": [
      "x = None\n",
      "Output of x: None\n",
      "So is x true, or is x false?\n",
      "None is not True, or False, None is just None...\n"
     ]
    }
   ],
   "source": [
    "print(\"x = None\")\n",
    "x = None\n",
    "print(\"Output of x:\", x)\n",
    "\n",
    "print(\"So is x true, or is x false?\")\n",
    "if x:\n",
    "  print(\"Do you think None is True?\")\n",
    "elif x is False:\n",
    "  print (\"Do you think None is False?\")\n",
    "else:\n",
    "  print(\"None is not True, or False, None is just None...\")\n"
   ]
  },
  {
   "cell_type": "code",
   "execution_count": null,
   "metadata": {},
   "outputs": [],
   "source": []
  }
 ],
 "metadata": {
  "kernelspec": {
   "display_name": "venv",
   "language": "python",
   "name": "python3"
  },
  "language_info": {
   "codemirror_mode": {
    "name": "ipython",
    "version": 3
   },
   "file_extension": ".py",
   "mimetype": "text/x-python",
   "name": "python",
   "nbconvert_exporter": "python",
   "pygments_lexer": "ipython3",
   "version": "3.12.3"
  }
 },
 "nbformat": 4,
 "nbformat_minor": 2
}
