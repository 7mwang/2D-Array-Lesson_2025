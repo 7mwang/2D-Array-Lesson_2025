{
 "cells": [
  {
   "cell_type": "raw",
   "metadata": {
    "vscode": {
     "languageId": "raw"
    }
   },
   "source": [
    "---\n",
    "layout: post\n",
    "title: Javascript Strings\n",
    "description: Gain and understanding of how strings work \n",
    "categories: [DevOps, Javascript]\n",
    "permalink: /csp/big-idea/p2/3-4-1\n",
    "menu: nav/csp_units/csp_unit3_p2_fundamentals.html\n",
    "author: Keerthan\n",
    "toc: true\n",
    "comments: true"
   ]
  },
  {
   "cell_type": "markdown",
   "metadata": {},
   "source": [
    "# Strings & Palindromes in Javascript"
   ]
  },
  {
   "cell_type": "code",
   "execution_count": 26,
   "metadata": {
    "vscode": {
     "languageId": "html"
    }
   },
   "outputs": [
    {
     "data": {
      "application/javascript": "<!-- Heading -->\n<h1 style=\"color: white; font-family: Arial, sans-serif; background-color: black;\">Strings in Java</h1>\n\n<!-- Explanation Section -->\n<p style=\"font-family: Arial, sans-serif; line-height: 1.6; color: white; background-color: black;\">\n  A <strong>string</strong> is an ordered sequence of characters. In programming, a string can contain letters, numbers, spaces, and even special characters. Strings are used to represent text in many programming languages.\n</p>\n\n<p style=\"font-family: Arial, sans-serif; line-height: 1.6; color: white; background-color: black;\">\n  Strings can also have procedures and methods that perform operations like finding their length, combining multiple strings (concatenation), or extracting parts of them (substrings).\n</p>\n\n<!-- len() Example -->\n<h3 style=\"font-family: Arial, sans-serif; color: white; background-color: black;\">\n  Example 1: Finding the Length of a String using <code>length()</code> in Java\n</h3>\n<p style=\"font-family: Arial, sans-serif; color: white; background-color: black;\">\n  In Java, we can use the <code style=\"background-color: black; color: white;\">length()</code> method to find out how many characters a string contains. This includes letters, spaces, and numbers.\n</p>\n\n<pre style=\"background-color: black; padding: 10px; border-radius: 4px; color: white;\">\n<code>\npublic class StringLengthExample {\n    public static void main(String[] args) {\n        String example = \"APCSP\";\n        // Finding the length of the string\n        int length = example.length();\n        \n        // Output the result\n        System.out.println(\"The length of the string \\\"APCSP\\\" is: \" + length);\n    }\n}\n</code>\n</pre>\n\n<p style=\"font-family: Arial, sans-serif; color: white; background-color: black;\">\n  In this example, <code style=\"background-color: black; color: white;\">example.length()</code> returns the number of characters in the string <code style=\"background-color: black; color: white;\">\"APCSP\"</code>, which is 5.\n</p>\n\n<!-- concat() Example -->\n<h3 style=\"font-family: Arial, sans-serif; color: white; background-color: black;\">\n  Example 2: Concatenating Strings using <code>concat()</code> in Java\n</h3>\n<p style=\"font-family: Arial, sans-serif; color: white; background-color: black;\">\n  The <code style=\"background-color: black; color: white;\">concat()</code> method is used to combine two strings into one. You can also use the <code style=\"background-color: black; color: white;\">+</code> operator for this purpose.\n</p>\n\n<pre style=\"background-color: black; padding: 10px; border-radius: 4px; color: white;\">\n<code>\npublic class StringConcatExample {\n    public static void main(String[] args) {\n        String part1 = \"AP\";\n        String part2 = \"CSP\";\n        \n        // Concatenating the two strings\n        String result = part1 + part2;\n        \n        // Output the result\n        System.out.println(\"The concatenated string is: \" + result);\n    }\n}\n</code>\n</pre>\n\n<p style=\"font-family: Arial, sans-serif; color: white; background-color: black;\">\n  In this example, <code style=\"background-color: black; color: white;\">part1 + part2</code> merges the strings <code style=\"background-color: black; color: white;\">\"AP\"</code> and <code style=\"background-color: black; color: white;\">\"CSP\"</code> into one string, resulting in <code style=\"background-color: black; color: white;\">\"APCSP\"</code>.\n</p>\n",
      "text/plain": [
       "<IPython.core.display.Javascript object>"
      ]
     },
     "metadata": {},
     "output_type": "display_data"
    }
   ],
   "source": [
    "%%javascript\n",
    "<!-- Heading -->\n",
    "<h1 style=\"color: white; font-family: Arial, sans-serif; background-color: black;\">Strings in Java</h1>\n",
    "\n",
    "<!-- Explanation Section -->\n",
    "<p style=\"font-family: Arial, sans-serif; line-height: 1.6; color: white; background-color: black;\">\n",
    "  A <strong>string</strong> is an ordered sequence of characters. In programming, a string can contain letters, numbers, spaces, and even special characters. Strings are used to represent text in many programming languages.\n",
    "</p>\n",
    "\n",
    "<p style=\"font-family: Arial, sans-serif; line-height: 1.6; color: white; background-color: black;\">\n",
    "  Strings can also have procedures and methods that perform operations like finding their length, combining multiple strings (concatenation), or extracting parts of them (substrings).\n",
    "</p>\n",
    "\n",
    "<!-- len() Example -->\n",
    "<h3 style=\"font-family: Arial, sans-serif; color: white; background-color: black;\">\n",
    "  Example 1: Finding the Length of a String using <code>length()</code> in Java\n",
    "</h3>\n",
    "<p style=\"font-family: Arial, sans-serif; color: white; background-color: black;\">\n",
    "  In Java, we can use the <code style=\"background-color: black; color: white;\">length()</code> method to find out how many characters a string contains. This includes letters, spaces, and numbers.\n",
    "</p>\n",
    "\n",
    "<pre style=\"background-color: black; padding: 10px; border-radius: 4px; color: white;\">\n",
    "<code>\n",
    "public class StringLengthExample {\n",
    "    public static void main(String[] args) {\n",
    "        String example = \"APCSP\";\n",
    "        // Finding the length of the string\n",
    "        int length = example.length();\n",
    "        \n",
    "        // Output the result\n",
    "        System.out.println(\"The length of the string \\\"APCSP\\\" is: \" + length);\n",
    "    }\n",
    "}\n",
    "</code>\n",
    "</pre>\n",
    "\n",
    "<p style=\"font-family: Arial, sans-serif; color: white; background-color: black;\">\n",
    "  In this example, <code style=\"background-color: black; color: white;\">example.length()</code> returns the number of characters in the string <code style=\"background-color: black; color: white;\">\"APCSP\"</code>, which is 5.\n",
    "</p>\n",
    "\n",
    "<!-- concat() Example -->\n",
    "<h3 style=\"font-family: Arial, sans-serif; color: white; background-color: black;\">\n",
    "  Example 2: Concatenating Strings using <code>concat()</code> in Java\n",
    "</h3>\n",
    "<p style=\"font-family: Arial, sans-serif; color: white; background-color: black;\">\n",
    "  The <code style=\"background-color: black; color: white;\">concat()</code> method is used to combine two strings into one. You can also use the <code style=\"background-color: black; color: white;\">+</code> operator for this purpose.\n",
    "</p>\n",
    "\n",
    "<pre style=\"background-color: black; padding: 10px; border-radius: 4px; color: white;\">\n",
    "<code>\n",
    "public class StringConcatExample {\n",
    "    public static void main(String[] args) {\n",
    "        String part1 = \"AP\";\n",
    "        String part2 = \"CSP\";\n",
    "        \n",
    "        // Concatenating the two strings\n",
    "        String result = part1 + part2;\n",
    "        \n",
    "        // Output the result\n",
    "        System.out.println(\"The concatenated string is: \" + result);\n",
    "    }\n",
    "}\n",
    "</code>\n",
    "</pre>\n",
    "\n",
    "<p style=\"font-family: Arial, sans-serif; color: white; background-color: black;\">\n",
    "  In this example, <code style=\"background-color: black; color: white;\">part1 + part2</code> merges the strings <code style=\"background-color: black; color: white;\">\"AP\"</code> and <code style=\"background-color: black; color: white;\">\"CSP\"</code> into one string, resulting in <code style=\"background-color: black; color: white;\">\"APCSP\"</code>.\n",
    "</p>\n"
   ]
  },
  {
   "cell_type": "code",
   "execution_count": 27,
   "metadata": {
    "vscode": {
     "languageId": "html"
    }
   },
   "outputs": [
    {
     "data": {
      "application/javascript": "<!-- Heading -->\n<h1 style=\"color: white; font-family: Arial, sans-serif; background-color: black;\">Popcorn #4 Hack</h1>\n\n<!-- Body Text Explanation -->\n<p style=\"font-family: Arial, sans-serif; line-height: 1.6; color: white; background-color: black;\">\n    This hack will help you practice string manipulation in Java. You will:\n</p>\n\n<ul style=\"font-family: Arial, sans-serif; line-height: 1.6; color: white; background-color: black;\">\n    <li>Find the number of characters in your last name using <code style=\"background-color: black; color: white;\">length()</code>.</li>\n    <li>Concatenate your first and last name together using the <code style=\"background-color: black; color: white;\">+</code> operator.</li>\n    <li>Use the <code style=\"background-color: black; color: white;\">substring()</code> method to extract characters from the 3rd to the 6th position of your concatenated name.</li>\n</ul>\n\n<!-- Java Code for the Hack -->\n<h3 style=\"font-family: Arial, sans-serif; color: white; background-color: black;\">Java Code:</h3>\n\n<pre style=\"background-color: black; padding: 10px; border-radius: 4px; color: white;\">\n<code>\npublic class PopcornHack4 {\n    public static void main(String[] args) {\n        // Find the number of characters in your last name\n        String lastName = \"Bharadwaj\";\n        int length = lastName.length();\n        System.out.println(\"The number of characters in your last name is: \" + length);\n\n        // Concatenate your first and last names together\n        String firstName = \"Aditi\";\n        String fullName = firstName + lastName;\n        System.out.println(\"Your full name is: \" + fullName);\n\n        // Use substring to show only the 3rd to 6th characters (index 2 to 6)\n        String substring = fullName.substring(2, 6);\n        System.out.println(\"Substring (3rd to 6th characters): \" + substring);\n    }\n}\n</code>\n</pre>\n\n<p style=\"font-family: Arial, sans-serif; color: white; background-color: black;\">\n    In this example, <code style=\"background-color: black; color: white;\">length()</code> is used to find the number of characters in the last name, <code style=\"background-color: black; color: white;\">+</code> is used to concatenate the first and last names, and <code style=\"background-color: black; color: white;\">substring()</code> extracts the 3rd to 6th characters of the concatenated string.\n</p>\n",
      "text/plain": [
       "<IPython.core.display.Javascript object>"
      ]
     },
     "metadata": {},
     "output_type": "display_data"
    }
   ],
   "source": [
    "%%javascript\n",
    "<!-- Heading -->\n",
    "<h1 style=\"color: white; font-family: Arial, sans-serif; background-color: black;\">Popcorn #4 Hack</h1>\n",
    "\n",
    "<!-- Body Text Explanation -->\n",
    "<p style=\"font-family: Arial, sans-serif; line-height: 1.6; color: white; background-color: black;\">\n",
    "    This hack will help you practice string manipulation in Java. You will:\n",
    "</p>\n",
    "\n",
    "<ul style=\"font-family: Arial, sans-serif; line-height: 1.6; color: white; background-color: black;\">\n",
    "    <li>Find the number of characters in your last name using <code style=\"background-color: black; color: white;\">length()</code>.</li>\n",
    "    <li>Concatenate your first and last name together using the <code style=\"background-color: black; color: white;\">+</code> operator.</li>\n",
    "    <li>Use the <code style=\"background-color: black; color: white;\">substring()</code> method to extract characters from the 3rd to the 6th position of your concatenated name.</li>\n",
    "</ul>\n",
    "\n",
    "<!-- Java Code for the Hack -->\n",
    "<h3 style=\"font-family: Arial, sans-serif; color: white; background-color: black;\">Java Code:</h3>\n",
    "\n",
    "<pre style=\"background-color: black; padding: 10px; border-radius: 4px; color: white;\">\n",
    "<code>\n",
    "public class PopcornHack4 {\n",
    "    public static void main(String[] args) {\n",
    "        // Find the number of characters in your last name\n",
    "        String lastName = \"Bharadwaj\";\n",
    "        int length = lastName.length();\n",
    "        System.out.println(\"The number of characters in your last name is: \" + length);\n",
    "\n",
    "        // Concatenate your first and last names together\n",
    "        String firstName = \"Aditi\";\n",
    "        String fullName = firstName + lastName;\n",
    "        System.out.println(\"Your full name is: \" + fullName);\n",
    "\n",
    "        // Use substring to show only the 3rd to 6th characters (index 2 to 6)\n",
    "        String substring = fullName.substring(2, 6);\n",
    "        System.out.println(\"Substring (3rd to 6th characters): \" + substring);\n",
    "    }\n",
    "}\n",
    "</code>\n",
    "</pre>\n",
    "\n",
    "<p style=\"font-family: Arial, sans-serif; color: white; background-color: black;\">\n",
    "    In this example, <code style=\"background-color: black; color: white;\">length()</code> is used to find the number of characters in the last name, <code style=\"background-color: black; color: white;\">+</code> is used to concatenate the first and last names, and <code style=\"background-color: black; color: white;\">substring()</code> extracts the 3rd to 6th characters of the concatenated string.\n",
    "</p>\n"
   ]
  },
  {
   "cell_type": "code",
   "execution_count": 28,
   "metadata": {
    "vscode": {
     "languageId": "html"
    }
   },
   "outputs": [
    {
     "data": {
      "application/javascript": "<!-- Heading -->\n<h1 style=\"color: white; font-family: Arial, sans-serif; background-color: black;\">Palindromes in Java</h1>\n\n<!-- Body Text -->\n<p style=\"font-family: Arial, sans-serif; line-height: 1.6; color: white; background-color: black;\">\n    A <strong>palindrome</strong> is a sequence of characters that reads the same forward as it does backward. This applies to strings, numbers, or phrases. When working with palindromes in coding, we typically ignore spaces, punctuation, and case sensitivity.\n</p>\n\n<p style=\"font-family: Arial, sans-serif; line-height: 1.6; color: white; background-color: black;\">\n    For example, the following are palindromes:\n</p>\n\n<ul style=\"font-family: Arial, sans-serif; line-height: 1.6; color: white; background-color: black;\">\n    <li><code style=\"background-color: black; color: white;\">madam</code></li>\n    <li><code style=\"background-color: black; color: white;\">racecar</code></li>\n    <li><code style=\"background-color: black; color: white;\">121</code></li>\n    <li><code style=\"background-color: black; color: white;\">A man a plan a canal Panama</code> (ignoring spaces and capitalization)</li>\n</ul>\n\n<p style=\"font-family: Arial, sans-serif; line-height: 1.6; color: white; background-color: black;\">\n    In programming, we can write a function that checks if a string is a palindrome by:\n</p>\n\n<ol style=\"font-family: Arial, sans-serif; line-height: 1.6; color: white; background-color: black;\">\n    <li>Removing any spaces and punctuation from the string.</li>\n    <li>Converting all characters to lowercase.</li>\n    <li>Comparing the string to its reversed version.</li>\n</ol>\n\n<!-- Example Code -->\n<p style=\"font-family: Arial, sans-serif; color: white; background-color: black;\">\n    Here’s an example of how this can be done in Java:\n</p>\n\n<pre style=\"background-color: black; padding: 10px; border-radius: 4px; color: white;\">\n<code>\npublic class PalindromeChecker {\n    \n    // Function to check if a string is a palindrome\n    public static boolean isPalindrome(String str) {\n        // Step 1: Remove non-alphanumeric characters and convert to lowercase\n        String cleanedStr = str.replaceAll(\"[^A-Za-z0-9]\", \"\").toLowerCase();\n\n        // Step 2: Reverse the cleaned string\n        String reversedStr = new StringBuilder(cleanedStr).reverse().toString();\n\n        // Step 3: Compare the cleaned string with its reverse\n        return cleanedStr.equals(reversedStr);\n    }\n\n    public static void main(String[] args) {\n        // Test cases\n        System.out.println(isPalindrome(\"A man a plan a canal Panama\"));  // Output: true\n        System.out.println(isPalindrome(\"hello\"));  // Output: false\n    }\n}\n</code>\n</pre>\n\n<p style=\"font-family: Arial, sans-serif; color: white; background-color: black;\">\n    This Java function works by cleaning the input string, reversing it, and then comparing it to the original cleaned version to check if it's a palindrome.\n</p>\n",
      "text/plain": [
       "<IPython.core.display.Javascript object>"
      ]
     },
     "metadata": {},
     "output_type": "display_data"
    }
   ],
   "source": [
    "%%javascript\n",
    "<!-- Heading -->\n",
    "<h1 style=\"color: white; font-family: Arial, sans-serif; background-color: black;\">Palindromes in Java</h1>\n",
    "\n",
    "<!-- Body Text -->\n",
    "<p style=\"font-family: Arial, sans-serif; line-height: 1.6; color: white; background-color: black;\">\n",
    "    A <strong>palindrome</strong> is a sequence of characters that reads the same forward as it does backward. This applies to strings, numbers, or phrases. When working with palindromes in coding, we typically ignore spaces, punctuation, and case sensitivity.\n",
    "</p>\n",
    "\n",
    "<p style=\"font-family: Arial, sans-serif; line-height: 1.6; color: white; background-color: black;\">\n",
    "    For example, the following are palindromes:\n",
    "</p>\n",
    "\n",
    "<ul style=\"font-family: Arial, sans-serif; line-height: 1.6; color: white; background-color: black;\">\n",
    "    <li><code style=\"background-color: black; color: white;\">madam</code></li>\n",
    "    <li><code style=\"background-color: black; color: white;\">racecar</code></li>\n",
    "    <li><code style=\"background-color: black; color: white;\">121</code></li>\n",
    "    <li><code style=\"background-color: black; color: white;\">A man a plan a canal Panama</code> (ignoring spaces and capitalization)</li>\n",
    "</ul>\n",
    "\n",
    "<p style=\"font-family: Arial, sans-serif; line-height: 1.6; color: white; background-color: black;\">\n",
    "    In programming, we can write a function that checks if a string is a palindrome by:\n",
    "</p>\n",
    "\n",
    "<ol style=\"font-family: Arial, sans-serif; line-height: 1.6; color: white; background-color: black;\">\n",
    "    <li>Removing any spaces and punctuation from the string.</li>\n",
    "    <li>Converting all characters to lowercase.</li>\n",
    "    <li>Comparing the string to its reversed version.</li>\n",
    "</ol>\n",
    "\n",
    "<!-- Example Code -->\n",
    "<p style=\"font-family: Arial, sans-serif; color: white; background-color: black;\">\n",
    "    Here’s an example of how this can be done in Java:\n",
    "</p>\n",
    "\n",
    "<pre style=\"background-color: black; padding: 10px; border-radius: 4px; color: white;\">\n",
    "<code>\n",
    "public class PalindromeChecker {\n",
    "    \n",
    "    // Function to check if a string is a palindrome\n",
    "    public static boolean isPalindrome(String str) {\n",
    "        // Step 1: Remove non-alphanumeric characters and convert to lowercase\n",
    "        String cleanedStr = str.replaceAll(\"[^A-Za-z0-9]\", \"\").toLowerCase();\n",
    "\n",
    "        // Step 2: Reverse the cleaned string\n",
    "        String reversedStr = new StringBuilder(cleanedStr).reverse().toString();\n",
    "\n",
    "        // Step 3: Compare the cleaned string with its reverse\n",
    "        return cleanedStr.equals(reversedStr);\n",
    "    }\n",
    "\n",
    "    public static void main(String[] args) {\n",
    "        // Test cases\n",
    "        System.out.println(isPalindrome(\"A man a plan a canal Panama\"));  // Output: true\n",
    "        System.out.println(isPalindrome(\"hello\"));  // Output: false\n",
    "    }\n",
    "}\n",
    "</code>\n",
    "</pre>\n",
    "\n",
    "<p style=\"font-family: Arial, sans-serif; color: white; background-color: black;\">\n",
    "    This Java function works by cleaning the input string, reversing it, and then comparing it to the original cleaned version to check if it's a palindrome.\n",
    "</p>\n"
   ]
  },
  {
   "cell_type": "code",
   "execution_count": 29,
   "metadata": {
    "vscode": {
     "languageId": "html"
    }
   },
   "outputs": [
    {
     "data": {
      "application/javascript": "<!-- Heading -->\n<h1 style=\"color: white; font-family: Arial, sans-serif; background-color: black;\">Palindromes in Java</h1>\n\n<!-- Body Text -->\n<p style=\"font-family: Arial, sans-serif; line-height: 1.6; color: white; background-color: black;\">\n    A <strong>palindrome</strong> is a sequence of characters that reads the same forward as it does backward. This applies to strings, numbers, or phrases. When working with palindromes in coding, we typically ignore spaces, punctuation, and case sensitivity.\n</p>\n\n<p style=\"font-family: Arial, sans-serif; line-height: 1.6; color: white; background-color: black;\">\n    For example, the following are palindromes:\n</p>\n\n<ul style=\"font-family: Arial, sans-serif; line-height: 1.6; color: white; background-color: black;\">\n    <li><code style=\"background-color: black; color: white;\">madam</code></li>\n    <li><code style=\"background-color: black; color: white;\">racecar</code></li>\n    <li><code style=\"background-color: black; color: white;\">121</code></li>\n    <li><code style=\"background-color: black; color: white;\">A man a plan a canal Panama</code> (ignoring spaces and capitalization)</li>\n</ul>\n\n<p style=\"font-family: Arial, sans-serif; line-height: 1.6; color: white; background-color: black;\">\n    In programming, we can write a function that checks if a string is a palindrome by:\n</p>\n\n<ol style=\"font-family: Arial, sans-serif; line-height: 1.6; color: white; background-color: black;\">\n    <li>Removing any spaces and punctuation from the string.</li>\n    <li>Converting all characters to lowercase.</li>\n    <li>Comparing the string to its reversed version.</li>\n</ol>\n\n<!-- Example Code -->\n<p style=\"font-family: Arial, sans-serif; color: white; background-color: black;\">\n    Here’s an example of how this can be done in Java:\n</p>\n\n<pre style=\"background-color: black; padding: 10px; border-radius: 4px; color: white;\">\n<code>\npublic class PalindromeChecker {\n    \n    // Function to check if a string is a palindrome\n    public static boolean isPalindrome(String str) {\n        // Step 1: Remove non-alphanumeric characters and convert to lowercase\n        String cleanedStr = str.replaceAll(\"[^A-Za-z0-9]\", \"\").toLowerCase();\n\n        // Step 2: Reverse the cleaned string\n        String reversedStr = new StringBuilder(cleanedStr).reverse().toString();\n\n        // Step 3: Compare the cleaned string with its reverse\n        return cleanedStr.equals(reversedStr);\n    }\n\n    public static void main(String[] args) {\n        // Test cases\n        System.out.println(isPalindrome(\"A man a plan a canal Panama\"));  // Output: true\n        System.out.println(isPalindrome(\"hello\"));  // Output: false\n    }\n}\n</code>\n</pre>\n\n<p style=\"font-family: Arial, sans-serif; color: white; background-color: black;\">\n    This Java function works by cleaning the input string, reversing it, and then comparing it to the original cleaned version to check if it's a palindrome.\n</p>\n",
      "text/plain": [
       "<IPython.core.display.Javascript object>"
      ]
     },
     "metadata": {},
     "output_type": "display_data"
    }
   ],
   "source": [
    "%%javascript\n",
    "<!-- Heading -->\n",
    "<h1 style=\"color: white; font-family: Arial, sans-serif; background-color: black;\">Palindromes in Java</h1>\n",
    "\n",
    "<!-- Body Text -->\n",
    "<p style=\"font-family: Arial, sans-serif; line-height: 1.6; color: white; background-color: black;\">\n",
    "    A <strong>palindrome</strong> is a sequence of characters that reads the same forward as it does backward. This applies to strings, numbers, or phrases. When working with palindromes in coding, we typically ignore spaces, punctuation, and case sensitivity.\n",
    "</p>\n",
    "\n",
    "<p style=\"font-family: Arial, sans-serif; line-height: 1.6; color: white; background-color: black;\">\n",
    "    For example, the following are palindromes:\n",
    "</p>\n",
    "\n",
    "<ul style=\"font-family: Arial, sans-serif; line-height: 1.6; color: white; background-color: black;\">\n",
    "    <li><code style=\"background-color: black; color: white;\">madam</code></li>\n",
    "    <li><code style=\"background-color: black; color: white;\">racecar</code></li>\n",
    "    <li><code style=\"background-color: black; color: white;\">121</code></li>\n",
    "    <li><code style=\"background-color: black; color: white;\">A man a plan a canal Panama</code> (ignoring spaces and capitalization)</li>\n",
    "</ul>\n",
    "\n",
    "<p style=\"font-family: Arial, sans-serif; line-height: 1.6; color: white; background-color: black;\">\n",
    "    In programming, we can write a function that checks if a string is a palindrome by:\n",
    "</p>\n",
    "\n",
    "<ol style=\"font-family: Arial, sans-serif; line-height: 1.6; color: white; background-color: black;\">\n",
    "    <li>Removing any spaces and punctuation from the string.</li>\n",
    "    <li>Converting all characters to lowercase.</li>\n",
    "    <li>Comparing the string to its reversed version.</li>\n",
    "</ol>\n",
    "\n",
    "<!-- Example Code -->\n",
    "<p style=\"font-family: Arial, sans-serif; color: white; background-color: black;\">\n",
    "    Here’s an example of how this can be done in Java:\n",
    "</p>\n",
    "\n",
    "<pre style=\"background-color: black; padding: 10px; border-radius: 4px; color: white;\">\n",
    "<code>\n",
    "public class PalindromeChecker {\n",
    "    \n",
    "    // Function to check if a string is a palindrome\n",
    "    public static boolean isPalindrome(String str) {\n",
    "        // Step 1: Remove non-alphanumeric characters and convert to lowercase\n",
    "        String cleanedStr = str.replaceAll(\"[^A-Za-z0-9]\", \"\").toLowerCase();\n",
    "\n",
    "        // Step 2: Reverse the cleaned string\n",
    "        String reversedStr = new StringBuilder(cleanedStr).reverse().toString();\n",
    "\n",
    "        // Step 3: Compare the cleaned string with its reverse\n",
    "        return cleanedStr.equals(reversedStr);\n",
    "    }\n",
    "\n",
    "    public static void main(String[] args) {\n",
    "        // Test cases\n",
    "        System.out.println(isPalindrome(\"A man a plan a canal Panama\"));  // Output: true\n",
    "        System.out.println(isPalindrome(\"hello\"));  // Output: false\n",
    "    }\n",
    "}\n",
    "</code>\n",
    "</pre>\n",
    "\n",
    "<p style=\"font-family: Arial, sans-serif; color: white; background-color: black;\">\n",
    "    This Java function works by cleaning the input string, reversing it, and then comparing it to the original cleaned version to check if it's a palindrome.\n",
    "</p>\n"
   ]
  },
  {
   "cell_type": "code",
   "execution_count": 30,
   "metadata": {
    "vscode": {
     "languageId": "html"
    }
   },
   "outputs": [
    {
     "data": {
      "application/javascript": "<!-- Heading -->\n<h1 style=\"color: white; font-family: Arial, sans-serif; background-color: black;\">Text Analyzer Hack</h1>\n\n<!-- Body Text Explanation -->\n<p style=\"font-family: Arial, sans-serif; line-height: 1.6; color: white; background-color: black;\">\n    This hack creates a <strong>text analyzer</strong> that processes a string input and provides useful information about it. Specifically, the program will:\n</p>\n\n<ul style=\"font-family: Arial, sans-serif; line-height: 1.6; color: white; background-color: black;\">\n    <li>Count the total number of characters in the string, including spaces and numbers.</li>\n    <li>Count the number of vowels (a, e, i, o, u) in the string.</li>\n    <li>Calculate the average length of the words in the string.</li>\n    <li>Ensure that the program handles both uppercase and lowercase characters.</li>\n</ul>\n\n<p style=\"font-family: Arial, sans-serif; line-height: 1.6; color: white; background-color: black;\">\n    The text analyzer is useful for understanding the basic structure of any input string and can easily be extended to add more features, like finding palindromes in the input.\n</p>\n\n<!-- Java Code for Text Analyzer -->\n<p style=\"font-family: Arial, sans-serif; color: white; background-color: black;\">\n    Here’s the Java code for the text analyzer:\n</p>\n\n<pre style=\"background-color: black; padding: 10px; border-radius: 4px; color: white;\">\n<code>\nimport java.util.Scanner;\n\npublic class TextAnalyzer {\n\n    // Method to count the vowels in a string\n    public static int countVowels(String str) {\n        int vowelCount = 0;\n        str = str.toLowerCase();\n        for (int i = 0; i < str.length(); i++) {\n            char ch = str.charAt(i);\n            if (ch == 'a' || ch == 'e' || ch == 'i' || ch == 'o' || ch == 'u') {\n                vowelCount++;\n            }\n        }\n        return vowelCount;\n    }\n\n    // Method to calculate the average word length\n    public static double averageWordLength(String str) {\n        String[] words = str.split(\"\\\\s+\");\n        int totalLength = 0;\n        for (String word : words) {\n            totalLength += word.length();\n        }\n        return (double) totalLength / words.length;\n    }\n\n    public static void main(String[] args) {\n        Scanner scanner = new Scanner(System.in);\n        \n        // Step 1: Accept user input\n        System.out.println(\"Enter a string: \");\n        String input = scanner.nextLine();\n        \n        // Step 2: Count total characters (including spaces and numbers)\n        int totalCharacters = input.length();\n\n        // Step 3: Count total vowels\n        int totalVowels = countVowels(input);\n\n        // Step 4: Calculate average word length\n        double avgWordLength = averageWordLength(input);\n\n        // Output the results\n        System.out.println(\"Total Characters (including spaces): \" + totalCharacters);\n        System.out.println(\"Total Vowels: \" + totalVowels);\n        System.out.println(\"Average Word Length: \" + String.format(\"%.2f\", avgWordLength));\n\n        scanner.close();\n    }\n}\n</code>\n</pre>\n\n<p style=\"font-family: Arial, sans-serif; color: white; background-color: black;\">\n    Here’s how the program works:\n</p>\n\n<ul style=\"font-family: Arial, sans-serif; line-height: 1.6; color: white; background-color: black;\">\n    <li>The program accepts input from the user.</li>\n    <li>It then counts the total number of characters in the input string, including spaces.</li>\n    <li>The number of vowels is counted by iterating through the string and checking for characters a, e, i, o, u (in both uppercase and lowercase).</li>\n    <li>The average word length is calculated by splitting the string into words and dividing the total length of all words by the number of words.</li>\n</ul>\n",
      "text/plain": [
       "<IPython.core.display.Javascript object>"
      ]
     },
     "metadata": {},
     "output_type": "display_data"
    }
   ],
   "source": [
    "%%javascript\n",
    "<!-- Heading -->\n",
    "<h1 style=\"color: white; font-family: Arial, sans-serif; background-color: black;\">Text Analyzer Hack</h1>\n",
    "\n",
    "<!-- Body Text Explanation -->\n",
    "<p style=\"font-family: Arial, sans-serif; line-height: 1.6; color: white; background-color: black;\">\n",
    "    This hack creates a <strong>text analyzer</strong> that processes a string input and provides useful information about it. Specifically, the program will:\n",
    "</p>\n",
    "\n",
    "<ul style=\"font-family: Arial, sans-serif; line-height: 1.6; color: white; background-color: black;\">\n",
    "    <li>Count the total number of characters in the string, including spaces and numbers.</li>\n",
    "    <li>Count the number of vowels (a, e, i, o, u) in the string.</li>\n",
    "    <li>Calculate the average length of the words in the string.</li>\n",
    "    <li>Ensure that the program handles both uppercase and lowercase characters.</li>\n",
    "</ul>\n",
    "\n",
    "<p style=\"font-family: Arial, sans-serif; line-height: 1.6; color: white; background-color: black;\">\n",
    "    The text analyzer is useful for understanding the basic structure of any input string and can easily be extended to add more features, like finding palindromes in the input.\n",
    "</p>\n",
    "\n",
    "<!-- Java Code for Text Analyzer -->\n",
    "<p style=\"font-family: Arial, sans-serif; color: white; background-color: black;\">\n",
    "    Here’s the Java code for the text analyzer:\n",
    "</p>\n",
    "\n",
    "<pre style=\"background-color: black; padding: 10px; border-radius: 4px; color: white;\">\n",
    "<code>\n",
    "import java.util.Scanner;\n",
    "\n",
    "public class TextAnalyzer {\n",
    "\n",
    "    // Method to count the vowels in a string\n",
    "    public static int countVowels(String str) {\n",
    "        int vowelCount = 0;\n",
    "        str = str.toLowerCase();\n",
    "        for (int i = 0; i < str.length(); i++) {\n",
    "            char ch = str.charAt(i);\n",
    "            if (ch == 'a' || ch == 'e' || ch == 'i' || ch == 'o' || ch == 'u') {\n",
    "                vowelCount++;\n",
    "            }\n",
    "        }\n",
    "        return vowelCount;\n",
    "    }\n",
    "\n",
    "    // Method to calculate the average word length\n",
    "    public static double averageWordLength(String str) {\n",
    "        String[] words = str.split(\"\\\\s+\");\n",
    "        int totalLength = 0;\n",
    "        for (String word : words) {\n",
    "            totalLength += word.length();\n",
    "        }\n",
    "        return (double) totalLength / words.length;\n",
    "    }\n",
    "\n",
    "    public static void main(String[] args) {\n",
    "        Scanner scanner = new Scanner(System.in);\n",
    "        \n",
    "        // Step 1: Accept user input\n",
    "        System.out.println(\"Enter a string: \");\n",
    "        String input = scanner.nextLine();\n",
    "        \n",
    "        // Step 2: Count total characters (including spaces and numbers)\n",
    "        int totalCharacters = input.length();\n",
    "\n",
    "        // Step 3: Count total vowels\n",
    "        int totalVowels = countVowels(input);\n",
    "\n",
    "        // Step 4: Calculate average word length\n",
    "        double avgWordLength = averageWordLength(input);\n",
    "\n",
    "        // Output the results\n",
    "        System.out.println(\"Total Characters (including spaces): \" + totalCharacters);\n",
    "        System.out.println(\"Total Vowels: \" + totalVowels);\n",
    "        System.out.println(\"Average Word Length: \" + String.format(\"%.2f\", avgWordLength));\n",
    "\n",
    "        scanner.close();\n",
    "    }\n",
    "}\n",
    "</code>\n",
    "</pre>\n",
    "\n",
    "<p style=\"font-family: Arial, sans-serif; color: white; background-color: black;\">\n",
    "    Here’s how the program works:\n",
    "</p>\n",
    "\n",
    "<ul style=\"font-family: Arial, sans-serif; line-height: 1.6; color: white; background-color: black;\">\n",
    "    <li>The program accepts input from the user.</li>\n",
    "    <li>It then counts the total number of characters in the input string, including spaces.</li>\n",
    "    <li>The number of vowels is counted by iterating through the string and checking for characters a, e, i, o, u (in both uppercase and lowercase).</li>\n",
    "    <li>The average word length is calculated by splitting the string into words and dividing the total length of all words by the number of words.</li>\n",
    "</ul>\n"
   ]
  },
  {
   "cell_type": "code",
   "execution_count": 34,
   "metadata": {
    "vscode": {
     "languageId": "html"
    }
   },
   "outputs": [
    {
     "data": {
      "application/javascript": "<!-- Heading -->\n<h1 style=\"color: white; font-family: Arial, sans-serif; background-color: black;\">Text Analyzer Hack</h1>\n\n<!-- Body Text Explanation -->\n<p style=\"font-family: Arial, sans-serif; line-height: 1.6; color: white; background-color: black;\">\n    This hack creates a <strong>text analyzer</strong> that processes a string input and provides useful information about it. Specifically, the program will:\n</p>\n\n<ul style=\"font-family: Arial, sans-serif; line-height: 1.6; color: white; background-color: black;\">\n    <li>Count the total number of characters in the string, including spaces and numbers.</li>\n    <li>Count the number of vowels (a, e, i, o, u) in the string.</li>\n    <li>Calculate the average length of the words in the string.</li>\n    <li>Ensure that the program handles both uppercase and lowercase characters.</li>\n</ul>\n\n<p style=\"font-family: Arial, sans-serif; line-height: 1.6; color: white; background-color: black;\">\n    The text analyzer is useful for understanding the basic structure of any input string and can easily be extended to add more features, like finding palindromes in the input.\n</p>\n\n<!-- Java Code for Text Analyzer -->\n<p style=\"font-family: Arial, sans-serif; color: white; background-color: black;\">\n    Here’s the Java code for the text analyzer:\n</p>\n\n<pre style=\"background-color: black; padding: 10px; border-radius: 4px; color: white;\">\n<code>\nimport java.util.Scanner;\n\npublic class TextAnalyzer {\n\n    // Method to count the vowels in a string\n    public static int countVowels(String str) {\n        int vowelCount = 0;\n        str = str.toLowerCase();\n        for (int i = 0; i < str.length(); i++) {\n            char ch = str.charAt(i);\n            if (ch == 'a' || ch == 'e' || ch == 'i' || ch == 'o' || ch == 'u') {\n                vowelCount++;\n            }\n        }\n        return vowelCount;\n    }\n\n    // Method to calculate the average word length\n    public static double averageWordLength(String str) {\n        String[] words = str.split(\"\\\\s+\");\n        int totalLength = 0;\n        for (String word : words) {\n            totalLength += word.length();\n        }\n        return (double) totalLength / words.length;\n    }\n\n    public static void main(String[] args) {\n        Scanner scanner = new Scanner(System.in);\n        \n        // Step 1: Accept user input\n        System.out.println(\"Enter a string: \");\n        String input = scanner.nextLine();\n        \n        // Step 2: Count total characters (including spaces and numbers)\n        int totalCharacters = input.length();\n\n        // Step 3: Count total vowels\n        int totalVowels = countVowels(input);\n\n        // Step 4: Calculate average word length\n        double avgWordLength = averageWordLength(input);\n\n        // Output the results\n        System.out.println(\"Total Characters (including spaces): \" + totalCharacters);\n        System.out.println(\"Total Vowels: \" + totalVowels);\n        System.out.println(\"Average Word Length: \" + String.format(\"%.2f\", avgWordLength));\n\n        scanner.close();\n    }\n}\n</code>\n</pre>\n\n<p style=\"font-family: Arial, sans-serif; color: white; background-color: black;\">\n    Here’s how the program works:\n</p>\n\n<ul style=\"font-family: Arial, sans-serif; line-height: 1.6; color: white; background-color: black;\">\n    <li>The program accepts input from the user.</li>\n    <li>It then counts the total number of characters in the input string, including spaces.</li>\n    <li>The number of vowels is counted by iterating through the string and checking for characters a, e, i, o, u (in both uppercase and lowercase).</li>\n    <li>The average word length is calculated by splitting the string into words and dividing the total length of all words by the number of words.</li>\n</ul>\n",
      "text/plain": [
       "<IPython.core.display.Javascript object>"
      ]
     },
     "metadata": {},
     "output_type": "display_data"
    }
   ],
   "source": [
    "%%javascript\n",
    "<!-- Heading -->\n",
    "<h1 style=\"color: white; font-family: Arial, sans-serif; background-color: black;\">Text Analyzer Hack</h1>\n",
    "\n",
    "<!-- Body Text Explanation -->\n",
    "<p style=\"font-family: Arial, sans-serif; line-height: 1.6; color: white; background-color: black;\">\n",
    "    This hack creates a <strong>text analyzer</strong> that processes a string input and provides useful information about it. Specifically, the program will:\n",
    "</p>\n",
    "\n",
    "<ul style=\"font-family: Arial, sans-serif; line-height: 1.6; color: white; background-color: black;\">\n",
    "    <li>Count the total number of characters in the string, including spaces and numbers.</li>\n",
    "    <li>Count the number of vowels (a, e, i, o, u) in the string.</li>\n",
    "    <li>Calculate the average length of the words in the string.</li>\n",
    "    <li>Ensure that the program handles both uppercase and lowercase characters.</li>\n",
    "</ul>\n",
    "\n",
    "<p style=\"font-family: Arial, sans-serif; line-height: 1.6; color: white; background-color: black;\">\n",
    "    The text analyzer is useful for understanding the basic structure of any input string and can easily be extended to add more features, like finding palindromes in the input.\n",
    "</p>\n",
    "\n",
    "<!-- Java Code for Text Analyzer -->\n",
    "<p style=\"font-family: Arial, sans-serif; color: white; background-color: black;\">\n",
    "    Here’s the Java code for the text analyzer:\n",
    "</p>\n",
    "\n",
    "<pre style=\"background-color: black; padding: 10px; border-radius: 4px; color: white;\">\n",
    "<code>\n",
    "import java.util.Scanner;\n",
    "\n",
    "public class TextAnalyzer {\n",
    "\n",
    "    // Method to count the vowels in a string\n",
    "    public static int countVowels(String str) {\n",
    "        int vowelCount = 0;\n",
    "        str = str.toLowerCase();\n",
    "        for (int i = 0; i < str.length(); i++) {\n",
    "            char ch = str.charAt(i);\n",
    "            if (ch == 'a' || ch == 'e' || ch == 'i' || ch == 'o' || ch == 'u') {\n",
    "                vowelCount++;\n",
    "            }\n",
    "        }\n",
    "        return vowelCount;\n",
    "    }\n",
    "\n",
    "    // Method to calculate the average word length\n",
    "    public static double averageWordLength(String str) {\n",
    "        String[] words = str.split(\"\\\\s+\");\n",
    "        int totalLength = 0;\n",
    "        for (String word : words) {\n",
    "            totalLength += word.length();\n",
    "        }\n",
    "        return (double) totalLength / words.length;\n",
    "    }\n",
    "\n",
    "    public static void main(String[] args) {\n",
    "        Scanner scanner = new Scanner(System.in);\n",
    "        \n",
    "        // Step 1: Accept user input\n",
    "        System.out.println(\"Enter a string: \");\n",
    "        String input = scanner.nextLine();\n",
    "        \n",
    "        // Step 2: Count total characters (including spaces and numbers)\n",
    "        int totalCharacters = input.length();\n",
    "\n",
    "        // Step 3: Count total vowels\n",
    "        int totalVowels = countVowels(input);\n",
    "\n",
    "        // Step 4: Calculate average word length\n",
    "        double avgWordLength = averageWordLength(input);\n",
    "\n",
    "        // Output the results\n",
    "        System.out.println(\"Total Characters (including spaces): \" + totalCharacters);\n",
    "        System.out.println(\"Total Vowels: \" + totalVowels);\n",
    "        System.out.println(\"Average Word Length: \" + String.format(\"%.2f\", avgWordLength));\n",
    "\n",
    "        scanner.close();\n",
    "    }\n",
    "}\n",
    "</code>\n",
    "</pre>\n",
    "\n",
    "<p style=\"font-family: Arial, sans-serif; color: white; background-color: black;\">\n",
    "    Here’s how the program works:\n",
    "</p>\n",
    "\n",
    "<ul style=\"font-family: Arial, sans-serif; line-height: 1.6; color: white; background-color: black;\">\n",
    "    <li>The program accepts input from the user.</li>\n",
    "    <li>It then counts the total number of characters in the input string, including spaces.</li>\n",
    "    <li>The number of vowels is counted by iterating through the string and checking for characters a, e, i, o, u (in both uppercase and lowercase).</li>\n",
    "    <li>The average word length is calculated by splitting the string into words and dividing the total length of all words by the number of words.</li>\n",
    "</ul>\n"
   ]
  },
  {
   "cell_type": "code",
   "execution_count": 37,
   "metadata": {
    "vscode": {
     "languageId": "javascript"
    }
   },
   "outputs": [
    {
     "data": {
      "application/javascript": "<!DOCTYPE html>\n<html lang=\"en\">\n<div style=\"font-family: Arial, sans-serif; text-align: center; margin-top: 50px; background-color: black; color: white;\">\n  <div style=\"border: 1px solid white; padding: 20px; width: 50%; margin: 0 auto; text-align: left; font-size: 18px; background-color: black; color: white;\">\n    <div style=\"font-size: 22px; font-weight: bold; color: white;\">Palindrome Checker (Ignoring Case and Spaces)</div>\n    <p>\n      This hack will create a function that checks if a given string is a palindrome. \n      It will ignore case and spaces, making it more flexible.\n    </p>\n  </div>\n</div>\n\n<script>\n  // You can add JavaScript here to dynamically manipulate this text if needed\n</script>\n",
      "text/plain": [
       "<IPython.core.display.Javascript object>"
      ]
     },
     "metadata": {},
     "output_type": "display_data"
    }
   ],
   "source": [
    "%%javascript\n",
    "<!DOCTYPE html>\n",
    "<html lang=\"en\">\n",
    "<div style=\"font-family: Arial, sans-serif; text-align: center; margin-top: 50px; background-color: black; color: white;\">\n",
    "  <div style=\"border: 1px solid white; padding: 20px; width: 50%; margin: 0 auto; text-align: left; font-size: 18px; background-color: black; color: white;\">\n",
    "    <div style=\"font-size: 22px; font-weight: bold; color: white;\">Palindrome Checker (Ignoring Case and Spaces)</div>\n",
    "    <p>\n",
    "      This hack will create a function that checks if a given string is a palindrome. \n",
    "      It will ignore case and spaces, making it more flexible.\n",
    "    </p>\n",
    "  </div>\n",
    "</div>\n",
    "\n",
    "<script>\n",
    "  // You can add JavaScript here to dynamically manipulate this text if needed\n",
    "</script>\n"
   ]
  },
  {
   "cell_type": "code",
   "execution_count": 12,
   "metadata": {
    "vscode": {
     "languageId": "javascript"
    }
   },
   "outputs": [
    {
     "data": {
      "text/html": [
       "function checkPalindrome() {\n",
       "    // Step 1: Get the input value from the user\n",
       "    const str = document.getElementById('inputString').value;\n",
       "  \n",
       "    // Step 2: Remove spaces and convert the string to lowercase\n",
       "    const cleanStr = str.replace(/\\s+/g, '').toLowerCase();\n",
       "  \n",
       "    // Step 3: Reverse the cleaned string\n",
       "    const reversedStr = cleanStr.split('').reverse().join('');\n",
       "  \n",
       "    // Step 4: Compare the original cleaned string with the reversed string\n",
       "    if (cleanStr === reversedStr && cleanStr.length > 0) {\n",
       "      // Step 5: Display success message if it's a palindrome\n",
       "      document.getElementById('result').textContent = `\"${str}\" is a palindrome!`;\n",
       "    } else {\n",
       "      // Step 6: Display a message if it's not a palindrome\n",
       "      document.getElementById('result').textContent = `\"${str}\" is NOT a palindrome.`;\n",
       "    }\n",
       "  }\n",
       "  \n"
      ],
      "text/plain": [
       "<IPython.core.display.HTML object>"
      ]
     },
     "metadata": {},
     "output_type": "display_data"
    }
   ],
   "source": [
    "%%html\n",
    "function checkPalindrome() {\n",
    "    // Step 1: Get the input value from the user\n",
    "    const str = document.getElementById('inputString').value;\n",
    "  \n",
    "    // Step 2: Remove spaces and convert the string to lowercase\n",
    "    const cleanStr = str.replace(/\\s+/g, '').toLowerCase();\n",
    "  \n",
    "    // Step 3: Reverse the cleaned string\n",
    "    const reversedStr = cleanStr.split('').reverse().join('');\n",
    "  \n",
    "    // Step 4: Compare the original cleaned string with the reversed string\n",
    "    if (cleanStr === reversedStr && cleanStr.length > 0) {\n",
    "      // Step 5: Display success message if it's a palindrome\n",
    "      document.getElementById('result').textContent = `\"${str}\" is a palindrome!`;\n",
    "    } else {\n",
    "      // Step 6: Display a message if it's not a palindrome\n",
    "      document.getElementById('result').textContent = `\"${str}\" is NOT a palindrome.`;\n",
    "    }\n",
    "  }\n",
    "  "
   ]
  },
  {
   "cell_type": "code",
   "execution_count": 40,
   "metadata": {
    "vscode": {
     "languageId": "javascript"
    }
   },
   "outputs": [
    {
     "data": {
      "application/javascript": "<script>\nfunction checkPalindrome() {\n    // Step 1: Get the input value from the user\n    const str = document.getElementById('inputString').value;\n  \n    // Step 2: Remove spaces and convert the string to lowercase\n    const cleanStr = str.replace(/\\s+/g, '').toLowerCase();\n  \n    // Step 3: Reverse the cleaned string\n    const reversedStr = cleanStr.split('').reverse().join('');\n  \n    // Step 4: Compare the original cleaned string with the reversed string\n    if (cleanStr === reversedStr && cleanStr.length > 0) {\n      // Step 5: Display success message if it's a palindrome\n      document.getElementById('result').textContent = `\"${str}\" is a palindrome!`;\n    } else {\n      // Step 6: Display a message if it's not a palindrome\n      document.getElementById('result').textContent = `\"${str}\" is NOT a palindrome.`;\n    }\n  }\n  </script>\n",
      "text/plain": [
       "<IPython.core.display.Javascript object>"
      ]
     },
     "metadata": {},
     "output_type": "display_data"
    }
   ],
   "source": [
    "%%javascript\n",
    "<script>\n",
    "function checkPalindrome() {\n",
    "    // Step 1: Get the input value from the user\n",
    "    const str = document.getElementById('inputString').value;\n",
    "  \n",
    "    // Step 2: Remove spaces and convert the string to lowercase\n",
    "    const cleanStr = str.replace(/\\s+/g, '').toLowerCase();\n",
    "  \n",
    "    // Step 3: Reverse the cleaned string\n",
    "    const reversedStr = cleanStr.split('').reverse().join('');\n",
    "  \n",
    "    // Step 4: Compare the original cleaned string with the reversed string\n",
    "    if (cleanStr === reversedStr && cleanStr.length > 0) {\n",
    "      // Step 5: Display success message if it's a palindrome\n",
    "      document.getElementById('result').textContent = `\"${str}\" is a palindrome!`;\n",
    "    } else {\n",
    "      // Step 6: Display a message if it's not a palindrome\n",
    "      document.getElementById('result').textContent = `\"${str}\" is NOT a palindrome.`;\n",
    "    }\n",
    "  }\n",
    "  </script>"
   ]
  },
  {
   "cell_type": "code",
   "execution_count": 39,
   "metadata": {
    "vscode": {
     "languageId": "javascript"
    }
   },
   "outputs": [
    {
     "data": {
      "application/javascript": "<!DOCTYPE html>\n<html lang=\"en\">\n<style>\n    body {\n        background-color: black;\n        color: white;\n        font-family: Arial, sans-serif;\n        line-height: 1.6;\n        margin: 20px;\n    }\n    h1 {\n        color: #4CAF50;\n    }\n    code {\n        background-color: black;\n        color: white;\n        padding: 2px 4px;\n        border-radius: 4px;\n    }\n    pre {\n        background-color: black;\n        padding: 10px;\n        border-radius: 4px;\n        color: white;\n    }\n</style>\n\n<!-- Heading -->\n<h1>Palindrome Checker</h1>\n\n<!-- Input Section -->\n<p>Enter a string to check if it is a palindrome:</p>\n<input type=\"text\" id=\"inputString\" placeholder=\"Type here...\" />\n<button onclick=\"checkPalindrome()\">Check</button>\n<p id=\"result\"></p>\n\n<!-- JavaScript Code -->\n<pre><code>\nfunction checkPalindrome() {\n    // Step 1: Get the input value from the user\n    const str = document.getElementById('inputString').value;\n  \n    // Step 2: Remove spaces and convert the string to lowercase\n    const cleanStr = str.replace(/\\s+/g, '').toLowerCase();\n  \n    // Step 3: Reverse the cleaned string\n    const reversedStr = cleanStr.split('').reverse().join('');\n  \n    // Step 4: Compare the original cleaned string with the reversed string\n    if (cleanStr === reversedStr && cleanStr.length > 0) {\n      // Step 5: Display success message if it's a palindrome\n      document.getElementById('result').textContent = `\"${str}\" is a palindrome!`;\n    } else {\n      // Step 6: Display a message if it's not a palindrome\n      document.getElementById('result').textContent = `\"${str}\" is NOT a palindrome.`;\n    }\n}\n</code></pre>\n",
      "text/plain": [
       "<IPython.core.display.Javascript object>"
      ]
     },
     "metadata": {},
     "output_type": "display_data"
    }
   ],
   "source": [
    "%%javascript\n",
    "<!DOCTYPE html>\n",
    "<html lang=\"en\">\n",
    "<style>\n",
    "    body {\n",
    "        background-color: black;\n",
    "        color: white;\n",
    "        font-family: Arial, sans-serif;\n",
    "        line-height: 1.6;\n",
    "        margin: 20px;\n",
    "    }\n",
    "    h1 {\n",
    "        color: #4CAF50;\n",
    "    }\n",
    "    code {\n",
    "        background-color: black;\n",
    "        color: white;\n",
    "        padding: 2px 4px;\n",
    "        border-radius: 4px;\n",
    "    }\n",
    "    pre {\n",
    "        background-color: black;\n",
    "        padding: 10px;\n",
    "        border-radius: 4px;\n",
    "        color: white;\n",
    "    }\n",
    "</style>\n",
    "\n",
    " ## Heading\n",
    "<h1>Palindrome Checker</h1>\n",
    "\n",
    "<!-- Input Section -->\n",
    "<p>Enter a string to check if it is a palindrome:</p>\n",
    "<input type=\"text\" id=\"inputString\" placeholder=\"Type here...\" />\n",
    "<button onclick=\"checkPalindrome()\">Check</button>\n",
    "<p id=\"result\"></p>\n",
    "\n",
    "<!-- JavaScript Code -->\n",
    "<pre><code>\n",
    "function checkPalindrome() {\n",
    "    // Step 1: Get the input value from the user\n",
    "    const str = document.getElementById('inputString').value;\n",
    "  \n",
    "    // Step 2: Remove spaces and convert the string to lowercase\n",
    "    const cleanStr = str.replace(/\\s+/g, '').toLowerCase();\n",
    "  \n",
    "    // Step 3: Reverse the cleaned string\n",
    "    const reversedStr = cleanStr.split('').reverse().join('');\n",
    "  \n",
    "    // Step 4: Compare the original cleaned string with the reversed string\n",
    "    if (cleanStr === reversedStr && cleanStr.length > 0) {\n",
    "      // Step 5: Display success message if it's a palindrome\n",
    "      document.getElementById('result').textContent = `\"${str}\" is a palindrome!`;\n",
    "    } else {\n",
    "      // Step 6: Display a message if it's not a palindrome\n",
    "      document.getElementById('result').textContent = `\"${str}\" is NOT a palindrome.`;\n",
    "    }\n",
    "}\n",
    "</code></pre>\n"
   ]
  }
 ],
 "metadata": {
  "kernelspec": {
   "display_name": "Python 3",
   "language": "python",
   "name": "python3"
  },
  "language_info": {
   "codemirror_mode": {
    "name": "ipython",
    "version": 3
   },
   "file_extension": ".py",
   "mimetype": "text/x-python",
   "name": "python",
   "nbconvert_exporter": "python",
   "pygments_lexer": "ipython3",
   "version": "3.12.5"
  }
 },
 "nbformat": 4,
 "nbformat_minor": 2
}
