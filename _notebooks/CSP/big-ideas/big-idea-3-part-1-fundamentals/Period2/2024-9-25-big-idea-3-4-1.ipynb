{
 "cells": [
  {
   "cell_type": "raw",
   "metadata": {
    "vscode": {
     "languageId": "raw"
    }
   },
   "source": [
    "---\n",
    "layout: post\n",
    "title: Javascript Strings\n",
    "description: Gain and understanding of how strings work \n",
    "categories: [DevOps, Javascript]\n",
    "permalink: /csp/big-idea/p2/3-4-1\n",
    "menu: nav/csp_units/csp_unit3_p2_fundamentals.html\n",
    "author: Keerthan\n",
    "toc: true\n",
    "comments: true"
   ]
  },
  {
   "cell_type": "markdown",
   "metadata": {},
   "source": [
    "# Strings & Palindromes in Javascript"
   ]
  },
  {
   "cell_type": "markdown",
   "metadata": {
    "vscode": {
     "languageId": "raw"
    }
   },
   "source": [
    "## Javascript Strings\n",
    "The concepts of Python Strings & Javascript Strings are the same, however the way these concepts are implemented across these two languages vary, and there are some important distinctions that’ll be highlighted in this blog. If you haven’t already, check out the first blog "
   ]
  },
  {
   "cell_type": "markdown",
   "metadata": {},
   "source": [
    "## Making Strings\n",
    "When it comes to making strings, there are three ways of going about it— Each method requiring that you surround the text you want to make a string with these characters. These methods are listed below:\n",
    "\n",
    "Single Quotes (‘’) Double Quotes (“”) Backticks (``)\n",
    "\n",
    "Single Quotes and Double Quotes are the most conventionally used and serve the same purpose. Surrounding text as to delineate them as strings and not another data type. So most of the time, you’ll be using either single or double quotes.\n",
    "\n",
    "However, the last option, strings that use backticks (known as template strings), are also very important to know and a proficient coder in Javascript will take advantage of this type of string when the opportunity arises. We’ll come back to this string later, but what you should know now is that it allows you to implant javascript code that isn’t inherently a string into your string, such as a variable.\n",
    "\n",
    "To confirm whether a variable is a string or not, you can put the potential string inside typeof()."
   ]
  },
  {
   "cell_type": "code",
   "execution_count": 13,
   "metadata": {
    "vscode": {
     "languageId": "javascript"
    }
   },
   "outputs": [
    {
     "data": {
      "application/javascript": "\n// Single Quotes\nlet intro = 'Your Journey Begins Here.'\n\n// Double Quotes\nlet fruit = \"orange\"\n\n// Checking if string\ntypeof(intro) //Output: True\ntypeof(fruit) //Output: True\n",
      "text/plain": [
       "<IPython.core.display.Javascript object>"
      ]
     },
     "metadata": {},
     "output_type": "display_data"
    }
   ],
   "source": [
    "%%js\n",
    "\n",
    "// Single Quotes\n",
    "let intro = 'Your Journey Begins Here.'\n",
    "\n",
    "// Double Quotes\n",
    "let fruit = \"orange\"\n",
    "\n",
    "// Checking if string\n",
    "typeof(intro) //Output: True\n",
    "typeof(fruit) //Output: True"
   ]
  },
  {
   "cell_type": "markdown",
   "metadata": {},
   "source": [
    "## Concatenation\n",
    "Concatenation is the combining or joining of different strings. It allows us to take one string and merge it with another. Refer to the example below:"
   ]
  },
  {
   "cell_type": "code",
   "execution_count": 14,
   "metadata": {
    "vscode": {
     "languageId": "javascript"
    }
   },
   "outputs": [
    {
     "data": {
      "application/javascript": "\nlet greeting = \"Hello \" + \"Class\";\nconsole.log(greeting); // Output: Hello Class\n\nlet word = \"Break\" + \"fast\";\nconsole.log(word) //Output: Breakfast\n\nconsole.log ( greeting + word ) //Output: Hello Class Breakfast\n",
      "text/plain": [
       "<IPython.core.display.Javascript object>"
      ]
     },
     "metadata": {},
     "output_type": "display_data"
    }
   ],
   "source": [
    "%%js\n",
    "\n",
    "let greeting = \"Hello \" + \"Class\";\n",
    "console.log(greeting); // Output: Hello Class\n",
    "\n",
    "let word = \"Break\" + \"fast\";\n",
    "console.log(word) //Output: Breakfast\n",
    "\n",
    "console.log ( greeting + word ) //Output: Hello Class Breakfast"
   ]
  },
  {
   "cell_type": "markdown",
   "metadata": {},
   "source": [
    "Concatenation is used to address the need to keep strings separate for storing dynamic data (like user input) and then combine them into a single, cohesive string."
   ]
  },
  {
   "cell_type": "code",
   "execution_count": null,
   "metadata": {
    "vscode": {
     "languageId": "javascript"
    }
   },
   "outputs": [],
   "source": [
    "%%js\n",
    "\n",
    "// Example 1\n",
    "let favoriteFood = prompt(\"Enter your favorite food: \");\n",
    "let favoriteSport = prompt(\"Enter your favorite sport: \");\n",
    "\n",
    "let message = \"Your favorite food is \" + favoriteFood + \" and your favorite sport is \" + favoriteSport + \".\";\n",
    "console.log(message);\n",
    "\n",
    "// Example 2\n",
    "let dreamVacation = prompt(\"Enter your dream vacation destination: \");\n",
    "let favoriteSeason = prompt(\"Enter your favorite season: \");\n",
    "\n",
    "let vacationMessage = \"Your dream vacation is to \" + dreamVacation + \" and your favorite season is \" + favoriteSeason + \".\";\n",
    "console.log(vacationMessage);\n"
   ]
  },
  {
   "cell_type": "markdown",
   "metadata": {},
   "source": [
    "## String Interpolation\n",
    "String interpolation brings us back to using backticks, also known as template strings! Rather than combining multiple strings, template strings allow us to embed variables and JavaScript expressions directly within the string.\n",
    "\n",
    "The following examples are the same as the ones above, but we utilize interpolation instead of concatenation:"
   ]
  },
  {
   "cell_type": "code",
   "execution_count": null,
   "metadata": {
    "vscode": {
     "languageId": "javascript"
    }
   },
   "outputs": [],
   "source": [
    "%%js\n",
    "\n",
    "// Example 1\n",
    "let userHobby = prompt(\"Enter your hobby: \");\n",
    "let favoritePlace = prompt(\"Enter your favorite place: \");\n",
    "\n",
    "let message = `Your hobby is ${userHobby} and your favorite place is ${favoritePlace}.`;\n",
    "console.log(message);\n",
    "\n",
    "\n",
    "// Example 2\n",
    "let dreamJob = prompt(\"Enter your dream job: \");\n",
    "let favoriteFood = prompt(\"Enter your favorite food: \");\n",
    "\n",
    "let message = `Your dream job is ${dreamJob} and your favorite food is ${favoriteFood}.`;\n",
    "console.log(message);\n"
   ]
  },
  {
   "cell_type": "markdown",
   "metadata": {},
   "source": [
    "As you can see for yourself, interpolation is much cleaner & efficient than concatenation. The only things you need to do in order to interpolate a string is to:\n",
    "\n",
    "Use backticks\n",
    "\n",
    "Surround the variable or javascript expression in ${variable_here}\n"
   ]
  },
  {
   "cell_type": "markdown",
   "metadata": {},
   "source": [
    "## Popcorn Hack #1\n",
    "Define three variables: Movie, Sport, Pet name\n",
    "\n",
    "Combine these variables into the following message: Hello, my favorite movie is [Movie]. My favorite sport is [Sport] and my pet's name is [petName].\n",
    "\n",
    "Do this exercise using both concatenation and interpolation"
   ]
  },
  {
   "cell_type": "code",
   "execution_count": 15,
   "metadata": {
    "vscode": {
     "languageId": "javascript"
    }
   },
   "outputs": [
    {
     "data": {
      "application/javascript": "\nlet favoriteMovie = \"Inception\";\nlet favoriteSport = \"soccer\";\nlet petName = \"Buddy\";\n\n// Concatenation\nlet concatenatedMessage = \"My favorite movie is \" + favoriteMovie + \". I love playing \" + favoriteSport + \" and my pet's name is \" + petName + \".\";\n\n// Interpolation\nlet interpolatedMessage = `My favorite movie is ${favoriteMovie}. I love playing ${favoriteSport} and my pet's name is ${petName}.`;\n\n// Logging the messages\nconsole.log(concatenatedMessage);\nconsole.log(interpolatedMessage);\n",
      "text/plain": [
       "<IPython.core.display.Javascript object>"
      ]
     },
     "metadata": {},
     "output_type": "display_data"
    }
   ],
   "source": [
    "%%js\n",
    "\n",
    "let favoriteMovie = \"Inception\";\n",
    "let favoriteSport = \"soccer\";\n",
    "let petName = \"Buddy\";\n",
    "\n",
    "// Concatenation\n",
    "let concatenatedMessage = \"My favorite movie is \" + favoriteMovie + \". I love playing \" + favoriteSport + \" and my pet's name is \" + petName + \".\";\n",
    "\n",
    "// Interpolation\n",
    "let interpolatedMessage = `My favorite movie is ${favoriteMovie}. I love playing ${favoriteSport} and my pet's name is ${petName}.`;\n",
    "\n",
    "// Logging the messages\n",
    "console.log(concatenatedMessage);\n",
    "console.log(interpolatedMessage);\n"
   ]
  },
  {
   "cell_type": "markdown",
   "metadata": {},
   "source": [
    "## Indexing a Character\n",
    "Indexing a character is just a more technically correct way of saying how to access a character within a string. Each character in a string is assigned a number that we can use to access it individually."
   ]
  },
  {
   "cell_type": "code",
   "execution_count": 16,
   "metadata": {
    "vscode": {
     "languageId": "javascript"
    }
   },
   "outputs": [
    {
     "data": {
      "application/javascript": "\nlet fruit = \"Banana\";\n\nconsole.log(fruit[1]); // Output: a\nconsole.log(fruit.at(1)); // Output: a\n\nconsole.log(fruit[6]); // Output: undefined\nconsole.log(fruit.at(6)); // Output: undefined\n",
      "text/plain": [
       "<IPython.core.display.Javascript object>"
      ]
     },
     "metadata": {},
     "output_type": "display_data"
    }
   ],
   "source": [
    "%%js\n",
    "\n",
    "let fruit = \"Banana\";\n",
    "\n",
    "console.log(fruit[1]); // Output: a\n",
    "console.log(fruit.at(1)); // Output: a\n",
    "\n",
    "console.log(fruit[6]); // Output: undefined\n",
    "console.log(fruit.at(6)); // Output: undefined\n"
   ]
  },
  {
   "cell_type": "markdown",
   "metadata": {},
   "source": [
    "In the Python Strings lesson, we learned that indexing starts at 0, and negative numbers can be used to count backwards. In JavaScript, you can access characters in two ways:\n",
    "\n",
    "Using brackets: [#]\n",
    "Using the at method: .at(#)\n",
    "I recommend using the at() method, as brackets cannot handle negative indices (resulting in undefined) unless you implement additional steps, which makes it unnecessarily complicated."
   ]
  },
  {
   "cell_type": "markdown",
   "metadata": {},
   "source": [
    "## Substrings\n",
    "\n",
    "There are 3 ways to retrieve a substring in JavaScript: substring, substr, & slice\n",
    "\n",
    "For this blog post, we’ll be exclusively covering slice which is arguably the most flexible of the three options. Feel free to look into the others, but keep in mind slice can do anything the other methods can and more.\n",
    "\n",
    "Substrings is a part of a string that we have taken using the slice function. It allows us to take more than one character as indexing allows.\n",
    "\n",
    "The slice() method extracts characters from a string between two specified indices and returns a new string. It takes two parameters:\n",
    "\n",
    "The starting index (inclusive)\n",
    "The ending index (exclusive)"
   ]
  },
  {
   "cell_type": "code",
   "execution_count": 17,
   "metadata": {
    "vscode": {
     "languageId": "javascript"
    }
   },
   "outputs": [
    {
     "data": {
      "application/javascript": "\nlet greeting = \"Goodbye, Universe!\";\nlet city = \"San Francisco\";\nlet continent = \"North America\";\n\n// Extract and display \"Goodbye\" from the greeting\nconsole.log(greeting.slice(0, 7)); // Output: Goodbye\n\n// Extract and display \"Universe\" from the greeting\nconsole.log(greeting.slice(-8)); // Output: Universe\n\n// Display everything from the second character onward in city\nconsole.log(city.slice(1)); // Output: an Francisco\n\n// Display everything from the third character onward in city\nconsole.log(city.slice(-9)); // Output: Francisco\n\n// Extract substring starting from index 4 and ending before the last index in city\nconsole.log(city.slice(4, -3)); // Output: Fran\n",
      "text/plain": [
       "<IPython.core.display.Javascript object>"
      ]
     },
     "metadata": {},
     "output_type": "display_data"
    }
   ],
   "source": [
    "%%js\n",
    "\n",
    "let greeting = \"Goodbye, Universe!\";\n",
    "let city = \"San Francisco\";\n",
    "let continent = \"North America\";\n",
    "\n",
    "// Extract and display \"Goodbye\" from the greeting\n",
    "console.log(greeting.slice(0, 7)); // Output: Goodbye\n",
    "\n",
    "// Extract and display \"Universe\" from the greeting\n",
    "console.log(greeting.slice(-8)); // Output: Universe\n",
    "\n",
    "// Display everything from the second character onward in city\n",
    "console.log(city.slice(1)); // Output: an Francisco\n",
    "\n",
    "// Display everything from the third character onward in city\n",
    "console.log(city.slice(-9)); // Output: Francisco\n",
    "\n",
    "// Extract substring starting from index 4 and ending before the last index in city\n",
    "console.log(city.slice(4, -3)); // Output: Fran\n"
   ]
  },
  {
   "cell_type": "markdown",
   "metadata": {},
   "source": [
    "## Popcorn Hack #2\n",
    "\n",
    "You are given a string “A journey of a thousand miles begins with a single step”. Your task is to write code that uses the slice() method to:\n",
    "\n",
    "Extract the word “journey”\n",
    "\n",
    "Extract the word “miles” using a negative starting index\n",
    "\n",
    "Extract everything from the word “begins” to the end of the sentence\n",
    "\n",
    "Output these extractions at the end of the code"
   ]
  },
  {
   "cell_type": "code",
   "execution_count": 18,
   "metadata": {
    "vscode": {
     "languageId": "javascript"
    }
   },
   "outputs": [
    {
     "data": {
      "application/javascript": "\n// Define string\nlet phrase = \"A journey of a thousand miles begins with a single step\";\n\n// Extraction\nlet partOne = phrase.slice(2, 8);\nlet partTwo = phrase.slice(-18, -12);\nlet remainder = phrase.slice(20);\n\n// Output\nconsole.log(partOne);  // Output: journey\nconsole.log(partTwo);  // Output: miles\nconsole.log(remainder); // Output: begins with a single step\n",
      "text/plain": [
       "<IPython.core.display.Javascript object>"
      ]
     },
     "metadata": {},
     "output_type": "display_data"
    }
   ],
   "source": [
    "%%js\n",
    "\n",
    "// Define string\n",
    "let phrase = \"A journey of a thousand miles begins with a single step\";\n",
    "\n",
    "// Extraction\n",
    "let partOne = phrase.slice(2, 8);\n",
    "let partTwo = phrase.slice(-18, -12);\n",
    "let remainder = phrase.slice(20);\n",
    "\n",
    "// Output\n",
    "console.log(partOne);  // Output: journey\n",
    "console.log(partTwo);  // Output: miles\n",
    "console.log(remainder); // Output: begins with a single step\n"
   ]
  },
  {
   "cell_type": "markdown",
   "metadata": {},
   "source": [
    "## Escape Characters\n",
    "\n",
    "The \\ is often known as the escape character as inputting it into a string allows you to temporarily escape the string and add something to the string that isn’t just text (or text that can’t be added conventionally).\n",
    "\n",
    "Here are some of the most common uses:"
   ]
  },
  {
   "cell_type": "code",
   "execution_count": 19,
   "metadata": {
    "vscode": {
     "languageId": "javascript"
    }
   },
   "outputs": [
    {
     "data": {
      "application/javascript": "\nlet message = \"Goodbye Universe\";\n\n// Create a new line\nconsole.log(\"Goodbye\\nUniverse\"); // Output: Goodbye\n                                    //         Universe\n\n// Create a horizontal tab\nconsole.log(\"Goodbye\\tUniverse\"); // Output: Goodbye   Universe\n\n// Create a backslash\nconsole.log(\"Goodbye\\\\Universe\"); // Output: Goodbye\\Universe\n\n// Add a unicode character\nconsole.log(\"\\u2731\"); // Output: ✱ (a star character)\n",
      "text/plain": [
       "<IPython.core.display.Javascript object>"
      ]
     },
     "metadata": {},
     "output_type": "display_data"
    }
   ],
   "source": [
    "%%js\n",
    "\n",
    "let message = \"Goodbye Universe\";\n",
    "\n",
    "// Create a new line\n",
    "console.log(\"Goodbye\\nUniverse\"); // Output: Goodbye\n",
    "                                    //         Universe\n",
    "\n",
    "// Create a horizontal tab\n",
    "console.log(\"Goodbye\\tUniverse\"); // Output: Goodbye   Universe\n",
    "\n",
    "// Create a backslash\n",
    "console.log(\"Goodbye\\\\Universe\"); // Output: Goodbye\\Universe\n",
    "\n",
    "// Add a unicode character\n",
    "console.log(\"\\u2731\"); // Output: ✱ (a star character)\n"
   ]
  },
  {
   "cell_type": "markdown",
   "metadata": {},
   "source": [
    "## Popcorn Hack #3\n",
    "Examine the following string: “Apple, Banana, Orange, Grapes”\n",
    "\n",
    "Using a string method(s), make a program that replaces Apple with “Mango” and “Orange” with “Pineapple” and then outputs the updated string at the end.\n"
   ]
  },
  {
   "cell_type": "code",
   "execution_count": null,
   "metadata": {
    "vscode": {
     "languageId": "javascript"
    }
   },
   "outputs": [],
   "source": [
    "%%js\n",
    "\n",
    "let fruits = \"Apple, Banana, Orange, Grapes\";\n",
    "\n",
    "// Replace \"Apple\" with \"Mango\" and \"Orange\" with \"Pineapple\"\n",
    "let updatedFruits = fruits.replace(\"Apple\", \"Mango\").replace(\"Orange\", \"Pineapple\");\n",
    "\n",
    "console.log(updatedFruits); // Output: Mango, Banana, Pineapple, Grapes\n"
   ]
  }
 ],
 "metadata": {
  "kernelspec": {
   "display_name": "Python 3",
   "language": "python",
   "name": "python3"
  },
  "language_info": {
   "codemirror_mode": {
    "name": "ipython",
    "version": 3
   },
   "file_extension": ".py",
   "mimetype": "text/x-python",
   "name": "python",
   "nbconvert_exporter": "python",
   "pygments_lexer": "ipython3",
   "version": "3.12.6"
  }
 },
 "nbformat": 4,
 "nbformat_minor": 2
}
