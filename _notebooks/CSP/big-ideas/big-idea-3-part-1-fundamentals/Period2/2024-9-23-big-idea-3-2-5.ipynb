{
 "cells": [
  {
   "cell_type": "raw",
   "metadata": {
    "vscode": {
     "languageId": "raw"
    }
   },
   "source": [
    "---\n",
    "toc: false\n",
    "comments: true\n",
    "layout: post\n",
    "title: 3.2 Lesson Period 2\n",
    "description: Student led teaching on Abstraction. Teaching how various data types can use abstraction for copmutational efficiency.\n",
    "permalink: /csp/big-idea/p2/3-2-5/\n",
    "categories: [CSP Big Ideas]\n",
    "author:  Nikhil Maturi, Yash Parikh, Neil Chandra, Rohan Bojja (P.2)\n",
    "menu: nav/csp_units/csp_unit3_p2_fundamentals.html\n",
    "---"
   ]
  },
  {
   "cell_type": "markdown",
   "metadata": {},
   "source": [
    "## Tuples - 3.2.5"
   ]
  },
  {
   "cell_type": "code",
   "execution_count": 1,
   "metadata": {},
   "outputs": [
    {
     "name": "stdout",
     "output_type": "stream",
     "text": [
      "Tuple: (8, 12)\n",
      "--------------------------------------------------\n",
      "Length:\n",
      "2\n",
      "--------------------------------------------------\n",
      "Unpacking:\n",
      "x: 8\n",
      "y: 12\n",
      "--------------------------------------------------\n",
      "Repetition:\n",
      "(8, 12, 8, 12, 8, 12)\n",
      "--------------------------------------------------\n",
      "Minimum:\n",
      "8\n",
      "Maximum:\n",
      "12\n",
      "Summation:\n",
      "20\n",
      "--------------------------------------------------\n"
     ]
    }
   ],
   "source": [
    "# Tuples have many uses, they are often used in math applications for things like coordinates...\n",
    "# Tuples are immutable meaning they can't be changed after creation\n",
    "myTuple = (8, 12)\n",
    "print(\"Tuple:\", myTuple)\n",
    "print(\"-\"*50)\n",
    "\n",
    "# Tuple Length\n",
    "print(\"Length:\")\n",
    "print(len(myTuple))\n",
    "print(\"-\"*50)\n",
    "\n",
    "# Tuple Unpacking\n",
    "print(\"Unpacking:\") # abstracts having to index then manually assign\n",
    "x, y = myTuple # assigns each part of tuple to seperate variables\n",
    "print(\"x:\", x)\n",
    "print(\"y:\", y)\n",
    "print(\"-\"*50)\n",
    "\n",
    "# Tuple Repetition\n",
    "print(\"Repetition:\") # simplifies having to loop or index then reassign\n",
    "print(myTuple * 3)\n",
    "print(\"-\"*50)\n",
    "\n",
    "# Min, Max, Sum\n",
    "print(\"Minimum:\") # simplifies having to loop then compute all manually\n",
    "print(min(myTuple))\n",
    "print(\"Maximum:\")\n",
    "print(max(myTuple))\n",
    "print(\"Summation:\")\n",
    "print(sum(myTuple))\n",
    "print(\"-\"*50)"
   ]
  }
 ],
 "metadata": {
  "kernelspec": {
   "display_name": "venv",
   "language": "python",
   "name": "python3"
  },
  "language_info": {
   "codemirror_mode": {
    "name": "ipython",
    "version": 3
   },
   "file_extension": ".py",
   "mimetype": "text/x-python",
   "name": "python",
   "nbconvert_exporter": "python",
   "pygments_lexer": "ipython3",
   "version": "3.9.19"
  }
 },
 "nbformat": 4,
 "nbformat_minor": 2
}
