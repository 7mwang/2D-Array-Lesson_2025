{
 "cells": [
  {
   "cell_type": "raw",
   "metadata": {
    "vscode": {
     "languageId": "raw"
    }
   },
   "source": [
    "---\n",
    "layout: post\n",
    "title: 3.1-P2 Variables and Assignments\n",
    "description: This lesson explains how variables are abstractions used to represent and store data.\n",
    "categories: [Python, Javascript]\n",
    "permalink: /csp/big-idea/p2/3-1\n",
    "menu: nav/csp_units/csp_unit3_p2_fundamentals.html\n",
    "author: Arhaan, Mihir, Akshaj, Keerthan\n",
    "toc: true\n",
    "comments: true\n",
    "---"
   ]
  },
  {
   "cell_type": "markdown",
   "metadata": {
    "vscode": {
     "languageId": "raw"
    }
   },
   "source": [
    "# **Introduction to Variables**\n",
    "\n",
    "---\n",
    "\n",
    "## What is a Variable?\n",
    "\n",
    "A **variable** is like a container that holds information. You can store data in a variable and use it later in your program.\n",
    "\n",
    "For example, if you want to store a person's name or age, you can use variables to do that.\n",
    "\n",
    "---\n",
    "\n",
    "## Video Help \n",
    "\n",
    "<div>\n",
    "    <p> Click the following button to get extra help on loops in coding </p>\n",
    "</div>\n",
    "<a href=\"https://www.youtube.com/watch?v=KpJ385shzgM\">\n",
    "<button class=\"button button1\">Variables Video</button>\n",
    "</a>\n",
    "\n",
    "\n",
    "## Creating Variables\n",
    "\n",
    "You can create a variable and assign a value to it using the assignment operator `=`.\n",
    "\n",
    "### Example:\n",
    "```python\n",
    "# Python Example\n",
    "name = \"Alice\"  # This is a string variable\n",
    "age = 15        # This is an integer variable\n",
    "\n",
    "// JavaScript Example\n",
    "let name = \"Alice\";  // This is a string variable\n",
    "let age = 15;        // This is an integer variable\n"
   ]
  },
  {
   "cell_type": "markdown",
   "metadata": {},
   "source": [
    "## Using Variables in Programs\n",
    "\n",
    "Once you have created a variable, you can use it throughout your program.\n",
    "\n",
    "\n"
   ]
  },
  {
   "cell_type": "code",
   "execution_count": null,
   "metadata": {},
   "outputs": [],
   "source": [
    "# Python Example\n",
    "print(\"My name is\", name)\n",
    "print(\"I am\", age, \"years old.\")\n"
   ]
  },
  {
   "cell_type": "code",
   "execution_count": null,
   "metadata": {
    "vscode": {
     "languageId": "javascript"
    }
   },
   "outputs": [],
   "source": [
    "%%js\n",
    "// JavaScript Example\n",
    "console.log(\"My name is \" + name);\n",
    "console.log(\"I am \" + age + \" years old.\");\n"
   ]
  },
  {
   "cell_type": "markdown",
   "metadata": {},
   "source": [
    "## Naming Variables\n",
    "When you create variables, it's important to choose good names. Here are some tips:\n",
    "\n",
    "Be Descriptive: Choose names that describe the data they hold, like age or favorite_color.\n",
    "\n",
    "Use Camel Case: For multi-word names, use camel case (e.g., favoriteColor).\n",
    "\n",
    "Avoid Spaces and Special Characters: Stick to letters, numbers, and underscores.\n"
   ]
  },
  {
   "cell_type": "code",
   "execution_count": null,
   "metadata": {},
   "outputs": [],
   "source": [
    "# Creating and using variables\n",
    "city = \"New York\"\n",
    "population = 8419600\n",
    "\n",
    "print(\"The city is\", city)\n",
    "print(\"The population is\", population)\n"
   ]
  },
  {
   "cell_type": "code",
   "execution_count": null,
   "metadata": {
    "vscode": {
     "languageId": "javascript"
    }
   },
   "outputs": [],
   "source": [
    "%%js\n",
    "// Creating and using variables\n",
    "let city = \"New York\";\n",
    "let population = 8419600;\n",
    "\n",
    "console.log(\"The city is \" + city);\n",
    "console.log(\"The population is \" + population);\n"
   ]
  }
 ],
 "metadata": {
  "kernelspec": {
   "display_name": "venv",
   "language": "python",
   "name": "python3"
  },
  "language_info": {
   "name": "python",
   "version": "3.12.5"
  }
 },
 "nbformat": 4,
 "nbformat_minor": 2
}
