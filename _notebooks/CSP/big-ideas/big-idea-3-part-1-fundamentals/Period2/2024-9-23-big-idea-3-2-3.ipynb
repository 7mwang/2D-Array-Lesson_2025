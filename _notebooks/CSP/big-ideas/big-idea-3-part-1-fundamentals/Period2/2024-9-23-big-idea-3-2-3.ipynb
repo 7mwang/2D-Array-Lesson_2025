{
 "cells": [
  {
   "cell_type": "raw",
   "metadata": {
    "vscode": {
     "languageId": "raw"
    }
   },
   "source": [
    "---\n",
    "toc: false\n",
    "comments: true\n",
    "layout: post\n",
    "title: 3.2 Lesson Period 2\n",
    "description: Student led teaching on Abstraction. Teaching how various data types can use abstraction for copmutational efficiency.\n",
    "permalink: /csp/big-idea/p2/3-2-3/\n",
    "categories: [CSP Big Ideas]\n",
    "author:  Nikhil Maturi, Yash Parikh, Neil Chandra, Rohan Bojja (P.2)\n",
    "menu: nav/csp_units/csp_unit3_p2_fundamentals.html\n",
    "---"
   ]
  },
  {
   "cell_type": "markdown",
   "metadata": {},
   "source": [
    "## Strings - 3.2.3"
   ]
  },
  {
   "cell_type": "code",
   "execution_count": 1,
   "metadata": {},
   "outputs": [
    {
     "name": "stdout",
     "output_type": "stream",
     "text": [
      "Concatenation:\n",
      "First name and Last Name: John Doe\n",
      "--------------------------------------------------\n",
      "Repetition:\n",
      "HaHaHaHa\n",
      "--------------------------------------------------\n",
      "Indexing:\n",
      "Water\n",
      "--------------------------------------------------\n",
      "Length of String:\n",
      "4\n",
      "--------------------------------------------------\n",
      "Changing Letter Format:\n",
      "JOHN\n",
      "John\n",
      "--------------------------------------------------\n",
      "Removing whitespace:\n",
      "Watermelon\n"
     ]
    }
   ],
   "source": [
    "# Are an abstraction since it allows you to perform operations on multiple words and/or letters without seperating them individually\n",
    "# Allows letters to be represented using language rather than numbers\n",
    "firstName = \"John\"\n",
    "lastName = \"Doe\"\n",
    "laugh = \"Ha\"\n",
    "fruit = \"Watermelon\"\n",
    "fruitWithSpace = \"   Watermelon   \"\n",
    "\n",
    "# Concatenation\n",
    "print(\"Concatenation:\")\n",
    "print(\"First name and Last Name:\", firstName + \" \" + lastName) #abstracts by allowing dynamic manipulation of strings\n",
    "print(\"-\"*50)\n",
    "\n",
    "# Repetition\n",
    "print(\"Repetition:\")\n",
    "print(laugh * 4) #abstracts having to use a loop to repeat the string\n",
    "print(\"-\"*50)\n",
    "\n",
    "# Indexing String\n",
    "print(\"Indexing:\")\n",
    "# 0 based indexing system\n",
    "print(fruit[0:5]) #abstracts having to use a loop to iterate then manually obtain the first 4 letters\n",
    "print(\"-\"*50)\n",
    "\n",
    "# Length of String\n",
    "print(\"Length of String:\")\n",
    "print(len(firstName)) #abstracts having to count the letters manually or using more steps\n",
    "print(\"-\"*50)\n",
    "\n",
    "# Change Letter Format\n",
    "# prevents having to loops to manually change letter format based on condition\n",
    "# otherwise would require checking through ASCII or other methods\n",
    "print(\"Changing Letter Format:\")\n",
    "print(firstName.upper())\n",
    "print(firstName.title())\n",
    "print(\"-\"*50)\n",
    "\n",
    "# Strip\n",
    "# Abstraction as a condition and loop is not required to identify spaces and remove them\n",
    "print(\"Removing whitespace:\")\n",
    "print(fruitWithSpace.strip())\n"
   ]
  }
 ],
 "metadata": {
  "kernelspec": {
   "display_name": "venv",
   "language": "python",
   "name": "python3"
  },
  "language_info": {
   "codemirror_mode": {
    "name": "ipython",
    "version": 3
   },
   "file_extension": ".py",
   "mimetype": "text/x-python",
   "name": "python",
   "nbconvert_exporter": "python",
   "pygments_lexer": "ipython3",
   "version": "3.9.19"
  }
 },
 "nbformat": 4,
 "nbformat_minor": 2
}
