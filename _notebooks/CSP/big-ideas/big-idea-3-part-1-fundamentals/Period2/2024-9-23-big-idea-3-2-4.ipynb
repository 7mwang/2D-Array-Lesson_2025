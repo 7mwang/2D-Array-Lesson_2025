{
 "cells": [
  {
   "cell_type": "raw",
   "metadata": {
    "vscode": {
     "languageId": "raw"
    }
   },
   "source": [
    "---\n",
    "toc: false\n",
    "comments: true\n",
    "layout: post\n",
    "title: 3.2 Lesson Period 2\n",
    "description: Student led teaching on Abstraction. Teaching how various data types can use abstraction for copmutational efficiency.\n",
    "permalink: /csp/big-idea/p2/3-2-4/\n",
    "categories: [CSP Big Ideas]\n",
    "author:  Nikhil Maturi, Yash Parikh, Neil Chandra, Rohan Bojja (P.2)\n",
    "menu: nav/csp_units/csp_unit3_p2_fundamentals.html\n",
    "---"
   ]
  },
  {
   "cell_type": "markdown",
   "metadata": {},
   "source": [
    "## Lists - 3.2.4"
   ]
  },
  {
   "cell_type": "code",
   "execution_count": 1,
   "metadata": {},
   "outputs": [
    {
     "name": "stdout",
     "output_type": "stream",
     "text": [
      "['Jolly Rancher', 'Kit Kat', 'Starburst', 'Nerds', 'Nerd Clusters']\n",
      "--------------------------------------------------\n",
      "Appending i.e Adding Items to the List:\n",
      "['Jolly Rancher', 'Kit Kat', 'Starburst', 'Nerds', 'Nerd Clusters']\n",
      "--------------------------------------------------\n",
      "Removing Element from List:\n",
      "['Jolly Rancher', 'Kit Kat', 'Starburst', 'Nerds', 'Nerd Clusters', 'Laffy Taffy']\n",
      "--------------------------------------------------\n",
      "Sorts lists:\n",
      "Post sort list ['Jolly Rancher', 'Laffy Taffy', 'Nerd Clusters', 'Nerds', 'Starburst']\n"
     ]
    }
   ],
   "source": [
    "# Lists are abstraction because of their ability to group multiple data types together, without defining them separately\n",
    "# Lists also allow you to perform operations on them without excessive loops and checking, resulting in simpler code and efficiency\n",
    "candy = [\"Jolly Rancher\", \"Kit Kat\", \"Starburst\", \"Nerds\", \"Nerd Clusters\"]\n",
    "print(candy)\n",
    "print(\"-\"*50)\n",
    "\n",
    "# appending\n",
    "print(\"Appending i.e Adding Items to the List:\")\n",
    "print(candy)\n",
    "print(\"-\"*50)\n",
    "# abstracts having to manually extend list and inserting element removes that aspect of memory management\n",
    "candy.append(\"Laffy Taffy\") #adds item to end of list\n",
    "\n",
    "# removing\n",
    "print(\"Removing Element from List:\")\n",
    "print(candy)\n",
    "print(\"-\"*50)\n",
    "candy.remove(\"Kit Kat\")\n",
    "\n",
    "# sorting\n",
    "print(\"Sorts lists:\")\n",
    "candy.sort() # removes task of writing sorting algorithm from scratch with high computational efficiency, n log n.\n",
    "print(\"Post sort list\", candy)\n",
    "\n",
    "# duplicating\n",
    "candy_copy = candy.copy() # removes aspect of memory management and manual iteration to create list, and removes appending operations\n",
    "\n"
   ]
  }
 ],
 "metadata": {
  "kernelspec": {
   "display_name": "venv",
   "language": "python",
   "name": "python3"
  },
  "language_info": {
   "codemirror_mode": {
    "name": "ipython",
    "version": 3
   },
   "file_extension": ".py",
   "mimetype": "text/x-python",
   "name": "python",
   "nbconvert_exporter": "python",
   "pygments_lexer": "ipython3",
   "version": "3.9.19"
  }
 },
 "nbformat": 4,
 "nbformat_minor": 2
}
