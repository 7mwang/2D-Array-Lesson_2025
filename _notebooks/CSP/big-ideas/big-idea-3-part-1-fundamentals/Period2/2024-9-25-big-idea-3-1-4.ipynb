{
 "cells": [
  {
   "cell_type": "raw",
   "metadata": {
    "vscode": {
     "languageId": "raw"
    }
   },
   "source": [
    "---\n",
    "layout: post\n",
    "title: Python Variables\n",
    "description: Creating a lesson by using Python. \n",
    "categories: [Python, Javascript]\n",
    "permalink: /csp/big-idea/p2/3-1-4\n",
    "menu: nav/csp_units/csp_unit3_p2_fundamentals.html\n",
    "author: Arhaan, Mihir, Akshaj, Keerthan\n",
    "toc: true\n",
    "comments: true\n",
    "---"
   ]
  },
  {
   "cell_type": "raw",
   "metadata": {},
   "source": []
  },
  {
   "cell_type": "markdown",
   "metadata": {
    "vscode": {
     "languageId": "raw"
    }
   },
   "source": [
    "# **Homework: Shopping List Calculator**\n",
    "\n",
    "## Objective\n",
    "\n",
    "In this assignment, you will create a simple shopping list calculator that allows users to add items to their shopping list, input their prices, and calculate the total cost. This exercise will help you practice using variables, loops, and basic arithmetic operations.\n",
    "\n",
    "---\n",
    "\n",
    "## **Assignment Steps**\n",
    "\n",
    "### Step 1: Initialize Your Shopping List\n",
    "\n",
    "1. Create an empty list to store the items in the shopping list.\n",
    "2. Create a variable to store the total cost, initialized to zero.\n",
    "\n",
    "### Step 2: User Input for Shopping List\n",
    "\n",
    "Implement a loop that allows users to add items to their shopping list until they decide to stop. For each item, ask the user to input:\n",
    "- The name of the item\n",
    "- The price of the item\n",
    "\n",
    "### Example (Python):\n",
    "```python\n",
    "shopping_list = []\n",
    "total_cost = 0.0\n",
    "\n",
    "while True:\n",
    "    item_name = input(\"Enter the item name (or 'done' to finish): \")\n",
    "    if item_name.lower() == 'done':\n",
    "        break\n",
    "    item_price = float(input(\"Enter the price of the item: \"))\n",
    "    \n",
    "    shopping_list.append((item_name, item_price))\n",
    "    total_cost += item_price\n"
   ]
  },
  {
   "cell_type": "code",
   "execution_count": 4,
   "metadata": {},
   "outputs": [
    {
     "name": "stdout",
     "output_type": "stream",
     "text": [
      "Please enter a valid number for the price.\n",
      "Please enter a valid number for the price.\n",
      "Please enter a valid number for the price.\n",
      "Please enter a valid number for the price.\n",
      "Please enter a valid number for the price.\n",
      "\n",
      "Your Shopping List:\n",
      "popcorn: $50.00\n",
      ": $20.00\n",
      "$20: $20.00\n",
      ": $40.30\n",
      "\n",
      "Total Cost: $130.30\n"
     ]
    }
   ],
   "source": [
    "#Use this as an example to create your own shopping list calculator. \n",
    "\n",
    "# Initialize the shopping list and total cost\n",
    "\n",
    "shopping_list = []\n",
    "total_cost = 0.0\n",
    "\n",
    "while True:\n",
    "    item_name = input(\"Enter the item name (or 'done' to finish): \")\n",
    "    \n",
    "    # Exit condition\n",
    "    if item_name.lower() == 'done':\n",
    "        break\n",
    "    \n",
    "    try:\n",
    "        item_price = float(input(\"Enter the price of the item: \"))\n",
    "        \n",
    "        # Add the item and its price to the shopping list\n",
    "        shopping_list.append((item_name, item_price))\n",
    "        total_cost += item_price  # Update the total cost\n",
    "    except ValueError:\n",
    "        print(\"Please enter a valid number for the price.\")\n",
    "\n",
    "# Display the shopping list and total cost\n",
    "print(\"\\nYour Shopping List:\")\n",
    "for item, price in shopping_list:\n",
    "    print(f\"{item}: ${price:.2f}\")\n",
    "    \n",
    "print(f\"\\nTotal Cost: ${total_cost:.2f}\")\n"
   ]
  }
 ],
 "metadata": {
  "kernelspec": {
   "display_name": "venv",
   "language": "python",
   "name": "python3"
  },
  "language_info": {
   "codemirror_mode": {
    "name": "ipython",
    "version": 3
   },
   "file_extension": ".py",
   "mimetype": "text/x-python",
   "name": "python",
   "nbconvert_exporter": "python",
   "pygments_lexer": "ipython3",
   "version": "3.12.5"
  }
 },
 "nbformat": 4,
 "nbformat_minor": 2
}
