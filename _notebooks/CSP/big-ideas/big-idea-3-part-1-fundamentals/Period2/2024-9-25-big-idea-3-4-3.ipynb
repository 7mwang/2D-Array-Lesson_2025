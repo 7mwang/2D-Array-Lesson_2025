{
 "cells": [
  {
   "cell_type": "raw",
   "metadata": {
    "vscode": {
     "languageId": "raw"
    }
   },
   "source": [
    "---\n",
    "layout: post\n",
    "title: 3.4 Strings\n",
    "description: Added Popcorn Hacks\n",
    "categories: [Python, Javascript]\n",
    "permalink: /csp/big-idea/p2/3-4-3\n",
    "menu: nav/csp_units/csp_unit3_p2_fundamentals.html\n",
    "author: Keerthan, Mihir\n",
    "toc: true\n",
    "comments: true\n",
    "---"
   ]
  },
  {
   "cell_type": "markdown",
   "metadata": {},
   "source": [
    "## Popcorn Hack #1\n",
    "Define three variables: Movie, Sport, Pet name\n",
    "\n",
    "\n",
    "Combine these variables into the following message: Hello, my favorite movie is [Movie]. My favorite sport is [Sport] and my pet's name is [petName].\n",
    "\n",
    "\n",
    "Do this exercise using both concatenation and interpolation"
   ]
  },
  {
   "cell_type": "code",
   "execution_count": 13,
   "metadata": {
    "vscode": {
     "languageId": "javascript"
    }
   },
   "outputs": [
    {
     "data": {
      "application/javascript": "\n\nlet favoriteMovie = \"Inception\";\nlet favoriteSport = \"soccer\";\nlet petName = \"Buddy\";\n\n\n// Concatenation\nlet concatenatedMessage = \"My favorite movie is \" + favoriteMovie + \". I love playing \" + favoriteSport + \" and my pet's name is \" + petName + \".\";\n\n\n// Interpolation\nlet interpolatedMessage = `My favorite movie is ${favoriteMovie}. I love playing ${favoriteSport} and my pet's name is ${petName}.`;\n",
      "text/plain": [
       "<IPython.core.display.Javascript object>"
      ]
     },
     "metadata": {},
     "output_type": "display_data"
    }
   ],
   "source": [
    "%%js\n",
    "\n",
    "\n",
    "let favoriteMovie = \"Inception\";\n",
    "let favoriteSport = \"soccer\";\n",
    "let petName = \"Buddy\";\n",
    "\n",
    "\n",
    "// Concatenation\n",
    "let concatenatedMessage = \"My favorite movie is \" + favoriteMovie + \". I love playing \" + favoriteSport + \" and my pet's name is \" + petName + \".\";\n",
    "\n",
    "\n",
    "// Interpolation\n",
    "let interpolatedMessage = `My favorite movie is ${favoriteMovie}. I love playing ${favoriteSport} and my pet's name is ${petName}.`;\n"
   ]
  },
  {
   "cell_type": "markdown",
   "metadata": {},
   "source": [
    "## Popcorn Hack #2\n",
    "\n",
    "\n",
    "You are given a string “A journey of a thousand miles begins with a single step”. Your task is to write code that uses the slice() method to:\n",
    "\n",
    " - Extract the word “journey”\n",
    " - Extract the word “miles” using a negative starting index\n",
    " - Extract everything from the word “begins” to the end of the sentence\n",
    " - Output these extractions at the end of the code"
   ]
  },
  {
   "cell_type": "code",
   "execution_count": null,
   "metadata": {
    "vscode": {
     "languageId": "javascript"
    }
   },
   "outputs": [],
   "source": [
    "%%js\n",
    "\n",
    "\n",
    "// Define string\n",
    "let phrase = \"A journey of a thousand miles begins with a single step\";\n",
    "\n",
    "\n",
    "// Extraction\n",
    "let partOne = phrase.slice(2, 8);\n",
    "let partTwo = phrase.slice(-18, -12);\n",
    "let remainder = phrase.slice(20);\n",
    "\n",
    "\n",
    "// Output\n",
    "console.log(partOne);  // Output: journey\n",
    "console.log(partTwo);  // Output: miles\n",
    "console.log(remainder); // Output: begins with a single step"
   ]
  }
 ],
 "metadata": {
  "kernelspec": {
   "display_name": "venv",
   "language": "python",
   "name": "python3"
  },
  "language_info": {
   "codemirror_mode": {
    "name": "ipython",
    "version": 3
   },
   "file_extension": ".py",
   "mimetype": "text/x-python",
   "name": "python",
   "nbconvert_exporter": "python",
   "pygments_lexer": "ipython3",
   "version": "3.12.6"
  }
 },
 "nbformat": 4,
 "nbformat_minor": 2
}
