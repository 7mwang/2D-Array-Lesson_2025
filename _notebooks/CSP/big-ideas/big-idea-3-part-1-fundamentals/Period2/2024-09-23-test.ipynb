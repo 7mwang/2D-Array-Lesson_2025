{
 "cells": [
  {
   "cell_type": "raw",
   "metadata": {
    "vscode": {
     "languageId": "raw"
    }
   },
   "source": [
    "---\n",
    "toc: false\n",
    "comments: true\n",
    "layout: post\n",
    "title: 3.2 Lesson Period 2\n",
    "description: Student led teaching on Abstraction. Teaching how various data types can use abstraction for copmutational efficiency.\n",
    "permalink: /csp/big-idea/p2/3-2-3/\n",
    "categories: [CSP Big Ideas]\n",
    "author:  Nikhil Maturi, Yash Parikh, Neil Chandra, Rohan Bojja (P.2)\n",
    "menu: nav/csp_units/csp_unit3_p2_fundamentals.html\n",
    "---"
   ]
  },
  {
   "cell_type": "markdown",
   "metadata": {},
   "source": [
    "<h1>Car Information</h1>\n",
    "\n",
    "<div id=\"output\"></div>\n",
    "\n",
    "<script>\n",
    "// JavaScript object\n",
    "var mydictionary = {\n",
    "    \"brand\": \"Ford\",\n",
    "    \"model\": \"Mustang\",\n",
    "    \"year\": 1964\n",
    "};\n",
    "\n",
    "// Creating HTML output with JavaScript\n",
    "var output = `\n",
    "  <p>The whole dictionary is: <pre>${JSON.stringify(mydictionary, null, 2)}</pre></p>\n",
    "  <p>The value of the key 'brand' is: ${mydictionary[\"brand\"]}</p>\n",
    "  <p>The value of the key 'model' is: ${mydictionary[\"model\"]}</p>\n",
    "  <p>The value of the key 'year' is: ${mydictionary[\"year\"]}</p>\n",
    "`;\n",
    "\n",
    "// Display the output in the HTML body\n",
    "document.getElementById(\"output\").innerHTML = output;\n",
    "</script>\n",
    "</html>\n"
   ]
  }
 ],
 "metadata": {
  "language_info": {
   "name": "python"
  }
 },
 "nbformat": 4,
 "nbformat_minor": 2
}
