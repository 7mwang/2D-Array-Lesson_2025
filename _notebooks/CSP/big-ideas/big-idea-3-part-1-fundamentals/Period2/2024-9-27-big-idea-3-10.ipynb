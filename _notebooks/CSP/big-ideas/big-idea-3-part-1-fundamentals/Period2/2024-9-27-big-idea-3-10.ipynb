{
 "cells": [
  {
   "cell_type": "raw",
   "metadata": {},
   "source": [
    "---\n",
    "toc: false\n",
    "comments: true\n",
    "layout: post\n",
    "title: 3.10 List Operations\n",
    "description: Student led teaching on Lists. Learn how storage and manipulation of multiple items using indexing to access individual elements.\n",
    "permalink: /csp/big-idea/p2/3-10\n",
    "categories: [CSP Big Ideas]\n",
    "author:  Alex, Daksha, Darsh, Zach\n",
    "menu: nav/csp_units/csp_unit3_p2_fundamentals.html\n",
    "---"
   ]
  },
  {
   "cell_type": "markdown",
   "metadata": {},
   "source": [
    "## Overview of our content"
   ]
  },
  {
   "cell_type": "markdown",
   "metadata": {
    "vscode": {
     "languageId": "raw"
    }
   },
   "source": [
    "### 3.10. List Operations\n",
    "\n",
    "#### 3.10.1 Assigning Values - Alex Gustaf\n",
    "- **Assigning Values**: Assign values to list elements.\n",
    "- **Inserting Elements**: Insert elements at specific positions in the list.\n",
    "- **Appending Elements**: Append new elements to the end of the list.\n",
    "- **Removing Elements**: Remove elements from the list.\n",
    "- **Calculating Length**: Calculate the length of the list.\n",
    "\n",
    "---\n",
    "\n",
    "#### 3.10.2 Pseudocode: Sum of Even Numbers in a List - Daksha Gowda\n",
    "- **Variables**: Define necessary variables for calculation.\n",
    "- **Create Number List**: Initialize a list of numbers to work with.\n",
    "- **Modulus Operator**: Use the modulus operator to identify even numbers.\n",
    "- **Control Structures**: Implement `for` loops and `if` statements for iteration and condition checking.\n",
    "\n",
    "---\n",
    "\n",
    "#### 3.10.3 Hacks: Functions - Darsh\n",
    "- **Find Max and Min**: Create a function to identify the largest and smallest numbers in a list.\n",
    "- **Iterate Through the List**: Utilize loops to process each element effectively.\n",
    "\n",
    "---\n",
    "\n",
    "#### 3.10.4 Hacks: Lists - Zachary Peltz\n",
    "- **User Input**: Accept input from the user to populate the list.\n",
    "- **Element Attributes/Values**: Explore the attributes or values associated with list elements.\n"
   ]
  },
  {
   "cell_type": "markdown",
   "metadata": {},
   "source": [
    "# Popcorn Hack #2\n",
    "> using Pseuodocde, make a list of the number 1 through 100 and find the sum of all even numbers. Then use python and change your code into python"
   ]
  },
  {
   "cell_type": "markdown",
   "metadata": {},
   "source": [
    "<details>\n",
    "    <summary>See Answer</summary>\n",
    "    <pre><code>\n",
    "\n",
    "### Pseudocode\n",
    "   nums ← 1 to 100\n",
    "odd_sum ← 0\n",
    "\n",
    "FOR EACH score IN nums\n",
    "    IF score MOD 2 ≠ 0 THEN\n",
    "        odd_sum ← odd_sum + score\n",
    "    END IF\n",
    "END FOR\n",
    "\n",
    "DISPLAY (\"Sum of odd numbers in the list:\", odd_sum)\n",
    "\n",
    "### now in python\n",
    "nums = range(1, 101)  # This creates a range of numbers from 1 to 100\n",
    "odd_sum = 0\n",
    "\n",
    "for score in nums:\n",
    "    if score % 2 != 0:\n",
    "        odd_sum += score\n",
    "\n",
    "print(\"Sum of odd numbers in the list:\", odd_sum)\n",
    "</code></pre>\n",
    "\n",
    "\n",
    "</details>"
   ]
  }
 ],
 "metadata": {
  "language_info": {
   "name": "python"
  }
 },
 "nbformat": 4,
 "nbformat_minor": 2
}
