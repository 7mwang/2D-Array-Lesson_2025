{
 "cells": [
  {
   "cell_type": "raw",
   "metadata": {
    "vscode": {
     "languageId": "raw"
    }
   },
   "source": [
    "---\n",
    "toc: false\n",
    "comments: true\n",
    "layout: post\n",
    "title: 3.2 Lesson Period 2\n",
    "description: Student led teaching on Abstraction. Teaching how various data types can use abstraction for computational efficiency.\n",
    "permalink: /csp/big-idea/p2/3-2/\n",
    "categories: [CSP Big Ideas]\n",
    "author:  Nikhil Maturi, Yash Parikh, Neil Chandra, Rohan Bojja (P.2)\n",
    "menu: nav/csp_units/csp_unit3_p2_fundamentals.html\n",
    "---"
   ]
  },
  {
   "cell_type": "markdown",
   "metadata": {},
   "source": [
    "# Popcorn Hack #1\n",
    "> Please create a dictionary containing the following values in both JavaScript and Python.\n",
    "> The dictionary should contain the following values: bananas, apples, and pears, and assign them to numbers 1, 2, and 3.\n",
    "> Please print out the output of access one values through its corresponding key."
   ]
  },
  {
   "cell_type": "code",
   "execution_count": null,
   "metadata": {
    "vscode": {
     "languageId": "javascript"
    }
   },
   "outputs": [],
   "source": [
    "var myDictionary = {}; // Use this variable"
   ]
  },
  {
   "cell_type": "markdown",
   "metadata": {},
   "source": [
    "# Popcorn Hack #2\n",
    "> Please create a simple calculator in JavaScript and python, with only the basic functions of division, addition, subtraction, and multiplication.\n",
    "> You do not need to build an interface for the calculator, it can be completely command line based.\n",
    "> For example, first input = first number, second input = second number, and third input = math function."
   ]
  },
  {
   "cell_type": "markdown",
   "metadata": {},
   "source": [
    "<details>\n",
    "    <summary>See Answer</summary>\n",
    "    <pre><code>\n",
    "firstNumber = int(input(\"Please Enter the First Number Here: \"))\n",
    "secondNumber = int(input(\"Please Enter the Second Number Here: \"))\n",
    "mathFunction = int(input(\"Please Enter the function here: \")) #Ex: +, -, *, /\n",
    "\n",
    "if mathFunction == \"+\":\n",
    "    print(firstNumber + secondNumber)\n",
    "elif mathFunction == \"-\":\n",
    "    print(firstNumber - secondNumber)\n",
    "elif mathFunction == \"*\":\n",
    "    print(firstNumber * secondNumber)\n",
    "elif mathFunction == \"/\":\n",
    "    print(firstNumber / secondNumber)\n",
    "    </code></pre>\n",
    "</details>"
   ]
  },
  {
   "cell_type": "markdown",
   "metadata": {},
   "source": [
    "# Popcorn Hack #3\n",
    "\n",
    "> Task: Write a function that takes a list of strings and an integer n. The function should return a new list where each > string in the original list is repeated n times."
   ]
  },
  {
   "cell_type": "markdown",
   "metadata": {},
   "source": [
    "<details>\n",
    "    <summary>See Answer</summary>\n",
    "    <pre><code>\n",
    "def repeat_strings_in_list(strings, n) -> list: \n",
    "    result = [] # Creating array\n",
    "    for string in strings:\n",
    "        result.append(string * n)  # Repeating the string `n` times\n",
    "    return result\n",
    "\n",
    "string_list = [\"hello\", \"world\", \"python\"]\n",
    "print(repeat_strings_in_list(string_list, 3))\n",
    "    </code></pre>\n",
    "</details>\n"
   ]
  },
  {
   "cell_type": "markdown",
   "metadata": {},
   "source": [
    "# Popcorn Hack #4"
   ]
  },
  {
   "cell_type": "markdown",
   "metadata": {},
   "source": [
    "> Please create a function that compares two sets, and checks if there is an value within set 2 that is within set 1. If a value from set 2 is in set 1, then return the boolean output 'True' . If not, then return the boolean value 'False'. Here is an example of a check for your code:"
   ]
  },
  {
   "cell_type": "code",
   "execution_count": null,
   "metadata": {},
   "outputs": [],
   "source": [
    "print(sets_have_common_elements({1, 2, 3}, {3, 4}))  # Output: True\n",
    "print(sets_have_common_elements({1, 2, 3}, {4, 5}))  # Output: False"
   ]
  },
  {
   "cell_type": "markdown",
   "metadata": {},
   "source": [
    "<details>\n",
    "    <summary>See Answer</summary>\n",
    "    <pre><code>\n",
    "def sets_have_common_elements(set1, set2):\n",
    "    for elem in set1:\n",
    "        if elem in set2:\n",
    "            return True\n",
    "    return False\n",
    "print(sets_have_common_elements({1, 2, 3}, {3, 4}))  # Output: True\n",
    "print(sets_have_common_elements({1, 2, 3}, {4, 5}))  # Output: False\n",
    "print(sets_have_common_elements({1, 2}, {2}))         # Output: False\n",
    "print(sets_have_common_elements({}, {}))             # Output: False\n",
    "    </code></pre>\n",
    "</details>\n"
   ]
  }
 ],
 "metadata": {
  "language_info": {
   "name": "python"
  }
 },
 "nbformat": 4,
 "nbformat_minor": 2
}
