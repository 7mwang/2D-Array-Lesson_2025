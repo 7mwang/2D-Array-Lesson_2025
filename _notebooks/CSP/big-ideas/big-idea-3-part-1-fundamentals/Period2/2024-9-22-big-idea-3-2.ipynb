{
 "cells": [
  {
   "cell_type": "raw",
   "metadata": {
    "vscode": {
     "languageId": "raw"
    }
   },
   "source": [
    "---\n",
    "toc: false\n",
    "comments: true\n",
    "layout: post\n",
    "title: 3.2 Lesson Period 2\n",
    "description: Student led teaching on Abstraction. Teaching how various data types can use abstraction for computational efficiency.\n",
    "permalink: /csp/big-idea/p2/3-2/\n",
    "categories: [CSP Big Ideas]\n",
    "author:  Nikhil Maturi, Yash Parikh, Neil Chandra, Rohan Bojja (P.2)\n",
    "menu: nav/csp_units/csp_unit3_p2_fundamentals.html\n",
    "---"
   ]
  },
  {
   "cell_type": "markdown",
   "metadata": {},
   "source": [
    "Here is our 3-2 main menu"
   ]
  }
 ],
 "metadata": {
  "language_info": {
   "name": "python"
  }
 },
 "nbformat": 4,
 "nbformat_minor": 2
}
