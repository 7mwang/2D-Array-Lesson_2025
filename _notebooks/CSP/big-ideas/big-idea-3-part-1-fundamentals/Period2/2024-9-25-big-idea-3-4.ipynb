{
 "cells": [
  {
   "cell_type": "raw",
   "metadata": {
    "vscode": {
     "languageId": "raw"
    }
   },
   "source": [
    "---\n",
    "layout: post\n",
    "title: 3.4-P2 Strings\n",
    "description: Interpret programs that use strings. \n",
    "categories: [Python, Javascript]\n",
    "permalink: /csp/big-idea/p2/3-4\n",
    "menu: nav/csp_units/csp_unit3_p2_fundamentals.html\n",
    "author: Arhaan, Mihir, Akshaj, Keerthan\n",
    "toc: true\n",
    "comments: true\n",
    "---"
   ]
  },
  {
   "cell_type": "markdown",
   "metadata": {},
   "source": [
    "## 3.4 Strings: Javascript\n",
    "Keerthan Karumudi\n",
    " - concatenation\n",
    " - string Interpolation\n",
    " - Indexing\n",
    " - substrings\n",
    " - escape characters"
   ]
  }
 ],
 "metadata": {
  "language_info": {
   "name": "python"
  }
 },
 "nbformat": 4,
 "nbformat_minor": 2
}
