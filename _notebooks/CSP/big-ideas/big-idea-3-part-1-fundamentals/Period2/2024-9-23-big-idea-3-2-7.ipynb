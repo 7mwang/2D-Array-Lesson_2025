{
 "cells": [
  {
   "cell_type": "raw",
   "metadata": {
    "vscode": {
     "languageId": "raw"
    }
   },
   "source": [
    "---\n",
    "toc: false\n",
    "comments: true\n",
    "layout: post\n",
    "title: 3.2 Lesson Period 2\n",
    "description: Student led teaching on Abstraction. Teaching how various data types can use abstraction for copmutational efficiency.\n",
    "permalink: /csp/big-idea/p2/3-2-7/\n",
    "categories: [CSP Big Ideas]\n",
    "author:  Nikhil Maturi, Yash Parikh, Neil Chandra, Rohan Bojja (P.2)\n",
    "menu: nav/csp_units/csp_unit3_p2_fundamentals.html\n",
    "---"
   ]
  },
  {
   "cell_type": "markdown",
   "metadata": {},
   "source": [
    "## Sets - 3.2.7"
   ]
  },
  {
   "cell_type": "code",
   "execution_count": 1,
   "metadata": {},
   "outputs": [
    {
     "name": "stdout",
     "output_type": "stream",
     "text": [
      "\n",
      "The whole set is:\n",
      "{'banana', 'apple', 'cherry'}\n",
      "\n",
      "The value of the index 0 is:\n",
      "banana\n",
      "apple\n",
      "cherry\n",
      "\n",
      "To add an orange:\n",
      "banana\n",
      "orange\n",
      "apple\n",
      "cherry\n",
      "\n",
      "To remove a banana:\n",
      "orange\n",
      "apple\n",
      "cherry\n"
     ]
    }
   ],
   "source": [
    "##Unordered, unchanged, indexed, no duplicate values\n",
    "\n",
    "myset = {\"apple\", \"banana\", \"cherry\"}\n",
    "\n",
    "print(\"\\nThe whole set is:\")\n",
    "print(myset)\n",
    "\n",
    "print(\"\\nThe value of the index 0 is:\")\n",
    "for i in myset:\n",
    "    print(i)\n",
    "\n",
    "print(\"\\nTo add an orange:\")\n",
    "myset.add(\"orange\")\n",
    "for i in myset:\n",
    "    print(i)\n",
    "\n",
    "print(\"\\nTo remove a banana:\")\n",
    "myset.remove(\"banana\")\n",
    "for i in myset:\n",
    "    print(i)"
   ]
  }
 ],
 "metadata": {
  "kernelspec": {
   "display_name": "venv",
   "language": "python",
   "name": "python3"
  },
  "language_info": {
   "codemirror_mode": {
    "name": "ipython",
    "version": 3
   },
   "file_extension": ".py",
   "mimetype": "text/x-python",
   "name": "python",
   "nbconvert_exporter": "python",
   "pygments_lexer": "ipython3",
   "version": "3.12.3"
  }
 },
 "nbformat": 4,
 "nbformat_minor": 2
}
