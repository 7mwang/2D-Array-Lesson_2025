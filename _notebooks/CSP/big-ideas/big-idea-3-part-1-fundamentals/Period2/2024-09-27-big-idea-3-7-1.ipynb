{
 "cells": [
  {
   "cell_type": "markdown",
   "metadata": {},
   "source": [
    "---\n",
    "toc: false\n",
    "comments: true\n",
    "layout: post\n",
    "title: 3.7.1 Nested Conditionals\n",
    "description: Student led teaching on Conditionals using Javascript and Python\n",
    "permalink: /csp/big-idea/p2/3-7-1\n",
    "categories: [CSP Big Ideas]\n",
    "author:  Kush, Nolan, Vincent, and Tarun\n",
    "menu: nav/csp_units/csp_unit3_p2_fundamentals.html\n",
    "---"
   ]
  },
  {
   "cell_type": "markdown",
   "metadata": {},
   "source": [
    "<h1>Pseudo Code Python and Java<h1>"
   ]
  },
  {
   "cell_type": "code",
   "execution_count": 1,
   "metadata": {},
   "outputs": [
    {
     "name": "stdout",
     "output_type": "stream",
     "text": [
      "A\n"
     ]
    }
   ],
   "source": [
    "score = int(input(\"Enter the score: \"))\n",
    "\n",
    "if score >= 90:\n",
    "    print(\"A\")\n",
    "else:\n",
    "    if score >= 80:\n",
    "        print(\"B\")\n",
    "    else:\n",
    "        if score >= 70:\n",
    "            print(\"C\")\n",
    "        else:\n",
    "            if score >= 60:\n",
    "                print(\"D\")\n",
    "            else:\n",
    "                print(\"F\")\n"
   ]
  },
  {
   "cell_type": "code",
   "execution_count": 4,
   "metadata": {
    "vscode": {
     "languageId": "javascript"
    }
   },
   "outputs": [
    {
     "data": {
      "application/javascript": "let score = parseInt(prompt(\"Enter the score:\"));\n\nif (score >= 90) {\n    console.log(\"A\");\n} else {\n    if (score >= 80) {\n        console.log(\"B\");\n    } else {\n        if (score >= 70) {\n            console.log(\"C\");\n        } else {\n            if (score >= 60) {\n                console.log(\"D\");\n            } else {\n                console.log(\"F\");\n            }\n        }\n    }\n}\n",
      "text/plain": [
       "<IPython.core.display.Javascript object>"
      ]
     },
     "metadata": {},
     "output_type": "display_data"
    }
   ],
   "source": [
    "%%js\n",
    "let score = parseInt(prompt(\"Enter the score:\"));\n",
    "\n",
    "if (score >= 90) {\n",
    "    console.log(\"A\");\n",
    "} else {\n",
    "    if (score >= 80) {\n",
    "        console.log(\"B\");\n",
    "    } else {\n",
    "        if (score >= 70) {\n",
    "            console.log(\"C\");\n",
    "        } else {\n",
    "            if (score >= 60) {\n",
    "                console.log(\"D\");\n",
    "            } else {\n",
    "                console.log(\"F\");\n",
    "            }\n",
    "        }\n",
    "    }\n",
    "}\n"
   ]
  },
  {
   "cell_type": "markdown",
   "metadata": {},
   "source": [
    "# Python \n",
    "Here is the equivalent Python code:"
   ]
  },
  {
   "cell_type": "code",
   "execution_count": 23,
   "metadata": {},
   "outputs": [
    {
     "name": "stdout",
     "output_type": "stream",
     "text": [
      "Not eligible for loan due to low credit score\n"
     ]
    }
   ],
   "source": [
    "credit_score = 100  \n",
    "income = 10000      \n",
    "\n",
    "if credit_score < 700:\n",
    "    print(\"Not eligible for loan due to low credit score\")\n",
    "elif income < 50000:\n",
    "    print(\"Not eligible for loan due to low income\")\n",
    "else:\n",
    "    print(\"Eligible for loan\")\n"
   ]
  },
  {
   "cell_type": "markdown",
   "metadata": {},
   "source": [
    "<h1>Equivalent Javascript<h1>"
   ]
  },
  {
   "cell_type": "code",
   "execution_count": 7,
   "metadata": {
    "vscode": {
     "languageId": "javascript"
    }
   },
   "outputs": [
    {
     "data": {
      "application/javascript": "let credit_score = 100;\nlet income = 10000;\n\nif (credit_score < 700) {\n    console.log(\"Not eligible for loan due to low credit score\");\n} else if (income < 50000) {\n    console.log(\"Not eligible for loan due to low income\");\n} else {\n    console.log(\"Eligible for loan\");\n}\n",
      "text/plain": [
       "<IPython.core.display.Javascript object>"
      ]
     },
     "metadata": {},
     "output_type": "display_data"
    }
   ],
   "source": [
    "%%js\n",
    "let credit_score = 100;\n",
    "let income = 10000;\n",
    "\n",
    "if (credit_score < 700) {\n",
    "    console.log(\"Not eligible for loan due to low credit score\");\n",
    "} else if (income < 50000) {\n",
    "    console.log(\"Not eligible for loan due to low income\");\n",
    "} else {\n",
    "    console.log(\"Eligible for loan\");\n",
    "}\n"
   ]
  },
  {
   "cell_type": "markdown",
   "metadata": {},
   "source": [
    "<h3><h3>\n",
    "\n",
    "-Both snippets (Python and JavaScript) check loan eligibility based on two factors: credit_score and income.\n",
    "\n",
    "-If the credit_score is less than 700, both codes print a message stating that the person is not eligible due to a low credit score.\n",
    "\n",
    "-If the credit_score is 700 or higher but the income is less than 50,000, both codes output that the person is not eligible due to low income.\n",
    "\n",
    "-If both conditions are met (credit score ≥ 700 and income ≥ 50,000), both snippets print that the person is eligible for a loan.\n",
    "\n",
    "-The Python code uses print() to display messages in the console, while the JavaScript code uses console.log() to achieve the same result."
   ]
  },
  {
   "cell_type": "markdown",
   "metadata": {},
   "source": []
  }
 ],
 "metadata": {
  "kernelspec": {
   "display_name": "venv",
   "language": "python",
   "name": "python3"
  },
  "language_info": {
   "codemirror_mode": {
    "name": "ipython",
    "version": 3
   },
   "file_extension": ".py",
   "mimetype": "text/x-python",
   "name": "python",
   "nbconvert_exporter": "python",
   "pygments_lexer": "ipython3",
   "version": "3.12.5"
  }
 },
 "nbformat": 4,
 "nbformat_minor": 2
}
