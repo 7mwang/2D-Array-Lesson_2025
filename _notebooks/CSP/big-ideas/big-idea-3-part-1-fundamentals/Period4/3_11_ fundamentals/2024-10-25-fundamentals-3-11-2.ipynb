{
 "cells": [
  {
   "cell_type": "raw",
   "metadata": {
    "vscode": {
     "languageId": "raw"
    }
   },
   "source": [
    "---\n",
    "toc: false\n",
    "comments: true\n",
    "layout: post\n",
    "title: 3.11 Lists\n",
    "description: This is student-led teaching on lists\n",
    "categories: [CSP Big Ideas]\n",
    "author: Noah, James, Zafeer\n",
    "menu: nav/csp_units/csp_unit3_p4_fundamentals.html\n",
    "---"
   ]
  },
  {
   "cell_type": "markdown",
   "metadata": {},
   "source": [
    "## Lists"
   ]
  },
  {
   "cell_type": "raw",
   "metadata": {},
   "source": [
    "A Python list is A list is a collection of items that can be of any data type (integers, strings, etc.).Lists are ordered, changeable, and allow duplicate elements. "
   ]
  },
  {
   "cell_type": "code",
   "execution_count": null,
   "metadata": {},
   "outputs": [],
   "source": [
    "fruits = [\"apple\", \"banana\", \"cherry\"]\n",
    "print(fruits)  # Output: ['apple', 'banana', 'cherry']"
   ]
  },
  {
   "cell_type": "raw",
   "metadata": {
    "vscode": {
     "languageId": "raw"
    }
   },
   "source": [
    "If you wanted to go backwards, indexing works slightly differently. For instance, in a list of numbers such as (10, 20, 30, 40) if you wanted to access the number 40 specifically you would reference it using a negative index. In this case, you would use -1 enclosed in brackets when referencing it. "
   ]
  },
  {
   "cell_type": "markdown",
   "metadata": {},
   "source": [
    "**Creating a list:**\n",
    "\n",
    "In order to create a list named \"aList\", type aList = [].\n",
    "This creates an empty list.\n",
    "A list with elements would look like this aList = [element1,element2,element3]\n",
    "\n",
    "**Append:**\n",
    "1) Creating a list of fruits:\n",
    "\n",
    "fruits = [\"apple\", \"banana\", \"cherry\"]\n",
    "\n",
    "2) Using append() to add a new item to the list:\n",
    "fruits.append(\"orange\")\n",
    "\n",
    "3) Printing the updated list\n",
    "print(fruits)\n",
    "\n",
    "The output:\n",
    "['apple', 'banana', 'cherry', 'orange']\n",
    "\n"
   ]
  },
  {
   "cell_type": "markdown",
   "metadata": {},
   "source": [
    "**Accessing an element:**\n",
    "\n",
    "If we had a list of fruits : \n",
    "fruits = [\"apple\", \"banana\", \"cherry\"]\n",
    "\n",
    "If we want to find a specefic element of a list, we put - print(LIST_NAME[#])\n",
    "For example:"
   ]
  },
  {
   "cell_type": "code",
   "execution_count": null,
   "metadata": {},
   "outputs": [],
   "source": [
    "fruits = [\"apple\", \"banana\", \"cherry\"]\n",
    "print(fruits[0])  # Output: apple"
   ]
  },
  {
   "cell_type": "markdown",
   "metadata": {},
   "source": [
    "**Deleting an element:**\n",
    "\n",
    "In order to delete an element, choose the element the same way you would access it but put \"del\" before it. For example, If I had to delete the third element in a list called aList, I would say \"del fruits[2]\"."
   ]
  },
  {
   "cell_type": "markdown",
   "metadata": {},
   "source": [
    "For each item in a list:\n",
    "\n",
    "If you want to do something to each item in a list, you will need to iterate over it. An example of that is shown below."
   ]
  },
  {
   "cell_type": "code",
   "execution_count": 19,
   "metadata": {},
   "outputs": [
    {
     "name": "stdout",
     "output_type": "stream",
     "text": [
      "Original List: [1, 2, 3, 4, 5]\n",
      "Modified List: [2, 3, 4, 5, 6]\n",
      "Length of the list: 5\n"
     ]
    }
   ],
   "source": [
    "my_list = [1, 2, 3, 4, 5]\n",
    "print(\"Original List:\", my_list)\n",
    "\n",
    "for i in range(len(my_list)):\n",
    "    my_list[i] += 1\n",
    "\n",
    "print(\"Modified List:\", my_list)\n",
    "print(\"Length of the list:\", len(my_list))"
   ]
  },
  {
   "cell_type": "markdown",
   "metadata": {
    "vscode": {
     "languageId": "raw"
    }
   },
   "source": [
    "**Checking if an Element Exists:**"
   ]
  },
  {
   "cell_type": "markdown",
   "metadata": {},
   "source": [
    "To check if an element exists in a list in Python, you can use the in keyword. This keyword returns True if the element is found in the list and False otherwise. An example of this is below. "
   ]
  },
  {
   "cell_type": "code",
   "execution_count": null,
   "metadata": {},
   "outputs": [],
   "source": [
    "my_list = [10, 20, 30, 40, 50]\n",
    "\n",
    "# Check for an element\n",
    "element_to_check = 30\n",
    "\n",
    "if element_to_check in my_list:\n",
    "    print(f\"{element_to_check} is in the list.\")\n",
    "else:\n",
    "    print(f\"{element_to_check} is not in the list.\")\n"
   ]
  },
  {
   "cell_type": "markdown",
   "metadata": {},
   "source": [
    "## Hacks\n",
    "\n",
    "Review this lesson and "
   ]
  }
 ],
 "metadata": {
  "kernelspec": {
   "display_name": "Python 3",
   "language": "python",
   "name": "python3"
  },
  "language_info": {
   "codemirror_mode": {
    "name": "ipython",
    "version": 3
   },
   "file_extension": ".py",
   "mimetype": "text/x-python",
   "name": "python",
   "nbconvert_exporter": "python",
   "pygments_lexer": "ipython3",
   "version": "3.10.12"
  },
  "orig_nbformat": 4
 },
 "nbformat": 4,
 "nbformat_minor": 2
}
