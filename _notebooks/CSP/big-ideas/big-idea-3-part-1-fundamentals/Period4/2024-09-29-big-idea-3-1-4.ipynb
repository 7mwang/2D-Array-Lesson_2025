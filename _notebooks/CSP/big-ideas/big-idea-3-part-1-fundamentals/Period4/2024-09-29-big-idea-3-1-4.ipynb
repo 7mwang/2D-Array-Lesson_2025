{
 "cells": [
  {
   "cell_type": "markdown",
   "metadata": {},
   "source": [
    "---\n",
    "layout: post\n",
    "title: Lesson 3.1.4 JavaScript Data Types\n",
    "categories: [Collaboration]\n",
    "permalink: /csp/big-idea/p4/3-1-4\n",
    "authors: Nora A. & Kushi G.\n",
    "comments: true\n",
    "---"
   ]
  },
  {
   "cell_type": "markdown",
   "metadata": {},
   "source": [
    "## Javascript Data Types! :]"
   ]
  },
  {
   "cell_type": "markdown",
   "metadata": {},
   "source": [
    "In this lesson we will be reviewing how diffrent data types are used in JS!\n",
    "\n",
    "##### We will be reviewing: Integers/floats, strings, booleans, lists, arrays, and objects"
   ]
  },
  {
   "cell_type": "markdown",
   "metadata": {},
   "source": [
    "### Integers/Floats\n",
    "\n",
    "In javascript vs python you do not have to define integers vs floats"
   ]
  },
  {
   "cell_type": "code",
   "execution_count": 54,
   "metadata": {
    "vscode": {
     "languageId": "javascript"
    }
   },
   "outputs": [
    {
     "data": {
      "application/javascript": "\n//here we define the number (temperature) and log it into the console!\nlet temperature = 76;\nconsole.log(\"number: \", temperature);\nelement.append(\"number: \" + temperature);\n",
      "text/plain": [
       "<IPython.core.display.Javascript object>"
      ]
     },
     "metadata": {},
     "output_type": "display_data"
    }
   ],
   "source": [
    "%%js\n",
    "\n",
    "//here we define the number (temperature) and log it into the console!\n",
    "let temperature = 76;\n",
    "console.log(\"number: \", temperature);\n",
    "element.append(\"number: \" + temperature);\n"
   ]
  },
  {
   "cell_type": "markdown",
   "metadata": {},
   "source": [
    "### Strings\n",
    "\n",
    "In JavaScript a string is used to represent text.  Strings are defined by closing a set of charecters in quotes (single or double but not both!)"
   ]
  },
  {
   "cell_type": "code",
   "execution_count": 50,
   "metadata": {
    "vscode": {
     "languageId": "javascript"
    }
   },
   "outputs": [
    {
     "data": {
      "application/javascript": "\n//here we define the string (fruit) and log it into the console!\nlet fruit = \"mango\";\nconsole.log(\"String: \", fruit);\nelement.append(\"String: \" + fruit);\n",
      "text/plain": [
       "<IPython.core.display.Javascript object>"
      ]
     },
     "metadata": {},
     "output_type": "display_data"
    }
   ],
   "source": [
    "%%js\n",
    "\n",
    "//here we define the string (fruit) and log it into the console!\n",
    "let fruit = \"mango\";\n",
    "console.log(\"String: \", fruit);\n",
    "element.append(\"String: \" + fruit);"
   ]
  },
  {
   "cell_type": "markdown",
   "metadata": {},
   "source": [
    "### Booleans\n",
    "\n",
    "a boolean represents a true or false value, they are usually used in if then statments. Stating that if something is true/false, then something else will occour!"
   ]
  },
  {
   "cell_type": "code",
   "execution_count": 51,
   "metadata": {
    "vscode": {
     "languageId": "javascript"
    }
   },
   "outputs": [
    {
     "data": {
      "application/javascript": "\n//here we define the boolean () and log it into the console!\nlet isSkyBlue = true;\nconsole.log(\"Boolean: \", isSkyBlue);\nelement.append(\"Boolean: \" + isSkyBlue);\n\n//if the sky is blue it will come up as true in the consle \n//if not it will say false!\n",
      "text/plain": [
       "<IPython.core.display.Javascript object>"
      ]
     },
     "metadata": {},
     "output_type": "display_data"
    }
   ],
   "source": [
    "%%js\n",
    "\n",
    "//here we define the boolean () and log it into the console!\n",
    "let isSkyBlue = true;\n",
    "console.log(\"Boolean: \", isSkyBlue);\n",
    "element.append(\"Boolean: \" + isSkyBlue);\n",
    "\n",
    "//if the sky is blue it will come up as true in the consle \n",
    "//if not it will say false!\n"
   ]
  },
  {
   "cell_type": "markdown",
   "metadata": {},
   "source": [
    "### Arrrays\n",
    "\n",
    "Arrays are used to store multiple values in a single variable!  all the values in an array are called elements,  these elements can be any diffrent data type!"
   ]
  },
  {
   "cell_type": "code",
   "execution_count": 52,
   "metadata": {
    "vscode": {
     "languageId": "javascript"
    }
   },
   "outputs": [
    {
     "data": {
      "application/javascript": "\n// 6. Arrays\nlet berries = [\"strawberry\", \"blueberry\", \"raseberry\", \"blackberry\"];\nconsole.log(\"Array: \", berries);\nelement.append(\"Array: \" + berries.join(\", \"));\n",
      "text/plain": [
       "<IPython.core.display.Javascript object>"
      ]
     },
     "metadata": {},
     "output_type": "display_data"
    }
   ],
   "source": [
    "%%js\n",
    "\n",
    "// 6. Arrays\n",
    "let berries = [\"strawberry\", \"blueberry\", \"raseberry\", \"blackberry\"];\n",
    "console.log(\"Array: \", berries);\n",
    "element.append(\"Array: \" + berries.join(\", \"));"
   ]
  },
  {
   "cell_type": "markdown",
   "metadata": {},
   "source": [
    "`Popcorn Hack:` create your own array using two or more diffrent data types we throughout the lesson! "
   ]
  },
  {
   "cell_type": "markdown",
   "metadata": {},
   "source": [
    "### Objects\n",
    "\n",
    "Objects are arguably the most important data type used in JavaScript,  and is also known as JSON objects (simular to python dictionaries).  \n",
    "\n",
    "Objects are collections of key-value pairs,  and each key is lnked to a diffrent value"
   ]
  },
  {
   "cell_type": "code",
   "execution_count": 53,
   "metadata": {
    "vscode": {
     "languageId": "javascript"
    }
   },
   "outputs": [
    {
     "data": {
      "application/javascript": "\n// 7. Objects (Non-primitive)\nlet chair = {\n    color: \"brown\",\n    age: 4,\n  };\nconsole.log(\"Object: \", chair);\nelement.append(\"Object: \" + JSON.stringify(chair) + \"<br>\");\n",
      "text/plain": [
       "<IPython.core.display.Javascript object>"
      ]
     },
     "metadata": {},
     "output_type": "display_data"
    }
   ],
   "source": [
    "%%js\n",
    "\n",
    "// 7. Objects (Non-primitive)\n",
    "let chair = {\n",
    "    color: \"brown\",\n",
    "    age: 4,\n",
    "  };\n",
    "console.log(\"Object: \", chair);\n",
    "element.append(\"Object: \" + JSON.stringify(chair) + \"<br>\");"
   ]
  },
  {
   "cell_type": "markdown",
   "metadata": {},
   "source": [
    "`Popcorn Hack:` create your own object for yourself or somebody else,  atempt using all data types in your object!"
   ]
  }
 ],
 "metadata": {
  "kernelspec": {
   "display_name": "venv",
   "language": "python",
   "name": "python3"
  },
  "language_info": {
   "codemirror_mode": {
    "name": "ipython",
    "version": 3
   },
   "file_extension": ".py",
   "mimetype": "text/x-python",
   "name": "python",
   "nbconvert_exporter": "python",
   "pygments_lexer": "ipython3",
   "version": "3.12.5"
  }
 },
 "nbformat": 4,
 "nbformat_minor": 2
}
