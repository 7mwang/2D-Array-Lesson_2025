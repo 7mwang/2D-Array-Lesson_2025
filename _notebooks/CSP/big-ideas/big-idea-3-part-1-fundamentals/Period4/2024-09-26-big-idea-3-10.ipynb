{
 "cells": [
  {
   "cell_type": "raw",
   "metadata": {
    "vscode": {
     "languageId": "raw"
    }
   },
   "source": [
    "---\n",
    "layout: post\n",
    "title: Lesson 3.10.1 Lists\n",
    "categories: [Collaboration]\n",
    "courses: { csp: {week: 5} }\n",
    "type: collab\n",
    "comments: true\n",
    "permalink: /csp/big-idea/p4/3-{lesson}-{part}\n",
    "menu: nav/csp_units/csp_unit3_p4_fundamentals.html\n",
    "---"
   ]
  },
  {
   "cell_type": "markdown",
   "metadata": {},
   "source": [
    "List Operations:\n",
    "aList[i] - This access your list at index i. An index is a numeric value that represents the position of an element within that data structure. For example, the first element of aList is at index 1, represented by aList[1].\n",
    "x <- aList[i] - Assigns value of aList[i] to variable x\n",
    "aList[i] <- x - Assigns value of x to aList[i]\n",
    "aList[i] <- aList[j] - Assigns value of aList[j] to aList[i]\n",
    "\n",
    "INSERT(aList, i , value) - aList is the list in which you want to insert the value. i is the index at which you want to insert the value. value is the value you want to insert at that index\n",
    "APPEND(aList, value) - The value you put in is placed at the end of aList\n",
    "REMOVE(aList, i) - aList is the list in which you want to delete the value. i is the index at which you want to delete the value.\n",
    "LENGTH(aList) - Gives you the number of elements in aList\n",
    "\n",
    "FOR EACH item IN aList {\n",
    "} - Item is a var assigned each element of aList in order from first element to last. The code inside the for loop is run once for every assignment of item."
   ]
  },
  {
   "cell_type": "markdown",
   "metadata": {
    "vscode": {
     "languageId": "plaintext"
    }
   },
   "source": [
    "Append: To add an element at the end of the list"
   ]
  },
  {
   "cell_type": "markdown",
   "metadata": {},
   "source": []
  },
  {
   "cell_type": "code",
   "execution_count": null,
   "metadata": {},
   "outputs": [],
   "source": [
    "aList ← []\n",
    "\n",
    "USER_INPUT ← (\"Enter an item you want (or 'q' to quit): \")\n",
    "\n",
    "REPEAT UNTIL USER_INPUT ← q{\n",
    "    APPEND (aList, USER_INPUT)\n",
    "}\n",
    "\n",
    "DISPLAY(aList)"
   ]
  },
  {
   "cell_type": "code",
   "execution_count": null,
   "metadata": {
    "vscode": {
     "languageId": "javascript"
    }
   },
   "outputs": [],
   "source": [
    "%%js\n",
    "// JavaScript code to create a dynamic lesson plan for list operations\n",
    "\n",
    "// Helper function to create an element and append it to the container\n",
    "function createElement(tag, content, className) {\n",
    "    const element = document.createElement(tag);\n",
    "    if (content) element.innerHTML = content;\n",
    "    if (className) element.className = className;\n",
    "    return element;\n",
    "}\n",
    "\n",
    "// Function to initialize and render the lesson plan content\n",
    "function initializeLesson() {\n",
    "    const container = document.getElementById(\"lesson-container\");\n",
    "\n",
    "    // Title\n",
    "    const title = createElement(\"h1\", \"Lesson Plan: List Operations in JavaScript\");\n",
    "    container.appendChild(title);\n",
    "\n",
    "    // Introduction\n",
    "    const intro = createElement(\n",
    "        \"p\",\n",
    "        \"In this lesson, you will learn how to create lists, add and remove elements, access list items, and perform iterations over lists.\"\n",
    "    );\n",
    "    container.appendChild(intro);\n",
    "\n",
    "    // Section: Creating a List\n",
    "    const creatingListSection = createElement(\"h2\", \"Creating a List\");\n",
    "    const creatingListContent = createElement(\n",
    "        \"p\",\n",
    "        \"In JavaScript, you can create a list (array) by typing <code>let aList = [];</code>. A list with elements would look like this: <code>let aList = ['element1', 'element2', 'element3'];</code>\"\n",
    "    );\n",
    "    container.appendChild(creatingListSection);\n",
    "    container.appendChild(creatingListContent);\n",
    "\n",
    "    // Section: Append\n",
    "    const appendSection = createElement(\"h2\", \"Append\");\n",
    "    const appendContent = createElement(\n",
    "        \"p\",\n",
    "        \"The <code>push()</code> method is used to add an element to the end of a list in JavaScript: <code>aList.push('newElement');</code>\"\n",
    "    );\n",
    "    container.appendChild(appendSection);\n",
    "    container.appendChild(appendContent);\n",
    "\n",
    "    // Section: Accessing List Items\n",
    "    const accessSection = createElement(\"h2\", \"Accessing List Items\");\n",
    "    const accessContent = createElement(\n",
    "        \"p\",\n",
    "        \"List items can be accessed using their index: <code>let x = aList[0];</code> // Access first element.\"\n",
    "    );\n",
    "    container.appendChild(accessSection);\n",
    "    container.appendChild(accessContent);\n",
    "\n",
    "    // Section: Removing Elements\n",
    "    const removeSection = createElement(\"h2\", \"Removing Elements\");\n",
    "    const removeContent = createElement(\n",
    "        \"p\",\n",
    "        \"You can remove an element at a specified index using the <code>splice()</code> method: <code>aList.splice(index, 1);</code>\"\n",
    "    );\n",
    "    container.appendChild(removeSection);\n",
    "    container.appendChild(removeContent);\n",
    "\n",
    "    // Section: Length of List\n",
    "    const lengthSection = createElement(\"h2\", \"Length of List\");\n",
    "    const lengthContent = createElement(\n",
    "        \"p\",\n",
    "        \"To get the number of elements in the list, use the <code>length</code> property: <code>let lengthOfList = aList.length;</code>\"\n",
    "    );\n",
    "    container.appendChild(lengthSection);\n",
    "    container.appendChild(lengthContent);\n",
    "\n",
    "    // Interactive Exercise: Add/Remove items in a list\n",
    "    const exerciseSection = createElement(\"h2\", \"Interactive Practice: Create and Manipulate a List\");\n",
    "    container.appendChild(exerciseSection);\n",
    "\n",
    "    const exerciseInstructions = createElement(\n",
    "        \"p\",\n",
    "        \"Follow the instructions below to interact with the list operations. Type an item to add it to the list and remove items as needed.\"\n",
    "    );\n",
    "    container.appendChild(exerciseInstructions);\n",
    "\n",
    "    // Input for adding items\n",
    "    const inputField = createElement(\"input\");\n",
    "    inputField.id = \"itemInput\";\n",
    "    inputField.placeholder = \"Type an item here\";\n",
    "    container.appendChild(inputField);\n",
    "\n",
    "    // Buttons for actions\n",
    "    const addButton = createElement(\"button\", \"Add Item to List\");\n",
    "    const removeButton = createElement(\"button\", \"Remove Last Item\");\n",
    "    const displayButton = createElement(\"button\", \"Display List\");\n",
    "    container.appendChild(addButton);\n",
    "    container.appendChild(removeButton);\n",
    "    container.appendChild(displayButton);\n",
    "\n",
    "    // Output section\n",
    "    const outputSection = createElement(\"div\", \"Your list will appear here.\", \"output\");\n",
    "    outputSection.id = \"listOutput\";\n",
    "    container.appendChild(outputSection);\n",
    "\n",
    "    // Initialize list array\n",
    "    let aList = [];\n",
    "\n",
    "    // Function to add an item to the list\n",
    "    addButton.onclick = function () {\n",
    "        const item = inputField.value;\n",
    "        if (item) {\n",
    "            aList.push(item);\n",
    "            inputField.value = \"\"; // Clear input\n",
    "            displayList();\n",
    "        } else {\n",
    "            alert(\"Please enter an item.\");\n",
    "        }\n",
    "    };\n",
    "\n",
    "    // Function to remove the last item from the list\n",
    "    removeButton.onclick = function () {\n",
    "        if (aList.length > 0) {\n",
    "            aList.pop();\n",
    "            displayList();\n",
    "        } else {\n",
    "            alert(\"The list is already empty.\");\n",
    "        }\n",
    "    };\n",
    "\n",
    "    // Function to display the list\n",
    "    displayButton.onclick = function () {\n",
    "        displayList();\n",
    "    };\n",
    "\n",
    "    // Helper function to update the output\n",
    "    function displayList() {\n",
    "        let output = \"<strong>Current List:</strong><ul>\";\n",
    "        aList.forEach(item => {\n",
    "            output += \"<li>\" + item + \"</li>\";\n",
    "        });\n",
    "        output += \"</ul>\";\n",
    "        outputSection.innerHTML = output;\n",
    "    }\n",
    "}\n",
    "\n",
    "// Call initializeLesson on page load\n",
    "window.onload = initializeLesson;\n"
   ]
  },
  {
   "cell_type": "code",
   "execution_count": null,
   "metadata": {},
   "outputs": [],
   "source": []
  },
  {
   "cell_type": "raw",
   "metadata": {
    "vscode": {
     "languageId": "raw"
    }
   },
   "source": []
  },
  {
   "cell_type": "code",
   "execution_count": null,
   "metadata": {
    "vscode": {
     "languageId": "javascript"
    }
   },
   "outputs": [],
   "source": []
  },
  {
   "cell_type": "code",
   "execution_count": null,
   "metadata": {},
   "outputs": [],
   "source": []
  },
  {
   "cell_type": "raw",
   "metadata": {
    "vscode": {
     "languageId": "raw"
    }
   },
   "source": [
    "---\n",
    "layout: post\n",
    "title: Lesson 3.10 Lists\n",
    "categories: [Collaboration]\n",
    "permalink: /csp/big-idea/p4/3-1\n",
    "courses: { csp: {week: 5} }\n",
    "type: collab\n",
    "comments: true\n",
    "permalink: /csp/big-idea/p4/3-10-3\n",
    "menu: nav/csp_units/csp_unit3_p4_fundamentals.html\n",
    "---"
   ]
  },
  {
   "cell_type": "code",
   "execution_count": null,
   "metadata": {
    "vscode": {
     "languageId": "javascript"
    }
   },
   "outputs": [],
   "source": [
    "%%js\n",
    "let aList = [\"Yeezys\", \"Yeezys\"];\n",
    "let bList = [\"No Yeezys\"];\n",
    "\n",
    "bList = aList; // Assigning the values of aList to bList\n",
    "let listLength = bList.length; // Getting the length of the list\n",
    "\n",
    "console.log(\"Things I want:\", bList);\n",
    "console.log(\"How many Yeezys:\", listLength);"
   ]
  },
  {
   "cell_type": "code",
   "execution_count": null,
   "metadata": {
    "vscode": {
     "languageId": "javascript"
    }
   },
   "outputs": [],
   "source": [
    "%%js \n",
    "let randomList = [1, 2, 3, 4, 5];\n",
    "console.log(\"Original List:\", randomList);\n",
    "\n",
    "randomList[2] = 100; // Modify the item at index 2 (third element)\n",
    "console.log(\"Modified List:\", randomList);\n"
   ]
  },
  {
   "cell_type": "code",
   "execution_count": null,
   "metadata": {},
   "outputs": [],
   "source": [
    "aList = [\"Yeezys\", \"Yeezys\"]\n",
    "bList = [\"No Yeezys\"]\n",
    "\n",
    "bList = aList  # Assigning the values of aList to bList\n",
    "list_length = len(bList)  # Getting the length of the list\n",
    "\n",
    "print(\"Things I want:\", bList)\n",
    "print(\"How many Yeezys:\", list_length)"
   ]
  },
  {
   "cell_type": "code",
   "execution_count": null,
   "metadata": {},
   "outputs": [],
   "source": [
    "random_list = [1, 2, 3, 4, 5]\n",
    "print(\"Original List:\", random_list)\n",
    "\n",
    "random_list[2] = 100  # Modify the item at index 2 (third element)\n",
    "print(\"Modified List:\", random_list)"
   ]
  },
  {
   "cell_type": "raw",
   "metadata": {
    "vscode": {
     "languageId": "raw"
    }
   },
   "source": [
    "---\n",
    "layout: post\n",
    "title: Lesson 3.10 Lists\n",
    "categories: [Collaboration]\n",
    "permalink: /csp/big-idea/p4/3-1\n",
    "courses: { csp: {week: 5} }\n",
    "type: collab\n",
    "comments: true\n",
    "permalink: /csp/big-idea/p4/3-10-2\n",
    "menu: nav/csp_units/csp_unit3_p4_fundamentals.html\n",
    "---"
   ]
  },
  {
   "cell_type": "raw",
   "metadata": {
    "vscode": {
     "languageId": "raw"
    }
   },
   "source": [
    "Checking if an element exists: In python, you can use the in keyword, which will return true if the element is found in the list.\n"
   ]
  },
  {
   "cell_type": "code",
   "execution_count": null,
   "metadata": {
    "vscode": {
     "languageId": "javascript"
    }
   },
   "outputs": [],
   "source": [
    "%%js\n",
    "let fruits = [\"apple\", \"banana\", \"orange\"];\n",
    "\n",
    "if (fruits.includes(\"banana\")) {\n",
    "    console.log(\"Banana is in the list!\");\n",
    "} else {\n",
    "    console.log(\"Banana is not in the list.\");\n",
    "}"
   ]
  },
  {
   "cell_type": "code",
   "execution_count": null,
   "metadata": {},
   "outputs": [],
   "source": [
    "my_list = [10, 20, 30, 40, 50]\n",
    "\n",
    "# Check for an element\n",
    "element_to_check = 30\n",
    "\n",
    "if element_to_check in my_list:\n",
    "    print(f\"{element_to_check} is in the list.\")\n",
    "else:\n",
    "    print(f\"{element_to_check} is not in the list.\")"
   ]
  },
  {
   "cell_type": "code",
   "execution_count": null,
   "metadata": {
    "vscode": {
     "languageId": "javascript"
    }
   },
   "outputs": [],
   "source": [
    "%%js\n",
    "let fruits = [\"apple\", \"banana\", \"orange\"];\n",
    "\n",
    "if (fruits.includes(\"banana\")) {\n",
    "    console.log(\"Banana is in the list!\");\n",
    "} else {\n",
    "    console.log(\"Banana is not in the list.\");\n",
    "}"
   ]
  },
  {
   "cell_type": "raw",
   "metadata": {
    "vscode": {
     "languageId": "raw"
    }
   },
   "source": [
    "List Hacks: Sum of Numbers"
   ]
  },
  {
   "cell_type": "code",
   "execution_count": null,
   "metadata": {},
   "outputs": [],
   "source": [
    "sum -> 10\n",
    "nums ← [1, 2, 3, 4, 5, 6, 7, 8, 9, 10]\n",
    "even_sum ← 0\n",
    "\n",
    "FOR EACH score IN nums\n",
    "    IF score MOD 2 = 0 THEN\n",
    "        even_sum ← even_sum + score\n",
    "    END IF\n",
    "END FOR\n",
    "\n",
    "DISPLAY (\"Sum of even numbers in the list:\", even_sum)\n"
   ]
  },
  {
   "cell_type": "code",
   "execution_count": null,
   "metadata": {
    "vscode": {
     "languageId": "javascript"
    }
   },
   "outputs": [],
   "source": [
    "%%js\n",
    "let numbers = [1, 2, 3, 4, 5, 6];\n",
    "let sum = 0;\n",
    "\n",
    "for (let num of numbers) {\n",
    "    if (num % 2 === 0) {\n",
    "        sum += num;\n",
    "    }\n",
    "}\n",
    "\n",
    "console.log(\"Sum of even numbers:\", sum);"
   ]
  },
  {
   "cell_type": "raw",
   "metadata": {
    "vscode": {
     "languageId": "raw"
    }
   },
   "source": [
    "Hacks: Successfully find a specific element in a Lists\n",
    "Find the maximum and minimum value of a list"
   ]
  },
  {
   "cell_type": "code",
   "execution_count": null,
   "metadata": {},
   "outputs": [],
   "source": [
    "def sum_of_odd_numbers(numbers):\n",
    "    return sum(num for num in numbers if num % 2 != 0)\n",
    "\n",
    "# Example usage:\n",
    "numbers = [1, 2, 3, 4, 5, 6, 7, 8, 9]\n",
    "print(sum_of_odd_numbers(numbers))  # Output: 25"
   ]
  },
  {
   "cell_type": "code",
   "execution_count": null,
   "metadata": {
    "vscode": {
     "languageId": "javascript"
    }
   },
   "outputs": [],
   "source": [
    "%%js\n",
    "function sumOfOddNumbers(numbers) {\n",
    "    let sum = 0;\n",
    "    for (let num of numbers) {\n",
    "        if (num % 2 !== 0) {\n",
    "            sum += num;\n",
    "        }\n",
    "    }\n",
    "    return sum;\n",
    "}\n",
    "\n",
    "// Example usage:\n",
    "let numbers = [1, 2, 3, 4, 5, 6, 7, 8, 9];\n",
    "console.log(sumOfOddNumbers(numbers));  // Output: 25"
   ]
  }
 ],
 "metadata": {
  "language_info": {
   "name": "python"
  }
 },
 "nbformat": 4,
 "nbformat_minor": 2
}
