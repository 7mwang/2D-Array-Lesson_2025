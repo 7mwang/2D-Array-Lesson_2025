{
 "cells": [
  {
   "cell_type": "raw",
   "metadata": {
    "vscode": {
     "languageId": "raw"
    }
   },
   "source": [
    "---\n",
    "layout: post\n",
    "title: Lesson 3.10.1 Lists\n",
    "categories: [Collaboration]\n",
    "courses: { csp: {week: 5} }\n",
    "type: collab\n",
    "comments: true\n",
    "permalink: /csp/big-idea/p4/3-{lesson}-{part}\n",
    "menu: nav/csp_units/csp_unit3_p4_fundamentals.html\n",
    "---"
   ],
   "source": []
  },
  {
   "cell_type": "markdown",
   "metadata": {},
   "source": [
    "List Operations:\n",
    "aList[i] - This access your list at index i. An index is a numeric value that represents the position of an element within that data structure. For example, the first element of aList is at index 1, represented by aList[1].\n",
    "x <- aList[i] - Assigns value of aList[i] to variable x\n",
    "aList[i] <- x - Assigns value of x to aList[i]\n",
    "aList[i] <- aList[j] - Assigns value of aList[j] to aList[i]\n",
    "\n",
    "INSERT(aList, i , value) - aList is the list in which you want to insert the value. i is the index at which you want to insert the value. value is the value you want to insert at that index\n",
    "APPEND(aList, value) - The value you put in is placed at the end of aList\n",
    "REMOVE(aList, i) - aList is the list in which you want to delete the value. i is the index at which you want to delete the value.\n",
    "LENGTH(aList) - Gives you the number of elements in aList\n",
    "\n",
    "FOR EACH item IN aList {\n",
    "} - Item is a var assigned each element of aList in order from first element to last. The code inside the for loop is run once for every assignment of item."
   ]
  },
  {
   "cell_type": "markdown",
   "metadata": {
    "vscode": {
     "languageId": "plaintext"
    }
   },
   "source": [
    "Append: To add an element at the end of the list"
   ]
  },
  {
   "cell_type": "markdown",
   "metadata": {},
   "source": []
  },
  {
   "cell_type": "code",
   "execution_count": null,
   "metadata": {},
   "outputs": [],
   "source": [
    "aList ← []\n",
    "\n",
    "USER_INPUT ← (\"Enter an item you want (or 'q' to quit): \")\n",
    "\n",
    "REPEAT UNTIL USER_INPUT ← q{\n",
    "    APPEND (aList, USER_INPUT)\n",
    "}\n",
    "\n",
    "DISPLAY(aList)"
   ]
  },
  {
   "cell_type": "code",
   "execution_count": null,
   "metadata": {
    "vscode": {
     "languageId": "javascript"
    }
   },
   "outputs": [],
   "source": []
  },
  {
   "cell_type": "code",
   "execution_count": null,
   "metadata": {},
   "outputs": [],
   "source": []
  },
  {
   "cell_type": "raw",
   "metadata": {
    "vscode": {
     "languageId": "raw"
    }
   },
   "source": []
  },
  {
   "cell_type": "code",
   "execution_count": null,
   "metadata": {
    "vscode": {
     "languageId": "javascript"
    }
   },
   "outputs": [],
   "source": []
  },
  {
   "cell_type": "code",
   "execution_count": null,
   "metadata": {},
   "outputs": [],
   "source": []
  },
  {
   "cell_type": "raw",
   "metadata": {
    "vscode": {
     "languageId": "raw"
    }
   },
   "source": [
    "---\n",
    "layout: post\n",
    "title: Lesson 3.10 Lists\n",
    "categories: [Collaboration]\n",
    "permalink: /csp/big-idea/p4/3-1\n",
    "courses: { csp: {week: 5} }\n",
    "type: collab\n",
    "comments: true\n",
    "permalink: /csp/big-idea/p4/3-10-3\n",
    "menu: nav/csp_units/csp_unit3_p4_fundamentals.html\n",
    "---"
   ]
  },
  {
   "cell_type": "code",
   "execution_count": null,
   "metadata": {
    "vscode": {
     "languageId": "javascript"
    }
   },
   "outputs": [],
   "source": [
    "%%js\n",
    "let aList = [\"Yeezys\", \"Yeezys\"];\n",
    "let bList = [\"No Yeezys\"];\n",
    "\n",
    "bList = aList; // Assigning the values of aList to bList\n",
    "let listLength = bList.length; // Getting the length of the list\n",
    "\n",
    "console.log(\"Things I want:\", bList);\n",
    "console.log(\"How many Yeezys:\", listLength);"
   ]
  },
  {
   "cell_type": "code",
   "execution_count": null,
   "metadata": {
    "vscode": {
     "languageId": "javascript"
    }
   },
   "outputs": [],
   "source": [
    "%%js \n",
    "let randomList = [1, 2, 3, 4, 5];\n",
    "console.log(\"Original List:\", randomList);\n",
    "\n",
    "randomList[2] = 100; // Modify the item at index 2 (third element)\n",
    "console.log(\"Modified List:\", randomList);\n"
   ]
  },
  {
   "cell_type": "code",
   "execution_count": null,
   "metadata": {},
   "outputs": [],
   "source": [
    "aList = [\"Yeezys\", \"Yeezys\"]\n",
    "bList = [\"No Yeezys\"]\n",
    "\n",
    "bList = aList  # Assigning the values of aList to bList\n",
    "list_length = len(bList)  # Getting the length of the list\n",
    "\n",
    "print(\"Things I want:\", bList)\n",
    "print(\"How many Yeezys:\", list_length)"
   ]
  },
  {
   "cell_type": "code",
   "execution_count": null,
   "metadata": {},
   "outputs": [],
   "source": [
    "random_list = [1, 2, 3, 4, 5]\n",
    "print(\"Original List:\", random_list)\n",
    "\n",
    "random_list[2] = 100  # Modify the item at index 2 (third element)\n",
    "print(\"Modified List:\", random_list)"
   ]
  },
  {
   "cell_type": "raw",
   "metadata": {
    "vscode": {
     "languageId": "raw"
    }
   },
   "source": [
    "---\n",
    "layout: post\n",
    "title: Lesson 3.10 Lists\n",
    "categories: [Collaboration]\n",
    "permalink: /csp/big-idea/p4/3-1\n",
    "courses: { csp: {week: 5} }\n",
    "type: collab\n",
    "comments: true\n",
    "permalink: /csp/big-idea/p4/3-10-2\n",
    "menu: nav/csp_units/csp_unit3_p4_fundamentals.html\n",
    "---"
   ]
  },
  {
   "cell_type": "raw",
   "metadata": {
    "vscode": {
     "languageId": "raw"
    }
   },
   "source": [
    "Checking if an element exists: In python, you can use the in keyword, which will return true if the element is found in the list.\n"
   ]
  },
  {
   "cell_type": "code",
   "execution_count": null,
   "metadata": {
    "vscode": {
     "languageId": "javascript"
    }
   },
   "outputs": [],
   "source": [
    "%%js\n",
    "let fruits = [\"apple\", \"banana\", \"orange\"];\n",
    "\n",
    "if (fruits.includes(\"banana\")) {\n",
    "    console.log(\"Banana is in the list!\");\n",
    "} else {\n",
    "    console.log(\"Banana is not in the list.\");\n",
    "}"
   ]
  },
  {
   "cell_type": "code",
   "execution_count": null,
   "metadata": {},
   "outputs": [],
   "source": [
    "my_list = [10, 20, 30, 40, 50]\n",
    "\n",
    "# Check for an element\n",
    "element_to_check = 30\n",
    "\n",
    "if element_to_check in my_list:\n",
    "    print(f\"{element_to_check} is in the list.\")\n",
    "else:\n",
    "    print(f\"{element_to_check} is not in the list.\")"
   ]
  },
  {
   "cell_type": "code",
   "execution_count": null,
   "metadata": {
    "vscode": {
     "languageId": "javascript"
    }
   },
   "outputs": [],
   "source": [
    "%%js\n",
    "let fruits = [\"apple\", \"banana\", \"orange\"];\n",
    "\n",
    "if (fruits.includes(\"banana\")) {\n",
    "    console.log(\"Banana is in the list!\");\n",
    "} else {\n",
    "    console.log(\"Banana is not in the list.\");\n",
    "}"
   ]
  },
  {
   "cell_type": "raw",
   "metadata": {
    "vscode": {
     "languageId": "raw"
    }
   },
   "source": [
    "List Hacks: Sum of Numbers"
   ]
  },
  {
   "cell_type": "code",
   "execution_count": null,
   "metadata": {},
   "outputs": [],
   "source": [
    "sum -> 10\n",
    "nums ← [1, 2, 3, 4, 5, 6, 7, 8, 9, 10]\n",
    "even_sum ← 0\n",
    "\n",
    "FOR EACH score IN nums\n",
    "    IF score MOD 2 = 0 THEN\n",
    "        even_sum ← even_sum + score\n",
    "    END IF\n",
    "END FOR\n",
    "\n",
    "DISPLAY (\"Sum of even numbers in the list:\", even_sum)\n"
   ]
  },
  {
   "cell_type": "code",
   "execution_count": null,
   "metadata": {
    "vscode": {
     "languageId": "javascript"
    }
   },
   "outputs": [],
   "source": [
    "%%js\n",
    "let numbers = [1, 2, 3, 4, 5, 6];\n",
    "let sum = 0;\n",
    "\n",
    "for (let num of numbers) {\n",
    "    if (num % 2 === 0) {\n",
    "        sum += num;\n",
    "    }\n",
    "}\n",
    "\n",
    "console.log(\"Sum of even numbers:\", sum);"
   ]
  },
  {
   "cell_type": "raw",
   "metadata": {
    "vscode": {
     "languageId": "raw"
    }
   },
   "source": [
    "Hacks: Successfully find a specific element in a Lists\n",
    "Find the maximum and minimum value of a list"
   ]
  },
  {
   "cell_type": "code",
   "execution_count": null,
   "metadata": {},
   "outputs": [],
   "source": [
    "def sum_of_odd_numbers(numbers):\n",
    "    return sum(num for num in numbers if num % 2 != 0)\n",
    "\n",
    "# Example usage:\n",
    "numbers = [1, 2, 3, 4, 5, 6, 7, 8, 9]\n",
    "print(sum_of_odd_numbers(numbers))  # Output: 25"
   ]
  },
  {
   "cell_type": "code",
   "execution_count": null,
   "metadata": {
    "vscode": {
     "languageId": "javascript"
    }
   },
   "outputs": [],
   "source": [
    "%%js\n",
    "function sumOfOddNumbers(numbers) {\n",
    "    let sum = 0;\n",
    "    for (let num of numbers) {\n",
    "        if (num % 2 !== 0) {\n",
    "            sum += num;\n",
    "        }\n",
    "    }\n",
    "    return sum;\n",
    "}\n",
    "\n",
    "// Example usage:\n",
    "let numbers = [1, 2, 3, 4, 5, 6, 7, 8, 9];\n",
    "console.log(sumOfOddNumbers(numbers));  // Output: 25"
   ]
  },
  {
   "cell_type": "code",
   "execution_count": null,
   "metadata": {
    "vscode": {
     "languageId": "plaintext"
    }
   },
   "outputs": [],
   "source": [
    "Mini Quiz\n",
    "\n",
    "Write a Python program that creates a list of the following numbers: 10, 20, 30, 40, 50. Then, print the second element in the list.\n",
    "Write a JavaScript program that creates an array of the following numbers: 10, 20, 30, 40, 50. Then, log the second element in the array to the console.\n",
    "Python:\n",
    "Given the list fruits = ['apple', 'banana', 'cherry'], add 'orange' to the end of the list.\n",
    "JavaScript:\n",
    "Given the array let colors = ['red', 'green', 'blue', 'yellow'], remove the element 'blue' from the array."
   ]
  },
  {
   "cell_type": "markdown",
   "metadata": {
    "vscode": {
     "languageId": "plaintext"
    }
   },
   "source": [
    "Python Homework Hacks\n",
    "\n",
    "Homework Assignment: List Operations\n",
    "Problem Statement:\n",
    "You are given a list of numbers, and your task is to perform the following operations:\n",
    "\n",
    "Create a list of numbers from 1 to 20.\n",
    "Find and print all even numbers from the list.\n",
    "Find and print the square of each number in the list.\n",
    "Remove duplicates from the following list:\n",
    "duplicate_list = [1, 2, 2, 3, 4, 4, 5, 5, 6]\n",
    "Create a new list that contains only numbers greater than 10.\n",
    "Reverse the original list and print it.\n",
    "Sort the list of squares in descending order.\n",
    "Requirements:\n",
    "Each step must be implemented using basic list operations (loops, comprehensions, slicing, etc.).\n",
    "Use comments in your code to explain what each step is doing.\n",
    "Submit:\n",
    "Your Python script or notebook file containing the solution.\n",
    "\n",
    "Javascript Homework Hacks: Array Operations\n",
    "Problem Statement:\n",
    "You are given an array of numbers, and your task is to perform the following operations:\n",
    "\n",
    "Create an array of numbers from 1 to 20.\n",
    "Find and print all odd numbers from the array.\n",
    "Find and print the cube of each number in the array.\n",
    "Remove duplicates from the following array:\n",
    "let duplicateArray = [1, 2, 2, 3, 4, 4, 5, 5, 6];\n",
    "Create a new array that contains only numbers less than 10.\n",
    "Reverse the original array and print it.\n",
    "Sort the array of cubes in ascending order.\n",
    "\n",
    "Submit:\n",
    "Your JavaScript file containing the solution."
   ]
  }
 ],
 "metadata": {
  "language_info": {
   "name": "python"
  }
 },
 "nbformat": 4,
 "nbformat_minor": 2
}
