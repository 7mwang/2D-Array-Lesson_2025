{
 "cells": [
  {
   "cell_type": "raw",
   "metadata": {
    "vscode": {
     "languageId": "raw"
    }
   },
   "source": [
    "---\n",
    "layout: post\n",
    "title: CSP Period 4 Unit 3.6.3\n",
    "description: Lesson on Conditionals (Python Hacks)\n",
    "categories: [Python]\n",
    "permalink: /csp/big-idea/p4/3-6-3\n",
    "type: ccc\n",
    "author: Risha Guha, Vibha Mandayam, Ava Shalon\n",
    "menu: nav/csp_units/csp_unit3_p4_fundamentals.html\n",
    "---"
   ]
  },
  {
   "cell_type": "markdown",
   "metadata": {},
   "source": [
    "Hack 1: Odd or Even Checker\n",
    "Description: This hack checks if a given number is odd or even.\n",
    "\n",
    "Define a function named check_odd_even that takes one parameter: number.\n",
    "Use an if statement to check if the number is divisible by 2.\n",
    "Return \"Even\" if true; otherwise, return \"Odd\".\n",
    "\n",
    "Call the function with different numbers (e.g., check_odd_even(4) and check_odd_even(7)).\n",
    "Print the results.\n"
   ]
  },
  {
   "cell_type": "markdown",
   "metadata": {},
   "source": [
    "Hack 2: Leap Year Checker\n",
    "Description: This hack determines if a given year is a leap year.\n",
    "\n",
    "Define a function named is_leap_year that takes one parameter: year.\n",
    "Use an if statement to check if the year is divisible by 4 but not by 100, or divisible by 400.\n",
    "Return \"Leap Year\" if true; otherwise, return \"Not a Leap Year\".\n",
    "\n",
    "Call the function with different years (e.g., is_leap_year(2020) and is_leap_year(1900)).\n",
    "Print the results.\n"
   ]
  },
  {
   "cell_type": "markdown",
   "metadata": {},
   "source": [
    "Hack 2: Temperature Range Checker\n",
    "Description: This hack checks if a given temperature is considered cold, warm, or hot.\n",
    "\n",
    "\n",
    "Define a function named temperature_range that takes one parameter: temperature.\n",
    "Use if...elif...else statements to categorize the temperature:\n",
    "Return \"Cold\" for temperatures below 60°F.\n",
    "Return \"Warm\" for temperatures between 60°F and 80°F.\n",
    "Return \"Hot\" for temperatures above 85°F.\n",
    "\n",
    "Call the function with different temperature values (e.g., temperature_range(10) and temperature_range(90)).\n",
    "Print the results.\n"
   ]
  }
 ],
 "metadata": {
  "language_info": {
   "name": "python"
  }
 },
 "nbformat": 4,
 "nbformat_minor": 2
}
