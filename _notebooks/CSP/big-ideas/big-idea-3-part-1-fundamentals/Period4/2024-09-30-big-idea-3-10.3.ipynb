{
 "cells": [
  {
   "cell_type": "markdown",
   "metadata": {},
   "source": [
    "---\n",
    "layout: post\n",
    "title: 3.10.3 Assigning a Value & Length of A List\n",
    "categories: [Collaboration]\n",
    "permalink: /csp/big-idea/p4/3-1\n",
    "courses: { csp: {week: 5} }\n",
    "type: collab\n",
    "comments: true\n",
    "permalink: /csp/big-idea/p4/3-10-3\n",
    "menu: nav/csp_units/csp_unit3_p4_fundamentals.html\n",
    "---"
   ]
  },
  {
   "cell_type": "markdown",
   "metadata": {
    "vscode": {
     "languageId": "plaintext"
    }
   },
   "source": [
    "**List Assignment in JavaScript**"
   ]
  },
  {
   "cell_type": "code",
   "execution_count": null,
   "metadata": {
    "vscode": {
     "languageId": "javascript"
    }
   },
   "outputs": [],
   "source": [
    "%%js\n",
    "let randomList = [1, 2, 3, 4, 5];\n",
    "console.log(“Original List:“, randomList);\n",
    "randomList[2] = 100; // Modify the item at index 2 (third element)\n",
    "console.log(“Modified List:“, randomList);"
   ]
  },
  {
   "cell_type": "markdown",
   "metadata": {
    "vscode": {
     "languageId": "javascript"
    }
   },
   "source": [
    "**Modifying a List Element in JavaScript**"
   ]
  },
  {
   "cell_type": "code",
   "execution_count": null,
   "metadata": {
    "vscode": {
     "languageId": "javascript"
    }
   },
   "outputs": [],
   "source": [
    "%%js\n",
    "let randomList = [1, 2, 3, 4, 5];\n",
    "console.log(“Original List:“, randomList);\n",
    "randomList[2] = 100; // Modify the item at index 2 (third element)\n",
    "console.log(“Modified List:“, randomList);"
   ]
  },
  {
   "cell_type": "markdown",
   "metadata": {},
   "source": [
    "**List Assignment and Length Calculation in Python**"
   ]
  },
  {
   "cell_type": "code",
   "execution_count": null,
   "metadata": {},
   "outputs": [],
   "source": [
    "aList = [“shoes”, “shoes”]\n",
    "bList = [“No shoes”]\n",
    "bList = aList  # Assigning the values of aList to bList\n",
    "list_length = len(bList)  # Getting the length of the list\n",
    "print(“Things I want:“, bList)\n",
    "print(“How many shoes:“, list_length)"
   ]
  },
  {
   "cell_type": "markdown",
   "metadata": {},
   "source": [
    "**Updating a List Element in Python**"
   ]
  },
  {
   "cell_type": "code",
   "execution_count": null,
   "metadata": {},
   "outputs": [],
   "source": [
    "random_list = [1, 2, 3, 4, 5]\n",
    "print(“Original List:“, random_list)\n",
    "random_list[2] = 100  # Modify the item at index 2 (third element)\n",
    "print(“Modified List:“, random_list)"
   ]
  }
 ],
 "metadata": {
  "language_info": {
   "name": "python"
  }
 },
 "nbformat": 4,
 "nbformat_minor": 2
}
