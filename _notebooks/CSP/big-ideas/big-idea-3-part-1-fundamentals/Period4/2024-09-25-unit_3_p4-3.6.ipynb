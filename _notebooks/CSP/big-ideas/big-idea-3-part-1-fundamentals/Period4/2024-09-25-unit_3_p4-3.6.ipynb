{
 "cells": [
  {
   "cell_type": "raw",
   "metadata": {
    "vscode": {
     "languageId": "raw"
    }
   },
   "source": [
    "---\n",
    "layout: post\n",
    "title: CSP Period 4 Unit 3.6\n",
    "description: Lesson on Conditionals\n",
    "categories: [Javascript]\n",
    "#permalink: /github/pages/____\n",
    "type: ccc\n",
    "author: Risha Guha, Vibha Mandayam, Ava Shalon\n",
    "#menu: nav/github_pages.html\n",
    "---"
   ]
  },
  {
   "cell_type": "markdown",
   "metadata": {},
   "source": [
    "\n",
    "# Conditionals Overview\n",
    "\n",
    "Conditionals help control the flow of a program by deciding which code to execute based on a true or false condition.\n",
    "\n",
    "## 1. Basic IF Statement:\n",
    "```plaintext\n",
    "IF (condition) { }\n",
    "```\n",
    "- The code inside the brackets runs only if the condition is true. If the condition is false, nothing happens.\n",
    "\n",
    "## 2. IF-ELSE Statement:\n",
    "```plaintext\n",
    "IF (condition) { } ELSE { }\n",
    "```\n",
    "- The code in the first set of brackets runs if the condition is true. If the condition is false, the code in the second set of brackets runs instead.\n",
    "\n"
   ]
  },
  {
   "cell_type": "markdown",
   "metadata": {},
   "source": [
    "Example\n",
    "1. Add a variable that represents temperature.\n",
    "2. Use an ‘if’ statement to print “It’s a hot day” if the temperature is greater than or equal to 30 degrees.\n",
    "3. Use an ‘else’ statement to print “It’s a cold day” otherwise.\n"
   ]
  },
  {
   "cell_type": "code",
   "execution_count": 3,
   "metadata": {},
   "outputs": [
    {
     "name": "stdout",
     "output_type": "stream",
     "text": [
      "It's a cold day\n"
     ]
    }
   ],
   "source": [
    "# Step 1: Add a variable that represents temperature\n",
    "temperature = 50  # You can change this value to test different conditions\n",
    "\n",
    "# Step 2: Check if it’s a hot day\n",
    "if temperature >= 80:\n",
    "    print(\"It's a hot day\")\n",
    "# Step 3: Otherwise, print it's a cold day\n",
    "else:\n",
    "    print(\"It's a cold day\")\n"
   ]
  },
  {
   "cell_type": "markdown",
   "metadata": {},
   "source": [
    "Example with Booleans\n",
    "1. Add a variable called is_logged_in and set it to False.\n",
    "2. Use an if statement to print “Welcome back!” if is_logged_in is True.\n",
    "3. Use an else statement to print “Please log in.” if it is False."
   ]
  },
  {
   "cell_type": "code",
   "execution_count": 2,
   "metadata": {},
   "outputs": [
    {
     "name": "stdout",
     "output_type": "stream",
     "text": [
      "Please log in.\n"
     ]
    }
   ],
   "source": [
    "# Step 1: Create a variable called is_logged_in\n",
    "is_logged_in = False  # You can change this to True to test the other condition\n",
    "\n",
    "# Step 2: Check if the user is logged in\n",
    "if is_logged_in:\n",
    "    print(\"Welcome back!\")\n",
    "# Step 3: Otherwise, prompt the user to log in\n",
    "else:\n",
    "    print(\"Please log in.\")\n"
   ]
  },
  {
   "cell_type": "markdown",
   "metadata": {},
   "source": [
    "Example using Random\n",
    "1. Make a function to randomize ages between 1 and 100 using random.randint.\n",
    "2. Assign the randomized ages to variables age1 and age2.\n",
    "3. Print the values of the ages.\n",
    "4. Print the relationship between the ages: age1 is older than, the same age as, or younger than age2.\n"
   ]
  },
  {
   "cell_type": "code",
   "execution_count": 4,
   "metadata": {},
   "outputs": [
    {
     "name": "stdout",
     "output_type": "stream",
     "text": [
      "Person 1's age: 29\n",
      "Person 2's age: 82\n",
      "Person 1 is younger than Person 2.\n"
     ]
    }
   ],
   "source": [
    "import random\n",
    "\n",
    "def randomize_ages():\n",
    "    # Step 1: Randomize ages between 1 and 100\n",
    "    age1 = random.randint(1, 100)\n",
    "    age2 = random.randint(1, 100)\n",
    "    \n",
    "    # Step 2: Print the values of the ages\n",
    "    print(f\"Person 1's age: {age1}\")\n",
    "    print(f\"Person 2's age: {age2}\")\n",
    "    \n",
    "    # Step 3: Print the relationship of the ages\n",
    "    if age1 > age2:\n",
    "        print(\"Person 1 is older than Person 2.\")\n",
    "    elif age1 < age2:\n",
    "        print(\"Person 1 is younger than Person 2.\")\n",
    "    else:\n",
    "        print(\"Person 1 is the same age as Person 2.\")\n",
    "\n",
    "# Call the function\n",
    "randomize_ages()\n"
   ]
  }
 ],
 "metadata": {
  "kernelspec": {
   "display_name": "venv",
   "language": "python",
   "name": "python3"
  },
  "language_info": {
   "codemirror_mode": {
    "name": "ipython",
    "version": 3
   },
   "file_extension": ".py",
   "mimetype": "text/x-python",
   "name": "python",
   "nbconvert_exporter": "python",
   "pygments_lexer": "ipython3",
   "version": "3.12.3"
  }
 },
 "nbformat": 4,
 "nbformat_minor": 2
}
