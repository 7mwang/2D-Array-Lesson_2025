{
 "cells": [
  {
   "cell_type": "markdown",
   "metadata": {},
   "source": [
    "\n",
    "# Conditionals Overview\n",
    "\n",
    "Conditionals help control the flow of a program by deciding which code to execute based on a true or false condition.\n",
    "\n",
    "## 1. Basic IF Statement:\n",
    "```plaintext\n",
    "IF (condition) { }\n",
    "```\n",
    "- The code inside the brackets runs only if the condition is true. If the condition is false, nothing happens.\n",
    "\n",
    "## 2. IF-ELSE Statement:\n",
    "```plaintext\n",
    "IF (condition) { } ELSE { }\n",
    "```\n",
    "- The code in the first set of brackets runs if the condition is true. If the condition is false, the code in the second set of brackets runs instead.\n",
    "\n"
   ]
  },
  {
   "cell_type": "code",
   "execution_count": null,
   "metadata": {},
   "outputs": [],
   "source": [
    "def sum_two_numbers(num1, num2):\n",
    "    # Calculate the sum of the two numbers\n",
    "    total = num1 + num2\n",
    "    \n",
    "    # Check if the sum is greater than 10\n",
    "    if total > 10:\n",
    "        return 10\n",
    "    else:\n",
    "        return total\n",
    "\n",
    "# Example usage\n",
    "num1 = float(input(\"Enter the first number: \"))\n",
    "num2 = float(input(\"Enter the second number: \"))\n",
    "result = sum_two_numbers(num1, num2)\n",
    "print(\"The result is:\", result)\n"
   ]
  },
  {
   "cell_type": "markdown",
   "metadata": {},
   "source": []
  }
 ],
 "metadata": {
  "language_info": {
   "name": "python"
  }
 },
 "nbformat": 4,
 "nbformat_minor": 2
}
