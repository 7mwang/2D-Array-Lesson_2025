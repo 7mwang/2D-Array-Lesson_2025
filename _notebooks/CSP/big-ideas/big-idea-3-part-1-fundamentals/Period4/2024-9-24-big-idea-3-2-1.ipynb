{
 "cells": [
  {
   "cell_type": "raw",
   "metadata": {
    "vscode": {
     "languageId": "raw"
    }
   },
   "source": [
    "---\n",
    "toc: false\n",
    "comments: true\n",
    "layout: post\n",
    "title: 3.2.1 Integers\n",
    "permalink: /csp/big-idea/p4/3-2-1\n",
    "categories: [CSP Big Ideas]\n",
    "author: Ian, Collin, Aarush, Thomas\n",
    "menu: nav/csp_units/csp_unit3_p4_fundamentals.html\n",
    "---\n"
   ]
  },
  {
   "cell_type": "code",
   "execution_count": 6,
   "metadata": {},
   "outputs": [
    {
     "data": {
      "text/html": [
       "<style>:root {--light-blue: #add8e6; --medium-blue: #87cefa; --dark-blue: #4682b4; --accent-blue: #b0e0e6; --background-blue: #e0f7fa;} body {background-color: var(--background-blue) !important; color: var(--dark-blue) !important;} header {background-color: var(--medium-blue) !important; color: white !important; padding: 10px 20px !important; border-radius: 8px !important; border-bottom: 2px solid var(--dark-blue) !important;} article {background-color: var(--light-blue) !important; color: var(--dark-blue) !important; border: 2px solid var(--medium-blue) !important; padding: 20px !important; border-radius: 8px !important;} a {color: var(--accent-blue) !important;} a:hover {color: var(--dark-blue) !important;} h1, h2, h3, h4 {color: white !important;} blockquote {background-color: #f0f8ff !important; border-left: 4px solid var(--medium-blue) !important; color: var(--dark-blue) !important; padding: 10px 20px !important; margin: 10px 0 !important; border-radius: 4px !important;} code {background-color: var(--accent-blue) !important; color: white !important; padding: 2px 4px !important; border-radius: 4px !important;} .site-nav {background-color: var(--medium-blue) !important;} table td {background-color: var(--dark-blue) !important;}</style>"
      ],
      "text/plain": [
       "<IPython.core.display.HTML object>"
      ]
     },
     "execution_count": 6,
     "metadata": {},
     "output_type": "execute_result"
    }
   ],
   "source": [
    "from IPython.core.display import HTML; set_custom_css = lambda: HTML('<style>:root {--light-blue: #add8e6; --medium-blue: #87cefa; --dark-blue: #4682b4; --accent-blue: #b0e0e6; --background-blue: #e0f7fa;} body {background-color: var(--background-blue) !important; color: var(--dark-blue) !important;} header {background-color: var(--medium-blue) !important; color: white !important; padding: 10px 20px !important; border-radius: 8px !important; border-bottom: 2px solid var(--dark-blue) !important;} article {background-color: var(--light-blue) !important; color: var(--dark-blue) !important; border: 2px solid var(--medium-blue) !important; padding: 20px !important; border-radius: 8px !important;} a {color: var(--accent-blue) !important;} a:hover {color: var(--dark-blue) !important;} h1, h2, h3, h4 {color: white !important;} blockquote {background-color: #f0f8ff !important; border-left: 4px solid var(--medium-blue) !important; color: var(--dark-blue) !important; padding: 10px 20px !important; margin: 10px 0 !important; border-radius: 4px !important;} code {background-color: var(--accent-blue) !important; color: white !important; padding: 2px 4px !important; border-radius: 4px !important;} .site-nav {background-color: var(--medium-blue) !important;} table td {background-color: var(--dark-blue) !important;}</style>'); set_custom_css()\n"
   ]
  },
  {
   "cell_type": "markdown",
   "metadata": {},
   "source": [
    "<style>\n",
    "\t.glow {\n",
    "\t\tborder-radius: 20%;\n",
    "\t}\n",
    "\t.glow:hover {\n",
    "\t\tcolor: black;\n",
    "\t\tbackground: gray;\n",
    "\t\tbox-shadow: 0 0 100px gray;\n",
    "\t}\n",
    "</style>\n",
    "\n",
    "# <span class=\"glow\" style=\"font-family: Monospace; color: white\">(Hover Over Me) 3.2.1 Integers:</span>"
   ]
  },
  {
   "cell_type": "markdown",
   "metadata": {},
   "source": [
    "## Integers in Python\n",
    "\n",
    "Integers are whole numbers, which can be positive, negative, or zero, and do not have decimal points. In Python, you can perform various arithmetic operations with integers, making them essential for calculations and counting.\n"
   ]
  },
  {
   "cell_type": "code",
   "execution_count": 5,
   "metadata": {},
   "outputs": [
    {
     "data": {
      "text/html": [
       "<style>:root {--light-blue: #add8e6; --medium-blue: #87cefa; --dark-blue: #4682b4; --accent-blue: #b0e0e6; --background-blue: #e0f7fa;} body {background-color: var(--background-blue) !important; color: var(--dark-blue) !important;} header {background-color: var(--medium-blue) !important; color: white !important; padding: 10px 20px !important; border-radius: 8px !important; border-bottom: 2px solid var(--dark-blue) !important;} article {background-color: var(--light-blue) !important; color: var(--dark-blue) !important; border: 2px solid var(--medium-blue) !important; padding: 20px !important; border-radius: 8px !important;} a {color: var(--accent-blue) !important;} a:hover {color: var(--dark-blue) !important;} h1, h2, h3, h4 {color: white !important;} blockquote {background-color: #f0f8ff !important; border-left: 4px solid var(--medium-blue) !important; color: var(--dark-blue) !important; padding: 10px 20px !important; margin: 10px 0 !important; border-radius: 4px !important;} code {background-color: var(--accent-blue) !important; color: white !important; padding: 2px 4px !important; border-radius: 4px !important;} .site-nav {background-color: var(--medium-blue) !important;} table td {background-color: var(--dark-blue) !important;}</style>"
      ],
      "text/plain": [
       "<IPython.core.display.HTML object>"
      ]
     },
     "execution_count": 5,
     "metadata": {},
     "output_type": "execute_result"
    }
   ],
   "source": [
    "from IPython.core.display import HTML; set_custom_css = lambda: HTML('<style>:root {--light-blue: #add8e6; --medium-blue: #87cefa; --dark-blue: #4682b4; --accent-blue: #b0e0e6; --background-blue: #e0f7fa;} body {background-color: var(--background-blue) !important; color: var(--dark-blue) !important;} header {background-color: var(--medium-blue) !important; color: white !important; padding: 10px 20px !important; border-radius: 8px !important; border-bottom: 2px solid var(--dark-blue) !important;} article {background-color: var(--light-blue) !important; color: var(--dark-blue) !important; border: 2px solid var(--medium-blue) !important; padding: 20px !important; border-radius: 8px !important;} a {color: var(--accent-blue) !important;} a:hover {color: var(--dark-blue) !important;} h1, h2, h3, h4 {color: white !important;} blockquote {background-color: #f0f8ff !important; border-left: 4px solid var(--medium-blue) !important; color: var(--dark-blue) !important; padding: 10px 20px !important; margin: 10px 0 !important; border-radius: 4px !important;} code {background-color: var(--accent-blue) !important; color: white !important; padding: 2px 4px !important; border-radius: 4px !important;} .site-nav {background-color: var(--medium-blue) !important;} table td {background-color: var(--dark-blue) !important;}</style>'); set_custom_css()\n"
   ]
  },
  {
   "cell_type": "markdown",
   "metadata": {},
   "source": [
    "# Javascript Version"
   ]
  },
  {
   "cell_type": "code",
   "execution_count": 1,
   "metadata": {
    "vscode": {
     "languageId": "javascript"
    }
   },
   "outputs": [
    {
     "data": {
      "application/javascript": "// Player Scores\nlet player1_score = 45; // Player 1's score\nlet player2_score = 30; // Player 2's score\n\n// Displaying Scores\nconsole.log(\"Player 1 Score:\", player1_score);\nconsole.log(\"Player 2 Score:\", player2_score);\nconsole.log(\"-\".repeat(30));\n\n// Total Score Calculation\nlet total_score = player1_score + player2_score;\nconsole.log(\"Total Score:\", total_score); // Sum of both scores\n\n// Score Difference\nlet score_difference = player1_score - player2_score;\nconsole.log(\"Score Difference:\", score_difference); // Difference between scores\n\n// Multiplying Scores\nconsole.log(\"Player 1 Score multiplied by 2:\", player1_score * 2); // Multiplication\n",
      "text/plain": [
       "<IPython.core.display.Javascript object>"
      ]
     },
     "metadata": {},
     "output_type": "display_data"
    }
   ],
   "source": [
    "%%js\n",
    "// Player Scores\n",
    "let player1_score = 45; // Player 1's score\n",
    "let player2_score = 30; // Player 2's score\n",
    "\n",
    "// Displaying Scores\n",
    "console.log(\"Player 1 Score:\", player1_score);\n",
    "console.log(\"Player 2 Score:\", player2_score);\n",
    "console.log(\"-\".repeat(30));\n",
    "\n",
    "// Total Score Calculation\n",
    "let total_score = player1_score + player2_score;\n",
    "console.log(\"Total Score:\", total_score); // Sum of both scores\n",
    "\n",
    "// Score Difference\n",
    "let score_difference = player1_score - player2_score;\n",
    "console.log(\"Score Difference:\", score_difference); // Difference between scores\n",
    "\n",
    "// Multiplying Scores\n",
    "console.log(\"Player 1 Score multiplied by 2:\", player1_score * 2); // Multiplication\n"
   ]
  }
 ],
 "metadata": {
  "kernelspec": {
   "display_name": "venv",
   "language": "python",
   "name": "python3"
  },
  "language_info": {
   "codemirror_mode": {
    "name": "ipython",
    "version": 3
   },
   "file_extension": ".py",
   "mimetype": "text/x-python",
   "name": "python",
   "nbconvert_exporter": "python",
   "pygments_lexer": "ipython3",
   "version": "3.12.6"
  }
 },
 "nbformat": 4,
 "nbformat_minor": 2
}
