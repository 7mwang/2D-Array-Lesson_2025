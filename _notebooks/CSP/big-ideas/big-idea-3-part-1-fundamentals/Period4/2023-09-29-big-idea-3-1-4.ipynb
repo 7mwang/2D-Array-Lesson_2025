{
 "cells": [
  {
   "cell_type": "markdown",
   "metadata": {},
   "source": [
    "---\n",
    "layout: post\n",
    "title: Lesson 3.1.4 Js Data Types\n",
    "categories: [Collaboration]\n",
    "permalink: /csp/big-idea/p4/3-1-4\n",
    "comments: true\n",
    "---"
   ]
  }
 ],
 "metadata": {
  "language_info": {
   "name": "python"
  }
 },
 "nbformat": 4,
 "nbformat_minor": 2
}
