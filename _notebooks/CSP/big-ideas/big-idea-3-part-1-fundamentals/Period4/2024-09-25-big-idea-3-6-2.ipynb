{
 "cells": [
  {
   "cell_type": "raw",
   "metadata": {
    "vscode": {
     "languageId": "raw"
    }
   },
   "source": [
    "---\n",
    "layout: post\n",
    "title: CSP Period 4 Unit 3.6.2\n",
    "description: Lesson on Conditionals (Javascript Information)\n",
    "permalink: /csp/big-idea/p4/3-6-2\n",
    "type: ccc\n",
    "author: Risha Guha, Vibha Mandayam, Ava Shalon\n",
    "menu: nav/csp_units/csp_unit3_p4_fundamentals.html\n",
    "---"
   ]
  },
  {
   "cell_type": "markdown",
   "metadata": {},
   "source": [
    "Conditionals in JavaScript allow you to execute different code blocks based on certain conditions. They are essential for controlling the flow of your program. Here are the main types of conditional statements in JavaScript:"
   ]
  },
  {
   "cell_type": "markdown",
   "metadata": {},
   "source": [
    "1. if Statement\n",
    "\tThe if statement executes a block of code if the specified condition is true.\n",
    "\n"
   ]
  },
  {
   "cell_type": "code",
   "execution_count": null,
   "metadata": {
    "vscode": {
     "languageId": "javascript"
    }
   },
   "outputs": [],
   "source": [
    "let score = 85;\n",
    "\n",
    "if (score >= 60) {\n",
    "    console.log(\"You passed!\");\n",
    "}\n"
   ]
  },
  {
   "cell_type": "markdown",
   "metadata": {},
   "source": [
    "2. if...else Statement\n",
    "The if...else statement allows you to execute one block of code if the condition is true, and another block if it is false.\n",
    "\n"
   ]
  },
  {
   "cell_type": "code",
   "execution_count": null,
   "metadata": {
    "vscode": {
     "languageId": "javascript"
    }
   },
   "outputs": [],
   "source": [
    "let score = 50;\n",
    "\n",
    "if (score >= 60) {\n",
    "    console.log(\"You passed!\");\n",
    "} else {\n",
    "    console.log(\"You failed!\");\n",
    "}\n"
   ]
  },
  {
   "cell_type": "markdown",
   "metadata": {},
   "source": [
    "3. if...else if...else Statement\n",
    "This structure allows you to check multiple conditions.\n",
    "\n"
   ]
  },
  {
   "cell_type": "code",
   "execution_count": null,
   "metadata": {
    "vscode": {
     "languageId": "javascript"
    }
   },
   "outputs": [],
   "source": [
    "let score = 75;\n",
    "\n",
    "if (score >= 90) {\n",
    "    console.log(\"Grade: A\");\n",
    "} else if (score >= 80) {\n",
    "    console.log(\"Grade: B\");\n",
    "} else if (score >= 70) {\n",
    "    console.log(\"Grade: C\");\n",
    "} else {\n",
    "    console.log(\"Grade: F\");\n",
    "}\n"
   ]
  },
  {
   "cell_type": "markdown",
   "metadata": {},
   "source": [
    "4. switch Statement\n",
    "The switch statement is a cleaner way to handle multiple conditions based on the same variable. It evaluates an expression and matches it against several cases.\n",
    "\n"
   ]
  },
  {
   "cell_type": "code",
   "execution_count": null,
   "metadata": {
    "vscode": {
     "languageId": "javascript"
    }
   },
   "outputs": [],
   "source": [
    "let day = 3;\n",
    "let dayName;\n",
    "\n",
    "switch (day) {\n",
    "    case 1:\n",
    "        dayName = \"Monday\";\n",
    "        break;\n",
    "    case 2:\n",
    "        dayName = \"Tuesday\";\n",
    "        break;\n",
    "    case 3:\n",
    "        dayName = \"Wednesday\";\n",
    "        break;\n",
    "    default:\n",
    "        dayName = \"Invalid day\";\n",
    "}\n",
    "\n",
    "console.log(dayName); // Output: Wednesday\n"
   ]
  },
  {
   "cell_type": "markdown",
   "metadata": {},
   "source": [
    "5. Ternary Operator\n",
    "The ternary operator is a shorthand for the if...else statement. It's often used for simple conditions."
   ]
  },
  {
   "cell_type": "code",
   "execution_count": null,
   "metadata": {
    "vscode": {
     "languageId": "javascript"
    }
   },
   "outputs": [],
   "source": [
    "let age = 18;\n",
    "let message = (age >= 18) ? \"You can vote.\" : \"You cannot vote.\";\n",
    "console.log(message); // Output: You can vote.\n"
   ]
  },
  {
   "cell_type": "markdown",
   "metadata": {},
   "source": [
    "Key Points to Remember\n",
    "Conditions are usually expressions that evaluate to true or false.\n",
    "You can use comparison operators (like ==, ===, !=, !==, <, >, <=, >=) and logical operators (like &&, ||, !) to build complex conditions.\n",
    "Always use === (strict equality) instead of == (loose equality) to avoid unexpected type coercion.\n",
    "Conditionals are powerful tools that help you control how your code executes, enabling you to create dynamic and responsive applications.\n",
    "\n",
    "\n",
    "\n",
    "\n",
    "\n",
    "\n"
   ]
  }
 ],
 "metadata": {
  "language_info": {
   "name": "python"
  }
 },
 "nbformat": 4,
 "nbformat_minor": 2
}
