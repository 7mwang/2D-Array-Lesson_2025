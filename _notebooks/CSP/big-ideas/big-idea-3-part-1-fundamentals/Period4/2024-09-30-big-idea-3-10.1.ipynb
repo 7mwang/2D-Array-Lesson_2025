{
 "cells": [
  {
   "cell_type": "markdown",
   "metadata": {
    "vscode": {
     "languageId": "html"
    }
   },
   "source": [
    "---\n",
    "layout: post\n",
    "title: 3.10.1 List Operations and Append\n",
    "categories: [Collaboration]\n",
    "permalink: /csp/big-idea/p4/3-1\n",
    "courses: { csp: {week: 5} }\n",
    "type: collab\n",
    "comments: true\n",
    "permalink: /csp/big-idea/p4/3-10-1\n",
    "menu: nav/csp_units/csp_unit3_p4_fundamentals.html\n",
    "---"
   ]
  },
  {
   "cell_type": "markdown",
   "metadata": {
    "vscode": {
     "languageId": "html"
    }
   },
   "source": [
    "### List Operations:\n",
    "\n",
    "- `aList[i]`: Accesses the element of `aList` at index `i`.  \n",
    "  - An index is a numeric value representing the position of an element.  \n",
    "  - Example: The first element of `aList` is at index `0`, represented by `aList[0]`.\n",
    "\n",
    "- `x <- aList[i]`:\n",
    "  - Assigns the value of `aList[i]` to variable `x`.\n",
    "\n",
    "- `aList[i] <- x`: \n",
    "  - Assigns the value of `x` to `aList[i]`.\n",
    "\n",
    "- `aList[i] <- aList[j]`: \n",
    "  - Assigns the value of `aList[j]` to `aList[i]`.\n",
    "\n",
    "- `INSERT(aList, i, value)`:  \n",
    "  - Inserts `value` into `aList` at index `i`.  \n",
    "  - `aList` is the list, `i` is the index, and `value` is the element to insert.\n",
    "\n",
    "- `APPEND(aList, value)`:  \n",
    "  - Adds `value` to the end of `aList`.\n",
    "\n",
    "- `REMOVE(aList, i)`:  \n",
    "  - Removes the element at index `i` from `aList`.\n",
    "\n",
    "- `LENGTH(aList)`:  \n",
    "  - Returns the number of elements in `aList`.\n",
    "\n",
    "- `FOR EACH item IN aList { ... }`:  \n",
    "  - Iterates over each element (`item`) in `aList` from the first to the last.  \n",
    "  - The code inside the loop is executed once for each `item`.\n",
    "\n"
   ]
  },
  {
   "cell_type": "markdown",
   "metadata": {
    "vscode": {
     "languageId": "html"
    }
   },
   "source": [
    "## Append: \n",
    "- To add an element at the end of the list"
   ]
  },
  {
   "cell_type": "code",
   "execution_count": null,
   "metadata": {},
   "outputs": [],
   "source": [
    "aList ← []\n",
    "\n",
    "USER_INPUT ← (\"Enter an item you want (or 'q' to quit): \")\n",
    "\n",
    "REPEAT UNTIL USER_INPUT ← q{\n",
    "    APPEND (aList, USER_INPUT)\n",
    "}\n",
    "\n",
    "DISPLAY(aList)"
   ]
  },
  {
   "cell_type": "markdown",
   "metadata": {
    "vscode": {
     "languageId": "bat"
    }
   },
   "source": [
    "### Excersises: Find the minimum value in a list:\n",
    "\n",
    "1. **Create or access the list**\n",
    "2. **Make a variable to hold the minimum value** and set it to a potential minimum value\n",
    "3. **Loop through the list**\n",
    "4. **Check each element** to see if it is less than the minimum variable\n",
    "5. If the element is less than the minimum variable, **update the minimum**\n",
    "6. After all elements of the list have been checked, **display the minimum value**\n"
   ]
  }
 ],
 "metadata": {
  "language_info": {
   "name": "python"
  }
 },
 "nbformat": 4,
 "nbformat_minor": 2
}
