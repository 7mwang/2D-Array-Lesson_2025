{
 "cells": [
  {
   "cell_type": "code",
   "execution_count": null,
   "metadata": {},
   "outputs": [],
   "source": []
  }
 ],
 "metadata": {
  "language_info": {
   "name": "python"
  }
 },
 "nbformat": 4,
 "nbformat_minor": 2
}
{
 "cells": [
  {
   "cell_type": "code",
   "execution_count": null,
   "metadata": {
    "vscode": {
     "languageId": "plaintext"
    }
   },
   "outputs": [],
   "source": [
    "---\n",
    "layout: post\n",
    "title: Lesson 3.10 Lists\n",
    "categories: [Collaboration]\n",
    "permalink: /csp/big-idea/p4/3-10\n",
    "courses: { csp: {week: 5} }\n",
    "type: collab\n",
    "comments: true\n",
    "permalink: /csp/big-idea/p4/3-10-2\n",
    "menu: nav/csp_units/csp_unit3_p4_fundamentals.html\n",
    "---\n"
   ]
  },
  {
   "cell_type": "code",
   "execution_count": null,
   "metadata": {
    "vscode": {
     "languageId": "plaintext"
    }
   },
   "outputs": [],
   "source": [
    "Accessing an element(Javascript):"
   ]
  },
  {
   "cell_type": "code",
   "execution_count": null,
   "metadata": {
    "vscode": {
     "languageId": "javascript"
    }
   },
   "outputs": [],
   "source": [
    "%%js\n",
    "let aList = [];\n",
    "\n",
    "while (true) {\n",
    "    let user_input = prompt(\"Enter an item you want (or 'q' to quit):\");\n",
    "    \n",
    "    if (user_input.toLowerCase() === 'q') {\n",
    "        break;\n",
    "    }\n",
    "    \n",
    "    aList.push(user_input);\n",
    "}\n",
    "\n",
    "// Access and display the second element (index 1)\n",
    "console.log(\"The second thing on your list is: \" + aList[1]);\n"
   ]
  },
  {
   "cell_type": "code",
   "execution_count": null,
   "metadata": {
    "vscode": {
     "languageId": "plaintext"
    }
   },
   "outputs": [],
   "source": [
    "Deleting an Element(Javascript):"
   ]
  },
  {
   "cell_type": "code",
   "execution_count": null,
   "metadata": {
    "vscode": {
     "languageId": "javascript"
    }
   },
   "outputs": [],
   "source": [
    "%%js\n",
    "let aList = [];\n",
    "\n",
    "while (true) {\n",
    "    let user_input = prompt(\"Enter an item you want (or 'q' to quit):\");\n",
    "    \n",
    "    if (user_input.toLowerCase() === 'q') {\n",
    "        break;\n",
    "    }\n",
    "    \n",
    "    aList.push(user_input);\n",
    "}\n",
    "\n",
    "// Display the full list\n",
    "console.log(\"This is your list: \", aList);\n",
    "\n",
    "// Delete the second element (index 1)\n",
    "aList.splice(1, 1);\n",
    "\n",
    "// Display the list after deletion\n",
    "console.log(\"This is your new list: \", aList);\n"
   ]
  },
  {
   "cell_type": "code",
   "execution_count": null,
   "metadata": {
    "vscode": {
     "languageId": "plaintext"
    }
   },
   "outputs": [],
   "source": [
    "1. Accessing an Element(Javascript) - Exercise:\n",
    "Problem:\n",
    "\n",
    "1.Create a list by asking the user to input 5 different items.\n",
    "2.Access and display the third item from the list, then display the range from the second to the fourth item.\n",
    "Example:\n",
    "\n",
    "User inputs: \"apple\", \"banana\", \"cherry\", \"date\", \"elderberry\"\n",
    "Output:\n",
    "Third item: \"cherry\"\n",
    "Range (second to fourth item): [\"banana\", \"cherry\", \"date\"]\n",
    "\n",
    "\n",
    "2. Deleting an Element(Javascript) - Exercise:\n",
    "Problem:\n",
    "\n",
    "1.Write a program that allows the user to input 4 items into an array.\n",
    "2.After the list is created, delete the second item and display the updated array.\n",
    "Example:\n",
    "\n",
    "User inputs: \"car\", \"bike\", \"boat\", \"plane\"\n",
    "After deleting the second item (\"bike\"), the output should be: [\"car\", \"boat\", \"plane\"]\n"
   ]
  },
  {
   "cell_type": "code",
   "execution_count": null,
   "metadata": {
    "vscode": {
     "languageId": "plaintext"
    }
   },
   "outputs": [],
   "source": [
    "Accessing An Element (Python):"
   ]
  },
  {
   "cell_type": "code",
   "execution_count": null,
   "metadata": {},
   "outputs": [],
   "source": [
    "aList = []\n",
    "\n",
    "while True:\n",
    "    user_input = input(\"Enter an item you want (or 'q' to quit): \")\n",
    "    \n",
    "    if user_input.lower() == 'q':\n",
    "        break\n",
    "    \n",
    "    aList.append(user_input)\n",
    "\n",
    "# Displaying the second element (index 1)\n",
    "if len(aList) > 1:\n",
    "    print(\"The second thing on your list is\", aList[1])\n",
    "else:\n",
    "    print(\"There is no second item in your list.\")\n",
    "\n",
    "# Display a range of data from index 1 to 3 (non-inclusive)\n",
    "print(\"Here is a range of data (index 1 to 3):\", aList[1:3])\n"
   ]
  },
  {
   "cell_type": "code",
   "execution_count": null,
   "metadata": {
    "vscode": {
     "languageId": "plaintext"
    }
   },
   "outputs": [],
   "source": [
    "Deleting An Element(Python):"
   ]
  },
  {
   "cell_type": "code",
   "execution_count": null,
   "metadata": {},
   "outputs": [],
   "source": [
    "aList = []\n",
    "\n",
    "while True:\n",
    "    user_input = input(\"Enter an item you want (or 'q' to quit): \")\n",
    "    \n",
    "    if user_input.lower() == 'q':\n",
    "        break\n",
    "    \n",
    "    aList.append(user_input)\n",
    "\n",
    "print(\"This is your list:\", aList)\n",
    "\n",
    "# Deleting the second item (index 1)\n",
    "if len(aList) > 1:\n",
    "    del aList[1]\n",
    "    print(\"This is your new list after deleting the second item:\", aList)\n",
    "else:\n",
    "    print(\"There is no second item to delete.\")\n"
   ]
  },
  {
   "cell_type": "code",
   "execution_count": null,
   "metadata": {
    "vscode": {
     "languageId": "plaintext"
    }
   },
   "outputs": [],
   "source": [
    "Accessing an Element(Python) - Exercise\n",
    "Problem: Write a Python program that:\n",
    "\n",
    "1.Prompts the user to enter 5 items (strings) into a list.\n",
    "2.Asks the user to input an index number.\n",
    "3.The program should display the item at the index number provided by the user.\n",
    "4.Additionally, display the range of items from index 1 to 4 (non-inclusive).\n",
    "\n",
    "Deleting an Element(Python) - Exercise\n",
    "Problem: Write a Python program that:\n",
    "\n",
    "1.Prompts the user to enter 5 items (strings) into a list.\n",
    "2.Asks the user for the index of the item they want to delete.\n",
    "3.The program should delete the item at that index and print the updated list."
   ]
  }
 ],
 "metadata": {
  "language_info": {
   "name": "python"
  }
 },
 "nbformat": 4,
 "nbformat_minor": 2
}
