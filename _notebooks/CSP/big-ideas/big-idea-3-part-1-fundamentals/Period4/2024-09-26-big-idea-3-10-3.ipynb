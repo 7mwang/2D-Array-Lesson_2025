{
 "cells": [
  {
   "cell_type": "raw",
   "metadata": {
    "vscode": {
     "languageId": "raw"
    }
   },
   "source": [
    "---\n",
    "layout: post\n",
    "title: Lesson 3.10 Lists\n",
    "categories: [Collaboration]\n",
    "permalink: /csp/big-idea/p4/3-1\n",
    "courses: { csp: {week: 5} }\n",
    "type: collab\n",
    "comments: true\n",
    "permalink: /csp/big-idea/p4/3-10-3\n",
    "menu: nav/csp_units/csp_unit3_p4_fundamentals.html\n",
    "---"
   ]
  },
  {
   "cell_type": "code",
   "execution_count": null,
   "metadata": {
    "vscode": {
     "languageId": "javascript"
    }
   },
   "outputs": [],
   "source": [
    "%%js\n",
    "let aList = [\"Yeezys\", \"Yeezys\"];\n",
    "let bList = [\"No Yeezys\"];\n",
    "\n",
    "bList = aList; // Assigning the values of aList to bList\n",
    "let listLength = bList.length; // Getting the length of the list\n",
    "\n",
    "console.log(\"Things I want:\", bList);\n",
    "console.log(\"How many Yeezys:\", listLength);"
   ]
  },
  {
   "cell_type": "code",
   "execution_count": null,
   "metadata": {
    "vscode": {
     "languageId": "javascript"
    }
   },
   "outputs": [],
   "source": [
    "%%js \n",
    "let randomList = [1, 2, 3, 4, 5];\n",
    "console.log(\"Original List:\", randomList);\n",
    "\n",
    "randomList[2] = 100; // Modify the item at index 2 (third element)\n",
    "console.log(\"Modified List:\", randomList);\n"
   ]
  },
  {
   "cell_type": "code",
   "execution_count": null,
   "metadata": {},
   "outputs": [],
   "source": [
    "aList = [\"Yeezys\", \"Yeezys\"]\n",
    "bList = [\"No Yeezys\"]\n",
    "\n",
    "bList = aList  # Assigning the values of aList to bList\n",
    "list_length = len(bList)  # Getting the length of the list\n",
    "\n",
    "print(\"Things I want:\", bList)\n",
    "print(\"How many Yeezys:\", list_length)"
   ]
  },
  {
   "cell_type": "code",
   "execution_count": null,
   "metadata": {},
   "outputs": [],
   "source": [
    "random_list = [1, 2, 3, 4, 5]\n",
    "print(\"Original List:\", random_list)\n",
    "\n",
    "random_list[2] = 100  # Modify the item at index 2 (third element)\n",
    "print(\"Modified List:\", random_list)"
   ]
  }
 ],
 "metadata": {
  "language_info": {
   "name": "python"
  }
 },
 "nbformat": 4,
 "nbformat_minor": 2
}
