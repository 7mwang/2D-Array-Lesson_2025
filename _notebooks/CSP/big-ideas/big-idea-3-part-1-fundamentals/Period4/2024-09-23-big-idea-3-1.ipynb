{
 "cells": [
  {
   "cell_type": "markdown",
   "metadata": {},
   "source": [
    "---\n",
    "layout: post\n",
    "title: Lesson 3.1 and 3.4\n",
    "categories: [Collaboration]\n",
    "permalink: /pair/lesson1\n",
    "courses: { csp: {week: 5} }\n",
    "type: collab\n",
    "comments: true\n",
    "---"
   ]
  },
  {
   "cell_type": "markdown",
   "metadata": {},
   "source": [
    "## 3.1 Variables and Assignments\n"
   ]
  },
  {
   "cell_type": "markdown",
   "metadata": {},
   "source": [
    "### Variables\n",
    "\n",
    "Variables are values that can store data and can change depending on info passed through a program.\n",
    "\n",
    "Variables can be useful when storing different values that change based on user input, for example, changing the avatar, sound effects, and powerups in a video game based on a character selected by the player early on.\n",
    "\n",
    "Variable names can be anything from just a letter, like `n` for number to a descriptive name like `grade`. It's important that variable names can be understood by human readers and not just computers, so make sure to pick something that makes sense."
   ]
  },
  {
   "cell_type": "code",
   "execution_count": null,
   "metadata": {},
   "outputs": [],
   "source": [
    "n = 17\n",
    "name = Maryam\n",
    "grade = 12"
   ]
  },
  {
   "cell_type": "markdown",
   "metadata": {},
   "source": [
    "`Popcorn Hack`: Try defining your own variables based on information about you! Bonus points: Get creative!"
   ]
  },
  {
   "cell_type": "markdown",
   "metadata": {},
   "source": [
    "### Variable Naming\n",
    "\n",
    "Remember, it's important that your variable names can easily be understood by others, both in your group and in the class. When naming a variable, you cannot use any spaces, so you must use another way to call multi-word variables. \n",
    "\n",
    "There are three common formats used when formatting the name for your variable that you can use to break up the text. **In Python, variable names are CASE SENSITIVE.** Make sure you remember which letters are capital in your variable names."
   ]
  },
  {
   "cell_type": "markdown",
   "metadata": {},
   "source": [
    "#### SnakeCase\n",
    "\n",
    "Replace all spaces with underscores. The standard naming convention in Python."
   ]
  },
  {
   "cell_type": "code",
   "execution_count": null,
   "metadata": {},
   "outputs": [],
   "source": [
    "player_one = \"Joanna\""
   ]
  },
  {
   "cell_type": "markdown",
   "metadata": {},
   "source": [
    "`Popcorn Hack:` Make your own SnakeCase variable but set it equal to an integer."
   ]
  },
  {
   "cell_type": "markdown",
   "metadata": {},
   "source": [
    "#### PascalCase\n",
    "\n",
    "Capitalize every new word in variable name, but include no spaces. This example is for learning purposes only, but stay away from this case in Python, as it is reserved for class names."
   ]
  },
  {
   "cell_type": "code",
   "execution_count": null,
   "metadata": {},
   "outputs": [],
   "source": [
    "PlayerOne = \"Nora\""
   ]
  },
  {
   "cell_type": "markdown",
   "metadata": {},
   "source": [
    "`Popcorn Hack:` Make your own PascalCase variable."
   ]
  },
  {
   "cell_type": "markdown",
   "metadata": {},
   "source": [
    "#### CamelCase\n",
    "\n",
    "Capitalize every word after the first in the variable name. Not typically used in Python."
   ]
  },
  {
   "cell_type": "code",
   "execution_count": null,
   "metadata": {},
   "outputs": [],
   "source": [
    "playerOne = \"Kushi\""
   ]
  },
  {
   "cell_type": "markdown",
   "metadata": {},
   "source": [
    "`Popcorn Hack:` Make your own CamelCase variable."
   ]
  },
  {
   "cell_type": "code",
   "execution_count": null,
   "metadata": {},
   "outputs": [],
   "source": [
    "# Popcorn Hack Cell\n",
    "player_one = \"Joanna\"\n",
    "PlayerOne = \"Nora\"\n",
    "playerOne = \"Kushi\"\n",
    "\n",
    "# All three variables are different.  Programming languages are sensitive to snake case, upper case, etc.\n",
    "print(player_one, PlayerOne, playerOne)"
   ]
  },
  {
   "cell_type": "markdown",
   "metadata": {},
   "source": [
    "### Dictionaries in Python\n",
    "\n",
    "Dictionaries contain data structures that are in Python that also include and store key-value pairs. In the dictionary there are specific values, that associate with a unique key. This is useful since it makes for easier and efficient lookups, as well as finding the data and values. "
   ]
  },
  {
   "cell_type": "code",
   "execution_count": null,
   "metadata": {},
   "outputs": [],
   "source": [
    "my_dict = {\n",
    "    \"name\": \"Bob\",\n",
    "    \"age\": 78,\n",
    "    \"city\": \"Las Vegas\"\n",
    "}"
   ]
  },
  {
   "cell_type": "markdown",
   "metadata": {},
   "source": [
    "In this specific dictionary, we collect data in order to show the attributes of a person."
   ]
  },
  {
   "cell_type": "code",
   "execution_count": 7,
   "metadata": {},
   "outputs": [
    {
     "name": "stdout",
     "output_type": "stream",
     "text": [
      "Example 1: Hello Bob Tastic, I see you are 78 years old.\n",
      "Example 2: Hello Bob Tastic, I see you are 78 years old.\n",
      "Example 3: Hello Bob Tastic , I see you are 78 years old.\n"
     ]
    }
   ],
   "source": [
    "# Data types cell\n",
    "\n",
    "# Variable names in Python typically follow snake_case \n",
    "friendly_greeting = \"Hello\"\n",
    "my_name = \"Bob Tastic\"\n",
    "my_age = 78\n",
    "\n",
    "# Printing data types often requires mixing types and formatting them correctly\n",
    "\n",
    "# print with concatenation\n",
    "print(\"Example 1: \" + friendly_greeting + \" \" + my_name + \", I see you are \" + str(my_age) + \" years old.\")\n",
    "\n",
    "# or you can use f-strings\n",
    "print(f\"Example 2: {friendly_greeting} {my_name}, I see you are {my_age} years old.\")\n",
    "\n",
    "# or you can separate the variable in the print statement\n",
    "print(\"Example 3:\", friendly_greeting, my_name,\", I see you are\", my_age, \"years old.\")\n"
   ]
  },
  {
   "cell_type": "markdown",
   "metadata": {},
   "source": [
    "### Addition versus Concatenation \n",
    "\n",
    "Operators like + produce different outcomes based on the different data types. +'s are usually used for numbers, but for characters it connects sequences in a process called concatenation. "
   ]
  },
  {
   "cell_type": "code",
   "execution_count": 1,
   "metadata": {},
   "outputs": [
    {
     "name": "stdout",
     "output_type": "stream",
     "text": [
      "Concatation between two non strings in a print statement will EVALUATE them.\n",
      "Notice how they get ADDED together.\n",
      "7\n",
      "\n",
      "Concatation between two  strings in a print statement will CONNECT them.\n",
      "Notice how they get CONNECTED together.\n",
      "34\n"
     ]
    }
   ],
   "source": [
    "# Addition of two integer variables\n",
    "\n",
    "int1 = 3\n",
    "int2 = 4\n",
    "print(\"Concatation between two non strings in a print statement will EVALUATE them.\")\n",
    "print(\"Notice how they get ADDED together.\")\n",
    "print(int1 + int2)\n",
    "print()\n",
    "\n",
    "# Concatenation of two string variables\n",
    "\n",
    "print(\"Concatation between two  strings in a print statement will CONNECT them.\")\n",
    "print(\"Notice how they get CONNECTED together.\")\n",
    "string1 = \"3\"\n",
    "string2 = \"4\"\n",
    "print(string1 + string2) # notice how this CONNECTS the variables\n",
    "\n",
    "# Print statements like the above can be used to EVALUATE the result of + on two variables"
   ]
  }
 ],
 "metadata": {
  "kernelspec": {
   "display_name": "Python 3",
   "language": "python",
   "name": "python3"
  },
  "language_info": {
   "codemirror_mode": {
    "name": "ipython",
    "version": 3
   },
   "file_extension": ".py",
   "mimetype": "text/x-python",
   "name": "python",
   "nbconvert_exporter": "python",
   "pygments_lexer": "ipython3",
   "version": "3.12.6"
  }
 },
 "nbformat": 4,
 "nbformat_minor": 2
}
