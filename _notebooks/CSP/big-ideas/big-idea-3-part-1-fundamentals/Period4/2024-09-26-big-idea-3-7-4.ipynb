{
 "cells": [
  {
   "cell_type": "raw",
   "metadata": {
    "vscode": {
     "languageId": "raw"
    }
   },
   "source": [
    "---\n",
    "layout: post\n",
    "title: CSP Period 4 Unit 3.7.4\n",
    "description: Nested Conditionals Javascript Hacks\n",
    "permalink: /csp/big-idea/p4/3-7-4\n",
    "type: ccc\n",
    "author: Risha Guha, Vibha Mandayam, Ava Shalon\n",
    "menu: nav/csp_units/csp_unit3_p4_fundamentals.html\n",
    "---"
   ]
  },
  {
   "cell_type": "markdown",
   "metadata": {},
   "source": [
    "# Javascript Nested Conditionals Hacks Below\n",
    "\n",
    "Hack 1: Write Javascript pseudocode to decide whether or not to study for an exam.\n",
    "\n",
    "Check the following conditions:\n",
    "\n",
    "    You must have your study materials (books, notes, etc.).\n",
    "    You must have a quiet place to study.\n",
    "    You must not be feeling too tired.\n",
    "\n",
    "    If all conditions are met, print that you are ready to study.\n",
    "    If you don’t have a quiet place, suggest finding a quiet location.\n",
    "    If you are too tired, suggest taking a nap or resting first.\n",
    "    If you don’t have your study materials, print that you need to gather them first."
   ]
  },
  {
   "cell_type": "raw",
   "metadata": {
    "vscode": {
     "languageId": "raw"
    }
   },
   "source": [
    "Hack 2: Write Javascript code deciding whether or not you can bake a cake.\n",
    "\n",
    "Check the following conditions:\n",
    "\n",
    "    You must have all the ingredients (flour, eggs, sugar).\n",
    "    Your oven must be working.\n",
    "    You must have at least 2 hours to bake and cool the cake.\n",
    "\n",
    "    If all conditions are true, print that you can start baking.\n",
    "    If you don’t have enough time, print that you need to find more time.\n",
    "    If the oven is not working, print that you need to fix or replace the oven.\n",
    "    If you don’t have all the ingredients, print what you are missing."
   ]
  },
  {
   "cell_type": "markdown",
   "metadata": {},
   "source": [
    "Hack 3: Write Javascript code to determine whether or not to go camping.\n",
    "\n",
    "Use the following conditions:\n",
    "\n",
    "    The weather must be clear.\n",
    "    You must have a tent.\n",
    "    You must have enough food and water for the trip.\n",
    "\n",
    "    If all conditions are met, print that you are ready to go camping.\n",
    "    If you don’t have a tent, print that you need to buy or borrow a tent.\n",
    "    If you don’t have enough food and water, print that you need to pack more.\n",
    "    If the weather is not clear, print that it’s not a good time for camping."
   ]
  }
 ],
 "metadata": {
  "language_info": {
   "name": "python"
  }
 },
 "nbformat": 4,
 "nbformat_minor": 2
}
