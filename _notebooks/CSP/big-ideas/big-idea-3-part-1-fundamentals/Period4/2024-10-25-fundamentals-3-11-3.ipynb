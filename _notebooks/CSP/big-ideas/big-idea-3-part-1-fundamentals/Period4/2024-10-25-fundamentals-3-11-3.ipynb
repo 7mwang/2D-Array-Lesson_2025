{
 "cells": [
  {
   "cell_type": "raw",
   "metadata": {
    "vscode": {
     "languageId": "raw"
    }
   },
   "source": [
    "---\n",
    "toc: false\n",
    "comments: true\n",
    "layout: post\n",
    "title: 3.11 Lists\n",
    "description: This is student-led teaching on lists! Here you'll learn how to manipulate individual elements or items in a list using indexing.\n",
    "permalink: /csp/big-idea/p3/3-11-3\n",
    "categories: [CSP Big Ideas]\n",
    "author: Noah, James, Zafeer\n",
    "menu: nav/csp_units/csp_unit3_p4_fundamentals.html\n",
    "---"
   ]
  },
  {
   "cell_type": "markdown",
   "metadata": {
    "vscode": {
     "languageId": "raw"
    }
   },
   "source": [
    "# Hack 1 \n",
    "\n",
    "1. Complex List Modifications\n",
    "Create a list of 10 random integers between 1 and 50.\n",
    "Find and replace the largest number in the list with 0 without using any built-in functions like max().\n",
    "Double every odd number in the list and leave even numbers unchanged.\n",
    "Remove any number in the list that is greater than 40."
   ]
  },
  {
   "cell_type": "markdown",
   "metadata": {},
   "source": [
    "# Hack 2\n",
    "Fruit and Vegetable List Challenge\n",
    "Create two lists: one named fruits with 6 different fruits and one named vegetables with 6 different vegetables.\n",
    "\n",
    "Modify the third item in the fruits list to \"grapefruit\".\n",
    "\n",
    "Add \"carrot\" to the beginning of the vegetables list using an appropriate method.\n",
    "\n",
    "Insert \"mango\" at the second-to-last position of the fruits list using a negative index.\n",
    "\n",
    "Challenge:\n",
    "\n",
    "Print the new fruits and vegetables list"
   ]
  },
  {
   "cell_type": "markdown",
   "metadata": {},
   "source": [
    "# Hack 3\n",
    "\n",
    "Remove the second fruit from the fruits list using del.\n",
    "\n",
    "Remove the last vegetable from the vegetables list using pop() and store the removed item in a variable called removed_veg.\n",
    "\n",
    "Check if \"carrot\" is still in your vegetables list. If it is, print \"Carrot is in the list!\", otherwise print \"Carrot has been removed!\"\n",
    "\n",
    "Challenge:\n",
    "\n",
    "Print the current number of items in both the fruits and vegetables lists using len().\n"
   ]
  },
  {
   "cell_type": "markdown",
   "metadata": {},
   "source": [
    "# Hack 4\n",
    "Create a list of random numbers called random_numbers with at least 7 integers.\n",
    "\n",
    "Sort the list in descending order and print the result.\n",
    "\n",
    "Reverse the sorted list without using the sort(reverse=True) parameter. (Hint: Use the reverse() method instead).\n",
    "\n",
    "Challenge:\n",
    "\n",
    "Print the reversed list. The list should now be in ascending order."
   ]
  }
 ],
 "metadata": {
  "language_info": {
   "name": "python"
  }
 },
 "nbformat": 4,
 "nbformat_minor": 2
}
