{
 "cells": [
  {
   "cell_type": "raw",
   "metadata": {
    "vscode": {
     "languageId": "raw"
    }
   },
   "source": [
    "---\n",
    "layout: post\n",
    "title: CSP Period 4 Unit 3.6.4\n",
    "description: Lesson on Conditionals (Javascript Hacks)\n",
    "#permalink: /github/pages/____\n",
    "type: ccc\n",
    "author: Risha Guha, Vibha Mandayam, Ava Shalon\n",
    "#menu: nav/github_pages.html\n",
    "---"
   ]
  },
  {
   "cell_type": "markdown",
   "metadata": {},
   "source": [
    "Hack 1: Check Voting Eligibility\n",
    "Description: This hack checks if a person is eligible to vote based on their age.\n",
    "\n",
    "Define a function named checkVotingEligibility that takes one parameter called age.\n",
    "Inside the function, use an if statement to check if the age is 18 or older.\n",
    "Return the message \"You are eligible to vote!\" if true; otherwise, return \"You are not eligible to vote yet.\"\n",
    "\n",
    "Call the function with different age values (e.g., checkVotingEligibility(20) and checkVotingEligibility(17)).\n",
    "Log the results to the console.\n"
   ]
  },
  {
   "cell_type": "markdown",
   "metadata": {},
   "source": [
    "Hack 2: Grade Calculator\n",
    "Description: This hack assigns a letter grade based on a numerical score.\n",
    "\n",
    "Define a function named getGrade that takes one parameter called score.\n",
    "Use if...else if...else statements to determine the letter grade based on the score:\n",
    "Return \"Grade: A\" for scores 90 and above.\n",
    "Return \"Grade: B\" for scores between 80 and 89.\n",
    "Return \"Grade: C\" for scores between 70 and 79.\n",
    "Return \"Grade: F\" for scores below 70.\n",
    "\n",
    "Call the function with different scores (e.g., getGrade(85) and getGrade(72)).\n",
    "Log the results to the console.\n"
   ]
  },
  {
   "cell_type": "markdown",
   "metadata": {},
   "source": [
    "Hack 3: Temperature Converter\n",
    "Description: This hack converts temperatures between Celsius and Fahrenheit.\n",
    "\n",
    "Define a function named convertTemperature that takes two parameters: value (the temperature) and scale (either \"C\" or \"F\").\n",
    "Use an if statement to check the scale:\n",
    "If it's \"C\", convert the temperature to Fahrenheit using the formula (value * 9/5) + 32 and return the result with \"°F\".\n",
    "If it's \"F\", convert to Celsius using (value - 32) * 5/9 and return the result with \"°C\".\n",
    "If the scale is neither, return an error message.\n",
    "\n",
    "Test the Function:\n",
    "Call the function with different values and scales (e.g., convertTemperature(100, \"C\") and convertTemperature(32, \"F\")).\n",
    "Log the results to the console.\n"
   ]
  }
 ],
 "metadata": {
  "language_info": {
   "name": "python"
  }
 },
 "nbformat": 4,
 "nbformat_minor": 2
}
