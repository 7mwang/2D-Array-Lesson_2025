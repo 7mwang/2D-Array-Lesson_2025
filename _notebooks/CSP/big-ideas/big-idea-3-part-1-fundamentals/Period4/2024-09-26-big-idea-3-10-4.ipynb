{
 "cells": [
  {
   "cell_type": "code",
   "execution_count": null,
   "metadata": {
    "vscode": {
     "languageId": "plaintext"
    }
   },
   "outputs": [],
   "source": [
    "---\n",
    "layout: post\n",
    "title: Lesson 3.10 Lists\n",
    "categories: [Collaboration]\n",
    "permalink: /csp/big-idea/p4/3-1\n",
    "courses: { csp: {week: 5} }\n",
    "type: collab\n",
    "comments: true\n",
    "permalink: /csp/big-idea/p4/3-10-2\n",
    "menu: nav/csp_units/csp_unit3_p4_fundamentals.html\n",
    "---"
   ]
  },
  {
   "cell_type": "code",
   "execution_count": null,
   "metadata": {
    "vscode": {
     "languageId": "plaintext"
    }
   },
   "outputs": [],
   "source": [
    "Checking if an element exists: In python, you can use the in keyword, which will return true if the element is found in the list.\n"
   ]
  },
  {
   "cell_type": "code",
   "execution_count": null,
   "metadata": {},
   "outputs": [],
   "source": [
    "my_list = [10, 20, 30, 40, 50]\n",
    "\n",
    "# Check for an element\n",
    "element_to_check = 30\n",
    "\n",
    "if element_to_check in my_list:\n",
    "    print(f\"{element_to_check} is in the list.\")\n",
    "else:\n",
    "    print(f\"{element_to_check} is not in the list.\")"
   ]
  },
  {
   "cell_type": "code",
   "execution_count": null,
   "metadata": {
    "vscode": {
     "languageId": "javascript"
    }
   },
   "outputs": [],
   "source": [
    "%%js\n",
    "let fruits = [\"apple\", \"banana\", \"orange\"];\n",
    "\n",
    "if (fruits.includes(\"banana\")) {\n",
    "    console.log(\"Banana is in the list!\");\n",
    "} else {\n",
    "    console.log(\"Banana is not in the list.\");\n",
    "}"
   ]
  },
  {
   "cell_type": "code",
   "execution_count": null,
   "metadata": {
    "vscode": {
     "languageId": "plaintext"
    }
   },
   "outputs": [],
   "source": [
    "List Hacks: Sum of Numbers"
   ]
  },
  {
   "cell_type": "code",
   "execution_count": null,
   "metadata": {},
   "outputs": [],
   "source": [
    "sum -> 10\n",
    "nums ← [1, 2, 3, 4, 5, 6, 7, 8, 9, 10]\n",
    "even_sum ← 0\n",
    "\n",
    "FOR EACH score IN nums\n",
    "    IF score MOD 2 = 0 THEN\n",
    "        even_sum ← even_sum + score\n",
    "    END IF\n",
    "END FOR\n",
    "\n",
    "DISPLAY (\"Sum of even numbers in the list:\", even_sum)\n"
   ]
  },
  {
   "cell_type": "code",
   "execution_count": null,
   "metadata": {
    "vscode": {
     "languageId": "javascript"
    }
   },
   "outputs": [],
   "source": [
    "%%js\n",
    "let numbers = [1, 2, 3, 4, 5, 6];\n",
    "let sum = 0;\n",
    "\n",
    "for (let num of numbers) {\n",
    "    if (num % 2 === 0) {\n",
    "        sum += num;\n",
    "    }\n",
    "}\n",
    "\n",
    "console.log(\"Sum of even numbers:\", sum);"
   ]
  },
  {
   "cell_type": "code",
   "execution_count": null,
   "metadata": {
    "vscode": {
     "languageId": "plaintext"
    }
   },
   "outputs": [],
   "source": [
    "Hacks: Successfully find a specific element in a Lists\n",
    "Find the maximum and minimum value of a list"
   ]
  },
  {
   "cell_type": "code",
   "execution_count": null,
   "metadata": {},
   "outputs": [],
   "source": [
    "def sum_of_odd_numbers(numbers):\n",
    "    return sum(num for num in numbers if num % 2 != 0)\n",
    "\n",
    "# Example usage:\n",
    "numbers = [1, 2, 3, 4, 5, 6, 7, 8, 9]\n",
    "print(sum_of_odd_numbers(numbers))  # Output: 25"
   ]
  },
  {
   "cell_type": "code",
   "execution_count": null,
   "metadata": {
    "vscode": {
     "languageId": "javascript"
    }
   },
   "outputs": [],
   "source": [
    "%%js\n",
    "function sumOfOddNumbers(numbers) {\n",
    "    let sum = 0;\n",
    "    for (let num of numbers) {\n",
    "        if (num % 2 !== 0) {\n",
    "            sum += num;\n",
    "        }\n",
    "    }\n",
    "    return sum;\n",
    "}\n",
    "\n",
    "// Example usage:\n",
    "let numbers = [1, 2, 3, 4, 5, 6, 7, 8, 9];\n",
    "console.log(sumOfOddNumbers(numbers));  // Output: 25"
   ]
  }
 ],
 "metadata": {
  "language_info": {
   "name": "python"
  }
 },
 "nbformat": 4,
 "nbformat_minor": 2
}
