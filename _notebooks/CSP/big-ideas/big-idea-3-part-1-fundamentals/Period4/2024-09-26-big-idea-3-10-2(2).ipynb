{
 "cells": [
  {
   "cell_type": "code",
   "execution_count": null,
   "metadata": {},
   "outputs": [],
   "source": [
    "---\n",
    "layout: post\n",
    "title: Lesson 3.10 Lists\n",
    "categories: [Collaboration]\n",
    "permalink: /csp/big-idea/p4/3-1\n",
    "courses: { csp: {week: 5} }\n",
    "type: collab\n",
    "comments: true\n",
    "permalink: /csp/big-idea/p4/3-10-2\n",
    "menu: nav/csp_units/csp_unit3_p4_fundamentals.html\n",
    "---"
   ]
  },
  {
   "cell_type": "markdown",
   "metadata": {},
   "source": [
    "Accessing an element:"
   ]
  },
  {
   "cell_type": "code",
   "execution_count": null,
   "metadata": {
    "vscode": {
     "languageId": "javascript"
    }
   },
   "outputs": [],
   "source": [
    "%%js \n",
    "let aList = [];\n",
    "\n",
    "while (true) {\n",
    "    let user_input = prompt(\"Enter an item you want (or 'q' to quit):\");\n",
    "    \n",
    "    if (user_input.toLowerCase() === 'q') {\n",
    "        break;\n",
    "    }\n",
    "    \n",
    "    aList.push(user_input);\n",
    "}\n",
    "\n",
    "console.log(\"The second thing on your list is: \" + aList[1]);\n",
    "console.log(aList);\n",
    "console.log(\"Here is a range of data: \", aList.slice(1, 3));  // JavaScript equivalent of Python's list slicing\n",
    "\n",
    "\n"
   ]
  },
  {
   "cell_type": "code",
   "execution_count": null,
   "metadata": {},
   "outputs": [],
   "source": [
    "aList = []\n",
    "\n",
    "while True:\n",
    "    user_input = input(\"Enter an item you want (or 'q' to quit): \")\n",
    "    \n",
    "    if user_input.lower() == 'q':\n",
    "        break\n",
    "    \n",
    "    aList.append(user_input)\n",
    "\n",
    "# Displaying the second element (index 1)\n",
    "if len(aList) > 1:\n",
    "    print(\"The second thing on your list is\", aList[1])\n",
    "else:\n",
    "    print(\"There is no second item in your list.\")\n",
    "\n",
    "# Display a range of data from index 1 to 3 (non-inclusive)\n",
    "print(\"Here is a range of data (index 1 to 3):\", aList[1:3])\n"
   ]
  },
  {
   "cell_type": "markdown",
   "metadata": {},
   "source": [
    "Deleting An Element:"
   ]
  },
  {
   "cell_type": "code",
   "execution_count": null,
   "metadata": {
    "vscode": {
     "languageId": "javascript"
    }
   },
   "outputs": [],
   "source": [
    "%%js \n",
    "let aList = [];\n",
    "\n",
    "while (true) {\n",
    "    let user_input = prompt(\"Enter an item you want (or 'q' to quit):\");\n",
    "    \n",
    "    if (user_input.toLowerCase() === 'q') {\n",
    "        break;\n",
    "    }\n",
    "    \n",
    "    aList.push(user_input);\n",
    "}\n",
    "\n",
    "console.log(\"This is your list: \", aList);\n",
    "\n",
    "// Remove the second item (index 1)\n",
    "aList.splice(1, 1);  // Equivalent of `del aList[1]` in Python\n",
    "\n",
    "console.log(\"This is your new list: \", aList);\n"
   ]
  },
  {
   "cell_type": "code",
   "execution_count": null,
   "metadata": {},
   "outputs": [],
   "source": [
    "aList = []\n",
    "\n",
    "while True:\n",
    "    user_input = input(\"Enter an item you want (or 'q' to quit): \")\n",
    "    \n",
    "    if user_input.lower() == 'q':\n",
    "        break\n",
    "    \n",
    "    aList.append(user_input)\n",
    "\n",
    "print(\"This is your list:\", aList)\n",
    "\n",
    "# Deleting the second item (index 1)\n",
    "if len(aList) > 1:\n",
    "    del aList[1]\n",
    "    print(\"This is your new list after deleting the second item:\", aList)\n",
    "else:\n",
    "    print(\"There is no second item to delete.\")\n"
   ]
  },
  {
   "cell_type": "markdown",
   "metadata": {},
   "source": [
    "Accessing Element Excersises:\n",
    "Problem: Write a Python program that:\n",
    "\n",
    "1.Prompts the user to enter 5 items (strings) into a list.\n",
    "2.Asks the user to input an index number.\n",
    "3.The program should display the item at the index number provided by the user.\n",
    "4.Additionally, display the range of items from index 1 to 4 (non-inclusive).\n",
    "\n",
    "Problem: Write a JavaScript program that:\n",
    "\n",
    "Prompts the user to enter 5 items (strings) into an array.\n",
    "Asks the user to input an index number.\n",
    "The program should display the item at the index number provided by the user.\n",
    "Additionally, display the range of items from index 1 to 4 (non-inclusive).\n",
    "\n",
    "Deleting Element Excersises:\n",
    "Problem: Write a Python program that:\n",
    "\n",
    "Prompts the user to enter 5 items (strings) into a list.\n",
    "Asks the user for the index of the item they want to delete.\n",
    "The program should delete the item at that index and print the updated list.\n",
    "\n",
    "Problem: Write a JavaScript program that:\n",
    "\n",
    "Prompts the user to enter 5 items (strings) into an array.\n",
    "Asks the user for the index of the item they want to delete.\n",
    "The program should delete the item at that index and print the updated array.\n"
   ]
  }
 ],
 "metadata": {
  "language_info": {
   "name": "python"
  }
 },
 "nbformat": 4,
 "nbformat_minor": 2
}
