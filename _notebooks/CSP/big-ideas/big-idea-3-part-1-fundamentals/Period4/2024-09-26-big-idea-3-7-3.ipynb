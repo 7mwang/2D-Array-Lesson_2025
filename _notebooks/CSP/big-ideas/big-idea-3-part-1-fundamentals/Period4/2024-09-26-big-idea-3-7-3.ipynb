{
 "cells": [
  {
   "cell_type": "raw",
   "metadata": {
    "vscode": {
     "languageId": "raw"
    }
   },
   "source": [
    "---\n",
    "layout: post\n",
    "title: CSP Period 4 Unit 3.7.3\n",
    "description: Nested Conditionals Python Hacks\n",
    "permalink: /csp/big-idea/p4/3-7-3\n",
    "type: ccc\n",
    "author: Risha Guha, Vibha Mandayam, Ava Shalon\n",
    "menu: nav/csp_units/csp_unit3_p4_fundamentals.html\n",
    "---"
   ]
  },
  {
   "cell_type": "markdown",
   "metadata": {},
   "source": [
    "# Python Nested Conditionals Hacks Below\n",
    "\n",
    "Hack 1: Write Python pseudocode to decide whether or not to go to the beach.\n",
    "\n",
    "Meet the following conditions:\n",
    "\n",
    "    The weather must be sunny.\n",
    "    You must have sunscreen.\n",
    "    You must have enough snacks.\n",
    "\n",
    "    If all conditions are met, output a message that says you are ready for the beach.\n",
    "    If you don’t have enough snacks, suggest getting snacks first.\n",
    "    If you don’t have sunscreen, suggest buying sunscreen.\n",
    "    If the weather is not sunny, output that it’s not a good day for the beach."
   ]
  },
  {
   "cell_type": "markdown",
   "metadata": {},
   "source": [
    "Hack 2: Write a Python code that checks if you can adopt a pet.\n",
    "\n",
    "Include the following conditions:\n",
    "\n",
    "    You must be 18 years or older.\n",
    "    You must have enough space in your home (more than 50 square feet).\n",
    "    You must be available to take care of the pet (true/false).\n",
    "\n",
    "    If all conditions are true, print that you can adopt the pet.\n",
    "    If you don’t have enough space, print that you need a bigger home.\n",
    "    If you aren’t available to take care of the pet, print that you need to make time.\n",
    "    If you are not 18 or older, print that you must be at least 18 to adopt a pet."
   ]
  },
  {
   "cell_type": "markdown",
   "metadata": {},
   "source": [
    "Hack 3: Write Python code to determine whether or not to participate in a marathon.\n",
    "\n",
    "Check the following conditions:\n",
    "\n",
    "    The weather must be clear.\n",
    "    You must have running shoes.\n",
    "    You must have practiced for at least 10 days.\n",
    "\n",
    "    If all conditions are met, print that you are ready for the marathon.\n",
    "    If you don’t have running shoes, print that you need to buy shoes first.\n",
    "    If you haven’t practiced enough, print that you need to practice more.\n",
    "    If the weather is not clear, print that it’s not the right time for the marathon."
   ]
  }
 ],
 "metadata": {
  "language_info": {
   "name": "python"
  }
 },
 "nbformat": 4,
 "nbformat_minor": 2
}
