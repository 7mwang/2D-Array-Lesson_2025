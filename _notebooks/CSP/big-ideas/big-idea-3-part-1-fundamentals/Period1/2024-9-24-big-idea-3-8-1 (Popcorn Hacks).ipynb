{
 "cells": [
  {
   "cell_type": "raw",
   "metadata": {
    "vscode": {
     "languageId": "raw"
    }
   },
   "source": [
    "---\n",
    "toc: false\n",
    "comments: true\n",
    "layout: post\n",
    "title: Popcorn Hacks 3.8\n",
    "description: Popcorn hacks for Iteration for you to try. \n",
    "permalink: /csp/big-idea/3-8/p1/3-8-1\n",
    "categories: [CSP Big Ideas 3]\n",
    "author:  Arya, Shawn, Aarav\n",
    "menu: nav/csp_units/csp_unit3_p1_fundamentals.html\n",
    "---"

  {
   "cell_type": "markdown",
   "metadata": {},
   "source": [
    "# Popcorn Hack 1\n",
    "Using this code and nested if statements, check if the user is a student by defining a variable and putting a user input. Modify the code and implement a feature that asks the user if they are a student. If yes is answered, allow a 20 percent discount off of the original 10 dollar ticket. If no is answered, keep the price the same. Make sure it is able to handle invalid responses such as responses other than \"yes\" or \"no\" by prompting the user to answer again with a simple \"yes\" or \"no\"\n",
    "\n",
    "CHALLENGE: Add a feature that asks for the age of the user, and make varying ticket prices based off of the age groups.\n",
    "- Ages 0-12: Child Ticket (50% off)\n",
    "- Ages 13-63 Adult Ticket (0% off)\n",
    "- Ages 65+: Senior Ticket (30% off)"
   ]
  },
  {
   "cell_type": "markdown",
   "metadata": {},
   "source": [
    "# Answer to Popcorn Hack 1:"
   ]
  },
  {
   "cell_type": "code",
   "execution_count": null,
   "metadata": {},
   "outputs": [],
   "source": [
    "# Ticket pricing system\n",
    "base_ticket_price = 10.00\n",
    "\n",
    "# Get the user's age\n",
    "age = int(input(\"Please enter your age: \"))\n",
    "\n",
    "# Determine ticket price based on age\n",
    "if age <= 12:\n",
    "    ticket_price = base_ticket_price * 0.5  # 50% off for children\n",
    "    print(f\"Child ticket price: ${ticket_price:.2f}\")\n",
    "elif age <= 63:\n",
    "    ticket_price = base_ticket_price  # Full price for adults\n",
    "    print(f\"Adult ticket price: ${ticket_price:.2f}\")\n",
    "else:\n",
    "    ticket_price = base_ticket_price * 0.7  # 30% off for seniors\n",
    "    print(f\"Senior ticket price: ${ticket_price:.2f}\")\n",
    "\n",
    "# Check if the user has a ticket\n",
    "has_ticket = input(\"Do you have a ticket? (yes/no): \").lower() == \"yes\"\n",
    "\n",
    "if has_ticket:\n",
    "    # Check if the user is a student\n",
    "    while True:\n",
    "        is_student = input(\"Are you a student? (yes/no): \").lower()\n",
    "        if is_student == \"yes\":\n",
    "            student_discount = 0.20  # 20% discount\n",
    "            final_price = ticket_price * (1 - student_discount)\n",
    "            print(f\"You are eligible for a student discount! The ticket price is now: ${final_price:.2f}\")\n",
    "            break\n",
    "        elif is_student == \"no\":\n",
    "            print(f\"No student discount applied. The ticket price is: ${ticket_price:.2f}\")\n",
    "            break\n",
    "        else:\n",
    "            print('Invalid response. Please answer with \"yes\" or \"no\".')\n",
    "else:\n",
    "    print(\"You need a ticket to enter.\")\n"
   ]
  },
  {
   "cell_type": "markdown",
   "metadata": {},
   "source": [
  
  {
   "cell_type": "markdown",
   "metadata": {},
   "source": [
    "# Popcorn Hack 2\n",
    "- Using this code, check if the number is even or odd, after satisfying the successful operation. "
   ]
  },
  {
   "cell_type": "markdown",
   "metadata": {},
   "source": [
    "# Answer to Popcorn Hack 2:\n",
    "- take note of use of else statement to ensure you check for even/odd AFTER satisfying operation\n",
    "- modulo ( % ) operator "
   ]
  },
  {
   "cell_type": "code",
   "execution_count": null,
   "metadata": {},
   "outputs": [],
   "source": [
    "try:\n",
    "    num = int(input(\"Enter a number: \"))  # Code that might raise an exception\n",
    "    result = 10 / num  # Could raise ZeroDivisionError if num is 0\n",
    "    print(\"Result:\", result)\n",
    "except ValueError:\n",
    "    print(\"That's not a valid number!\")\n",
    "except ZeroDivisionError:\n",
    "    print(\"You can't divide by zero!\")\n",
    "else:\n",
    "    # This block runs if no exception occurs\n",
    "    print(\"Operation was successful!\")\n",
    "    \n",
    "    # Check if the number is even or odd\n",
    "    if num % 2 == 0:\n",
    "        print(f\"The number {num} is even.\")\n",
    "    else:\n",
    "        print(f\"The number {num} is odd.\")\n"
   ]
  },
  {
   "cell_type": "markdown",
   "metadata": {},
   "source": [
    "# Homework Hack: Looping Practice\n",
    "Create a program that asks the user for a number and keeps asking until they enter a positive number.\n",
    "\n",
    "Requirements:\n",
    "1. Input Validation: Make sure that the input is actually a number. Display an 'error' message if the user inputted something that is NOT a number\n",
    "2. Positive Checker: If the user has entered a number that is positive, print a 'success!' message with the entered number\n",
    "3. If the user has entered a number that is not positive like zero or a negative number, print a 'try again' message, prompting them to keep inputting numbers till they input a positive number."
   ]
  }
 ],
 "metadata": {
  "kernelspec": {
   "display_name": "Python 3 (ipykernel)",
   "language": "python",
   "name": "python3"
  },
  "language_info": {
   "codemirror_mode": {
    "name": "ipython",
    "version": 3
   },
   "file_extension": ".py",
   "mimetype": "text/x-python",
   "name": "python",
   "nbconvert_exporter": "python",
   "pygments_lexer": "ipython3",
   "version": "3.12.3"
  }
 },
 "nbformat": 4,
 "nbformat_minor": 4
}
