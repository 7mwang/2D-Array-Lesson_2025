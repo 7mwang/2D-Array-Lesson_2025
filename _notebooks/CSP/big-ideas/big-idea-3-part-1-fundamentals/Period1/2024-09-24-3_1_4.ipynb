{
 "cells": [
  {
   "cell_type": "raw",
   "metadata": {
    "vscode": {
     "languageId": "raw"
    }
   },
   "source": [
    "---\n",
    "toc: true\n",
    "layout: post\n",
    "title: 3.1 Variables and Strings\n",
    "permalink: /csp/big-idea/p1/3-1-4\n",
    "description: Team Teach String Operations\n",
    "menu: nav/csp_units/csp_unit3_p1_fundamentals.html\n",
    "comments: true\n",
    "---"
   ]
  },
  {
   "cell_type": "markdown",
   "metadata": {},
   "source": [
    "<html>\n",
    "    <style>\n",
    "        @keyframes bounce {\n",
    "            0%, 20%, 50%, 80%, 100% {\n",
    "                transform: translateY(0);\n",
    "            }\n",
    "            10%, 30%, 60%, 90% {\n",
    "                transform: translateY(-30px);\n",
    "            }\n",
    "            40%, 70% {\n",
    "                transform: translateY(-15px);\n",
    "            }\n",
    "        }\n",
    "        @keyframes bounce2 {\n",
    "            /* bounce */\n",
    "            0%, 20%, 50%, 80%, 100% {\n",
    "                transform: translateY(0);\n",
    "            }\n",
    "            10%, 30%, 60%, 90% {\n",
    "                transform: translateY(-30px);\n",
    "            }\n",
    "            40%, 70% {\n",
    "                transform: translateY(-15px);\n",
    "            }\n",
    "            /* flips */\n",
    "            0%, 25% {\n",
    "                transform: rotateZ(0deg);\n",
    "            }\n",
    "            25%, 50% {\n",
    "                transform: rotateY(180deg);\n",
    "            }\n",
    "            50%, 75% {\n",
    "                transform: rotateZ(180deg);\n",
    "            }\n",
    "            75%, 100% {\n",
    "                transform: rotateY(0deg);\n",
    "            }\n",
    "        }\n",
    "        h2{\n",
    "            color: #ffd9d9;\n",
    "        }\n",
    "    </style>\n",
    "    <br>\n",
    "    <br>\n",
    "    <br>\n",
    "    <br>\n",
    "    <br>\n",
    "    <p style=\"animation: bounce 3s ease infinite; background: linear-gradient(to right, #C9B1FF, #FFCAF2, #FFB2B1, #FFF3AD, #BCFFBC, #A2EDFF);-webkit-text-fill-color: transparent; -webkit-background-clip: text;\"> ____________________________________________________________________________________________________________________________________________</p>\n",
    "</html>"
   ]
  },
  {
   "cell_type": "markdown",
   "metadata": {},
   "source": [
    "## What is a String?\n",
    "- A data type represented as a sequence of characters\n",
    "- Immutable in majority of programming languages, but are subject to manipulation"
   ]
  },
  {
   "cell_type": "markdown",
   "metadata": {},
   "source": [
    "## Defining a String\n",
    "- To create a string, assign text data to a variable, using quotes to indicate it’s a string."
   ]
  },
  {
   "cell_type": "code",
   "execution_count": null,
   "metadata": {},
   "outputs": [],
   "source": [
    "# define your strings\n",
    "greeting = \"hello world\"\n",
    "usrname = \"ansh\"\n",
    "\n",
    "# print strings\n",
    "print(greeting)\n",
    "print(usrname)"
   ]
  },
  {
   "cell_type": "code",
   "execution_count": null,
   "metadata": {
    "vscode": {
     "languageId": "javascript"
    }
   },
   "outputs": [],
   "source": [
    "%%js \n",
    "\n",
    "// define your strings\n",
    "let greeting = \"hello world\";\n",
    "let usrname = \"ansh\";\n",
    "\n",
    "// log strings in console\n",
    "console.log(greeting);\n",
    "console.log(usrname);"
   ]
  }
 ],
 "metadata": {
  "kernelspec": {
   "display_name": "Python 3",
   "language": "python",
   "name": "python3"
  },
  "language_info": {
   "codemirror_mode": {
    "name": "ipython",
    "version": 3
   },
   "file_extension": ".py",
   "mimetype": "text/x-python",
   "name": "python",
   "nbconvert_exporter": "python",
   "pygments_lexer": "ipython3",
   "version": "3.12.5"
  }
 },
 "nbformat": 4,
 "nbformat_minor": 2
}
