{
 "cells": [
  {
   "cell_type": "raw",
   "metadata": {
    "vscode": {
     "languageId": "raw"
    }
   },
   "source": [
    "---\n",
    "toc: true\n",
    "layout: post\n",
    "type: hacks\n",
    "courses: { compsci: {week: 14} }\n",
    "title: String Operations Notebook\n",
    "description: 3.4 Team Teach String Operations\n",
    "---"
   ]
  },
  {
   "cell_type": "markdown",
   "metadata": {},
   "source": [
    "## String Concatenation\n",
    "- strings can be stored as variables\n",
    "- the strings can be combined and stored as a new variable"
   ]
  },
  {
   "cell_type": "code",
   "execution_count": 1,
   "metadata": {},
   "outputs": [
    {
     "name": "stdout",
     "output_type": "stream",
     "text": [
      "HelloWorld\n"
     ]
    }
   ],
   "source": [
    "var1 = \"Hello\"\n",
    "var2 = \"World\"\n",
    "var3 = var1 + var2\n",
    "print(var3)"
   ]
  },
  {
   "cell_type": "code",
   "execution_count": 2,
   "metadata": {},
   "outputs": [
    {
     "name": "stdout",
     "output_type": "stream",
     "text": [
      "Hello! World\n"
     ]
    }
   ],
   "source": [
    "var1 = \"Hello\"\n",
    "var2 = \"World\"\n",
    "var3 = var1 + \"! \" + var2\n",
    "print(var3)"
   ]
  },
  {
   "cell_type": "markdown",
   "metadata": {},
   "source": [
    "## String Interpolation\n",
    "- String interpolation allows you to embed variables directly within a string, making it more readable and concise\n",
    "- f-strings in python allow for embedding expressions inside string literals using curly braces {}"
   ]
  },
  {
   "cell_type": "code",
   "execution_count": 18,
   "metadata": {},
   "outputs": [
    {
     "name": "stdout",
     "output_type": "stream",
     "text": [
      "Hello, Bob! You are 30 years old.\n"
     ]
    }
   ],
   "source": [
    "name = \"Bob\"\n",
    "age = 30\n",
    "greeting = f\"Hello, {name}! You are {age} years old.\"\n",
    "print(greeting) "
   ]
  },
  {
   "cell_type": "markdown",
   "metadata": {},
   "source": [
    "## Combining string and variable manipulation Hacks\n",
    "- In this hack we combine two different strings by taking the first half of the first string and the second half of the second one."
   ]
  },
  {
   "cell_type": "code",
   "execution_count": 15,
   "metadata": {},
   "outputs": [
    {
     "name": "stdout",
     "output_type": "stream",
     "text": [
      "pauffalo\n"
     ]
    }
   ],
   "source": [
    "var1 = \"panda\"\n",
    "var2 = \"waterbuffalo\"\n",
    "len1 = len(var1)//2\n",
    "len2 = len(var2)//2\n",
    "\n",
    "first = var1[0:len1]\n",
    "second = var2[len2:]\n",
    "\n",
    "newAnimal = first+second\n",
    "print(newAnimal)\n"
   ]
  },
  {
   "cell_type": "markdown",
   "metadata": {},
   "source": [
    "## Homework Hack:\n",
    "in this hack, you will be given a set of personal information, and your job is to format and display it properly, along with generating a unique ID associated to that person using string slicing and concatenation.\n",
    "\n",
    "Data Set:\n",
    "- Full Name: \"John Doe\"\n",
    "- Age: 28\n",
    "- Email Address: \"john.doe@gmail.com\"\n",
    "- Hobby: \"Food Tasting\"\n",
    "- Dietary Preferences: \"Vegan\""
   ]
  }
 ],
 "metadata": {
  "kernelspec": {
   "display_name": "Python 3",
   "language": "python",
   "name": "python3"
  },
  "language_info": {
   "codemirror_mode": {
    "name": "ipython",
    "version": 3
   },
   "file_extension": ".py",
   "mimetype": "text/x-python",
   "name": "python",
   "nbconvert_exporter": "python",
   "pygments_lexer": "ipython3",
   "version": "3.10.12"
  }
 },
 "nbformat": 4,
 "nbformat_minor": 2
}
