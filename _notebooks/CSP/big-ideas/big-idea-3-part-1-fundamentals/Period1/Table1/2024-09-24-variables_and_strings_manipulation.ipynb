{
 "cells": [
  {
   "cell_type": "raw",
   "metadata": {
    "vscode": {
     "languageId": "raw"
    }
   },
   "source": [
    "---\n",
    "toc: true\n",
    "layout: post\n",
    "type: hacks\n",
    "courses: { compsci: {week: 14} }\n",
    "title: Variable and String Manipulation Notebook\n",
    "description: 3.4 Team Teach String Operations\n",
    "---"
   ]
  },
  {
   "cell_type": "markdown",
   "metadata": {},
   "source": [
    "## String Concatenation\n",
    "- strings can be stored as variables\n",
    "- the strings can be combined and stored as a new variable"
   ]
  },
  {
   "cell_type": "code",
   "execution_count": 1,
   "metadata": {},
   "outputs": [
    {
     "name": "stdout",
     "output_type": "stream",
     "text": [
      "HelloWorld\n"
     ]
    }
   ],
   "source": [
    "var1 = \"Hello\"\n",
    "var2 = \"World\"\n",
    "var3 = var1 + var2\n",
    "print(var3)"
   ]
  },
  {
   "cell_type": "code",
   "execution_count": null,
   "metadata": {
    "vscode": {
     "languageId": "javascript"
    }
   },
   "outputs": [],
   "source": [
    "%%js\n",
    "\n",
    "let var1 = \"Hello\";\n",
    "let var2 = \"World\";\n",
    "\n",
    "let var3 = var1 + var2;\n",
    "\n",
    "console.log(var3);"
   ]
  },
  {
   "cell_type": "code",
   "execution_count": 2,
   "metadata": {},
   "outputs": [
    {
     "name": "stdout",
     "output_type": "stream",
     "text": [
      "Hello! World\n"
     ]
    }
   ],
   "source": [
    "var1 = \"Hello\"\n",
    "var2 = \"World\"\n",
    "var3 = var1 + \"! \" + var2\n",
    "print(var3)"
   ]
  },
  {
   "cell_type": "code",
   "execution_count": null,
   "metadata": {
    "vscode": {
     "languageId": "javascript"
    }
   },
   "outputs": [],
   "source": [
    "%%js\n",
    "let var1 = \"Hello\";\n",
    "let var2 = \"World\";\n",
    "\n",
    "let var3 = var1 + \"! \" + var2;\n",
    "\n",
    "console.log(var3);"
   ]
  },
  {
   "cell_type": "markdown",
   "metadata": {},
   "source": [
    "## String Interpolation\n",
    "- String interpolation allows you to embed variables directly within a string, making it more readable and concise\n",
    "- f-strings in python allow for embedding expressions inside string literals using curly braces {}"
   ]
  },
  {
   "cell_type": "code",
   "execution_count": 18,
   "metadata": {},
   "outputs": [
    {
     "name": "stdout",
     "output_type": "stream",
     "text": [
      "Hello, Bob! You are 30 years old.\n"
     ]
    }
   ],
   "source": [
    "name = \"Bob\"\n",
    "age = 30\n",
    "greeting = f\"Hello, {name}! You are {age} years old.\"\n",
    "print(greeting) "
   ]
  },
  {
   "cell_type": "code",
   "execution_count": null,
   "metadata": {
    "vscode": {
     "languageId": "javascript"
    }
   },
   "outputs": [],
   "source": [
    "%%js\n",
    "let name = \"Bob\";\n",
    "let age = 30;\n",
    "\n",
    "let greeting = `Hello, ${name}! You are ${age} years old.`;\n",
    "\n",
    "console.log(greeting);\n"
   ]
  },
  {
   "cell_type": "markdown",
   "metadata": {},
   "source": [
    "## Combining string and variable manipulation Hacks\n",
    "- In this hack we combine two different strings by taking the first half of the first string and the second half of the second one."
   ]
  },
  {
   "cell_type": "code",
   "execution_count": 15,
   "metadata": {},
   "outputs": [
    {
     "name": "stdout",
     "output_type": "stream",
     "text": [
      "pauffalo\n"
     ]
    }
   ],
   "source": [
    "var1 = \"panda\"\n",
    "var2 = \"waterbuffalo\"\n",
    "len1 = len(var1)//2\n",
    "len2 = len(var2)//2\n",
    "\n",
    "first = var1[0:len1]\n",
    "second = var2[len2:]\n",
    "\n",
    "newAnimal = first+second\n",
    "print(newAnimal)\n"
   ]
  },
  {
   "cell_type": "code",
   "execution_count": null,
   "metadata": {
    "vscode": {
     "languageId": "javascript"
    }
   },
   "outputs": [],
   "source": [
    "%%js\n",
    "let var1 = \"panda\";\n",
    "let var2 = \"waterbuffalo\";\n",
    "\n",
    "let len1 = Math.floor(var1.length / 2);\n",
    "let len2 = Math.floor(var2.length / 2);\n",
    "\n",
    "let first = var1.substring(0, len1);\n",
    "let second = var2.substring(len2);\n",
    "\n",
    "let newAnimal = first + second;\n",
    "\n",
    "console.log(newAnimal);\n"
   ]
  },
  {
   "cell_type": "markdown",
   "metadata": {},
   "source": [
    "## Homework Hack:\n",
    "in this hack, you will be given a set of personal information, and your job is to format and display it properly, along with generating a unique ID associated to that person using string slicing and concatenation.\n",
    "\n",
    "Data Set:\n",
    "- Full Name: \"John Doe\"\n",
    "- Age: 28\n",
    "- Email Address: \"john.doe@gmail.com\"\n",
    "- Hobby: \"Food Tasting\"\n",
    "- Dietary Preferences: \"Vegan\""
   ]
  },
  {
   "cell_type": "code",
   "execution_count": 4,
   "metadata": {},
   "outputs": [
    {
     "name": "stdout",
     "output_type": "stream",
     "text": [
      "Registration Summary:\n",
      "- Full Name: John Doe\n",
      "- Age: 28\n",
      "- Email: john.doe@gmail.com\n",
      "- Hobby: Food Tasting\n",
      "- Dietary Preferences: Vegan\n",
      "- Unique ID: JD28\n"
     ]
    }
   ],
   "source": [
    "full_name = \"John Doe\"\n",
    "age = 28\n",
    "email = \"john.doe@gmail.com\"\n",
    "hobby = \"Food Tasting\"\n",
    "dietary_preferences = \"Vegan\"\n",
    "\n",
    "initials = full_name[0] + full_name[full_name.find(\" \") + 1] \n",
    "unique_id = initials + str(age) \n",
    "\n",
    "formatted_info = \"Personal Info:\\n\" \\\n",
    "                 \"- Full Name: \" + full_name + \"\\n\" \\\n",
    "                 \"- Age: \" + str(age) + \"\\n\" \\\n",
    "                 \"- Email: \" + email + \"\\n\" \\\n",
    "                 \"- Hobby: \" + hobby + \"\\n\" \\\n",
    "                 \"- Dietary Preferences: \" + dietary_preferences + \"\\n\" \\\n",
    "                 \"- Unique ID: \" + unique_id\n",
    "\n",
    "print(formatted_info)\n"
   ]
  },
  {
   "cell_type": "code",
   "execution_count": null,
   "metadata": {
    "vscode": {
     "languageId": "javascript"
    }
   },
   "outputs": [],
   "source": [
    "var fullName = \"John Doe\";\n",
    "var age = 28;\n",
    "var email = \"john.doe@gmail.com\";\n",
    "var hobby = \"Food Tasting\";\n",
    "var dietaryPreferences = \"Vegan\";\n",
    "\n",
    "var initials = fullName[0] + fullName.charAt(fullName.indexOf(' ') + 1);\n",
    "var uniqueId = initials + age; \n",
    "\n",
    "var formattedInfo = \"Personal Info:\\n\" +\n",
    "                    \"- Full Name: \" + fullName + \"\\n\" +\n",
    "                    \"- Age: \" + age + \"\\n\" +\n",
    "                    \"- Email: \" + email + \"\\n\" +\n",
    "                    \"- Hobby: \" + hobby + \"\\n\" +\n",
    "                    \"- Dietary Preferences: \" + dietaryPreferences + \"\\n\" +\n",
    "                    \"- Unique ID: \" + uniqueId;\n",
    "\n",
    "console.log(formattedInfo);"
   ]
  }
 ],
 "metadata": {
  "kernelspec": {
   "display_name": "Python 3",
   "language": "python",
   "name": "python3"
  },
  "language_info": {
   "codemirror_mode": {
    "name": "ipython",
    "version": 3
   },
   "file_extension": ".py",
   "mimetype": "text/x-python",
   "name": "python",
   "nbconvert_exporter": "python",
   "pygments_lexer": "ipython3",
   "version": "3.10.12"
  }
 },
 "nbformat": 4,
 "nbformat_minor": 2
}
