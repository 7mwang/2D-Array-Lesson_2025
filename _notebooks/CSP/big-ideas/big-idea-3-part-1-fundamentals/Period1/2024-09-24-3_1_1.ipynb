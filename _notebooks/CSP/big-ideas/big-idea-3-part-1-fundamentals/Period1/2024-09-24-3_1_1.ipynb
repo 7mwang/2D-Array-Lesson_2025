{
 "cells": [
  {
   "cell_type": "raw",
   "metadata": {
    "vscode": {
     "languageId": "raw"
    }
   },
   "source": [
    "---\n",
    "toc: true\n",
    "layout: post\n",
    "title: 3.1 Variables and Strings\n",
    "permalink: /csp/big-idea/p1/3-1-1\n",
    "description: Team Teach String Operations\n",
    "menu: nav/csp_units/csp_unit3_p1_fundamentals.html\n",
    "comments: true\n",
    "---"
   ]
  },
  {
   "cell_type": "markdown",
   "metadata": {},
   "source": [
    "## What is a Variable?\n",
    "- Variables are containers for storing data values subject to change\n",
    "- Fundamental to EVERY and ANY decent program (in any language)\n"
   ]
  },
  {
   "cell_type": "markdown",
   "metadata": {},
   "source": [
    "<br>\n",
    "\n",
    "## Defining a Variable\n",
    "- simply state the name of the variable, set equal to the desired value (numeric, text, whatever)\n",
    "<br>\n",
    "<br>\n",
    "\n",
    "<html>\n",
    "    <style>\n",
    "        h2 {\n",
    "            color: #ff00fb;\n",
    "            padding-left: 10px;\n",
    "        }\n",
    "        div {\n",
    "            background-color: #33c9ff;\n",
    "            border-radius: 10px;\n",
    "        }\n",
    "        li {\n",
    "            color: #864d00;\n",
    "        }\n",
    "    </style>\n",
    "</html>"
   ]
  },
  {
   "cell_type": "code",
   "execution_count": 7,
   "metadata": {},
   "outputs": [
    {
     "name": "stdout",
     "output_type": "stream",
     "text": [
      "dog\n",
      "24\n"
     ]
    }
   ],
   "source": [
    "# define your variables\n",
    "x = 'unicorn'\n",
    "y = 24\n",
    "\n",
    "# print variables\n",
    "print(x)\n",
    "print(y)"
   ]
  },
  {
   "cell_type": "code",
   "execution_count": null,
   "metadata": {
    "vscode": {
     "languageId": "javascript"
    }
   },
   "outputs": [],
   "source": [
    "%%js \n",
    "\n",
    "// define variables \n",
    "let x = 'dog'; // defines a var, can be updated but not re-declared in the same scope\n",
    "const u = 24; // defines a block-scoped constant, cannot be updated or re-declared.\n",
    "var w = ['h', 'i']; // defines a var, can be updated or re-declared. It’s function-scoped\n",
    "\n",
    "// log variables in console\n",
    "console.log(x);\n",
    "console.log(u);\n",
    "console.log(w);"
   ]
  }
 ],
 "metadata": {
  "kernelspec": {
   "display_name": "Python 3",
   "language": "python",
   "name": "python3"
  },
  "language_info": {
   "codemirror_mode": {
    "name": "ipython",
    "version": 3
   },
   "file_extension": ".py",
   "mimetype": "text/x-python",
   "name": "python",
   "nbconvert_exporter": "python",
   "pygments_lexer": "ipython3",
   "version": "3.12.5"
  }
 },
 "nbformat": 4,
 "nbformat_minor": 2
}
