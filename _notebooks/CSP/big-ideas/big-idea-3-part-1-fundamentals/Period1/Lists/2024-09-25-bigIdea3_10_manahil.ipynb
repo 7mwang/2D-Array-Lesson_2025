{
 "cells": [
  {
   "cell_type": "raw",
   "metadata": {
    "vscode": {
     "languageId": "raw"
    }
   },
   "source": [
    "---\n",
    "layout: post\n",
    "title: Big Idea 3.10\n",
    "description: Learn more about lists\n",
    "type: hacks\n",
    "comments: true\n",
    "author: Manahil, Carson, Jackson, Brandon\n",
    "---"
   ]
  },
  {
   "cell_type": "markdown",
   "metadata": {
    "vscode": {
     "languageId": "raw"
    }
   },
   "source": [
    "## Lists\n",
    "\n",
    "**In Python**, a list is an ordered, mutable collection that can hold different types of data. This makes lists versatile, as they can store integers, strings, or even other lists. One key feature of lists in Python is that they are indexed starting from 0, meaning the first element in a list is at index 0. For example, in the list `my_list = ['apple', 'banana', 'cherry']`, the first element is `'apple'`, located at `my_list[0]`.\n",
    "\n",
    "**Learning Objectives,** \n",
    "- You will be able to write expressions that use list indexing and list procedures. \n",
    "- For algorithms involving elements of a list, you will be able to write iteration statements to traverse a list. \n",
    "\n",
    "# Key Points\n",
    "- Ordered: The elements have a defined order, meaning you can refer to an item by its index.\n",
    "- Mutable: You can change the items within a list (unlike tuples which are immutable)."
   ]
  },
  {
   "cell_type": "markdown",
   "metadata": {},
   "source": [
    "## List Operations\n",
    "\n",
    "Python provides several operations to interact with lists, allowing you to access, modify, and remove elements.\n",
    "- aList[i]: Accesses the element at index i in the list. Index is a numeric value which tells you where an element is within the data. The first item is at index 1, so aList[1].\n",
    "- x <- aList[i]: Assigns the value of aList[i] to the variable x.\n",
    "- aList[i] <- x: Assigns the value of x to aList[i].\n",
    "- aList[i] <- aList[j]: Assigns value of aList[j] to aList[i].\n",
    "- INSERT(aList, i, value): Inserts the value into aList at index i.\n",
    "- APPEND(aList, value): Adds value to the end of the list.\n",
    "- REMOVE(aList, i): Removes the item at index i from aList.\n",
    "- LENGTH(aList): Returns the number of elements in aList.\n",
    "\n",
    "Here's an example of these operations in action:\n",
    "aList = [1, 2, 3, 4]\n",
    "aList[2] = 5  # Changes the 3rd element from 3 to 5\n",
    "aList.append(6)  # Adds 6 at the end\n",
    "aList.insert(1, 10)  # Inserts 10 at index 1\n",
    "print(aList)  # Output: [1, 10, 2, 5, 4, 6]"
   ]
  }
 ],
 "metadata": {
  "language_info": {
   "name": "python"
  }
 },
 "nbformat": 4,
 "nbformat_minor": 2
}
