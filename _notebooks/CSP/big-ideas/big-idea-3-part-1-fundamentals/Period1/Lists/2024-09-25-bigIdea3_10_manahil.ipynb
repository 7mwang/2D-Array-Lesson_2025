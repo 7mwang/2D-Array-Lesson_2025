{
 "cells": [
  {
   "cell_type": "raw",
   "metadata": {
    "vscode": {
     "languageId": "raw"
    }
   },
   "source": [
    "---\n",
    "layout: post\n",
    "title: Big Idea 3.10\n",
    "description: Learn more about lists\n",
    "type: hacks\n",
    "comments: true\n",
    "author: Manahil, Carson, Jackson, Brandon\n",
    "---"
   ]
  },
  {
   "cell_type": "markdown",
   "metadata": {
    "vscode": {
     "languageId": "raw"
    }
   },
   "source": [
    "## Lists\n",
    "\n",
    "**In Python**, a list is an ordered, mutable collection that can hold different types of data. This makes lists versatile, as they can store integers, strings, or even other lists. One key feature of lists in Python is that they are indexed starting from 0, meaning the first element in a list is at index 0. For example, in the list `my_list = ['apple', 'banana', 'cherry']`, the first element is `'apple'`, located at `my_list[0]`.\n",
    "\n",
    "**Learning Objectives,** \n",
    "- You will be able to write expressions that use list indexing and list procedures. \n",
    "- For algorithms involving elements of a list, you will be able to write iteration statements to traverse a list. \n",
    "\n",
    "# Key Points\n",
    "- Ordered: The elements have a defined order, meaning you can refer to an item by its index.\n",
    "- Mutable: You can change the items within a list (unlike tuples which are immutable)."
   ]
  },
  {
   "cell_type": "markdown",
   "metadata": {},
   "source": [
    "## List Operations\n",
    "\n",
    "Python provides several operations to interact with lists, allowing you to access, modify, and remove elements.\n",
    "- aList[i]: Accesses the element at index i in the list. Index is a numeric value which tells you where an element is within the data. The first item is at index 1, so aList[1].\n",
    "- x <- aList[i]: Assigns the value of aList[i] to the variable x.\n",
    "- aList[i] <- x: Assigns the value of x to aList[i].\n",
    "- aList[i] <- aList[j]: Assigns value of aList[j] to aList[i].\n",
    "- INSERT(aList, i, value): Inserts the value into aList at index i.\n",
    "- APPEND(aList, value): Adds value to the end of the list.\n",
    "- REMOVE(aList, i): Removes the item at index i from aList.\n",
    "- LENGTH(aList): Evaluates the number of elements in aList.\n",
    "- FOR EACH item IN aList\n",
    "{\n",
    " <block of statments>\n",
    "}: The variable item is assigned the value of each element of aList in order from first to last. The code in the block of statements is executed once for each assignment of item.\n",
    "\n",
    "Here's an example of these operations in action:\n",
    "aList = [1, 2, 3, 4]\n",
    "aList[2] = 5  # Changes the 3rd element from 3 to 5\n",
    "aList.append(6)  # Adds 6 at the end\n",
    "aList.insert(1, 10)  # Inserts 10 at index 1\n",
    "print(aList)  # Output: [1, 10, 2, 5, 4, 6]\n",
    "\n",
    "**Find the minimum value in a list**\n",
    "- Create or access the list.\n",
    "- Make a variable to hold the minimum and set it to a potential minimum value.\n",
    "- Loop through the list.\n",
    "- Check each element to see if it is less than the minimum variable.\n",
    "- If the element is less than the minimum variable, update the minimum.\n",
    "- After all elements of the list have been checked, display the minimum value."
   ]
  },
  {
   "cell_type": "code",
   "execution_count": null,
   "metadata": {},
   "outputs": [],
   "source": [
    "nums ← [65, 89, 92, 35, 84, 78, 28, 75]\n",
    "min ← nums [1]\n",
    "FOR EACH score IN nums:\n",
    "{\n",
    "    IF(score < min)\n",
    "    {   \n",
    "        min = score\n",
    "    }\n",
    "}\n",
    "DISPLAY (min)"
   ]
  },
  {
   "cell_type": "code",
   "execution_count": null,
   "metadata": {},
   "outputs": [],
   "source": [
    "## Sum of Even Numbers of a list\n",
    "\n",
    "nums ← [1, 2, 3, 4, 5, 6, 7, 8, 9, 10]\n",
    "sum ← 0\n",
    "FOR EACH score IN nums\n",
    "{\n",
    "    IF (score MOD 2 = 0)\n",
    "    {\n",
    "        even_sum ← even_sum + score\n",
    "    }\n",
    "}\n",
    "DISPLAY (\"Sum of even numbers in the list:\", even_sum)"
   ]
  },
  {
   "cell_type": "code",
   "execution_count": null,
   "metadata": {},
   "outputs": [],
   "source": [
    "nums = [1, 2, 3, 4, 5, 6, 7, 8, 9, 10]\n",
    "even_sum = 0\n",
    "for score in nums:\n",
    "    if score % 2 == 0: # Check if the remainder when divided by 2 is 0 (even number)\n",
    "        even_sum += score # If previous requirement is fulfilled, add to sum\n",
    "print(\"Sum of even numbers in the list:\", even_sum)"
   ]
  },
  {
   "cell_type": "markdown",
   "metadata": {},
   "source": [
    "Sum of even number: 30"
   ]
  },
  {
   "cell_type": "markdown",
   "metadata": {},
   "source": [
    "## Accessing Elements\n",
    "You can access an element at a specific index using the syntax `aList[i]`. Remember, the first element is at index `0`."
   ]
  },
  {
   "cell_type": "code",
   "execution_count": null,
   "metadata": {},
   "outputs": [],
   "source": [
    "aList = ['apple', 'banana', 'cherry']\n",
    "print(aList[0])  # Output: 'apple'"
   ]
  },
  {
   "cell_type": "markdown",
   "metadata": {},
   "source": [
    "## Creating a list"
   ]
  },
  {
   "cell_type": "code",
   "execution_count": null,
   "metadata": {},
   "outputs": [],
   "source": [
    "Python:\n",
    "# Creating an empty list\n",
    "aList = []\n",
    "\n",
    "# Creating a list with elements\n",
    "aList = [1, 2, 3, 'apple', 'banana']"
   ]
  },
  {
   "cell_type": "markdown",
   "metadata": {},
   "source": [
    "## Accessing Elements"
   ]
  },
  {
   "cell_type": "code",
   "execution_count": null,
   "metadata": {},
   "outputs": [],
   "source": [
    "value = my_list[index]"
   ]
  },
  {
   "cell_type": "markdown",
   "metadata": {},
   "source": [
    "## Appending Elements\n",
    "Use the `append()` method to add an element to the end of the list."
   ]
  },
  {
   "cell_type": "code",
   "execution_count": null,
   "metadata": {},
   "outputs": [],
   "source": [
    "# College Board Pseudo Code\n",
    "aList ← []\n",
    "\n",
    "USER_INPUT ← (\"Enter an item you want (or 'q' to quit): \")\n",
    "\n",
    "REPEAT UNTIL USER_INPUT ← q{\n",
    "    APPEND (aList, USER_INPUT)\n",
    "}\n",
    "\n",
    "DISPLAY (aList)"
   ]
  },
  {
   "cell_type": "code",
   "execution_count": null,
   "metadata": {},
   "outputs": [],
   "source": [
    "# python\n",
    "aList.append('grape')  # Adds 'grape' at the end\n",
    "print(aList)  # Output: ['apple', 'kiwi', 'orange', 'cherry', 'grape']"
   ]
  },
  {
   "cell_type": "markdown",
   "metadata": {},
   "source": [
    "## Inserting Elements"
   ]
  },
  {
   "cell_type": "code",
   "execution_count": null,
   "metadata": {},
   "outputs": [],
   "source": [
    "my_list.insert(index, new_value)"
   ]
  },
  {
   "cell_type": "markdown",
   "metadata": {},
   "source": [
    "## Removing Elements"
   ]
  },
  {
   "cell_type": "code",
   "execution_count": null,
   "metadata": {},
   "outputs": [],
   "source": [
    "aList.remove('kiwi')  # Removes 'kiwi' from the list\n",
    "print(aList)  # Output: ['apple', 'orange', 'cherry', 'grape']"
   ]
  },
  {
   "cell_type": "markdown",
   "metadata": {},
   "source": [
    "## Deleting an element \n",
    "You can use the `del` statement to remove an item at a specific index."
   ]
  },
  {
   "cell_type": "code",
   "execution_count": null,
   "metadata": {},
   "outputs": [],
   "source": [
    "del aList[2]  # Deletes 'cherry' at index 2\n",
    "print(aList)  # Output: ['apple', 'orange', 'grape']"
   ]
  },
  {
   "cell_type": "markdown",
   "metadata": {},
   "source": [
    "## Modifying Elements"
   ]
  },
  {
   "cell_type": "code",
   "execution_count": null,
   "metadata": {},
   "outputs": [],
   "source": [
    "my_list[index] = new_value"
   ]
  },
  {
   "cell_type": "markdown",
   "metadata": {},
   "source": [
    "## Checking Length"
   ]
  },
  {
   "cell_type": "code",
   "execution_count": null,
   "metadata": {},
   "outputs": [],
   "source": [
    "length = len(my_list)"
   ]
  },
  {
   "cell_type": "markdown",
   "metadata": {},
   "source": [
    "## Interating through a List"
   ]
  },
  {
   "cell_type": "code",
   "execution_count": null,
   "metadata": {},
   "outputs": [],
   "source": [
    "for item in my_list: \n",
    "{ <block of statement> }"
   ]
  }
 ],
 "metadata": {
  "language_info": {
   "name": "python"
  }
 },
 "nbformat": 4,
 "nbformat_minor": 2
}
