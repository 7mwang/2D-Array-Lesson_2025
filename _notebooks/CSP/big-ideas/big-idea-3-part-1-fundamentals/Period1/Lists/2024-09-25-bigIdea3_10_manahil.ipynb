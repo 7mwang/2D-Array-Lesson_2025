{
 "cells": [
  {
   "cell_type": "raw",
   "metadata": {
    "vscode": {
     "languageId": "raw"
    }
   },
   "source": [
    "---\n",
    "layout: post\n",
    "title: Big Idea 3.10\n",
    "description: Learn more about lists\n",
    "type: hacks\n",
    "comments: true\n",
    "author: Manahil, Carson, Jackson, Brandon\n",
    "---"
   ]
  },
  {
   "cell_type": "markdown",
   "metadata": {
    "vscode": {
     "languageId": "raw"
    }
   },
   "source": [
    "## Lists\n",
    "\n",
    "**In Python**, a list is an ordered, mutable collection that can hold different types of data. This makes lists versatile, as they can store integers, strings, or even other lists. One key feature of lists in Python is that they are indexed starting from 0, meaning the first element in a list is at index 0. For example, in the list `my_list = ['apple', 'banana', 'cherry']`, the first element is `'apple'`, located at `my_list[0]`.\n",
    "\n",
    "**Learning Objectives,** \n",
    "- You will be able to write expressions that use list indexing and list procedures. \n",
    "- For algorithms involving elements of a list, you will be able to write iteration statements to traverse a list. \n",
    "\n",
    "# Key Points\n",
    "- Ordered: The elements have a defined order, meaning you can refer to an item by its index.\n",
    "- Mutable: You can change the items within a list (unlike tuples which are immutable)."
   ]
  },
  {
   "cell_type": "markdown",
   "metadata": {},
   "source": [
    "## List Operations\n",
    "\n",
    "Python provides several operations to interact with lists, allowing you to access, modify, and remove elements.\n",
    "- aList[i]: Accesses the element at index i in the list. Index is a numeric value which tells you where an element is within the data. The first item is at index 1, so aList[1].\n",
    "- x <- aList[i]: Assigns the value of aList[i] to the variable x.\n",
    "- aList[i] <- x: Assigns the value of x to aList[i].\n",
    "- aList[i] <- aList[j]: Assigns value of aList[j] to aList[i].\n",
    "- INSERT(aList, i, value): Inserts the value into aList at index i.\n",
    "- APPEND(aList, value): Adds value to the end of the list.\n",
    "- REMOVE(aList, i): Removes the item at index i from aList.\n",
    "- LENGTH(aList): Evaluates the number of elements in aList.\n",
    "- FOR EACH item IN aList\n",
    "{\n",
    " <block of statments>\n",
    "}: The variable item is assigned the value of each element of aList in order from first to last. The code in the block of statements is executed once for each assignment of item.\n",
    "\n",
    "Here's an example of these operations in action:\n",
    "aList = [1, 2, 3, 4]\n",
    "aList[2] = 5  # Changes the 3rd element from 3 to 5\n",
    "aList.append(6)  # Adds 6 at the end\n",
    "aList.insert(1, 10)  # Inserts 10 at index 1\n",
    "print(aList)  # Output: [1, 10, 2, 5, 4, 6]\n",
    "\n",
    "**Find the minimum value in a list**\n",
    "- Create or access the list.\n",
    "- Make a variable to hold the minimum and set it to a potential minimum value.\n",
    "- Loop through the list.\n",
    "- Check each element to see if it is less than the minimum variable.\n",
    "- If the element is less than the minimum variable, update the minimum.\n",
    "- After all elements of the list have been checked, display the minimum value."
   ]
  },
  {
   "cell_type": "code",
   "execution_count": null,
   "metadata": {},
   "outputs": [],
   "source": [
    "nums ← [65, 89, 92, 35, 84, 78, 28, 75]\n",
    "min ← nums [1]\n",
    "FOR EACH score IN nums:\n",
    "{\n",
    "    IF(score < min)\n",
    "    {   \n",
    "        min = score\n",
    "    }\n",
    "}\n",
    "DISPLAY (min)"
   ]
  },
  {
   "cell_type": "code",
   "execution_count": null,
   "metadata": {},
   "outputs": [],
   "source": [
    "## Sum of Even Numbers of a list in Python\n",
    "\n",
    "nums ← [1, 2, 3, 4, 5, 6, 7, 8, 9, 10]\n",
    "sum ← 0\n",
    "FOR EACH score IN nums\n",
    "{\n",
    "    IF (score MOD 2 = 0)\n",
    "    {\n",
    "        even_sum ← even_sum + score\n",
    "    }\n",
    "}\n",
    "DISPLAY (\"Sum of even numbers in the list:\", even_sum)"
   ]
  },
  {
   "cell_type": "code",
   "execution_count": null,
   "metadata": {
    "vscode": {
     "languageId": "javascript"
    }
   },
   "outputs": [],
   "source": [
    "// Javascript\n",
    "\n",
    "let nums = [1, 2, 3, 4, 5, 6, 7, 8, 9, 10];\n",
    "let even_sum = 0;\n",
    "\n",
    "for (let score of nums) {\n",
    "    if (score % 2 === 0) {\n",
    "        even_sum += score; // Add score to even_sum if it's even\n",
    "    }\n",
    "}\n",
    "\n",
    "console.log(\"Sum of even numbers in the list:\", even_sum);"
   ]
  },
  {
   "cell_type": "code",
   "execution_count": null,
   "metadata": {},
   "outputs": [],
   "source": [
    "nums = [1, 2, 3, 4, 5, 6, 7, 8, 9, 10]\n",
    "even_sum = 0\n",
    "for score in nums:\n",
    "    if score % 2 == 0: # Check if the remainder when divided by 2 is 0 (even number)\n",
    "        even_sum += score # If previous requirement is fulfilled, add to sum\n",
    "print(\"Sum of even numbers in the list:\", even_sum)"
   ]
  },
  {
   "cell_type": "markdown",
   "metadata": {},
   "source": [
    "Sum of even number: 30"
   ]
  },
  {
   "cell_type": "markdown",
   "metadata": {},
   "source": [
    "## Creating a list"
   ]
  },
  {
   "cell_type": "code",
   "execution_count": null,
   "metadata": {},
   "outputs": [],
   "source": [
    "# Python\n",
    "\n",
    "# Creating an empty list\n",
    "aList = []\n",
    "\n",
    "# Creating a list with elements\n",
    "aList = [1, 2, 3, 'apple', 'banana']"
   ]
  },
  {
   "cell_type": "code",
   "execution_count": null,
   "metadata": {
    "vscode": {
     "languageId": "javascript"
    }
   },
   "outputs": [],
   "source": [
    "// Javascript\n",
    "\n",
    "// Creating an empty array\n",
    "let aList = [];\n",
    "\n",
    "// Creating an array with elements\n",
    "aList = [1, 2, 3, 'apple', 'banana'];"
   ]
  },
  {
   "cell_type": "markdown",
   "metadata": {},
   "source": [
    "## Accessing Elements\n",
    "You can access an element at a specific index using the syntax `aList[i]`. Remember, the first element is at index `0`."
   ]
  },
  {
   "cell_type": "code",
   "execution_count": null,
   "metadata": {},
   "outputs": [],
   "source": [
    "# Python\n",
    "\n",
    "aList = ['apple', 'banana', 'cherry']\n",
    "print(aList[0])  # Output: 'apple'"
   ]
  },
  {
   "cell_type": "code",
   "execution_count": null,
   "metadata": {
    "vscode": {
     "languageId": "javascript"
    }
   },
   "outputs": [],
   "source": [
    "// Javascript\n",
    "\n",
    "const aList = ['apple', 'banana', 'cherry'];\n",
    "const firstElement = aList[0]; // apple\n",
    "const secondElement = aList[1]; // banana"
   ]
  },
  {
   "cell_type": "markdown",
   "metadata": {},
   "source": [
    "## Appending Elements\n",
    "Use the `append()` method to add an element to the end of the list."
   ]
  },
  {
   "cell_type": "code",
   "execution_count": null,
   "metadata": {},
   "outputs": [],
   "source": [
    "# Python\n",
    "\n",
    "aList.append('grape')  # Adds 'grape' at the end\n",
    "print(aList)  # Output: ['apple', 'banana', 'cherry', 'kiwi', 'grape']"
   ]
  },
  {
   "cell_type": "code",
   "execution_count": null,
   "metadata": {
    "vscode": {
     "languageId": "javascript"
    }
   },
   "outputs": [],
   "source": [
    "// Javascript\n",
    "\n",
    "let aList = ['apple', 'banana', 'cherry', 'kiwi'];\n",
    "\n",
    "// Adding 'grape' at the end\n",
    "aList.push('grape');\n",
    "\n",
    "// Printing the array\n",
    "console.log(aList); // Output: ['apple', 'banana', 'cherry', 'kiwi', 'grape']\n"
   ]
  },
  {
   "cell_type": "markdown",
   "metadata": {},
   "source": [
    "## Inserting Elements"
   ]
  },
  {
   "cell_type": "code",
   "execution_count": null,
   "metadata": {},
   "outputs": [],
   "source": [
    "# Python\n",
    "\n",
    "alist = ['apple', 'banana', 'cherry']\n",
    "alist.insert('apple', 'a')  # alist is now ['apple', 'a', 'banana', 'cherry']"
   ]
  },
  {
   "cell_type": "code",
   "execution_count": null,
   "metadata": {
    "vscode": {
     "languageId": "javascript"
    }
   },
   "outputs": [],
   "source": [
    "// Javascript\n",
    "\n",
    "let alist = ['apple', 'banana', 'cherry'];\n",
    "\n",
    "// Find the index of 'apple'\n",
    "const index = alist.indexOf('apple');\n",
    "\n",
    "// Insert 'a' before 'apple'\n",
    "if (index !== -1) {\n",
    "    alist.splice(index, 0, 'a'); // 0 indicates no elements to remove\n",
    "}\n",
    "\n",
    "console.log(alist); // Output: ['a', 'apple', 'banana', 'cherry']"
   ]
  },
  {
   "cell_type": "markdown",
   "metadata": {},
   "source": [
    "## Removing Elements"
   ]
  },
  {
   "cell_type": "code",
   "execution_count": null,
   "metadata": {},
   "outputs": [],
   "source": [
    "# Python\n",
    "\n",
    "aList.remove('kiwi')  # Removes 'kiwi' from the list\n",
    "print(aList)  # Output: ['apple', 'banana', 'cherry', 'grape']"
   ]
  },
  {
   "cell_type": "code",
   "execution_count": null,
   "metadata": {
    "vscode": {
     "languageId": "javascript"
    }
   },
   "outputs": [],
   "source": [
    "// Javascript\n",
    "\n",
    "let aList = ['apple', 'banana', 'cherry', 'kiwi', 'grape']; // Find the index of 'kiwi'\n",
    "\n",
    "if (index !== -1) {\n",
    "    aList.splice(index, 1);  // Removes 'kiwi' from the list\n",
    "}\n",
    "console.log(aList);  // Output: ['apple', 'banana', 'cherry', 'grape']"
   ]
  },
  {
   "cell_type": "markdown",
   "metadata": {},
   "source": [
    "## Deleting an element \n",
    "You can use the `del` statement to remove an item at a specific index."
   ]
  },
  {
   "cell_type": "code",
   "execution_count": null,
   "metadata": {},
   "outputs": [],
   "source": [
    "# Python\n",
    "\n",
    "del aList[2]  # Deletes 'cherry' at index 2\n",
    "print(aList)  # Output: ['apple', 'banana', 'grape']"
   ]
  },
  {
   "cell_type": "code",
   "execution_count": null,
   "metadata": {
    "vscode": {
     "languageId": "javascript"
    }
   },
   "outputs": [],
   "source": [
    "// Javascript\n",
    "\n",
    "let aList = ['apple', 'banana', 'cherry', 'grape'];\n",
    "\n",
    "// Delete the element at index 2\n",
    "aList.splice(2, 1); // Removes 1 element at index 2\n",
    "\n",
    "console.log(aList); // Output: ['apple', 'banana', 'grape']"
   ]
  },
  {
   "cell_type": "markdown",
   "metadata": {},
   "source": [
    "## Modifying Elements"
   ]
  },
  {
   "cell_type": "code",
   "execution_count": null,
   "metadata": {},
   "outputs": [],
   "source": [
    "# Python\n",
    "\n",
    "aList = ['apple', 'banana', 'cherry']\n",
    "aList[1] = 'kiwi'  # Change 'banana' to 'kiwi'\n",
    "print(aList)  # Output: ['apple', 'kiwi', 'cherry']"
   ]
  },
  {
   "cell_type": "code",
   "execution_count": null,
   "metadata": {
    "vscode": {
     "languageId": "javascript"
    }
   },
   "outputs": [],
   "source": [
    "// Javascript\n",
    "\n",
    "let alist = ['apple', 'banana', 'cherry', 'grape'];\n",
    "\n",
    "// Specify the index you want to update\n",
    "let index = 2; // For example, to update 'cherry'\n",
    "\n",
    "// Update the value at the specified index\n",
    "alist[index] = 'kiwi'; // Now 'cherry' is replaced with 'kiwi'\n",
    "\n",
    "console.log(alist); // Output: ['apple', 'banana', 'kiwi', 'grape']"
   ]
  },
  {
   "cell_type": "markdown",
   "metadata": {},
   "source": [
    "## Checking Length"
   ]
  },
  {
   "cell_type": "code",
   "execution_count": null,
   "metadata": {},
   "outputs": [],
   "source": [
    "# Python\n",
    "\n",
    "aList = ['apple', 'banana', 'cherry']\n",
    "number_of_elements = len(aList)  # Gets the number of elements\n",
    "print(number_of_elements)  # Output: 3"
   ]
  },
  {
   "cell_type": "code",
   "execution_count": null,
   "metadata": {
    "vscode": {
     "languageId": "javascript"
    }
   },
   "outputs": [],
   "source": [
    "// Javascript\n",
    "\n",
    "let aList = ['apple', 'banana', 'cherry'];\n",
    "let numberOfElements = aList.length; // Gets the number of elements\n",
    "console.log(numberOfElements); // Output: 3"
   ]
  },
  {
   "cell_type": "markdown",
   "metadata": {},
   "source": [
    "## Interating through a List"
   ]
  },
  {
   "cell_type": "code",
   "execution_count": null,
   "metadata": {},
   "outputs": [],
   "source": [
    "# Python\n",
    "\n",
    "for item in my_list: \n",
    "{ <block of statement> }"
   ]
  },
  {
   "cell_type": "code",
   "execution_count": null,
   "metadata": {
    "vscode": {
     "languageId": "javascript"
    }
   },
   "outputs": [],
   "source": [
    "// Javascript\n",
    "\n",
    "let myList = ['apple', 'banana', 'cherry'];\n",
    "\n",
    "for (let item of myList) {\n",
    "    // Replace this comment with your block of statements\n",
    "    console.log(item); // Example statement\n",
    "}"
   ]
  }
 ],
 "metadata": {
  "language_info": {
   "name": "python"
  }
 },
 "nbformat": 4,
 "nbformat_minor": 2
}
