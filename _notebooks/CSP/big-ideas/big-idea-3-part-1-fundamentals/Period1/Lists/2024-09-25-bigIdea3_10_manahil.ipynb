{
 "cells": [
  {
   "cell_type": "raw",
   "metadata": {
    "vscode": {
     "languageId": "raw"
    }
   },
   "source": [
    "---\n",
    "layout: post\n",
    "title: Big Idea 3.10\n",
    "description: Learn more about lists\n",
    "type: hacks\n",
    "comments: true\n",
    "author: Manahil, Carson, Jackson, Brandon\n",
    "---"
   ]
  },
  {
   "cell_type": "markdown",
   "metadata": {
    "vscode": {
     "languageId": "raw"
    }
   },
   "source": [
    "## Lists\n",
    "\n",
    "**In Python**, a list is an ordered, mutable collection that can hold different types of data. This makes lists versatile, as they can store integers, strings, or even other lists. One key feature of lists in Python is that they are indexed starting from 0, meaning the first element in a list is at index 0. For example, in the list `my_list = ['apple', 'banana', 'cherry']`, the first element is `'apple'`, located at `my_list[0]`.\n",
    "\n",
    "**Learning Objectives,** \n",
    "- You will be able to write expressions that use list indexing and list procedures. \n",
    "- For algorithms involving elements of a list, you will be able to write iteration statements to traverse a list. \n",
    "\n",
    "# Key Points\n",
    "- Ordered: The elements have a defined order, meaning you can refer to an item by its index.\n",
    "- Mutable: You can change the items within a list (unlike tuples which are immutable)."
   ]
  },
  {
   "cell_type": "markdown",
   "metadata": {},
   "source": [
    "## List Operations\n",
    "\n",
    "Python provides several operations to interact with lists, allowing you to access, modify, and remove elements.\n",
    "- aList[i]: Accesses the element at index i in the list. Index is a numeric value which tells you where an element is within the data. The first item is at index 1, so aList[1].\n",
    "- x <- aList[i]: Assigns the value of aList[i] to the variable x.\n",
    "- aList[i] <- x: Assigns the value of x to aList[i].\n",
    "- aList[i] <- aList[j]: Assigns value of aList[j] to aList[i].\n",
    "- INSERT(aList, i, value): Inserts the value into aList at index i.\n",
    "- APPEND(aList, value): Adds value to the end of the list.\n",
    "- REMOVE(aList, i): Removes the item at index i from aList.\n",
    "- LENGTH(aList): Evaluates the number of elements in aList.\n",
    "- FOR EACH item IN aList\n",
    "{\n",
    " <block of statments>\n",
    "}: The variable item is assigned the value of each element of aList in order from first to last. The code in the block of statements is executed once for each assignment of item.\n",
    "\n",
    "Here's an example of these operations in action:\n",
    "aList = [1, 2, 3, 4]\n",
    "aList[2] = 5  # Changes the 3rd element from 3 to 5\n",
    "aList.append(6)  # Adds 6 at the end\n",
    "aList.insert(1, 10)  # Inserts 10 at index 1\n",
    "print(aList)  # Output: [1, 10, 2, 5, 4, 6]\n",
    "\n",
    "**Find the minimum value in a list**\n",
    "- Create or access the list.\n",
    "- Make a variable to hold the minimum and set it to a potential minimum value.\n",
    "- Loop through the list.\n",
    "- Check each element to see if it is less than the minimum variable.\n",
    "- If the element is less than the minimum variable, update the minimum.\n",
    "- After all elements of the list have been checked, display the minimum value."
   ]
  },
  {
   "cell_type": "code",
   "execution_count": null,
   "metadata": {},
   "outputs": [],
   "source": [
    "nums ← [65, 89, 92, 35, 84, 78, 28, 75]\n",
    "min ← nums [1]\n",
    "FOR EACH score IN nums:\n",
    "{\n",
    "    IF(score < min)\n",
    "    {   \n",
    "        min = score\n",
    "    }\n",
    "}\n",
    "DISPLAY (min)"
   ]
  },
  {
   "cell_type": "code",
   "execution_count": null,
   "metadata": {},
   "outputs": [],
   "source": [
    "## Sum of Even Numbers of a list in Python\n",
    "\n",
    "nums ← [1, 2, 3, 4, 5, 6, 7, 8, 9, 10]\n",
    "sum ← 0\n",
    "FOR EACH score IN nums\n",
    "{\n",
    "    IF (score MOD 2 = 0)\n",
    "    {\n",
    "        even_sum ← even_sum + score\n",
    "    }\n",
    "}\n",
    "DISPLAY (\"Sum of even numbers in the list:\", even_sum)"
   ]
  },
  {
   "cell_type": "code",
   "execution_count": null,
   "metadata": {
    "vscode": {
     "languageId": "javascript"
    }
   },
   "outputs": [],
   "source": [
    "// Javascript\n",
    "\n",
    "let nums = [1, 2, 3, 4, 5, 6, 7, 8, 9, 10];\n",
    "let even_sum = 0;\n",
    "\n",
    "for (let score of nums) {\n",
    "    if (score % 2 === 0) {\n",
    "        even_sum += score; // Add score to even_sum if it's even\n",
    "    }\n",
    "}\n",
    "\n",
    "console.log(\"Sum of even numbers in the list:\", even_sum);"
   ]
  },
  {
   "cell_type": "code",
   "execution_count": null,
   "metadata": {},
   "outputs": [],
   "source": [
    "nums = [1, 2, 3, 4, 5, 6, 7, 8, 9, 10]\n",
    "even_sum = 0\n",
    "for score in nums:\n",
    "    if score % 2 == 0: # Check if the remainder when divided by 2 is 0 (even number)\n",
    "        even_sum += score # If previous requirement is fulfilled, add to sum\n",
    "print(\"Sum of even numbers in the list:\", even_sum)"
   ]
  },
  {
   "cell_type": "markdown",
   "metadata": {},
   "source": [
    "Sum of even number: 30"
   ]
  }
 ],
 "metadata": {
  "language_info": {
   "name": "python"
  }
 },
 "nbformat": 4,
 "nbformat_minor": 2
}
