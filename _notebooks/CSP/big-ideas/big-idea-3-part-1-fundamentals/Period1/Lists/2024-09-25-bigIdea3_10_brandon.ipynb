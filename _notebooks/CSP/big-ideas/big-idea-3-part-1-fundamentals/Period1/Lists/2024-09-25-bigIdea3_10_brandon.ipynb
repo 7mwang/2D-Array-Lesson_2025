{
 "cells": [
  {
   "cell_type": "raw",
   "metadata": {
    "vscode": {
     "languageId": "raw"
    }
   },
   "source": [
    "---\n",
    "layout: post\n",
    "title: I'm a title!\n",
    "description: I'm a description!\n",
    "type: hacks\n",
    "comments: true\n",
    "author: Manahil, Carson, Jackson, Brandon\n",
    "---"
   ]
  },
  {
   "cell_type": "raw",
   "metadata": {
    "vscode": {
     "languageId": "raw"
    }
   },
   "source": []
  }
 ],
 "metadata": {
  "language_info": {
   "name": "python"
  }
 },
 "nbformat": 4,
 "nbformat_minor": 2
}
