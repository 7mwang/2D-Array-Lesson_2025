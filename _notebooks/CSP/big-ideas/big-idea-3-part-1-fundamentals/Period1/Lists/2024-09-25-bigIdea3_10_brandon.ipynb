{
 "cells": [
  {
   "cell_type": "raw",
   "metadata": {
    "vscode": {
     "languageId": "raw"
    }
   },
   "source": [
    "---\n",
    "layout: post\n",
    "title: I'm a title!\n",
    "description: I'm a description!\n",
    "type: hacks\n",
    "comments: true\n",
    "author: Manahil, Carson, Jackson, Brandon\n",
    "---"
   ]
  },
  {
   "cell_type": "markdown",
   "metadata": {
    "vscode": {
     "languageId": "raw"
    }
   },
   "source": [
    "## Modifying Elements"
   ]
  },
  {
   "cell_type": "code",
   "execution_count": null,
   "metadata": {},
   "outputs": [],
   "source": [
    "# Python\n",
    "\n",
    "aList = ['apple', 'banana', 'cherry']\n",
    "aList[1] = 'kiwi'  # Change 'banana' to 'kiwi'\n",
    "print(aList)  # Output: ['apple', 'kiwi', 'cherry']"
   ]
  },
  {
   "cell_type": "code",
   "execution_count": null,
   "metadata": {
    "vscode": {
     "languageId": "javascript"
    }
   },
   "outputs": [],
   "source": [
    "// Javascript\n",
    "\n",
    "let alist = ['apple', 'banana', 'cherry', 'grape'];\n",
    "\n",
    "// Specify the index you want to update\n",
    "let index = 2; // For example, to update 'cherry'\n",
    "\n",
    "// Update the value at the specified index\n",
    "alist[index] = 'kiwi'; // Now 'cherry' is replaced with 'kiwi'\n",
    "\n",
    "console.log(alist); // Output: ['apple', 'banana', 'kiwi', 'grape']"
   ]
  },
  {
   "cell_type": "markdown",
   "metadata": {},
   "source": [
    "## Checking Length"
   ]
  },
  {
   "cell_type": "code",
   "execution_count": null,
   "metadata": {},
   "outputs": [],
   "source": [
    "# Python\n",
    "\n",
    "aList = ['apple', 'banana', 'cherry']\n",
    "number_of_elements = len(aList)  # Gets the number of elements\n",
    "print(number_of_elements)  # Output: 3"
   ]
  },
  {
   "cell_type": "code",
   "execution_count": null,
   "metadata": {
    "vscode": {
     "languageId": "javascript"
    }
   },
   "outputs": [],
   "source": [
    "// Javascript\n",
    "\n",
    "let aList = ['apple', 'banana', 'cherry'];\n",
    "let numberOfElements = aList.length; // Gets the number of elements\n",
    "console.log(numberOfElements); // Output: 3"
   ]
  },
  {
   "cell_type": "markdown",
   "metadata": {},
   "source": [
    "## Interating through a List"
   ]
  },
  {
   "cell_type": "code",
   "execution_count": null,
   "metadata": {},
   "outputs": [],
   "source": [
    "# Python\n",
    "\n",
    "for item in my_list: \n",
    "{ <block of statement> }"
   ]
  },
  {
   "cell_type": "code",
   "execution_count": null,
   "metadata": {
    "vscode": {
     "languageId": "javascript"
    }
   },
   "outputs": [],
   "source": [
    "// Javascript\n",
    "\n",
    "let myList = ['apple', 'banana', 'cherry'];\n",
    "\n",
    "for (let item of myList) {\n",
    "    // Replace this comment with your block of statements\n",
    "    console.log(item); // Example statement\n",
    "}"
   ]
  }
 ],
 "metadata": {
  "language_info": {
   "name": "python"
  }
 },
 "nbformat": 4,
 "nbformat_minor": 2
}
