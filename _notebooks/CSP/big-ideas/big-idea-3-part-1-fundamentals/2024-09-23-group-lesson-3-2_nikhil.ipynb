{
 "cells": [
  {
   "cell_type": "markdown",
   "metadata": {},
   "source": [
    "# Group Lesson 3.2\n",
    "#### Created by: Nikhil Maturi, Rohan Bojja, Neil Chandra, Yash Parikh"
   ]
  },
  {
   "cell_type": "markdown",
   "metadata": {},
   "source": [
    "## Integers"
   ]
  },
  {
   "cell_type": "code",
   "execution_count": null,
   "metadata": {},
   "outputs": [],
   "source": [
    "# Declaring Integers\n",
    "# They can be any length, long or short\n",
    "age = 99\n",
    "seconds_alive = 109020390\n",
    "# Indexing\n",
    "print(age[0])\n",
    "# Arithmetic Operations"
   ]
  }
 ],
 "metadata": {
  "language_info": {
   "name": "python"
  }
 },
 "nbformat": 4,
 "nbformat_minor": 2
}
