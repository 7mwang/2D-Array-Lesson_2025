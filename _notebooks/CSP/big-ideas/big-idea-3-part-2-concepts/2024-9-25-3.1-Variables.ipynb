{
 "cells": [
  {
   "cell_type": "raw",
   "metadata": {
    "vscode": {
     "languageId": "raw"
    }
   },
   "source": [
    "---\n",
    "comments: true\n",
    "layout: post\n",
    "title: 3.1 Variables\n",
    "description: \n",
    "permalink: /csp/big-idea/3-1-5\n",
    "categories: [CSP Big Ideas]\n",
    "author: Kanhay Patil, Aditya Katre, Aaditya Talepaddy, Aadi Bhat\n",
    "menu: \n",
    "---"
   ]
  }
 ],
 "metadata": {
  "language_info": {
   "name": "python"
  }
 },
 "nbformat": 4,
 "nbformat_minor": 2
}
