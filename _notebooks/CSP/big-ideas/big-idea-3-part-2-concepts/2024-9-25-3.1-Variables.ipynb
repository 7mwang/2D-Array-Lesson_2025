{
 "cells": [
  {
   "cell_type": "raw",
   "metadata": {
    "vscode": {
     "languageId": "raw"
    }
   },
   "source": [
    "---\n",
    "comments: true\n",
    "layout: post\n",
    "title: 3.1 Variables\n",
    "description: \n",
    "permalink: /AAAK/3-1-5\n",
    "categories: [CSP Big Ideas]\n",
    "author: Kanhay Patil, Aditya Katre, Aaditya Talepaddy, Aadi Bhat\n",
    "menu: \n",
    "---"
   ]
  },
  {
   "cell_type": "markdown",
   "metadata": {},
   "source": []
  }
 ],
 "metadata": {
  "language_info": {
   "name": "python"
  }
 },
 "nbformat": 4,
 "nbformat_minor": 2
}
