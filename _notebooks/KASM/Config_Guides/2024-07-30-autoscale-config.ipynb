{
 "cells": [
  {
   "cell_type": "markdown",
   "id": "b86cbda8",
   "metadata": {},
   "source": [
    "---\n",
    "layout: post\n",
    "title: Kasm Autoscale Configuration Guide \n",
    "description: How to configure Kasm to automatically scale agents\n",
    "type: ccc\n",
    "courses: {}\n",
    "menu: nav/kasm_cloud.html\n",
    "toc: true\n",
    "comments: true\n",
    "permalink: /kasm/config/autoscale\n",
    "author: Rachit Jaiswal\n",
    "---"
   ]
  },
  {
   "cell_type": "markdown",
   "id": "a0747d73",
   "metadata": {},
   "source": [
    "<p>How to set up Kasm Autoscaling from scratch.</p>"
   ]
  },
  {
   "cell_type": "markdown",
   "id": "aa775b30",
   "metadata": {},
   "source": [
    "<h2>Step 1: KASM Key</h2>"
   ]
  },
  {
   "cell_type": "markdown",
   "id": "ffdd89ff",
   "metadata": {},
   "source": [
    "<p>Make sure to place the KASM key in the required location. <code>Diagnostics &gt; System Info &gt; Licenses</code></p>"
   ]
  },
  {
   "cell_type": "markdown",
   "id": "dd6c6c3b",
   "metadata": {},
   "source": [
    "<h2>Step 2: Update Deployment Zone</h2>"
   ]
  },
  {
   "cell_type": "markdown",
   "id": "c95b7085",
   "metadata": {},
   "source": [
    "<p>Go to <code>Infrastructure &gt; Zones</code>, edit your zone. Use the parameters below:</p>"
   ]
  },
  {
   "cell_type": "markdown",
   "id": "942868d8",
   "metadata": {},
   "source": [
    "<p>| Field                 | Description                 |\n",
    "|-----------------------|-----------------------------|\n",
    "| Zone Name             | Name of Zone                |\n",
    "| Allow Origin Domain   | Must be domain of Kasm site |\n",
    "| Upstream Auth Address | Private IP of Web Server    |\n",
    "| Others                | Leave same                  |</p>"
   ]
  },
  {
   "cell_type": "markdown",
   "id": "74133214",
   "metadata": {},
   "source": [
    "<h2>Step 3: Create Pool</h2>"
   ]
  },
  {
   "cell_type": "markdown",
   "id": "893847c4",
   "metadata": {},
   "source": [
    "<p>Go to <code>Infrastructure &gt; Pools</code>. Create a new pool. Configure it to docker agents.</p>"
   ]
  },
  {
   "cell_type": "markdown",
   "id": "568fce09",
   "metadata": {},
   "source": [
    "<h2>Step 4: Create VM Provider Config</h2>"
   ]
  },
  {
   "cell_type": "markdown",
   "id": "72f4200b",
   "metadata": {},
   "source": [
    "<p>Go back to <code>Infrastructure &gt; Pools</code>. Click on the button that says <code>All VM Provider Configs</code>. It will be there if the license is accepted.</p>"
   ]
  },
  {
   "cell_type": "markdown",
   "id": "f519969d",
   "metadata": {},
   "source": [
    "<p>Click add. Use the parameters below.</p>"
   ]
  },
  {
   "cell_type": "markdown",
   "id": "9a32401d",
   "metadata": {},
   "source": [
    "<p>| Field                                 | Description                                                                                     | Recommended Value                                             |\n",
    "|---------------------------------------|-------------------------------------------------------------------------------------------------|---------------------------------------------------------------|\n",
    "| VM Provider Configs                   | If you want to create a new config or edit one                                                  | Create new (unless you are editing)                           |\n",
    "| Provider                              | Which cloud provider you are using                                                              | AWS                                                           |\n",
    "| Name                                  | Choose preferred name of hosting config                                                         | N/A                                                           |\n",
    "| AWS Access Key ID                     | Get this by running the command <code>cat ~/.aws/credentials</code> or something similar                   | Output                                                        |\n",
    "| AWS Secret Access Key                 | Get this by running the command <code>cat ~/.aws/credentials</code> or something similar                   | Output                                                        |\n",
    "| AWS Region                            | Region where Kasm is running on AWS where it will build servers                                 | us-west-#                                                     |\n",
    "| AWS: EC2 AMI Id                       | AMI ID for instances. Cannot use ubu24 as it is not supported yet.                              | ami-0075013580f6322a1 (ubu22)                                 |\n",
    "| AWS: EC2 Instance Type                | Type of instance for AWS                                                                        | t3.medium / c6a.8xlarge                                       |\n",
    "| AWS Max EC2 Nodes                     | Depends on instance...                                                                          | 15                                                            |\n",
    "| AWS: EC2 Security Group IDs           | ID of the security group that Kasm runs on                                                      | [\"sg-idhere\"]                                                 |\n",
    "| AWS: EC2 Subnet ID                    | ID of the subnet the web server is running on. Can be found in the description of the instance. | subnet-idhere                                                 |\n",
    "| AWS: EC2 EBS Volume Size              | Size of EC2 instance volume                                                                     | 50                                                            |\n",
    "| AWS: EC2 EBS Volume Type              | Type of EC2 volume                                                                              | gp2 / gp3                                                     |\n",
    "| AWS: EC2 Custom Tags                  | Custom EC2 tags                                                                                 | {}                                                            |\n",
    "| AWS: EC2 Startup Script               | Script to set up Kasm                                                                           | Get from below                                                |\n",
    "| AWS Config Override                   | AWS configuration override parameters                                                           | {\"instance_config\": {}}                                       |\n",
    "| Retrieve Windows VM Password from AWS | N/A since we don't use Windows                                                                  | Disabled                                                      |\n",
    "| SSH Keys                              | SSH keys you want to use to access the VM                                                       | Use the deployer keys stated for the machine, but can use any |</p>"
   ]
  },
  {
   "cell_type": "markdown",
   "id": "9c1e8637",
   "metadata": {},
   "source": [
    "<h2>Step 5: Create Autoscale Config</h2>"
   ]
  },
  {
   "cell_type": "markdown",
   "id": "ee071047",
   "metadata": {},
   "source": [
    "<p>Go back to <code>Infrastructure &gt; Pools</code>. Click the button that says <code>All Autoscale Configs</code>. It will be there if the license is accepted.</p>"
   ]
  },
  {
   "cell_type": "markdown",
   "id": "ee94b661",
   "metadata": {},
   "source": [
    "<p>Add an autoscale config. Use the Parameters Below:</p>"
   ]
  },
  {
   "cell_type": "markdown",
   "id": "3db730cc",
   "metadata": {},
   "source": [
    "<h3>Section 1: Autoscale Details</h3>"
   ]
  },
  {
   "cell_type": "markdown",
   "id": "be1c5222",
   "metadata": {},
   "source": [
    "<p>| Field                 | Description                                                                                                               | Recommended Values |\n",
    "|-----------------------|---------------------------------------------------------------------------------------------------------------------------|--------------------|\n",
    "| Name                  | Put in the autoscale config name                                                                                          | N/A                |\n",
    "| Autoscale Type        | Set to \"Docker Agent\"                                                                                                     | N/A                |\n",
    "| Pool                  | Set to created pool                                                                                                       | N/A                |\n",
    "| Enabled               | Should be activated                                                                                                       | Enabled            |\n",
    "| Aggressive Scaling    | Optional, but recommended                                                                                                 | Enabled            |\n",
    "| Deployment Zone       | Set to created zone                                                                                                       | N/A                |\n",
    "| Standby Cores<em>        | Cores available                                                                                                           | 2                  |\n",
    "| Standby GPUs</em>         | GPUs available                                                                                                            | 2                  |\n",
    "| Standby Memory*       | RAM available                                                                                                             | 5536               |\n",
    "| Downscale Backoff     | Time for instances to shut off if not being used                                                                          | 900                |\n",
    "| Agent Cores Override  | Forceful usage of agent server cores                                                                                      | 4                  |\n",
    "| Agent GPUs Override   | Forceful usage of agent server GPUs                                                                                       | 0                  |\n",
    "| Agent Memory Override | Forceful usage of agent memory (rec value tbr)                                                                            | 5536               |\n",
    "| Nginx Cert            | Go to  <code>/opt/kasm/current/certs/</code>  on the web server, and pull the nginx cert, that begins with \"Begin Nginx Certificate\" | N/A                |\n",
    "| Nginx Key             | Go to  <code>/opt/kasm/current/certs/</code>  on the web server, and pull the nginx cert, that begins with \"Begin Nginx Certificate\" | N/A                |\n",
    "| Register DNS          | Google it                                                                                                                 | Disabled           |</p>"
   ]
  },
  {
   "cell_type": "markdown",
   "id": "a355cb52",
   "metadata": {},
   "source": [
    "<h3>Section 2: VM Provider Configs</h3>"
   ]
  },
  {
   "cell_type": "markdown",
   "id": "e5a0eba0",
   "metadata": {},
   "source": [
    "<p>Choose the VM provider config you configured in step 4. You can modify it here, but you can proceed if step 4 was done properly.</p>"
   ]
  },
  {
   "cell_type": "markdown",
   "id": "dddd7bfe",
   "metadata": {},
   "source": [
    "<h2>Step 6: Activation Step</h2>"
   ]
  },
  {
   "cell_type": "markdown",
   "id": "90e8a565",
   "metadata": {},
   "source": [
    "<p>Go to <code>Sessions &gt; Staging</code>. Add a new staging config. Choose the workspace, zone, desired sessions, expiration, and the pool and autoscale config you just made. Allow all permissions except printing. A sample config is shown below.</p>"
   ]
  },
  {
   "cell_type": "markdown",
   "id": "366aa848",
   "metadata": {},
   "source": [
    "<p>| Field                | Sample Input                 |\n",
    "|----------------------|------------------------------|\n",
    "| Workspace            | Ubuntu 22.04 Student Edition |\n",
    "| Zone                 | zone1                        |\n",
    "| Desired Sessions     | 24                           |\n",
    "| Expiration           | 1                            |\n",
    "| Pool                 | autoscaler                   |\n",
    "| AutoScale Config     | autoscaler-main              |\n",
    "| Allow Audio - Webcam | Enabled                      |\n",
    "| Allow Printing       | Disabled                     |</p>"
   ]
  }
 ],
 "metadata": {
  "language_info": {
   "name": "python"
  }
 },
 "nbformat": 4,
 "nbformat_minor": 5
}
