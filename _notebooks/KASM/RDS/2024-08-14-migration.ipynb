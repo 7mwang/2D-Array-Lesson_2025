{
 "cells": [
  {
   "cell_type": "markdown",
   "metadata": {},
   "source": [
    "---\n",
    "layout: post\n",
    "title: Database Migration \n",
    "permalink: /kasm/database/migration\n",
    "menu: nav/kasm_cloud.html\n",
    "categories: [Kasm]\n",
    "author: Tanisha Patil\n",
    "toc: true\n",
    "comments: true\n",
    "---"
   ]
  },
  {
   "cell_type": "markdown",
   "metadata": {},
   "source": [
    "\n",
    "# Step 1: Dump JSON from Old Database via API\n",
    "1. Use an API endpoint to fetch the data from old database.\n",
    "3. Ensure you have proper authentication token\n",
    "4. Save the fetched data in a JSON file.\n",
    "\n",
    "fetch_data.py : https://github.com/nighthawkcoders/flask_2025/blob/main/scripts/fetch_data.py\n",
    "\n",
    "\n",
    "<img width=\"578\" alt=\"image\" src=\"https://github.com/user-attachments/assets/67444560-2ac0-49af-a5ed-d312496f1e09\">\n",
    "<img width=\"578\" alt=\"image\" src=\"https://github.com/user-attachments/assets/32187971-ee19-4ff1-b4d4-59c73efe7380\">\n",
    "\n",
    "\n",
    "\n",
    "# Step 2: Update Schema from New Development using python db_init.py and SQLite3 Extension\n",
    "\n",
    "1. Ensure db_init.py script contains the latest schema definitions.\n",
    "2. Run the db_init.py script to update the SQLite database schema.\n",
    "\n",
    "Not sure if this is completely correct, but this is a script for creating new versions of the three related tables in order to create new RDS database later on ... \n",
    "\n",
    "db_initi.py : https://github.com/nighthawkcoders/flask_2025/blob/main/scripts/db_init.py\n",
    "\n",
    "The schema in this file should be directly edited to make changes in schema. The other way, is to directly change the schema in the model/user.py file and rerun the init_db.py file \n",
    "\n",
    "# Step 3: Connect to RDS and Create New Database with Schema\n",
    "1. Connect to Your RDS Instance: Use a db client  to connect to your RDS instance.\n",
    "2. Create a New Database: Create a new database in RDS instance.\n",
    "3. Apply the Schema\n",
    "\n",
    "rds_init.py : https://github.com/nighthawkcoders/flask_2025/blob/main/scripts/rds_init.py\n",
    "\n",
    "# Step 4: Update JSON into New Database\n",
    "\n",
    "1. Read the JSON Data: Load the JSON data from the file you created in Step 1\n",
    "2. Connect to the New RDS Database: Establish a connection to the RDS instance where the new database is located.\n",
    "3. Insert Data into the New Database: Populate the new database tables with the JSON data.\n",
    "\n",
    "update_data.py : https://github.com/nighthawkcoders/flask_2025/blob/main/scripts/update_data.py\n",
    "\n",
    "\n",
    "Sciprts for migration should be run in this order : \n",
    "1. fetch_data.py\n",
    "2. db_init.py (CUSTOMIZE)\n",
    "3. rds_init.py (CUSTOMIZE) \n",
    "5. update_data.py (CUSTOMIZE BASED ON rds_init.py)\n",
    "\n",
    "\n",
    "\n"
   ]
  }
 ],
 "metadata": {
  "language_info": {
   "name": "python"
  }
 },
 "nbformat": 4,
 "nbformat_minor": 2
}
