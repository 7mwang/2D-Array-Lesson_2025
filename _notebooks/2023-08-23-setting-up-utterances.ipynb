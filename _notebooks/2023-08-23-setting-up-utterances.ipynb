{
 "cells": [
  {
   "cell_type": "raw",
   "metadata": {
    "vscode": {
     "languageId": "raw"
    }
   },
   "source": [
    "---\n",
    "layout: post\n",
    "title: Setting up utterances\n",
    "description: Learn how to set up utterances for your blog. Utterances is a tool that allows you to have comments on your blog posts.\n",
    "toc: false\n",
    "comments: true\n",
    "categories: [Github Pages]\n",
    "permalink: /github/pages/utterances\n",
    "---"
   ]
  },
  {
   "cell_type": "raw",
   "metadata": {
    "vscode": {
     "languageId": "raw"
    }
   },
   "source": [
    "{% include nav/devops_tools.html %}"
   ]
  },
  {
   "cell_type": "markdown",
   "metadata": {},
   "source": [
    "## Testing!"
   ]
  }
 ],
 "metadata": {
  "language_info": {
   "name": "python"
  }
 },
 "nbformat": 4,
 "nbformat_minor": 2
}
