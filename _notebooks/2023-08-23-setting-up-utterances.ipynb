{
 "cells": [
  {
   "cell_type": "raw",
   "metadata": {
    "vscode": {
     "languageId": "raw"
    }
   },
   "source": [
    "---\n",
    "layout: post\n",
    "title: Setting up utterances\n",
    "description: Learn how to set up utterances for your blog. Utterances is a tool that allows you to have comments on your blog posts.\n",
    "toc: false\n",
    "comments: true\n",
    "categories: [Github Pages]\n",
    "permalink: /github/pages/utterances\n",
    "---"
   ]
  },
  {
   "cell_type": "raw",
   "metadata": {
    "vscode": {
     "languageId": "raw"
    }
   },
   "source": [
    "{% include nav/devops_tools.html %}"
   ]
  },
  {
   "cell_type": "markdown",
   "metadata": {},
   "source": [
    "## What is utterances?\n",
    "> Utterances is a comments widget built on Github which allows you to comment on blog posts using Github Pages\n",
    "- If you scroll down to the bottom of a page, you can see if utterances are there or not\n",
    "- If you cloned the correct repository, utterances.html will be within your blog's _includes folder"
   ]
  },
  {
   "cell_type": "markdown",
   "metadata": {
    "vscode": {
     "languageId": "raw"
    }
   },
   "source": [
    "## How to use\n",
    "- If Github pages was set up correctly, then posts/ipynb files using **hacks** and **tangibles** should have utterances enabled\n",
    "- If the category is not a hack or tangible, OR utterances is not working for whatever reason, then use the script below to enable utterances on the post"
   ]
  },
  {
   "cell_type": "code",
   "execution_count": null,
   "metadata": {
    "vscode": {
     "languageId": "html"
    }
   },
   "outputs": [],
   "source": [
    "<!-- Use this script to add comments to your blog posts manually\n",
    "<script src=\"https://utteranc.es/client.js\"\n",
    "        repo=\"{{ site.github_username }}/{{ site.github_repo | default: site.baseurl | remove: \"/\" }}\"\n",
    "        issue-term=\"title\"\n",
    "        label=\"blogpost-comment\"\n",
    "        theme=\"github-light\"\n",
    "        crossorigin=\"anonymous\"\n",
    "        async>\n",
    "</script>\n",
    "-->"
   ]
  }
 ],
 "metadata": {
  "kernelspec": {
   "display_name": "Python 3",
   "language": "python",
   "name": "python3"
  },
  "language_info": {
   "codemirror_mode": {
    "name": "ipython",
    "version": 3
   },
   "file_extension": ".py",
   "mimetype": "text/x-python",
   "name": "python",
   "nbconvert_exporter": "python",
   "pygments_lexer": "ipython3",
   "version": "3.10.12"
  }
 },
 "nbformat": 4,
 "nbformat_minor": 2
}
