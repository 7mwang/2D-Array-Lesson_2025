{
 "cells": [
  {
   "attachments": {},
   "cell_type": "raw",
   "metadata": {
    "vscode": {
     "languageId": "raw"
    }
   },
   "source": [
    "---\n",
    "layout: post\n",
    "title: Big Idea 3\n",
    "description: An introduction to College Board's Big Idea 3.  This is a collection of lessons and resources to help students understand the concept of taught by College Board's AP Computer Science Principles curriculum.\n",
    "toc: false\n",
    "comments: false \n",
    "categories: [Big Idea 3]\n",
    "permalink: /csp/big-idea/intro\n",
    "courses: { csp: {week: 4} }\n",
    "type: ccc\n",
    "author: Isabel Marilla\n",
    "---"
   ]
  },
  {
   "cell_type": "raw",
   "metadata": {
    "vscode": {
     "languageId": "raw"
    }
   },
   "source": [
    "{% include nav/csp_unit3.html %}"
   ]
  },
  {
   "cell_type": "markdown",
   "metadata": {},
   "source": [
    "## Big Idea 3\n",
    "Algorithms and Programming\n",
    "\n",
    "1. Variables and Assignments\n",
    "2. Data Abstraction\n",
    "3. Mathematical Expressions\n",
    "4. Strings\n",
    "5. Boolean Expressions\n",
    "6. Conditionals\n",
    "7. Nested Conditionals\n",
    "8. Iteration\n",
    "9. Developing Algorithms\n",
    "10. Lists\n",
    "11. Binary Search\n",
    "12. Calling Procedures\n",
    "13. Developing Procedures\n",
    "14. Libraries\n",
    "15. Random Values\n",
    "16. Simulations\n",
    "17. Algorithmic Efficiency\n",
    "18. Undecidable Problems"
   ]
  }
 ],
 "metadata": {
  "kernelspec": {
   "display_name": "base",
   "language": "python",
   "name": "python3"
  },
  "language_info": {
   "codemirror_mode": {
    "name": "ipython",
    "version": 3
   },
   "file_extension": ".py",
   "mimetype": "text/x-python",
   "name": "python",
   "nbconvert_exporter": "python",
   "pygments_lexer": "ipython3",
   "version": "3.11.4"
  },
  "orig_nbformat": 4
 },
 "nbformat": 4,
 "nbformat_minor": 2
}
