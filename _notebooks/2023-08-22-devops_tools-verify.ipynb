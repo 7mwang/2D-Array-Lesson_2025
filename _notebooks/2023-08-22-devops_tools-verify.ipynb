{
 "cells": [
  {
   "attachments": {},
   "cell_type": "raw",
   "metadata": {
    "vscode": {
     "languageId": "raw"
    }
   },
   "source": [
    "---\n",
    "layout: post\n",
    "title: DevOps Tools verifications\n",
    "description: Linux and the Bash shell is used to verify the installation of the DevOps tools.  Additionally, a few programming exercises are included.\n",
    "toc: false\n",
    "comments: true\n",
    "categories: [DevOps]\n",
    "permalink: /devops/tools/verify\n",
    "search_exclude: true\n",
    "---"
   ]
  },
  {
   "cell_type": "raw",
   "metadata": {
    "vscode": {
     "languageId": "raw"
    }
   },
   "source": [
    "{% include nav/devops_tools.html %}"
   ]
  },
  {
   "attachments": {},
   "cell_type": "markdown",
   "metadata": {},
   "source": [
    "## Bash Tutorial\n",
    "> A brief overview of Bash, on your way to becoming a Linux expert.  <mark>When a computer boots up, a kernel (MacOS, Windows, Linux) is started</mark>.  This kernel provides a shell, or <mark>terminal</mark>, that allows user to interact with a most basic set of commands.  Typically, the casual user will not interact with the shell/terminal as a Desktop User Interface is started by the computer boot up process.  To activate a shell directly, users will run a \"terminal\" through the Desktop. <mark>VS Code provides ability to activate \"terminal\"</mark> while in the IDE."
   ]
  },
  {
   "attachments": {},
   "cell_type": "markdown",
   "metadata": {},
   "source": [
    "## Variable Prerequisites\n",
    "> Setup bash shell dependency variables for this page.  Variables are one of the first aspects of programming.  <mark>Variables have \"name\" and a \"value\"</mark>.\n",
    "\n",
    "- Hack Note: Change variables to match your student project."
   ]
  },
  {
   "cell_type": "markdown",
   "metadata": {},
   "source": [
    "### Define variable\n",
    "The following code cell <mark>defines 3 variables and assigns each a value</mark>.  There are some extra command, called a HERE document, that write these variables to a file.  This is so we can use these variables over and over below."
   ]
  },
  {
   "cell_type": "code",
   "execution_count": 16,
   "metadata": {
    "vscode": {
     "languageId": "shellscript"
    }
   },
   "outputs": [],
   "source": [
    "%%script bash\n",
    "\n",
    "# Dependency Variables, set to match your project directories\n",
    "\n",
    "cat <<EOF > /tmp/variables.sh\n",
    "export project_dir=$HOME/vscode  # change vscode to different name to test git clone\n",
    "export project=\\$project_dir/portfolio_2025  # change portfolio_2025 to name of project from git clone\n",
    "export project_repo=\"https://github.com/nighthawkcoders/portfolio_2025.git\"  # change to project of choice\n",
    "EOF"
   ]
  },
  {
   "cell_type": "markdown",
   "metadata": {},
   "source": [
    "### Output the value of a variable\n",
    "The following code cell <mark>outputs the value of the variables</mark>, using the echo command.  For visual understanding in the output, each echo command provide a title before the $variable "
   ]
  },
  {
   "cell_type": "code",
   "execution_count": 17,
   "metadata": {
    "vscode": {
     "languageId": "shellscript"
    }
   },
   "outputs": [
    {
     "name": "stdout",
     "output_type": "stream",
     "text": [
      "Project dir: /Users/johnmortensen/vscode\n",
      "Project: /Users/johnmortensen/vscode/portfolio_2025\n",
      "Repo: https://github.com/nighthawkcoders/portfolio_2025.git\n"
     ]
    }
   ],
   "source": [
    "%%script bash\n",
    "\n",
    "# Extract saved variables\n",
    "source /tmp/variables.sh\n",
    "\n",
    "# Output shown title and value variables\n",
    "echo \"Project dir: $project_dir\"\n",
    "echo \"Project: $project\"\n",
    "echo \"Repo: $project_repo\""
   ]
  },
  {
   "cell_type": "markdown",
   "metadata": {},
   "source": [
    "## Project Setup and Analysis with Bash Scripts\n",
    "The bash scripts that follow automate what was done in the setup procedures.  The purpose of this is to show that many of the commands we performed can be added to a script, then performed automatically."
   ]
  },
  {
   "attachments": {},
   "cell_type": "markdown",
   "metadata": {},
   "source": [
    "### Pull Code\n",
    "> Pull code from GitHub to your machine. This is a <mark>bash script</mark>, a sequence of commands, that will create a project directory and add the \"project\" from GitHub to the vscode directory.  There is conditional logic to make sure that clone only happen if it does not (!) exist.   Here are some key elements in this code...\n",
    "\n",
    "- cd command (change directory), remember this from terminal session\n",
    "- if statements (conditional statement, called selection statement by College Board), code inside only happens if condition is met"
   ]
  },
  {
   "cell_type": "code",
   "execution_count": 18,
   "metadata": {
    "vscode": {
     "languageId": "shellscript"
    }
   },
   "outputs": [
    {
     "name": "stdout",
     "output_type": "stream",
     "text": [
      "Using conditional statement to create a project directory and project\n",
      "Directory /Users/johnmortensen/vscode exists.\n",
      "Directory /Users/johnmortensen/vscode/portfolio_2025 exists.\n"
     ]
    }
   ],
   "source": [
    "%%script bash\n",
    "\n",
    "# Extract saved variables\n",
    "source /tmp/variables.sh\n",
    "\n",
    "echo \"Using conditional statement to create a project directory and project\"\n",
    "\n",
    "cd ~    # start in home directory\n",
    "\n",
    "# Conditional block to make a project directory\n",
    "if [ ! -d $project_dir ]\n",
    "then \n",
    "    echo \"Directory $project_dir does not exists... makinng directory $project_dir\"\n",
    "    mkdir -p $project_dir\n",
    "fi\n",
    "echo \"Directory $project_dir exists.\" \n",
    "\n",
    "# Conditional block to git clone a project from project_repo\n",
    "if [ ! -d $project ]\n",
    "then\n",
    "    echo \"Directory $project does not exists... cloning $project_repo\"\n",
    "    cd $project_dir\n",
    "    git clone $project_repo\n",
    "    cd ~\n",
    "fi\n",
    "echo \"Directory $project exists.\" "
   ]
  },
  {
   "attachments": {},
   "cell_type": "markdown",
   "metadata": {},
   "source": [
    "### Look at files Github project\n",
    "> All computers contain files and directories.  The clone brought more files from cloud to your machine.  Review the bash shell script, observe the commands that show and interact with files and directories.  These were used during setup.\n",
    "\n",
    "- \"ls\" lists computer files in Unix and Unix-like operating systems\n",
    "- \"cd\" offers way to navigate and change working directory\n",
    "- \"pwd\" print working directory\n",
    "- \"echo\" used to display line of text/string that are passed as an argument"
   ]
  },
  {
   "cell_type": "code",
   "execution_count": 19,
   "metadata": {
    "vscode": {
     "languageId": "shellscript"
    }
   },
   "outputs": [
    {
     "name": "stdout",
     "output_type": "stream",
     "text": [
      "Navigate to project, then navigate to area wwhere files were cloned\n",
      "/Users/johnmortensen/vscode/portfolio_2025\n",
      "\n",
      "list top level or root of files with project pulled from github\n",
      "404.html\n",
      "Gemfile\n",
      "Gemfile.lock\n",
      "LICENSE\n",
      "Makefile\n",
      "NOTICE.txt\n",
      "README-4-GHPages.md\n",
      "README.md\n",
      "_config.yml\n",
      "\u001b[34m_data\u001b[m\u001b[m\n",
      "\u001b[34m_includes\u001b[m\u001b[m\n",
      "\u001b[34m_layouts\u001b[m\u001b[m\n",
      "\u001b[34m_notebooks\u001b[m\u001b[m\n",
      "\u001b[34m_posts\u001b[m\u001b[m\n",
      "\u001b[34m_sass\u001b[m\u001b[m\n",
      "\u001b[34m_site\u001b[m\u001b[m\n",
      "\u001b[34massets\u001b[m\u001b[m\n",
      "\u001b[34mdesign\u001b[m\u001b[m\n",
      "\u001b[34mimages\u001b[m\u001b[m\n",
      "index.md\n",
      "\u001b[34mnavigation\u001b[m\u001b[m\n",
      "\u001b[34mnode_backend\u001b[m\u001b[m\n",
      "requirements.txt\n",
      "\u001b[34mscripts\u001b[m\u001b[m\n"
     ]
    }
   ],
   "source": [
    "%%script bash\n",
    "\n",
    "# Extract saved variables\n",
    "source /tmp/variables.sh\n",
    "\n",
    "echo \"Navigate to project, then navigate to area wwhere files were cloned\"\n",
    "cd $project\n",
    "pwd\n",
    "\n",
    "echo \"\"\n",
    "echo \"list top level or root of files with project pulled from github\"\n",
    "ls\n"
   ]
  },
  {
   "attachments": {},
   "cell_type": "markdown",
   "metadata": {},
   "source": [
    "### Look at file list with hidden and long attributes\n",
    "> Most linux commands have options to enhance behavior.  The enhanced listing below shows permission bits, owner of file, size and date.\n",
    "\n",
    "[ls reference](https://www.rapidtables.com/code/linux/ls.html)"
   ]
  },
  {
   "cell_type": "code",
   "execution_count": 20,
   "metadata": {
    "vscode": {
     "languageId": "shellscript"
    }
   },
   "outputs": [
    {
     "name": "stdout",
     "output_type": "stream",
     "text": [
      "Navigate to project, then navigate to area wwhere files were cloned\n",
      "/Users/johnmortensen/vscode/portfolio_2025\n",
      "\n",
      "list all files in long format\n",
      "total 160\n",
      "drwxr-xr-x  29 johnmortensen  staff    928 Jun  9 05:39 \u001b[34m.\u001b[m\u001b[m\n",
      "drwxr-xr-x  30 johnmortensen  staff    960 Jun  8 05:37 \u001b[34m..\u001b[m\u001b[m\n",
      "drwxr-xr-x  15 johnmortensen  staff    480 Jun  9 08:34 \u001b[34m.git\u001b[m\u001b[m\n",
      "drwxr-xr-x   3 johnmortensen  staff     96 Jun  8 05:37 \u001b[34m.github\u001b[m\u001b[m\n",
      "-rw-r--r--   1 johnmortensen  staff    116 Jun  8 05:37 .gitignore\n",
      "-rw-r--r--   1 johnmortensen  staff    436 Jun  8 05:37 404.html\n",
      "-rw-r--r--   1 johnmortensen  staff    122 Jun  8 05:37 Gemfile\n",
      "-rw-r--r--   1 johnmortensen  staff   7505 Jun  8 06:04 Gemfile.lock\n",
      "-rw-r--r--@  1 johnmortensen  staff  11357 Jun  8 05:37 LICENSE\n",
      "-rw-r--r--   1 johnmortensen  staff   3349 Jun  8 07:31 Makefile\n",
      "-rw-r--r--@  1 johnmortensen  staff    481 Jun  8 05:37 NOTICE.txt\n",
      "-rw-r--r--   1 johnmortensen  staff    100 Jun  9 07:59 README-4-GHPages.md\n",
      "-rw-r--r--   1 johnmortensen  staff  13231 Jun  8 10:43 README.md\n",
      "-rw-r--r--   1 johnmortensen  staff    859 Jun  8 22:19 _config.yml\n",
      "drwxr-xr-x   7 johnmortensen  staff    224 Jun  8 05:37 \u001b[34m_data\u001b[m\u001b[m\n",
      "drwxr-xr-x  19 johnmortensen  staff    608 Jun  9 07:57 \u001b[34m_includes\u001b[m\u001b[m\n",
      "drwxr-xr-x   9 johnmortensen  staff    288 Jun  8 22:20 \u001b[34m_layouts\u001b[m\u001b[m\n",
      "drwxr-xr-x  30 johnmortensen  staff    960 Jun  9 14:04 \u001b[34m_notebooks\u001b[m\u001b[m\n",
      "drwxr-xr-x  63 johnmortensen  staff   2016 Jun  9 08:02 \u001b[34m_posts\u001b[m\u001b[m\n",
      "drwxr-xr-x   3 johnmortensen  staff     96 Jun  8 05:37 \u001b[34m_sass\u001b[m\u001b[m\n",
      "drwxr-xr-x  30 johnmortensen  staff    960 Jun  9 08:02 \u001b[34m_site\u001b[m\u001b[m\n",
      "drwxr-xr-x   6 johnmortensen  staff    192 Jun  8 05:37 \u001b[34massets\u001b[m\u001b[m\n",
      "drwxr-xr-x   3 johnmortensen  staff     96 Jun  8 05:37 \u001b[34mdesign\u001b[m\u001b[m\n",
      "drwxr-xr-x  13 johnmortensen  staff    416 Jun  8 14:00 \u001b[34mimages\u001b[m\u001b[m\n",
      "-rw-r--r--   1 johnmortensen  staff  11119 Jun  9 07:59 index.md\n",
      "drwxr-xr-x  12 johnmortensen  staff    384 Jun  8 22:19 \u001b[34mnavigation\u001b[m\u001b[m\n",
      "drwxr-xr-x   8 johnmortensen  staff    256 Jun  8 05:37 \u001b[34mnode_backend\u001b[m\u001b[m\n",
      "-rw-r--r--@  1 johnmortensen  staff     34 Jun  8 05:37 requirements.txt\n",
      "drwxr-xr-x  11 johnmortensen  staff    352 Jun  8 05:40 \u001b[34mscripts\u001b[m\u001b[m\n"
     ]
    }
   ],
   "source": [
    "%%script bash\n",
    "\n",
    "# Extract saved variables\n",
    "source /tmp/variables.sh\n",
    "\n",
    "echo \"Navigate to project, then navigate to area wwhere files were cloned\"\n",
    "cd $project\n",
    "pwd\n",
    "\n",
    "echo \"\"\n",
    "echo \"list all files in long format\"\n",
    "ls -al   # all files -a (hidden) in -l long listing"
   ]
  },
  {
   "cell_type": "code",
   "execution_count": 21,
   "metadata": {
    "vscode": {
     "languageId": "shellscript"
    }
   },
   "outputs": [
    {
     "name": "stdout",
     "output_type": "stream",
     "text": [
      "Look for posts\n",
      "/Users/johnmortensen/vscode/portfolio_2025/_posts\n",
      "total 976\n",
      "-rw-r--r--  1 johnmortensen  staff  20374 Jun  9 05:39 2023-08-16-github_pages_setup_IPYNB_2_.md\n",
      "-rw-r--r--  1 johnmortensen  staff  10306 Jun  9 05:39 2023-08-16-linux_shell_IPYNB_2_.md\n",
      "-rw-r--r--  1 johnmortensen  staff   4641 Jun  8 21:59 2023-08-16-pair_programming.md\n",
      "-rw-r--r--  1 johnmortensen  staff   7678 Jun  8 21:59 2023-08-16-tools_equipment.md\n",
      "-rw-r--r--  1 johnmortensen  staff   7114 Jun  8 22:09 2023-08-17-markdown-html_fragments.md\n",
      "-rw-r--r--  1 johnmortensen  staff   4349 Jun  8 22:00 2023-08-21-python_flask.md\n",
      "-rw-r--r--  1 johnmortensen  staff   8816 Jun  9 08:03 2023-08-23-github_pages_anatomy_IPYNB_2_.md\n",
      "-rw-r--r--  1 johnmortensen  staff   6470 Jun  9 05:39 2023-08-23-python_tricks_IPYNB_2_.md\n",
      "-rw-r--r--  1 johnmortensen  staff   1892 Jun  9 06:20 2023-08-28-frontend-basics-home_IPYNB_2_.md\n",
      "-rw-r--r--  1 johnmortensen  staff   3564 Jun  9 06:39 2023-08-28-frontend-basics-html_IPYNB_2_.md\n",
      "-rw-r--r--  1 johnmortensen  staff   3513 Jun  9 06:21 2023-08-28-frontend-basics-js-errors_IPYNB_2_.md\n",
      "-rw-r--r--  1 johnmortensen  staff   9128 Jun  9 06:39 2023-08-29-frontend-basics-of-js_IPYNB_2_.md\n",
      "-rw-r--r--  1 johnmortensen  staff  11295 Jun  8 22:01 2023-08-30-agile_methodolgy.md\n",
      "-rw-r--r--  1 johnmortensen  staff  11900 Jun  9 06:37 2023-08-30-frontend-basics-js-data-types_IPYNB_2_.md\n",
      "-rw-r--r--  1 johnmortensen  staff   7881 Jun  9 06:28 2023-08-30-frontend-basics-js-with-html_IPYNB_2_.md\n",
      "-rw-r--r--  1 johnmortensen  staff   4595 Jun  9 08:00 2023-08-30-javascript-music-api.md\n",
      "-rw-r--r--  1 johnmortensen  staff   2112 Jun  9 05:39 2023-08-30-javascript_grab_IPYNB_2_.md\n",
      "-rw-r--r--  1 johnmortensen  staff   8750 Jun  9 05:39 2023-08-30-pair-showcase_IPYNB_2_.md\n",
      "-rw-r--r--  1 johnmortensen  staff   6188 Jun  8 22:03 2023-08-31-javascript-binary-calculator.md\n",
      "-rw-r--r--  1 johnmortensen  staff   6666 Jun  8 22:09 2023-08-31-javascript-calculator.md\n",
      "-rw-r--r--  1 johnmortensen  staff   5629 Jun  8 22:03 2023-08-31-javascript-game-of-life.md\n",
      "-rw-r--r--  1 johnmortensen  staff  14200 Jun  8 22:02 2023-08-31-javascript_snake-game.md\n",
      "-rw-r--r--  1 johnmortensen  staff   2501 Jun  8 22:09 2023-09-06-javascript-background-alien.md\n",
      "-rw-r--r--  1 johnmortensen  staff   8927 Jun  9 05:39 2023-09-06-javascript-input_IPYNB_2_.md\n",
      "-rw-r--r--  1 johnmortensen  staff   6593 Jun  9 05:39 2023-09-06-python-flask_in_jupyter_IPYNB_2_.md\n",
      "-rw-r--r--  1 johnmortensen  staff   5558 Jun  9 05:39 2023-09-10-python_Iteration_IPYNB_2_.md\n",
      "-rw-r--r--  1 johnmortensen  staff   5197 Jun  9 05:39 2023-09-12-python-flask-anatomy_IPYNB_2_.md\n",
      "-rw-r--r--  1 johnmortensen  staff   3665 Jun  8 22:04 2023-09-12-python-flask-repo.md\n",
      "-rw-r--r--  1 johnmortensen  staff   9355 Jun  9 05:39 2023-09-12-python_lists_IPYNB_2_.md\n",
      "-rw-r--r--  1 johnmortensen  staff  18624 Jun  9 05:39 2023-09-13-javascript_output_objects_IPYNB_2_.md\n",
      "-rw-r--r--  1 johnmortensen  staff   4653 Jun  9 05:39 2023-09-15-python-errors_IPYNB_2_.md\n",
      "-rw-r--r--  1 johnmortensen  staff  16552 Jun  9 05:39 2023-09-27-aws-deployment_IPYNB_2_.md\n",
      "-rw-r--r--  1 johnmortensen  staff   8533 Jun  9 05:39 2023-09-30-python_algorithms_IPYNB_2_.md\n",
      "-rw-r--r--  1 johnmortensen  staff  10039 Jun  9 05:39 2023-10-02-java-spring-anatomy_IPYNB_2_.md\n",
      "-rw-r--r--  1 johnmortensen  staff   7080 Jun  9 05:39 2023-10-02-python_data-abstraction-1_IPYNB_2_.md\n",
      "-rw-r--r--  1 johnmortensen  staff   7282 Jun  9 05:39 2023-10-02-python_data-abstraction-2_IPYNB_2_.md\n",
      "-rw-r--r--  1 johnmortensen  staff  11079 Jun  9 05:39 2023-10-03-java-types-student-1_IPYNB_2_.md\n",
      "-rw-r--r--  1 johnmortensen  staff  30774 Jun  9 05:39 2023-10-03-java-types-student-2_IPYNB_2_.md\n",
      "-rw-r--r--  1 johnmortensen  staff   6648 Jun  9 05:39 2023-10-03-python_developing-procedures_IPYNB_2_.md\n",
      "-rw-r--r--  1 johnmortensen  staff    625 Jun  9 08:02 2024-03-07-CSA-Seed-and-Debugging_GithubIssue_.md\n",
      "-rw-r--r--  1 johnmortensen  staff   3964 Jun  9 08:02 2024-03-11-CSA-Data-Types-Prep_GithubIssue_.md\n",
      "-rw-r--r--  1 johnmortensen  staff    989 Jun  9 08:02 2024-03-18-Big-Project-Feature-Check-#1_GithubIssue_.md\n",
      "-rw-r--r--  1 johnmortensen  staff   3959 Jun  9 08:02 2024-03-18-CSA-Collectibles-Prep_GithubIssue_.md\n",
      "-rw-r--r--  1 johnmortensen  staff    908 Jun  9 08:02 2024-03-18-CSA-Data-Types-Teach_GithubIssue_.md\n",
      "-rw-r--r--  1 johnmortensen  staff    253 Jun  9 08:02 2024-03-25-CSA-Collectibles-Teach_GithubIssue_.md\n",
      "-rw-r--r--  1 johnmortensen  staff    318 Jun  9 08:02 2024-03-27-Workshop-#1,-#2_GithubIssue_.md\n",
      "-rw-r--r--  1 johnmortensen  staff   1843 Jun  9 08:02 2024-04-05-Algorithmic-Code-Prep_GithubIssue_.md\n",
      "-rw-r--r--  1 johnmortensen  staff   2633 Jun  9 08:02 2024-04-05-Algorithmic-Performance_GithubIssue_.md\n",
      "-rw-r--r--  1 johnmortensen  staff    797 Jun  9 08:02 2024-04-14-Big-Project-Feature-Check-#2_GithubIssue_.md\n",
      "-rw-r--r--  1 johnmortensen  staff   1325 Jun  9 08:02 2024-04-19-Workshop-#3,-#4,-Search Sort_GithubIssue_.md\n",
      "-rw-r--r--  1 johnmortensen  staff    818 Jun  9 08:02 2024-04-26-FRQ-Practice-Exam_GithubIssue_.md\n",
      "-rw-r--r--  1 johnmortensen  staff    605 Jun  9 08:02 2024-05-15-RPN-Callers-and-Enactment_GithubIssue_.md\n",
      "-rw-r--r--  1 johnmortensen  staff   2805 Jun  9 08:02 2024-05-28-Big-Project-Feature-Check-#3_GithubIssue_.md\n",
      "-rw-r--r--  1 johnmortensen  staff   3774 Jun  9 08:02 2024-05-28-Job-Interview_GithubIssue_.md\n",
      "-rw-r--r--  1 johnmortensen  staff    318 Jun  9 08:02 2024-06-09-Cleanup-tasks-at-the-end-of-the-year_GithubIssue_.md\n",
      "-rw-r--r--  1 johnmortensen  staff    237 Jun  9 08:02 2024-06-09-Cost-Basis-Analysis_GithubIssue_.md\n",
      "-rw-r--r--  1 johnmortensen  staff    257 Jun  9 08:02 2024-06-09-Create-Demo Management-frontend-for-now_GithubIssue_.md\n",
      "-rw-r--r--  1 johnmortensen  staff    344 Jun  9 08:02 2024-06-09-Create-Form-and-User-Database-by-Monday_GithubIssue_.md\n",
      "-rw-r--r--  1 johnmortensen  staff    303 Jun  9 08:02 2024-06-09-Move-Keys-onto-AWS-Keystore_GithubIssue_.md\n",
      "-rw-r--r--  1 johnmortensen  staff    645 Jun  9 08:02 2024-06-09-Project-Description_GithubIssue_.md\n",
      "-rw-r--r--  1 johnmortensen  staff    726 Jun  9 08:02 2024-06-09-Tasks-we-need-to-complete-before-May-30th_GithubIssue_.md\n"
     ]
    }
   ],
   "source": [
    "%%script bash\n",
    "\n",
    "# Extract saved variables\n",
    "source /tmp/variables.sh\n",
    "\n",
    "echo \"Look for posts\"\n",
    "export posts=$project/_posts  # _posts inside project\n",
    "cd $posts  # this should exist per fastpages\n",
    "pwd  # present working directory\n",
    "ls -l  # list posts"
   ]
  },
  {
   "cell_type": "code",
   "execution_count": 22,
   "metadata": {
    "vscode": {
     "languageId": "shellscript"
    }
   },
   "outputs": [
    {
     "name": "stdout",
     "output_type": "stream",
     "text": [
      "Look for notebooks\n",
      "/Users/johnmortensen/vscode/portfolio_2025/_notebooks\n",
      "total 1024\n",
      "-rw-r--r--  1 johnmortensen  staff   26382 Jun  9 13:59 2023-08-21-devops_tools-setup.ipynb\n",
      "-rw-r--r--  1 johnmortensen  staff   16374 Jun  9 14:23 2023-08-22-devops_linux-shell-verification.ipynb\n",
      "-rw-r--r--  1 johnmortensen  staff   11185 Jun  9 08:03 2023-08-23-devops_github-pages.ipynb\n",
      "-rw-r--r--  1 johnmortensen  staff    9682 Jun  8 21:23 2023-08-23-devops_python-tricks.ipynb\n",
      "-rw-r--r--  1 johnmortensen  staff    2753 Jun  9 06:20 2023-08-28-frontend-basics-home.ipynb\n",
      "-rw-r--r--  1 johnmortensen  staff    7052 Jun  9 06:39 2023-08-28-frontend-basics-html.ipynb\n",
      "-rw-r--r--  1 johnmortensen  staff    7202 Jun  9 06:20 2023-08-28-frontend-basics-js-errors.ipynb\n",
      "-rw-r--r--  1 johnmortensen  staff   16154 Jun  9 06:39 2023-08-29-frontend-basics-of-js.ipynb\n",
      "-rw-r--r--  1 johnmortensen  staff   20152 Jun  9 06:36 2023-08-30-frontend-basics-js-data-types.ipynb\n",
      "-rw-r--r--  1 johnmortensen  staff   12452 Jun  9 06:28 2023-08-30-frontend-basics-js-with-html.ipynb\n",
      "-rw-r--r--  1 johnmortensen  staff    3108 Jun  8 22:23 2023-08-30-javascript_grab.ipynb\n",
      "-rw-r--r--  1 johnmortensen  staff    9748 Jun  8 22:24 2023-08-30-pair-showcase.ipynb\n",
      "-rw-r--r--  1 johnmortensen  staff   12712 Jun  8 21:40 2023-09-06-javascript-input.ipynb\n",
      "-rw-r--r--  1 johnmortensen  staff   10052 Jun  8 21:36 2023-09-06-python-flask_in_jupyter.ipynb\n",
      "-rw-r--r--  1 johnmortensen  staff   10146 Jun  8 21:37 2023-09-10-python_Iteration.ipynb\n",
      "-rw-r--r--  1 johnmortensen  staff    7235 Jun  8 21:38 2023-09-12-python-flask-anatomy.ipynb\n",
      "-rw-r--r--  1 johnmortensen  staff   13226 Jun  8 21:37 2023-09-12-python_lists.ipynb\n",
      "-rw-r--r--  1 johnmortensen  staff   25295 Jun  8 21:42 2023-09-13-javascript_output_objects.ipynb\n",
      "-rw-r--r--  1 johnmortensen  staff    8457 Jun  8 21:39 2023-09-15-python-errors.ipynb\n",
      "-rw-r--r--  1 johnmortensen  staff   22328 Jun  8 21:43 2023-09-27-aws-deployment.ipynb\n",
      "-rw-r--r--  1 johnmortensen  staff   14657 Jun  8 21:45 2023-09-30-python_algorithms.ipynb\n",
      "-rw-r--r--  1 johnmortensen  staff   13813 Jun  8 21:54 2023-10-02-java-spring-anatomy.ipynb\n",
      "-rw-r--r--  1 johnmortensen  staff  100587 Jun  8 21:57 2023-10-02-python_data-abstraction-1.ipynb\n",
      "-rw-r--r--  1 johnmortensen  staff   13405 Jun  8 21:55 2023-10-02-python_data-abstraction-2.ipynb\n",
      "-rw-r--r--  1 johnmortensen  staff   18342 Jun  8 21:50 2023-10-03-java-types-student-1.ipynb\n",
      "-rw-r--r--  1 johnmortensen  staff   47997 Jun  8 22:07 2023-10-03-java-types-student-2.ipynb\n",
      "-rw-r--r--  1 johnmortensen  staff   10338 Jun  8 21:54 2023-10-03-python_developing-procedures.ipynb\n",
      "drwxr-xr-x  5 johnmortensen  staff     160 Jun  8 05:37 \u001b[34mfiles\u001b[m\u001b[m\n"
     ]
    }
   ],
   "source": [
    "%%script bash\n",
    "\n",
    "# Extract saved variables\n",
    "source /tmp/variables.sh\n",
    "\n",
    "echo \"Look for notebooks\"\n",
    "export notebooks=$project/_notebooks  # _notebooks is inside project\n",
    "cd $notebooks   # this should exist per fastpages\n",
    "pwd  # present working directory\n",
    "ls -l  # list notebooks"
   ]
  },
  {
   "cell_type": "code",
   "execution_count": 23,
   "metadata": {
    "vscode": {
     "languageId": "shellscript"
    }
   },
   "outputs": [
    {
     "name": "stdout",
     "output_type": "stream",
     "text": [
      "Look for images in notebooks, print working directory, list files\n",
      "/Users/johnmortensen/vscode/portfolio_2025/_notebooks\n"
     ]
    },
    {
     "name": "stderr",
     "output_type": "stream",
     "text": [
      "bash: line 6: cd: /images: No such file or directory\n"
     ]
    },
    {
     "name": "stdout",
     "output_type": "stream",
     "text": [
      "total 1024\n",
      "-rw-r--r--  1 johnmortensen  staff   26382 Jun  9 13:59 2023-08-21-devops_tools-setup.ipynb\n",
      "-rw-r--r--  1 johnmortensen  staff   16374 Jun  9 14:23 2023-08-22-devops_linux-shell-verification.ipynb\n",
      "-rw-r--r--  1 johnmortensen  staff   11185 Jun  9 08:03 2023-08-23-devops_github-pages.ipynb\n",
      "-rw-r--r--  1 johnmortensen  staff    9682 Jun  8 21:23 2023-08-23-devops_python-tricks.ipynb\n",
      "-rw-r--r--  1 johnmortensen  staff    2753 Jun  9 06:20 2023-08-28-frontend-basics-home.ipynb\n",
      "-rw-r--r--  1 johnmortensen  staff    7052 Jun  9 06:39 2023-08-28-frontend-basics-html.ipynb\n",
      "-rw-r--r--  1 johnmortensen  staff    7202 Jun  9 06:20 2023-08-28-frontend-basics-js-errors.ipynb\n",
      "-rw-r--r--  1 johnmortensen  staff   16154 Jun  9 06:39 2023-08-29-frontend-basics-of-js.ipynb\n",
      "-rw-r--r--  1 johnmortensen  staff   20152 Jun  9 06:36 2023-08-30-frontend-basics-js-data-types.ipynb\n",
      "-rw-r--r--  1 johnmortensen  staff   12452 Jun  9 06:28 2023-08-30-frontend-basics-js-with-html.ipynb\n",
      "-rw-r--r--  1 johnmortensen  staff    3108 Jun  8 22:23 2023-08-30-javascript_grab.ipynb\n",
      "-rw-r--r--  1 johnmortensen  staff    9748 Jun  8 22:24 2023-08-30-pair-showcase.ipynb\n",
      "-rw-r--r--  1 johnmortensen  staff   12712 Jun  8 21:40 2023-09-06-javascript-input.ipynb\n",
      "-rw-r--r--  1 johnmortensen  staff   10052 Jun  8 21:36 2023-09-06-python-flask_in_jupyter.ipynb\n",
      "-rw-r--r--  1 johnmortensen  staff   10146 Jun  8 21:37 2023-09-10-python_Iteration.ipynb\n",
      "-rw-r--r--  1 johnmortensen  staff    7235 Jun  8 21:38 2023-09-12-python-flask-anatomy.ipynb\n",
      "-rw-r--r--  1 johnmortensen  staff   13226 Jun  8 21:37 2023-09-12-python_lists.ipynb\n",
      "-rw-r--r--  1 johnmortensen  staff   25295 Jun  8 21:42 2023-09-13-javascript_output_objects.ipynb\n",
      "-rw-r--r--  1 johnmortensen  staff    8457 Jun  8 21:39 2023-09-15-python-errors.ipynb\n",
      "-rw-r--r--  1 johnmortensen  staff   22328 Jun  8 21:43 2023-09-27-aws-deployment.ipynb\n",
      "-rw-r--r--  1 johnmortensen  staff   14657 Jun  8 21:45 2023-09-30-python_algorithms.ipynb\n",
      "-rw-r--r--  1 johnmortensen  staff   13813 Jun  8 21:54 2023-10-02-java-spring-anatomy.ipynb\n",
      "-rw-r--r--  1 johnmortensen  staff  100587 Jun  8 21:57 2023-10-02-python_data-abstraction-1.ipynb\n",
      "-rw-r--r--  1 johnmortensen  staff   13405 Jun  8 21:55 2023-10-02-python_data-abstraction-2.ipynb\n",
      "-rw-r--r--  1 johnmortensen  staff   18342 Jun  8 21:50 2023-10-03-java-types-student-1.ipynb\n",
      "-rw-r--r--  1 johnmortensen  staff   47997 Jun  8 22:07 2023-10-03-java-types-student-2.ipynb\n",
      "-rw-r--r--  1 johnmortensen  staff   10338 Jun  8 21:54 2023-10-03-python_developing-procedures.ipynb\n",
      "drwxr-xr-x  5 johnmortensen  staff     160 Jun  8 05:37 \u001b[34mfiles\u001b[m\u001b[m\n"
     ]
    }
   ],
   "source": [
    "%%script bash\n",
    "\n",
    "# Extract saved variables\n",
    "source /tmp/variables.sh\n",
    "\n",
    "echo \"Look for images in notebooks, print working directory, list files\"\n",
    "cd $notebooks/images  # this should exist per fastpages\n",
    "pwd\n",
    "ls -l"
   ]
  },
  {
   "attachments": {},
   "cell_type": "markdown",
   "metadata": {},
   "source": [
    "### Look inside a Markdown File\n",
    "> \"cat\" reads data from the file and gives its content as output"
   ]
  },
  {
   "cell_type": "code",
   "execution_count": 24,
   "metadata": {
    "vscode": {
     "languageId": "shellscript"
    }
   },
   "outputs": [
    {
     "name": "stdout",
     "output_type": "stream",
     "text": [
      "Navigate to project, then navigate to area wwhere files were cloned\n",
      "show the contents of README.md\n",
      "\n",
      "## README\n",
      "\n",
      "Nighthawk Pages is a project designed to support students in their Computer Science and Software Engineering education. It offers a wide range of resources including tech talks, code examples, and educational blogs. This project was initially based on Fastpages but has since evolved into an independent entity, it is no longer following Fastpages' updates. The decision to separate from Fastpages was influenced by the deprecation of Fastpages in favor of Quarto, and the subsequent changes in development features that did not align with our goals.\n",
      "\n",
      "### Key Features\n",
      "\n",
      "- **Code Examples**: Provides practical coding examples in JavaScript, including a platformer game, and frontend code for user databases using Python and Java backends.\n",
      "- **Educational Blogs**: Offers instructional content on various topics such as developer tools setup, deployment on AWS, SQL databases, machine learning, and data structures. It utilizes Jupyter Notebooks for interactive lessons and coding challenges.\n",
      "- **Tools and Integrations**: Features GitHub actions for blog publishing, Utterances for blog commenting, local development support via Makefile and scripts, and styling with the Minima Theme and SASS. It also includes a new integration with GitHub Projects for planning purposes.\n",
      "\n",
      "### Contributions\n",
      "\n",
      "- **Notable Contributions**: Highlights significant contributions to the project, including theme development, search and tagging functionality, GitHub API integration, and the incorporation of GitHub Projects into GitHub pages. Contributors such as Tirth Thakker, Mirza Beg, and Toby Ledder have played crucial roles in these developments.\n",
      "\n",
      "## GitHub Pages setup\n",
      "\n",
      "#### Activating GitHub Pages Actions\n",
      "1. **Activate GitHub Pages Actions**: This step involves enabling GitHub Pages Actions for your project. By doing so, your project will be automatically deployed using GitHub Pages Actions, ensuring that your project is always up to date with the latest changes you push to your repository.\n",
      "\n",
      "- On the GitHub website for the repository go to menu: Settings -> Pages ->  Build and Deployment and select \"GitHub Actions\". \n",
      "\n",
      "#### Configuring the `_config.yml`\n",
      "2. **Update `_config.yml`**: You need to modify the `_config.yml` file to reflect your repository's name. This configuration is crucial because it ensures that your project's styling is correctly applied, making your deployed site look as intended rather than unstyled or broken.\n",
      "\n",
      "```\n",
      "github_repo: \"portfolio_2025\" \n",
      "baseurl: \"/portfolio_2025\"\n",
      "```\n",
      "\n",
      "#### Updating the Makefile\n",
      "3. **Set Repository Name in Makefile**: Adjust the `REPO_NAME` variable in your Makefile to match your GitHub repository's name. This action facilitates the automatic updating of posts and notebooks on your local development server, improving the development process.\n",
      "\n",
      "```\n",
      "# Configuration, override port with usage: make PORT=4200\n",
      "PORT ?= 4100\n",
      "REPO_NAME ?= portfolio_2025\n",
      "LOG_FILE = /tmp/jekyll$(PORT).log\n",
      "```\n",
      "\n",
      "## GitHub Pages setup\n",
      "The absolutes in setup up...\n",
      "1. Activate GitHub Pages Actions.   The benefit, your project will be deployed via GitHub Pages Actions.\n",
      "2. Configure the _config.yml to match the name of the repository. The benefit, your project style will be activated and your project won't look awful when deployed.\n",
      "3. Set your repository name in your Makefile.  The benefit, your project will automatically update posts and notebooks to your localhost server during development.\n",
      "\n",
      "### GitHub Pages Actions\n",
      "To get started you need to activate and configure GitHub Actions with a Theme.\n",
      "\n",
      "- Go to Settings -> Pages ->  Build and Deployment and select \"GitHub Actions\". \n",
      "\n",
      "### GitHub Pages config\n",
      "Edit the _config.yml file in this project.  All the lines in this file should be personalized.   \n",
      "\n",
      "These lines must be changed to match the GitHub the repository.\n",
      "\n",
      "```\n",
      "github_repo: \"portfolio_2025\" \n",
      "baseurl: \"/portfolio_2025\"\n",
      "```\n",
      "\n",
      "### Makefile edit\n",
      "Edit the REPO_NAME to match your server at the top of the Makefile.\n",
      "\n",
      "```\n",
      "# Configuration, override port with usage: make PORT=4200\n",
      "PORT ?= 4100\n",
      "REPO_NAME ?= portfolio_2025\n",
      "LOG_FILE = /tmp/jekyll$(PORT).log\n",
      "```\n",
      "\n",
      "## GitHub Pages Tool requirements\n",
      "\n",
      "All `GitHub Pages` websites are managed on GitHub infrastructure. GitHub uses `Jekyll` to transform your content into static websites and blogs. Each time we change files in GitHub it initiates a GitHub Action that rebuilds and publishes the site with Jekyll.  \n",
      "\n",
      "- GitHub Pages is powered by: [Jekyll](https://jekyllrb.com/).\n",
      "\n",
      "### Instructions for Setting Up Your Environment\n",
      "\n",
      "Depending on your operating system, follow the specific instructions below to set up your environment. Navigate to the `scripts` directory in your terminal and execute the corresponding script.\n",
      "\n",
      "#### For WSL and/or Ubuntu Users\n",
      "\n",
      "- Execute the script: `./activate_ubuntu.sh`\n",
      "\n",
      "#### For macOS Users\n",
      "\n",
      "- Execute the script: `./activate_macos.sh`\n",
      "\n",
      "#### For Kasm Users\n",
      "\n",
      "- Execute the script: `./activate.sh`\n",
      "\n",
      "### Preview\n",
      "\n",
      "- Complete installation\n",
      "\n",
      "```bash\n",
      "bundle install\n",
      "```\n",
      "\n",
      "- Run Server.  This requires running terminal commands `make`, `make stop`, `make clean`, or `make convert` to manage the running server.  Logging of details will appear in the terminal.   A `Makefile` has been created in the project to support commands and start processes.\n",
      "\n",
      "  - Start the preview server in the terminal\n",
      "The terminal output shows the server address. \"Cmd\" or \"Ctl\" click the http location to open the preview server in a browser. Example Server address message...\n",
      "\n",
      "    ```text\n",
      "    Clicke on Server address to load: http://0.0.0.0:4100/portfolio_2025/\n",
      "    ```\n",
      "\n",
      "    - Save on \".ipynb\" or \".md\" file activiates \"regeneration\". Refresh the browser to see updates. Example terminal message...\n",
      "\n",
      "    ```\n",
      "    Regenerating: 1 file(s) changed at 2023-07-31 06:54:32\n",
      "        _notebooks/2024-01-04-cockpit-setup.ipynb\n",
      "    ```\n",
      "\n",
      "  - Terminal messages are generated from background processes.  Click return or enter to obtain a prompt and use the terminal as needed for other tasks.  Always return to the root of project `cd ~/vscode/portfolio_2025` for all \"make\" actions.\n",
      "\n",
      "  - Stop the preview server, but leave constructed files in the project for your review.\n",
      "\n",
      "    ```bash\n",
      "    make stop\n",
      "    ```\n",
      "\n",
      "  - Stop the server and \"clean\" constructed files, this is the best choice when renaming files to eliminate potential duplicates in constructed files.\n",
      "\n",
      "    ```bash\n",
      "    make clean\n",
      "    ```\n",
      "\n",
      "  - Test notebook conversions, this is the best choice to see if IPYNB conversion is acting up.\n",
      "\n",
      "    ```bash\n",
      "    make convert\n",
      "    ```\n",
      "\n",
      "## Development Support \n",
      "\n",
      "### File Names in \"_posts\", \"_notebooks\"\n",
      "\n",
      "- To name a file, use the following structure (Note that dates should never be in the future and should always be in the format YYYY-MM-DD):\n",
      "\n",
      "- Make sure that notebooks are in the notebook folder and posts are in the posts folder.\n",
      "\n",
      "  - For markdown files in _posts:\n",
      "    - year-month-day-fileName.md\n",
      "      - GOOD EXAMPLE: 2021-08-02-First-Day.md\n",
      "      - BAD EXAMPLE: 2021-8-2-first-day.md\n",
      "      - BAD EXAMPLE: first-day.md\n",
      "      - BAD EXAMPLE: 2069-12-31-First-Day.md\n",
      "\n",
      "  - For jupyter notebooks in _notebooks:\n",
      "    - year-month-day-fileName.ipynb\n",
      "      - GOOD EXAMPLE: 2021-08-02-First-Day.ipynb\n",
      "      - BAD EXAMPLE: 2021-8-2-first-day.ipynb\n",
      "      - BAD EXAMPLE: first-day.ipynb\n",
      "      - BAD EXAMPLE: 2069-12-31-First-Day.ipynb\n",
      "\n",
      "### TAGS\n",
      "\n",
      "- Tags are used to organize pages by their tag the way to add tags is to add the following to your front matter such as the example seen here `categories: [`C1.4]` Each item in the same category will be lumped together to be seen easily on the tags page.\n",
      "\n",
      "### SEARCH\n",
      "\n",
      "- All pages can be searched for using the built-in search bar. This search bar will search for any word in the title of a page or in the page itself. This allows for easily finding pages and information that you are looking for. However, sometimes this may not be desirable so to hide a page from the search you can add `search_exclude: true` to the front matter of the page. This will hide the page from appearing when the viewer uses search.\n",
      "\n",
      "### NAVIGATION BAR\n",
      "\n",
      "- To add pages to the top navigation bar use _config.yml to order and determine which menus you want and how to order.\n",
      "\n",
      "### BLOG PAGE\n",
      "\n",
      "- There is a newly designed blog page with all pages having images and a description of what the page is about. This is to help the viewer understand what the page is about and what they can expect to find on the page. The way to add images to a page is to have the following front matter `image: /images/file.jpg` and then the name of the image that you want to use. The image must be in the `images` folder. Furthermore, if you would like the file to not show up on the blog page `hide: true` can be added to the front matter.\n",
      "\n",
      "### SASS support\n",
      "\n",
      "- NIGHTHAWK-Pages supports a variety of different themes that are each overlaid on top of minima. To use each theme, go to the \"custom-styles.scss\" file and simply uncomment the theme you want to use. To toggle the theme off, comment in front of the line that imports the theme in the file. To add your themes, find the desired theme’s GitHub repository and make a new folder in the sass directory that’s named the name of your theme. Copy the import statement format from the other styles on \"custom-styles.scss\", add your import statement, and you're done. Note that adding personal themes may cause things to break and a given theme’s compatibility with NIGHTHAWK-Pages may be suboptimal. To add a personal styling twist, add your unique .scss file to \"custom-styles\" via import. Here is an example import `@import \"minima/NIGHTHAWK-Pages-styles\";`. Note that you can also add your own SCSS in the file itself in the area labeled specifically for that purpose. Also, you can mix different styles by combining them together in NIGHTHAWK-Pages however the effects may vary.\n",
      "\n",
      "### INCLUDES\n",
      "\n",
      "- NIGHTHAWK-Pages uses liquid to import many common page elements that are present throughout the repository. These common elements are imported from the _includes directory. If you want to add one of these common elements, use liquid syntax to import the desired element to your file. Here’s an example of the liquid syntax used to import: `{%- include post_list.html -%}` Note that the liquid syntax is surrounded by curly braces and percent signs. This can be used anywhere in the repository.\n",
      "\n",
      "### LAYOUTS\n",
      "\n",
      "- To create a custom page layout, make an HTML page inside the _layouts directory, and when you want to use that layout in a file, use the following front matter `layout: [your layout here]` Using another pre-existing layout use the same front matter syntax as defined above. This layout will have to be written in in logic customizing liquid to define the structure of the page.\n",
      "\n",
      "## Blog site using GitHub Pages and Jekyll\n",
      "\n",
      "> This site is intended for Students.   This is to record plans, complete hacks, and do work for your learnings.\n",
      "\n",
      "- This can be customized to support computer science as you work through the pathway (JavaScript, Python/Flask, Java/Spring)\n",
      "- All tangible artifact work is in a _posts|_notebooks.  \n",
      "- Front matter (aka metadata) in \".ipynb\" and md files are used to organize information according to week and column in the running website.\n",
      "\n",
      "\n",
      "Metadata, also known as \"front matter\", is a set of key-value pairs that can provide additional information to GitHub Pages about .md and .ipynb files. This can and probably will be used in other file types (ie doc, pdf) if we add them to the system.\n",
      "\n",
      "- In the front matter, you can also define things like a title and description for the page.  Additional front matter is defined to place content on the \"Computer Science Lab Notebook\" page.  The `courses:` key will place data on a specific page with the nested `week:` placing data on a specific row on the page.  The `type:` key in \"front matter\" will place the blog under the plans, hacks(ToDo), and tangibles columns.\n",
      "\n",
      "- In our files, the front matter is defined at the top of the page or the first markdown cell.\n",
      "\n",
      "  - First, open one of the .md or .ipynb files already included in either your _posts|_notebooks folder.\n",
      "\n",
      "  - In the .md file, you should notice something similar to this at the top of the page. To see this in your .ipynb files you will need to double-click the markdown cell at the top of the file.\n",
      "\n",
      "  ```yaml\n",
      "  ---\n",
      "  toc: true\n",
      "  comments: false\n",
      "  layout: post\n",
      "  title: Daily Plan Sample\n",
      "  description: Example Blog!!!  This shows planning and notes from hacks.\n",
      "  type: plans\n",
      "  courses: { compsci: {week: 0} }\n",
      "  ---\n",
      "  ```\n",
      "\n",
      "- The front matter will always have '---' at the top and bottom to distinguish it and each key-value pair will be separated by a ':'.\n",
      "\n",
      "- Here we can modify things like the title and description.\n",
      "\n",
      "- The type value will tell us which column this is going to appear under, supported values: `plans`, `hacks`, `tangibles`.\n",
      "\n",
      "- The courses will tell us which menu item it will be under, in this case, the `compsci` menu, and the `week` tells it what row (week) it will appear under that menu.\n",
      "\n",
      "- In our examples,  hacks(ToDo) contain references to our IPYNB files; these are stored in GitHub under the `_notebooks` folder.   The plans and tangibles contain references to our MD files; these are stored in GitHub under the `_posts` folder.\n",
      "\n",
      "end of README.md\n"
     ]
    }
   ],
   "source": [
    "%%script bash\n",
    "\n",
    "# Extract saved variables\n",
    "source /tmp/variables.sh\n",
    "\n",
    "echo \"Navigate to project, then navigate to area wwhere files were cloned\"\n",
    "\n",
    "cd $project\n",
    "echo \"show the contents of README.md\"\n",
    "echo \"\"\n",
    "\n",
    "cat README.md  # show contents of file, in this case markdown\n",
    "echo \"\"\n",
    "echo \"end of README.md\"\n"
   ]
  },
  {
   "attachments": {},
   "cell_type": "markdown",
   "metadata": {},
   "source": [
    "## Env, Git and GitHub\n",
    "> Env(ironment) is used to capture things like path to Code or Home directory.  Git and GitHub is NOT Only used to exchange code between individuals, it is often used to exchange code through servers, in our case deployment for Website.   All tools we use have a behind the scenes relationships with the system they run on (MacOS, Windows, Linus) or a relationship with servers which they are connected to (ie GitHub).  There is an \"env\" command in bash.  There are environment files and setting files (.git/config) for Git.  They both use a key/value concept.\n",
    "\n",
    "- \"env\" show setting for your shell\n",
    "- \"git clone\" sets up a director of files\n",
    "- \"cd $project\" allows user to move inside that directory of files\n",
    "- \".git\" is a hidden directory that is used by git to establish relationship between machine and the git server on GitHub.  "
   ]
  },
  {
   "cell_type": "code",
   "execution_count": 25,
   "metadata": {
    "vscode": {
     "languageId": "shellscript"
    }
   },
   "outputs": [
    {
     "name": "stdout",
     "output_type": "stream",
     "text": [
      "Show the shell environment variables, key on left of equal value on right\n",
      "\n",
      "MANPATH=/opt/homebrew/share/man::\n",
      "VSCODE_CRASH_REPORTER_PROCESS_TYPE=extensionHost\n",
      "GEM_HOME=/Users/johnmortensen/gems\n",
      "TERM=xterm-color\n",
      "SHELL=/bin/zsh\n",
      "CLICOLOR=1\n",
      "TMPDIR=/var/folders/3m/p1m3lcj52r19nbdhg7y1j8qc0000gn/T/\n",
      "HOMEBREW_REPOSITORY=/opt/homebrew\n",
      "PYTHONUNBUFFERED=1\n",
      "ORIGINAL_XDG_CURRENT_DESKTOP=undefined\n",
      "MallocNanoZone=0\n",
      "PYDEVD_USE_FRAME_EVAL=NO\n",
      "PYTHONIOENCODING=utf-8\n",
      "USER=johnmortensen\n",
      "COMMAND_MODE=unix2003\n",
      "SSH_AUTH_SOCK=/private/tmp/com.apple.launchd.5ul2rCTXrb/Listeners\n",
      "__CF_USER_TEXT_ENCODING=0x1F5:0x0:0x0\n",
      "PAGER=cat\n",
      "ELECTRON_RUN_AS_NODE=1\n",
      "VSCODE_AMD_ENTRYPOINT=vs/workbench/api/node/extensionHostProcess\n",
      "PATH=/opt/homebrew/bin:/Users/johnmortensen/Library/Python/3.11/bin:/Users/johnmortensen/gems/bin:/Users/johnmortensen/.rbenv/shims:/opt/homebrew/bin:/opt/homebrew/sbin:/usr/local/bin:/System/Cryptexes/App/usr/bin:/usr/bin:/bin:/usr/sbin:/sbin:/var/run/com.apple.security.cryptexd/codex.system/bootstrap/usr/local/bin:/var/run/com.apple.security.cryptexd/codex.system/bootstrap/usr/bin:/var/run/com.apple.security.cryptexd/codex.system/bootstrap/usr/appleinternal/bin:/Users/johnmortensen/gems/bin:/Users/johnmortensen/.rbenv/shims:/opt/homebrew/bin:/opt/homebrew/sbin:/usr/local/bin:/System/Cryptexes/App/usr/bin:/usr/bin:/bin:/usr/sbin:/sbin:/var/run/com.apple.security.cryptexd/codex.system/bootstrap/usr/local/bin:/var/run/com.apple.security.cryptexd/codex.system/bootstrap/usr/bin:/var/run/com.apple.security.cryptexd/codex.system/bootstrap/usr/appleinternal/bin\n",
      "__CFBundleIdentifier=com.microsoft.VSCode\n",
      "PWD=/Users/johnmortensen/vscode/portfolio_2025/_notebooks\n",
      "VSCODE_HANDLES_UNCAUGHT_ERRORS=true\n",
      "MPLBACKEND=module://matplotlib_inline.backend_inline\n",
      "PYTHON_FROZEN_MODULES=on\n",
      "XPC_FLAGS=0x0\n",
      "FORCE_COLOR=1\n",
      "RBENV_SHELL=zsh\n",
      "XPC_SERVICE_NAME=0\n",
      "SHLVL=1\n",
      "HOME=/Users/johnmortensen\n",
      "APPLICATION_INSIGHTS_NO_DIAGNOSTIC_CHANNEL=1\n",
      "VSCODE_NLS_CONFIG={\"locale\":\"en-us\",\"osLocale\":\"en-us\",\"availableLanguages\":{},\"_languagePackSupport\":true}\n",
      "PYDEVD_IPYTHON_COMPATIBLE_DEBUGGING=1\n",
      "HOMEBREW_PREFIX=/opt/homebrew\n",
      "LOGNAME=johnmortensen\n",
      "LC_CTYPE=UTF-8\n",
      "VSCODE_IPC_HOOK=/Users/johnmortensen/Library/Application Support/Code/1.90-main.sock\n",
      "VSCODE_CODE_CACHE_PATH=/Users/johnmortensen/Library/Application Support/Code/CachedData/89de5a8d4d6205e5b11647eb6a74844ca23d2573\n",
      "CLICOLOR_FORCE=1\n",
      "VSCODE_PID=64374\n",
      "INFOPATH=/opt/homebrew/share/info:\n",
      "HOMEBREW_CELLAR=/opt/homebrew/Cellar\n",
      "GIT_PAGER=cat\n",
      "VSCODE_L10N_BUNDLE_LOCATION=\n",
      "VSCODE_CWD=/\n",
      "_=/usr/bin/env\n"
     ]
    }
   ],
   "source": [
    "%%script bash\n",
    "\n",
    "# This command has no dependencies\n",
    "\n",
    "echo \"Show the shell environment variables, key on left of equal value on right\"\n",
    "echo \"\"\n",
    "\n",
    "env"
   ]
  },
  {
   "cell_type": "code",
   "execution_count": 26,
   "metadata": {
    "vscode": {
     "languageId": "shellscript"
    }
   },
   "outputs": [
    {
     "name": "stdout",
     "output_type": "stream",
     "text": [
      "\n",
      "show the secrets of .git\n",
      "total 152\n",
      "-rw-r--r--    1 johnmortensen  staff     14 Jun  9 08:34 COMMIT_EDITMSG\n",
      "-rw-r--r--    1 johnmortensen  staff    109 Jun  9 14:21 FETCH_HEAD\n",
      "-rw-r--r--    1 johnmortensen  staff     21 Jun  8 05:37 HEAD\n",
      "-rw-r--r--    1 johnmortensen  staff     41 Jun  9 08:34 ORIG_HEAD\n",
      "-rw-r--r--    1 johnmortensen  staff    319 Jun  8 05:37 config\n",
      "-rw-r--r--    1 johnmortensen  staff     73 Jun  8 05:37 description\n",
      "drwxr-xr-x   15 johnmortensen  staff    480 Jun  8 05:37 \u001b[34mhooks\u001b[m\u001b[m\n",
      "-rw-r--r--    1 johnmortensen  staff  45133 Jun  9 08:34 index\n",
      "drwxr-xr-x    3 johnmortensen  staff     96 Jun  8 05:37 \u001b[34minfo\u001b[m\u001b[m\n",
      "drwxr-xr-x    4 johnmortensen  staff    128 Jun  8 05:37 \u001b[34mlogs\u001b[m\u001b[m\n",
      "drwxr-xr-x  141 johnmortensen  staff   4512 Jun  9 14:21 \u001b[34mobjects\u001b[m\u001b[m\n",
      "-rw-r--r--    1 johnmortensen  staff    112 Jun  8 05:37 packed-refs\n",
      "drwxr-xr-x    5 johnmortensen  staff    160 Jun  8 05:37 \u001b[34mrefs\u001b[m\u001b[m\n",
      "\n",
      "look at config file\n",
      "[core]\n",
      "\trepositoryformatversion = 0\n",
      "\tfilemode = true\n",
      "\tbare = false\n",
      "\tlogallrefupdates = true\n",
      "\tignorecase = true\n",
      "\tprecomposeunicode = true\n",
      "[remote \"origin\"]\n",
      "\turl = https://github.com/nighthawkcoders/portfolio_2025.git\n",
      "\tfetch = +refs/heads/*:refs/remotes/origin/*\n",
      "[branch \"main\"]\n",
      "\tremote = origin\n",
      "\tmerge = refs/heads/main\n"
     ]
    }
   ],
   "source": [
    "%%script bash\n",
    "\n",
    "# Extract saved variables\n",
    "source /tmp/variables.sh\n",
    "\n",
    "cd $project\n",
    "\n",
    "echo \"\"\n",
    "echo \"show the secrets of .git\"\n",
    "cd .git\n",
    "ls -l\n",
    "\n",
    "echo \"\"\n",
    "echo \"look at config file\"\n",
    "cat config"
   ]
  },
  {
   "attachments": {},
   "cell_type": "markdown",
   "metadata": {},
   "source": [
    "## Advanced Student Request - Make a file in Bash\n",
    "> This example was requested by a student (Jun Lim, CSA). The request was to make jupyer file using bash, I adapted the request to markdown.  This type of thought will have great extrapolation to coding and possibilities of using List, Arrays, or APIs to build user interfaces.  JavaScript is a language where building HTML is very common.\n",
    "\n",
    "> To get more interesting output from terminal, this will require using something like mdless (https://github.com/ttscoff/mdless).  This enables see markdown in rendered format.\n",
    "- On Desktop [Install PKG from MacPorts](https://www.macports.org/install.php)\n",
    "- In Terminal on MacOS\n",
    "    - [Install ncurses](https://ports.macports.org/port/ncurses/)\n",
    "    - ```gem install mdless```\n",
    "    \n",
    "> Output of the example is much nicer in \"jupyter\""
   ]
  },
  {
   "cell_type": "code",
   "execution_count": 27,
   "metadata": {
    "vscode": {
     "languageId": "shellscript"
    }
   },
   "outputs": [
    {
     "name": "stdout",
     "output_type": "stream",
     "text": [
      "\n",
      "File listing and status\n",
      "-rw-r--r--  1 johnmortensen  wheel  809 Jun  9 14:24 sample.md\n",
      "      15     132     809 sample.md\n",
      "\n",
      "\n",
      "\u001b[0;37m\u001b[0;1;90;47mShow Generated Markdown \u001b[0;2;30;47m======================================================\u001b[0;37m\n",
      "\n",
      "\u001b[0;37mThis introductory paragraph and this line and the title above are generated using tee with the standard input (<<) redirection operator.\u001b[0;37m\n",
      "\n",
      " \u001b[0;1;91m* \u001b[0;97mThis bulleted element is still part of the tee body.\u001b[0;37m\n",
      " \u001b[0;1;91m* \u001b[0;97mThis bulleted element and lines below are generated using echo with standard output (>>) redirection operator.\u001b[0;37m\n",
      " \u001b[0;1;91m* \u001b[0;97mThe list definition, as is, is using space to seperate lines.  Thus the use of commas and hyphens in output.\n",
      "   \u001b[0;1;91m* \u001b[0;97mls: list directory\u001b[0;97m\n",
      "   \u001b[0;1;91m* \u001b[0;97mcd: change directory\u001b[0;97m\n",
      "   \u001b[0;1;91m* \u001b[0;97mpwd: present working directory\u001b[0;97m\n",
      "   \u001b[0;1;91m* \u001b[0;97mif then fi: test condition\u001b[0;97m\n",
      "   \u001b[0;1;91m* \u001b[0;97menv: bash environment variables\u001b[0;97m\n",
      "   \u001b[0;1;91m* \u001b[0;97mcat: view file contents\u001b[0;97m\n",
      "   \u001b[0;1;91m* \u001b[0;97mtee: write to output\u001b[0;97m\n",
      "   \u001b[0;1;91m* \u001b[0;97mecho: display content of string\u001b[0;97m\n",
      "   \u001b[0;1;91m* \u001b[0;97mecho \"sample text\" >$file: write content to file\u001b[0;97m\n",
      "   \u001b[0;1;91m* \u001b[0;97mecho \"sample text\" >>$file: append content to file\u001b[0;97m\u001b[0;37m\n",
      "\n",
      "\u001b[0m"
     ]
    }
   ],
   "source": [
    "%%script bash\n",
    "\n",
    "# This example has error in VSCode, it run best on Jupyter\n",
    "cd /tmp\n",
    "\n",
    "file=\"sample.md\"\n",
    "if [ -f \"$file\" ]; then\n",
    "    rm $file\n",
    "fi\n",
    "\n",
    "tee -a $file >/dev/null <<EOF\n",
    "# Show Generated Markdown\n",
    "This introductory paragraph and this line and the title above are generated using tee with the standard input (<<) redirection operator.\n",
    "- This bulleted element is still part of the tee body.\n",
    "EOF\n",
    "\n",
    "echo \"- This bulleted element and lines below are generated using echo with standard output (>>) redirection operator.\" >> $file\n",
    "echo \"- The list definition, as is, is using space to seperate lines.  Thus the use of commas and hyphens in output.\" >> $file\n",
    "actions=(\"ls,list-directory\" \"cd,change-directory\" \"pwd,present-working-directory\" \"if-then-fi,test-condition\" \"env,bash-environment-variables\" \"cat,view-file-contents\" \"tee,write-to-output\" \"echo,display-content-of-string\" \"echo_text_>\\$file,write-content-to-file\" \"echo_text_>>\\$file,append-content-to-file\")\n",
    "for action in ${actions[@]}; do  # for loop is very similar to other language, though [@], semi-colon, do are new\n",
    "  action=${action//-/ }  # convert dash to space\n",
    "  action=${action//,/: } # convert comma to colon\n",
    "  action=${action//_text_/ \\\"sample text\\\" } # convert _text_ to sample text, note escape character \\ to avoid \"\" having meaning\n",
    "  echo \"    - ${action//-/ }\" >> $file  # echo is redirected to file with >>\n",
    "done\n",
    "\n",
    "echo \"\"\n",
    "echo \"File listing and status\"\n",
    "ls -l $file # list file\n",
    "wc $file   # show words\n",
    "mdless $file  # this requires installation, but renders markown from terminal\n",
    "\n",
    "rm $file  # clean up termporary file"
   ]
  },
  {
   "attachments": {},
   "cell_type": "markdown",
   "metadata": {},
   "source": [
    "## Hack \n",
    "> Review DevOps Tools Setup. As you install things on your computer you should think about how you will verify things in the future by having a Shell Script notebook.\n",
    "- Come up with your own student view of this procedure to show your tools are installed.  This is done by publishing outputs. \n",
    "- Be sure to try to understand, add comments to code cells so that your remember these things in the future.  \n",
    "- Is there anything we use to verify tools we installed? In Python it will be very important to review versions?\n",
    "- How would you update a shared git repository?  What is the git command line? \n"
   ]
  }
 ],
 "metadata": {
  "kernelspec": {
   "display_name": "Python 3.10.6 64-bit",
   "language": "python",
   "name": "python3"
  },
  "language_info": {
   "codemirror_mode": {
    "name": "ipython",
    "version": 3
   },
   "file_extension": ".py",
   "mimetype": "text/x-python",
   "name": "python",
   "nbconvert_exporter": "python",
   "pygments_lexer": "ipython3",
   "version": "3.11.8"
  },
  "vscode": {
   "interpreter": {
    "hash": "aee8b7b246df8f9039afb4144a1f6fd8d2ca17a180786b69acc140d282b71a49"
   }
  }
 },
 "nbformat": 4,
 "nbformat_minor": 2
}
