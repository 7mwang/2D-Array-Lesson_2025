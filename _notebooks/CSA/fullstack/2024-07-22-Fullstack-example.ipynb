{
 "cells": [
  {
   "cell_type": "markdown",
   "metadata": {},
   "source": [
    "---\n",
    "layout: post\n",
    "title: Example Fullstack Feature\n",
    "description: Guide to the backend development of you're feature\n",
    "permalink: /fullstack/java/example\n",
    "menu: nav/fullstack_java.html\n",
    "toc: true\n",
    "comments: true\n",
    "author: Finn Carpenter\n",
    "---"
   ]
  },
  {
   "cell_type": "markdown",
   "metadata": {},
   "source": [
    "## My example feature"
   ]
  },
  {
   "cell_type": "code",
   "execution_count": null,
   "metadata": {},
   "outputs": [],
   "source": []
  }
 ],
 "metadata": {
  "language_info": {
   "name": "python"
  }
 },
 "nbformat": 4,
 "nbformat_minor": 2
}
