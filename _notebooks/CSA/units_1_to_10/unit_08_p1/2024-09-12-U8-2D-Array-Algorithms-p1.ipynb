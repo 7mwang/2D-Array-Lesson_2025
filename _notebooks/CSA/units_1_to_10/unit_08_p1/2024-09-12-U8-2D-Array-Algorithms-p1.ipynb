{
 "cells": [
  {
   "cell_type": "raw",
   "metadata": {
    "vscode": {
     "languageId": "raw"
    }
   },
   "source": [
    "---\n",
    "layout: post\n",
    "toc: true\n",
    "title: Unit 8 - 2D Arrays Algorithms & Hacks - P1\n",
    "description: 2D Arrays Lesson\n",
    "authors: Matthew Wang, Vibha Ganji, Avanthika Daita, Anusha Khobare\n",
    "categories: [AP CSA]\n",
    "type: ccc\n",
    "permalink: /unit8lesson-p1-algorithms\n",
    "menu: nav/CSA_Units/csa_unit8_p1.html\n",
    "---"
   ]
  },
  {
   "cell_type": "markdown",
   "metadata": {},
   "source": [
    "# Algoirthms 2D Array Java"
   ]
  },
  {
   "cell_type": "markdown",
   "metadata": {},
   "source": [
    "Linear search is a simple and sequential searching algorithm. It is used to find whether a particular element is present in the array or not by traversing every element in the array. While searching in the 2D array is exactly the same but here all the cells need to be traversed In this way, any element is searched in a 2D array. \n",
    "\n",
    "Below is the implementation for linear search in 2D arrays"
   ]
  },
  {
   "cell_type": "code",
   "execution_count": 1,
   "metadata": {
    "vscode": {
     "languageId": "java"
    }
   },
   "outputs": [
    {
     "name": "stdout",
     "output_type": "stream",
     "text": [
      "Element found at index: [1, 2]\n"
     ]
    }
   ],
   "source": [
    "// Linear Search in 2D arrays\n",
    "import java.util.Arrays;\n",
    " \n",
    "public class GFG {\n",
    "    public static void main(String[] args)\n",
    "    {\n",
    "        int arr[][] = { { 3, 12, 9 },\n",
    "                        { 5, 2, 89 },\n",
    "                        { 90, 45, 22 } };\n",
    "        int target = 89;\n",
    "        int ans[] = linearSearch(arr, target);\n",
    "        System.out.println(\"Element found at index: \"\n",
    "                           + Arrays.toString(ans));\n",
    "    }\n",
    " \n",
    "    static int[] linearSearch(int[][] arr, int target)\n",
    "    {\n",
    "        for (int i = 0; i < arr.length; i++) {\n",
    "            for (int j = 0; j < arr[i].length; j++) {\n",
    "                if (arr[i][j] == target) {\n",
    "                    return new int[] { i, j };\n",
    "                }\n",
    "            }\n",
    "        }\n",
    "        return new int[] { -1, -1 };\n",
    "    }\n",
    "}\n",
    "GFG.main(null);"
   ]
  },
  {
   "cell_type": "markdown",
   "metadata": {},
   "source": [
    "Summary:\n",
    "Linear Search involves iterating through all elements in the matrix.\n",
    "Binary Search is applicable when the matrix is sorted.\n",
    "Binary Search treats the 2D matrix as a 1D array by converting the indices.\n",
    "These searching algorithms are fundamental and widely used. Practice applying them to different scenarios to solidify your understanding. Additionally, consider exploring more advanced searching techniques for 2D arrays as you become more proficient."
   ]
  },
  {
   "cell_type": "code",
   "execution_count": 2,
   "metadata": {
    "vscode": {
     "languageId": "java"
    }
   },
   "outputs": [],
   "source": [
    "public class Main {\n",
    "    public static int[] binarySearch(int[][] matrix, int target) {\n",
    "        int rows = matrix.length;\n",
    "        int cols = matrix[0].length;\n",
    "        int left = 0;\n",
    "        int right = rows * cols - 1;\n",
    "\n",
    "        while (left <= right) {\n",
    "            int mid = left + (right - left) / 2;\n",
    "            int midValue = matrix[mid / cols][mid % cols];\n",
    "\n",
    "            if (midValue == target) {\n",
    "                return new int[] {mid / cols, mid % cols};\n",
    "            }\n",
    "\n",
    "            if (midValue < target) {\n",
    "                left = mid + 1;\n",
    "            } else {\n",
    "                right = mid - 1;\n",
    "            }\n",
    "        }\n",
    "\n",
    "        return new int[] {-1, -1}; // Target not found\n",
    "    }\n",
    "}"
   ]
  },
  {
   "cell_type": "markdown",
   "metadata": {},
   "source": [
    "### Binary Search in a 2D Array: \n",
    "\n",
    "Binary search is an efficient method of searching in an array. Binary search works on a sorted array. At each iteration the search space is divided in half, this is the reason why binary search is more efficient than linear search"
   ]
  },
  {
   "cell_type": "code",
   "execution_count": 3,
   "metadata": {
    "vscode": {
     "languageId": "java"
    }
   },
   "outputs": [
    {
     "name": "stdout",
     "output_type": "stream",
     "text": [
      "Element found at index: [2, 3]\n"
     ]
    }
   ],
   "source": [
    "// Binary Search on sorted 2D array\n",
    "import java.util.Arrays;\n",
    " \n",
    "class GFG {\n",
    " \n",
    "    static int[] findAns(int[][] arr, int target)\n",
    "    {\n",
    "        int row = 0;\n",
    "        int col = arr[row].length - 1;\n",
    "        while (row < arr.length && col >= 0) {\n",
    "            if (arr[row][col] == target) {\n",
    "                return new int[] { row, col };\n",
    "            }\n",
    " \n",
    "            // Target lies in further row\n",
    "            if (arr[row][col] < target) {\n",
    "                row++;\n",
    "            }\n",
    "            // Target lies in previous column\n",
    "            else {\n",
    "                col--;\n",
    "            }\n",
    "        }\n",
    "        return new int[] { -1, -1 };\n",
    "    }\n",
    " \n",
    "    // Driver Code\n",
    "    public static void main(String[] args)\n",
    "    {\n",
    " \n",
    "        // Binary search in sorted matrix\n",
    "        int arr[][] = { { 1, 2, 3, 4 },\n",
    "                        { 5, 6, 7, 8 },\n",
    "                        { 9, 10, 11, 12 } };\n",
    "        int[] ans = findAns(arr, 12);\n",
    "        System.out.println(\"Element found at index: \"\n",
    "                           + Arrays.toString(ans));\n",
    "    }\n",
    "}\n",
    "GFG.main(null);"
   ]
  },
  {
   "cell_type": "markdown",
   "metadata": {},
   "source": [
    "## Popcorn Hack - EXTRA!\n",
    "Create a program that implements binary search on 2D Arrays."
   ]
  },
  {
   "cell_type": "code",
   "execution_count": 4,
   "metadata": {
    "vscode": {
     "languageId": "java"
    }
   },
   "outputs": [
    {
     "name": "stdout",
     "output_type": "stream",
     "text": [
      "19 6 6 \n",
      "2 19 6 \n",
      "5 1 14 \n",
      "\n",
      "The number 9 was not found in the 2D Array\n"
     ]
    }
   ],
   "source": [
    "import java.util.Random;  \n",
    "import java.util.Arrays;  \n",
    "\n",
    "public class BinarySearch {\n",
    "    public static void main(String[] args) {\n",
    "        int[][] array = new int [3][3];\n",
    "        Random rand = new Random();\n",
    "\n",
    "        for (int i = 0; i < array.length; i++) {\n",
    "            for (int j = 0; j < array[i].length; j++) {\n",
    "                array[i][j] = rand.nextInt(20+1);\n",
    "                System.out.print(array[i][j] + \" \");\n",
    "            }\n",
    "            System.out.println();\n",
    "        }\n",
    "        System.out.println();\n",
    "        int target = rand.nextInt(20+1);\n",
    "        int[] answer = binarySearchAlgorithm(array, target);\n",
    "\n",
    "        if (Arrays.equals(answer, new int[] {-1, -1})) {\n",
    "            System.out.println(\"The number \" + target + \" was not found in the 2D Array\");\n",
    "        } else {\n",
    "            System.out.println(\"The number \" + target + \" was found at index \" + Arrays.toString(answer));\n",
    "        }\n",
    "    }\n",
    "    public static int[] binarySearchAlgorithm(int[][] arr, int target) {\n",
    "        int rows = arr.length;\n",
    "        int columns = arr[0].length;\n",
    "        int left = 0;\n",
    "        int right = rows * columns - 1;\n",
    "        if(rows == 0) {\n",
    "            return new int[] {-1, -1};\n",
    "        }\n",
    "\n",
    "        while(left <= right) {\n",
    "            int mid = left + (right - left) / 2;\n",
    "            int midvalue = arr[mid / columns][mid % columns];\n",
    "\n",
    "            if (midvalue == target) {\n",
    "                return new int[] {mid / columns, mid % columns};\n",
    "            } else if (midvalue < target) {\n",
    "                left = mid + 1;\n",
    "            } else {\n",
    "                right = mid - 1;\n",
    "            }\n",
    "        }\n",
    "        return new int[] {-1, -1};\n",
    "    }   \n",
    "}\n",
    "BinarySearch.main(null);"
   ]
  },
  {
   "cell_type": "markdown",
   "metadata": {},
   "source": [
    "# Enhanced For-Each Loop for 2D Arrays \n",
    "Since 2D arrays are really arrays of arrays you can also use a nested enhanced for-each loop to loop through all elements in an array. We loop through each of the inner arrays and loop through all the values in each inner array. Notice the type of the outer loop array variable – it is an array that will hold each row, String[] in the example below for a 2D String array. The type of the variables in the for-each loops must match the type of the array. For-each loops are much simpler since you don’t have to use the indices and the []’s, but you can only use them if you are not going to change the values in an array of primitive types since the variable val below will not change the original array.\n",
    "\n"
   ]
  },
  {
   "cell_type": "code",
   "execution_count": null,
   "metadata": {
    "vscode": {
     "languageId": "java"
    }
   },
   "outputs": [],
   "source": [
    "String[][] array;\n",
    "// Nested For-each loops that traverse a 2D String array\n",
    "for (String[] innerArray : array)\n",
    "{\n",
    "   for (String val : innerArray)\n",
    "   {\n",
    "       System.out.println(val);\n",
    "   }\n",
    "}"
   ]
  },
  {
   "cell_type": "code",
   "execution_count": 6,
   "metadata": {
    "vscode": {
     "languageId": "java"
    }
   },
   "outputs": [
    {
     "name": "stdout",
     "output_type": "stream",
     "text": [
      "69.16666666666667\n"
     ]
    }
   ],
   "source": [
    "public class Average\n",
    "{\n",
    "\n",
    "    public static double getAvg(int[][] a)\n",
    "    {\n",
    "        double total = 0;\n",
    "        for (int[] innerArray : a)\n",
    "        {\n",
    "            for (int val : innerArray)\n",
    "            {\n",
    "                total = total + val;\n",
    "            }\n",
    "        }\n",
    "        return total / (a.length * a[0].length);\n",
    "    }\n",
    "\n",
    "    public static void main(String[] args)\n",
    "    {\n",
    "        int[][] theArray = { {80, 90, 70}, {20, 80, 75}};\n",
    "        System.out.println(getAvg(theArray));\n",
    "    }\n",
    "}\n",
    "\n",
    "Average.main(null);"
   ]
  },
  {
   "cell_type": "markdown",
   "metadata": {},
   "source": [
    "# 4) How to create an algorithm that involves traversing a 2D Array\n",
    "\n",
    "During the APCSA AP exam, we will be required to write an algorithm for a 2D array that solves a problem discussed in the prompt. Collegeboard will give you a situation, and you will have to write an algorithm based on said situation. \n",
    "\n",
    "Here's an example of an algorithm that was needed for the real Collegeboard APCSA exam in 2022:"
   ]
  },
  {
   "cell_type": "markdown",
   "metadata": {},
   "source": [
    "For this problem, the question asked for the student to write the `countIncreasingCols` method, which returns the number of columns in `grid` that are in increasing order. `grid` is a 2D array with randomly populated numbers."
   ]
  },
  {
   "cell_type": "code",
   "execution_count": 7,
   "metadata": {
    "vscode": {
     "languageId": "java"
    }
   },
   "outputs": [],
   "source": [
    "public int countIncreaseCols() {\n",
    "    int count = 0;\n",
    "    for (int j = 0; j < grid[0].length; j++) { // Iterates through columns\n",
    "        boolean isIncreasing = true; \n",
    "        if (grid[0].length > 1) { // Checks if there is more than one column to prevent out of bounds error\n",
    "            for (int i = 1; i < grid.length; i++) {  // Iterates through rows\n",
    "                if (grid[i][j] <= grid[i - 1][j]) { // Checks if the current element is less than or equal to the previous element\n",
    "                    isIncreasing = false; // If so set isIncreasing to false and break out of loop\n",
    "                    break; \n",
    "                }\n",
    "            }\n",
    "    \n",
    "            if (isIncreasing) { // If the column is increasing increment count as if \n",
    "                count++;        // the value is not less than or equal to the previous \n",
    "                                // element then it must be increasing \n",
    "            }\n",
    "        }\n",
    "        \n",
    "        else if (grid[0].length == 1) { // To match the criteria of a single column being increasing\n",
    "            count++;\n",
    "        }\n",
    "        \n",
    "        else { // If there are no columns then break out of loop\n",
    "            break;\n",
    "        }\n",
    "    }\n",
    "    return count; \n",
    "}"
   ]
  },
  {
   "cell_type": "markdown",
   "metadata": {},
   "source": [
    "# Hacks:"
   ]
  },
  {
   "cell_type": "markdown",
   "metadata": {},
   "source": [
    "### 1) \n",
    "Initialize a 5 x 5 2D array that is populated by random values."
   ]
  },
  {
   "cell_type": "code",
   "execution_count": 45,
   "metadata": {
    "vscode": {
     "languageId": "java"
    }
   },
   "outputs": [
    {
     "name": "stdout",
     "output_type": "stream",
     "text": [
      "60 96 57 24 41 \n",
      "66 78 43 34 19 \n",
      "93 3 44 15 14 \n",
      "37 83 22 67 84 \n",
      "79 100 96 1 90 \n"
     ]
    }
   ],
   "source": [
    "// Add the code here:\n",
    "\n",
    "public class random2DA {\n",
    "    public static void main(String[] args) {\n",
    "        int[][] array = new int[5][5];\n",
    "        Random rand = new Random();\n",
    "\n",
    "        for(int i = 0; i < array.length; i++) {\n",
    "            for (int j = 0; j < array[i].length; j++) {\n",
    "                array[i][j] = rand.nextInt(101);\n",
    "                System.out.print(array[i][j] + \" \");\n",
    "            }\n",
    "            System.out.println();\n",
    "        }\n",
    "    }\n",
    "}\n",
    "random2DA.main(null);"
   ]
  },
  {
   "cell_type": "markdown",
   "metadata": {},
   "source": [
    "### 2)\n",
    "- a) Print the values 47, 51, and 20 by accessing them in the the given two-dimensional array.\n",
    "- b) Find the values from part a) using row major and column major order and print the values in each respective order."
   ]
  },
  {
   "cell_type": "code",
   "execution_count": 49,
   "metadata": {
    "vscode": {
     "languageId": "java"
    }
   },
   "outputs": [
    {
     "name": "stdout",
     "output_type": "stream",
     "text": [
      "Row Major order:\n",
      "47 51 20 \n",
      "Column Major order:\n",
      "47 51 20 "
     ]
    }
   ],
   "source": [
    "public class Problem2\n",
    "{\n",
    "    public static void main(String[] args)\n",
    "    {\n",
    "        int[][] arr = { {47,3,12},{51,74,20} };\n",
    "\n",
    "        System.out.println(\"Row Major order:\");\n",
    "        for (int i = 0; i < arr.length; i++) {\n",
    "            for (int j = 0; j < arr[i].length; j++) {\n",
    "                if (arr[i][j] == 47 || arr[i][j] == 51 || arr[i][j] == 20) {\n",
    "                    System.out.print(arr[i][j] + \" \");\n",
    "                }\n",
    "            }\n",
    "        }\n",
    "        System.out.println(\"\\nColumn Major order:\");\n",
    "        for (int j = 0; j < arr[0].length; j++) {\n",
    "            for (int i = 0; i < arr.length; i++) {\n",
    "                if (arr[i][j] == 47 || arr[i][j] == 51 || arr[i][j] == 20) {\n",
    "                    System.out.print(arr[i][j] + \" \");\n",
    "                }\n",
    "            }\n",
    "        }\n",
    "    }\n",
    "}\n",
    "Problem2.main(null);"
   ]
  },
  {
   "cell_type": "markdown",
   "metadata": {},
   "source": [
    "### 3) \n",
    "The following 2d array `myArray` is populated with integers 1-9. Write an algorithm thath sorts the 2D array by column and returnst the values of the array in increaing order.\n",
    "\n",
    "The expected output is:\n",
    "`1 4 7`<br>\n",
    "`2 5 8`<br>\n",
    "`3 6 9`<br>\n",
    "\n"
   ]
  },
  {
   "cell_type": "code",
   "execution_count": 54,
   "metadata": {
    "vscode": {
     "languageId": "java"
    }
   },
   "outputs": [
    {
     "name": "stdout",
     "output_type": "stream",
     "text": [
      "1 4 7 \n",
      "2 5 8 \n",
      "3 6 9 \n"
     ]
    }
   ],
   "source": [
    "public class Problem3 {\n",
    "    public static void main(String[] args) { \n",
    "        int[][] myArray = { // 2d array of integers\n",
    "            {1, 2, 3},\n",
    "            {4, 5, 6},\n",
    "            {7, 8, 9}\n",
    "        };\n",
    "        int numrows = myArray.length;\n",
    "        int numcols = myArray[0].length;\n",
    "\n",
    "        for (int j = 0; j < numcols; j++) {\n",
    "            for (int i = 0; i < numrows; i++) {\n",
    "                System.out.print(myArray[i][j] + \" \");\n",
    "            }\n",
    "            System.out.println();\n",
    "        }\n",
    "    }\n",
    "}\n",
    "Problem3.main(null);"
   ]
  },
  {
   "cell_type": "markdown",
   "metadata": {},
   "source": [
    "### 4) \n",
    "Replace the “ADD CODE HERE” below with the code to declare and create a 3 by 3 two-dimensional int array named table. The finished code will print the values 0 to 8."
   ]
  },
  {
   "cell_type": "code",
   "execution_count": 60,
   "metadata": {
    "vscode": {
     "languageId": "java"
    }
   },
   "outputs": [
    {
     "name": "stdout",
     "output_type": "stream",
     "text": [
      "0 1 2 \n",
      "3 4 5 \n",
      "6 7 8 \n"
     ]
    }
   ],
   "source": [
    "public class Test1\n",
    "{\n",
    "\n",
    "    public static void main(String[] args)\n",
    "    {\n",
    "        // ADD CODE HERE //\n",
    "        int[][] table = new int[3][3];\n",
    "\n",
    "        // Should print the values in table\n",
    "        int count = 0;\n",
    "        for (int row = 0; row < table.length; row++)\n",
    "        {\n",
    "            for (int col = 0; col < table.length; col++)\n",
    "            {\n",
    "                table[row][col] = count;\n",
    "                count++;\n",
    "                System.out.print(table[row][col] + \" \");\n",
    "            }\n",
    "            System.out.println();\n",
    "        }\n",
    "    }\n",
    "}\n",
    "Test1.main(null);"
   ]
  },
  {
   "cell_type": "markdown",
   "metadata": {},
   "source": [
    "### 5)\n",
    "Replace the “ADD CODE HERE” below with the code to declare and initialize a two-dimensional String array called students with the names “Brice, Marvin, Anna” in the first row and “Kamal, Maria, Elissa” in the second. The finished code will print all the names in the array starting with all in the first row followed by all in the second row."
   ]
  },
  {
   "cell_type": "code",
   "execution_count": 65,
   "metadata": {
    "vscode": {
     "languageId": "java"
    }
   },
   "outputs": [
    {
     "name": "stdout",
     "output_type": "stream",
     "text": [
      "Brice Marvin Anna \n",
      "Kamal Maria Elissa \n"
     ]
    }
   ],
   "source": [
    "public class Test1\n",
    "{\n",
    "    public static void main(String[] args)\n",
    "    {\n",
    "        // ADD CODE HERE //\n",
    "        String[][] students =  {\n",
    "            {\"Brice\", \"Marvin\", \"Anna\"},\n",
    "            {\"Kamal\", \"Maria\", \"Elissa\"}\n",
    "        };\n",
    "\n",
    "        // Should print the values in students in order\n",
    "        for (int row = 0; row < students.length; row++)\n",
    "        {\n",
    "            for (int col = 0; col < students[0].length; col++)\n",
    "            {\n",
    "                System.out.print(students[row][col] + \" \");\n",
    "            }\n",
    "            System.out.println();\n",
    "        }\n",
    "    }\n",
    "}\n",
    "Test1.main(null);"
   ]
  }
 ],
 "metadata": {
  "kernelspec": {
   "display_name": "Java",
   "language": "java",
   "name": "java"
  },
  "language_info": {
   "codemirror_mode": "java",
   "file_extension": ".jshell",
   "mimetype": "text/x-java-source",
   "name": "Java",
   "pygments_lexer": "java",
   "version": "17.0.12+7-Ubuntu-1ubuntu222.04"
  },
  "orig_nbformat": 4
 },
 "nbformat": 4,
 "nbformat_minor": 2
}
