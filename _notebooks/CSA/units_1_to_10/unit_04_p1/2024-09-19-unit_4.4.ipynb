{
 "cells": [
  {
   "cell_type": "markdown",
   "metadata": {},
   "source": [
    "---\n",
    "layout: post\n",
    "type: collab\n",
    "title: Unit 4.1 - While Loops\n",
    "description: Unit 4 Team Teach\n",
    "comments: true\n",
    "permalink: /csa/unit6-p1/unit4-1\n",
    "menu: nav/CSA_Units/csa_unit4_p1.html\n",
    "author: hanlun, saaras, arthur, miheer, eshaan, beijan\n",
    "---"
   ]
  },
  {
   "cell_type": "code",
   "execution_count": null,
   "metadata": {
    "vscode": {
     "languageId": "plaintext"
    }
   },
   "outputs": [],
   "source": [
    "public class NestedLoopExample {\n",
    "    public static void main(String[] args) {\n",
    "        for (int i = 1; i <= 3; i++) { // Outer loop\n",
    "            System.out.println(\"Outer loop iteration: \" + i);\n",
    "            for (int j = 1; j <= 3; j++) { // Inner loop\n",
    "                System.out.println(\"    Inner loop iteration: \" + j);\n",
    "            }\n",
    "        }\n",
    "    }\n",
    "}"
   ]
  }
 ],
 "metadata": {
  "language_info": {
   "name": "python"
  }
 },
 "nbformat": 4,
 "nbformat_minor": 2
}
