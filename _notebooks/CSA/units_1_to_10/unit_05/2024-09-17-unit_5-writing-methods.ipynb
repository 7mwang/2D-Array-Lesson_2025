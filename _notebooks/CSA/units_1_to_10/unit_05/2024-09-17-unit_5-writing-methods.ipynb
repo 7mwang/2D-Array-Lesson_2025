{
 "cells": [
  {
   "cell_type": "markdown",
   "metadata": {},
   "source": [
    "---\n",
    "layout: post\n",
    "toc: true\n",
    "title: Unit 5 - Writing Methods\n",
    "categories: [CSA-Prep]\n",
    "Authors: Aashray, Lilian, Matthew, Tara, and Trevor\n",
    "---"
   ]
  },
  {
   "cell_type": "markdown",
   "metadata": {},
   "source": [
    "## Introduction\n",
    "A method is a block of code that performs a task and is like a function that is associated with a class or object."
   ]
  }
 ],
 "metadata": {
  "language_info": {
   "name": "python"
  }
 },
 "nbformat": 4,
 "nbformat_minor": 2
}
