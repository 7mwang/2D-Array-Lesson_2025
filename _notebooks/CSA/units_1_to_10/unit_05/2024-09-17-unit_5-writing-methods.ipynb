{
 "cells": [
  {
   "cell_type": "raw",
   "metadata": {
    "vscode": {
     "languageId": "raw"
    }
   },
   "source": [
    "---\n",
    "layout: post\n",
    "toc: true\n",
    "title: Unit 5 - Writing Classes \n",
    "type: ccc\n",
    "courses: {'csa': {'week': 4}}\n",
    "Authors: Aashray, Lilian, Matthew, Tara, and Trevor\n",
    "---"
   ]
  },
  {
   "cell_type": "markdown",
   "metadata": {},
   "source": [
    "## Introduction\n",
    "A method is a block of code that performs a task and is like a function that is associated with a class or object."
   ]
  }
 ],
 "metadata": {
  "language_info": {
   "name": "python"
  }
 },
 "nbformat": 4,
 "nbformat_minor": 2
}
