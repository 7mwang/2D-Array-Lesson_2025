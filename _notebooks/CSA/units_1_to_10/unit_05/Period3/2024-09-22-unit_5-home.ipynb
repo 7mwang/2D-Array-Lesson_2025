{
 "cells": [
  {
   "cell_type": "raw",
   "metadata": {
    "vscode": {
     "languageId": "raw"
    }
   },
   "source": [
    "---\n",
    "layout: post\n",
    "title: Unit 5 Classes P3\n",
    "type: ccc\n",
    "toc: True\n",
    "courses: {'csa': {'week': 6}}\n",
    "permalink: /csa/unit5/\n",
    "menu: nav/CSA_Units/csa_unit5_p3.html\n",
    "---"
   ]
  }
 ],
 "metadata": {
  "language_info": {
   "name": "python"
  }
 },
 "nbformat": 4,
 "nbformat_minor": 2
}
