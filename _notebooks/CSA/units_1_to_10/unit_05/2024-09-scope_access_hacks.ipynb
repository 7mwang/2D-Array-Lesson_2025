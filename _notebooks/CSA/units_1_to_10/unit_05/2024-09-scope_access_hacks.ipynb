{
 "cells": [
  {
   "cell_type": "markdown",
   "metadata": {},
   "source": [
    "---\n",
    "layout: post\n",
    "title: Scope and Access\n",
    "description: Team Teach\n",
    "categories: ['Collaboration']\n",
    "courses: {'csse': {'week': 0}, 'csp': {'week': 0}, 'csa': {'week': 3}}\n",
    "type: collab\n",
    "toc: True\n",
    "permalink: scope_access\n",
    "---"
   ]
  },
  {
   "cell_type": "markdown",
   "metadata": {},
   "source": [
    "## Scope and Access\n",
    "\n",
    "\n",
    "1. **Global Scope**\n",
    "- Variables and methods that are accessible from anywhere **within the class**. Within the class, each method can call an instance variable. \n",
    "\n",
    "2. **Local Scope**\n",
    "- Local variables can be ``declared in the body of constructors and methods``. These variables may only be used within the constructor method and cannot be declared to be **public** or **private**\n",
    "\n",
    "- When there is a local variable with the same name as an instance variable, the variable name will refer to the local variable instead of the instance variable\n",
    "\n",
    "- Formal parameters and variables declared in a method or constructor can only be used within that method or constructor"
   ]
  },
  {
   "cell_type": "markdown",
   "metadata": {},
   "source": [
    "## Let's go through an example\n",
    "\n",
    "Lets create a class called MinionMood. In order to ensure maximum productivity with the minions we have to keep track of how they're feeling throughout the day.\n",
    "\n",
    "Then lets create some instance variables."
   ]
  },
  {
   "cell_type": "code",
   "execution_count": 1,
   "metadata": {
    "vscode": {
     "languageId": "java"
    }
   },
   "outputs": [],
   "source": [
    "public class MinionMood\n",
    "{\n",
    "    // These instance variables are accessible anywhere in the class.\n",
    "    // However, these variables are marked as private, therefore they are not accessible outside of this class\n",
    "    private int happinessLevel;\n",
    "    private int energyLevel;\n",
    "}"
   ]
  },
  {
   "cell_type": "markdown",
   "metadata": {},
   "source": [
    "## Now create some methods\n",
    "- Create a method to increase the happiness level of the minion based on how many bananas they have eaten, and make it such that the energy level of the minion decreases based on how many tasks they have to complete."
   ]
  },
  {
   "cell_type": "code",
   "execution_count": 11,
   "metadata": {
    "vscode": {
     "languageId": "java"
    }
   },
   "outputs": [
    {
     "name": "stdout",
     "output_type": "stream",
     "text": [
      "Happiness Level: 0\n",
      "Energy Level: 0\n"
     ]
    }
   ],
   "source": [
    "public class MinionMood\n",
    "{\n",
    "    private int happinessLevel;\n",
    "    private int energyLevel;\n",
    "\n",
    "    public MinionMood(int bananas, int tasks)\n",
    "    {\n",
    "        int happinessLevel = 2*bananas;\n",
    "        int energyLevel = tasks;\n",
    "    }\n",
    "    public String toString()\n",
    "    {\n",
    "        return \"Happiness Level: \" + happinessLevel + \"\\nEnergy Level: \" + energyLevel;\n",
    "    }\n",
    "}\n",
    "\n",
    "MinionMood bob = new MinionMood(5, 2);\n",
    "System.out.println(bob);\n"
   ]
  },
  {
   "cell_type": "markdown",
   "metadata": {},
   "source": [
    "## Popcorn Hack\n",
    "- Figure out why the happiness level and the energy level is not showing up the way we want it to. First one to do so will get a high five from Trevor Huang."
   ]
  },
  {
   "cell_type": "markdown",
   "metadata": {},
   "source": [
    "## Oops...\n",
    "\n",
    "Its very important to keep in mind that a local variable within a method that has the same name as an instance variable will just redeclare the variable. So, to make the code work the way we want it to, all that we have to do is get rid of the statements that redeclare the variable."
   ]
  },
  {
   "cell_type": "code",
   "execution_count": 9,
   "metadata": {
    "vscode": {
     "languageId": "java"
    }
   },
   "outputs": [
    {
     "name": "stdout",
     "output_type": "stream",
     "text": [
      "Happiness Level: 10\n",
      "Energy Level: 8\n",
      "verall Mood: 2\n"
     ]
    }
   ],
   "source": [
    "public class MinionMood\n",
    "{\n",
    "    private int happinessLevel;\n",
    "    private int energyLevel = 10;\n",
    "\n",
    "    public MinionMood(int bananas, int tasks)\n",
    "    {\n",
    "\n",
    "        happinessLevel += 2*bananas;\n",
    "        energyLevel -= tasks;\n",
    "\n",
    "    }\n",
    "    public String toString()\n",
    "    {\n",
    "        // Make a local variable to calculate overall mood\n",
    "        int mood;\n",
    "        mood = happinessLevel-energyLevel;\n",
    "        return \"Happiness Level: \" + happinessLevel + \"\\nEnergy Level: \" + energyLevel + \"\\nverall Mood: \" + mood;\n",
    "    }\n",
    "}\n",
    "\n",
    "MinionMood bob = new MinionMood(5, 2);\n",
    "System.out.println(bob);\n"
   ]
  }
 ],
 "metadata": {
  "kernelspec": {
   "display_name": "Java",
   "language": "java",
   "name": "java"
  },
  "language_info": {
   "codemirror_mode": "java",
   "file_extension": ".jshell",
   "mimetype": "text/x-java-source",
   "name": "Java",
   "pygments_lexer": "java",
   "version": "11.0.24+8-post-Ubuntu-1ubuntu322.04"
  }
 },
 "nbformat": 4,
 "nbformat_minor": 2
}
