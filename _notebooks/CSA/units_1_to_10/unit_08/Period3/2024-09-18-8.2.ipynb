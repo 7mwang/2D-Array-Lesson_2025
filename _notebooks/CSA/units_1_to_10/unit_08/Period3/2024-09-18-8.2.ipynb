{
 "cells": [
  {
   "cell_type": "markdown",
   "metadata": {},
   "source": [
    "---\n",
    "layout: post\n",
    "title: 8.2 Lesson\n",
    "description: By David, Torin, Josh, Nandan \n",
    "menu: nav/CSA_Units/csa_unit8_p3.html\n",
    "courses: {'csa': {'week': 4}}\n",
    "toc: true\n",
    "comments: true\n",
    "permalink: /csa/unit8yay/8.2/\n",
    "---"
   ]
  },
  {
   "cell_type": "markdown",
   "metadata": {},
   "source": [
    "# Traversing 2D Arrays\n",
    "\n",
    "When traversing/looping through a 1D array, only one loop is required to access all elements within the array. For 2D arrays, we need to loop within the loop, which would be known as a for loop.\n",
    "\n",
    "### Java loop structure:\n",
    "```java\n",
    "for (first execution; condition; executed after every loop) {\n",
    "    // Code that provides an action\n",
    "}\n",
    "\n",
    "An example using this structure would be something like:"
   ]
  },
  {
   "cell_type": "code",
   "execution_count": 1,
   "metadata": {
    "vscode": {
     "languageId": "java"
    }
   },
   "outputs": [
    {
     "name": "stdout",
     "output_type": "stream",
     "text": [
      "0\n",
      "1\n",
      "2\n",
      "3\n",
      "4\n",
      "5\n",
      "6\n",
      "7\n",
      "8\n",
      "9\n"
     ]
    }
   ],
   "source": [
    "for (int i = 0; i < 10; i++) {\n",
    "    System.out.println(i);\n",
    "}"
   ]
  },
  {
   "cell_type": "markdown",
   "metadata": {},
   "source": [
    "Since the base is at 0, this code will print:\n",
    "1\n",
    "2\n",
    "3\n",
    "4\n",
    "5\n",
    "6\n",
    "7\n",
    "8\n",
    "9"
   ]
  },
  {
   "cell_type": "markdown",
   "metadata": {},
   "source": [
    "## How can you traverse a 1D array?\n",
    "Let's create an array and name it Array1."
   ]
  },
  {
   "cell_type": "code",
   "execution_count": 25,
   "metadata": {
    "vscode": {
     "languageId": "java"
    }
   },
   "outputs": [
    {
     "name": "stdout",
     "output_type": "stream",
     "text": [
      "1\n",
      "2\n",
      "3\n"
     ]
    }
   ],
   "source": [
    "int[] Array1 = {1, 2, 3};\n",
    "for (int i = 0; i < Array1.length; i++) {\n",
    "    System.out.println(Array1[i]);\n",
    "}"
   ]
  },
  {
   "cell_type": "markdown",
   "metadata": {},
   "source": [
    "In this code segment, we set our variable i to 0. Then we write a condition where if i is less than Array1.length, it prints Array1[i]. Then we add 1 to i."
   ]
  },
  {
   "cell_type": "markdown",
   "metadata": {},
   "source": [
    "## How can you traverse 2D arrays?\n",
    "Let’s use the same variable for this example, Array1."
   ]
  },
  {
   "cell_type": "markdown",
   "metadata": {},
   "source": [
    "This creates an array that contains 2 rows and 3 columns."
   ]
  },
  {
   "cell_type": "code",
   "execution_count": 28,
   "metadata": {
    "vscode": {
     "languageId": "java"
    }
   },
   "outputs": [
    {
     "name": "stdout",
     "output_type": "stream",
     "text": [
      "1\n",
      "2\n",
      "3\n",
      "4\n",
      "5\n",
      "6\n",
      "7\n",
      "8\n",
      "9\n"
     ]
    }
   ],
   "source": [
    "int[][] Array1 = {\n",
    "    {1, 2, 3}, \n",
    "    {4, 5, 6}, \n",
    "    {7, 8, 9}\n",
    "};\n",
    "for (int i = 0; i < Array1.length; i++) {\n",
    "    // This makes the variable i equal to 0, then the condition would be when i is less than the Array1 length, \n",
    "    // then it will loop to the next number, then add 1 to i.\n",
    "    \n",
    "    for (int j = 0; j < Array1[i].length; j++) {\n",
    "        System.out.println(Array1[i][j]);\n",
    "    }\n",
    "}\n"
   ]
  },
  {
   "cell_type": "markdown",
   "metadata": {},
   "source": [
    "This sets j equal to 0. Then the next statement says while j is less than whatever the array length is within Array1 at Array1[i], it will display the value of Array1[i][j], then it will add 1 to j.\n",
    "\n",
    "Without the loop, the code will look like this:"
   ]
  },
  {
   "cell_type": "code",
   "execution_count": null,
   "metadata": {
    "vscode": {
     "languageId": "java"
    }
   },
   "outputs": [],
   "source": [
    "System.out.println(Array1[0][0]); // 1\n",
    "System.out.println(Array1[0][1]); // 2\n",
    "System.out.println(Array1[0][2]); // 3\n",
    "System.out.println(Array1[1][0]); // 4\n",
    "System.out.println(Array1[1][1]); // 5\n",
    "System.out.println(Array1[1][2]); // 6\n",
    "System.out.println(Array1[2][0]); // 7\n",
    "System.out.println(Array1[2][1]); // 8\n",
    "System.out.println(Array1[2][2]); // 9\n"
   ]
  },
  {
   "cell_type": "markdown",
   "metadata": {},
   "source": [
    "This displays how the rows loop through the length of the array."
   ]
  },
  {
   "cell_type": "code",
   "execution_count": 3,
   "metadata": {
    "vscode": {
     "languageId": "java"
    }
   },
   "outputs": [
    {
     "name": "stdout",
     "output_type": "stream",
     "text": [
      "1 (traversing to next row 0)\n",
      "2 (traversing to next row 0)\n",
      "3 (traversing to next row 0)\n",
      "4 (traversing to next row 1)\n",
      "5 (traversing to next row 1)\n",
      "6 (traversing to next row 1)\n",
      "7 (traversing to next row 2)\n",
      "8 (traversing to next row 2)\n",
      "9 (traversing to next row 2)\n"
     ]
    }
   ],
   "source": [
    "public class Main {\n",
    "    public static void main(String[] args) {\n",
    "        int[][] Array1 = {\n",
    "            {1, 2, 3},\n",
    "            {4, 5, 6},\n",
    "            {7, 8, 9}\n",
    "        };\n",
    "        for (int i = 0; i < Array1.length; i++) {\n",
    "            for (int j = 0; j < Array1[i].length; j++) {\n",
    "                System.out.println(Array1[i][j] + \" (traversing to next row \" + i + \")\");\n",
    "            }\n",
    "        }\n",
    "    }\n",
    "}\n",
    "Main.main(null);"
   ]
  },
  {
   "cell_type": "markdown",
   "metadata": {},
   "source": [
    "### Popcorn Hack\n",
    "An array called find is shown below. In this popcorn hack, I want you to loop through the numbers until you get to the number that doesn’t belong (55). Then print that number along with which row and column it is located in."
   ]
  },
  {
   "cell_type": "code",
   "execution_count": null,
   "metadata": {
    "vscode": {
     "languageId": "java"
    }
   },
   "outputs": [],
   "source": [
    "public class Main {\n",
    "    public static void main(String[] args) {\n",
    "        int find[][] = {\n",
    "            {10, 20, 30},\n",
    "            {40, 55, 60},\n",
    "            {70, 80, 90},\n",
    "        };\n",
    "\n",
    "        // Write your code here\n",
    "    }\n",
    "}\n",
    "Main.main(null);"
   ]
  },
  {
   "cell_type": "markdown",
   "metadata": {},
   "source": [
    "Column Major Order instead of Row Major Order\n",
    "To have a Column Major Order, switch the two loops, keeping everything within these loops the same except for the length of columns. Instead, replace it with the length of rows. For example, in the previous code, you would switch Array1[i].length to Array1[0].length.\n",
    "\n",
    "Instead of iterating through each row based on the number of rows in the array, we shift the focus to looping through the columns by checking the elements within each row. For instance, in an array like {1, 2, 3}, the inner loop runs for the length of the row (which is the number of columns). We first print the value in the current column (represented by j), then move down through the rows by incrementing the row index i. Once all rows for that column are processed, the column index j increases, moving us to the next column. By reversing the loop structure, the columns are processed before the rows."
   ]
  },
  {
   "cell_type": "code",
   "execution_count": null,
   "metadata": {
    "vscode": {
     "languageId": "java"
    }
   },
   "outputs": [],
   "source": [
    "public class Main {\n",
    "    public static void main(String[] args) {\n",
    "        int[][] Array1 = {\n",
    "            {1, 2, 3},\n",
    "            {4, 5, 6},\n",
    "            {7, 8, 9}\n",
    "        };\n",
    "        for (int j = 0; j < Array1[0].length; j++) {\n",
    "            System.out.println(\"Column \" + (j + 1));\n",
    "            for (int i = 0; i < Array1.length; i++) {\n",
    "                System.out.println(Array1[i][j]);\n",
    "            }\n",
    "        }\n",
    "    }\n",
    "}\n",
    "Main.main(null);"
   ]
  },
  {
   "cell_type": "markdown",
   "metadata": {},
   "source": [
    "This displays each column and what is within each column.\n",
    "\n",
    "## Algorithms\n",
    "Linear search is a very easy and sequential searching algorithm that allows us to find certain elements within the array or not in the array. This is done by traversing through each element.\n",
    "\n",
    "Here is an example of a linear search within a 2D array:"
   ]
  },
  {
   "cell_type": "code",
   "execution_count": 7,
   "metadata": {
    "vscode": {
     "languageId": "java"
    }
   },
   "outputs": [
    {
     "name": "stdout",
     "output_type": "stream",
     "text": [
      "Element found at index: [2, 1]\n"
     ]
    }
   ],
   "source": [
    "import java.util.Arrays;\n",
    "\n",
    "public class Main {\n",
    "    public static void main(String[] args) {\n",
    "        int[][] array = {\n",
    "            {10, 15, 20},\n",
    "            {25, 30, 35},\n",
    "            {40, 22, 50}\n",
    "        };\n",
    "\n",
    "        int target = 22; // The number we want to search for\n",
    "        int[] result = linearSearch(array, target);\n",
    "\n",
    "        if (result[0] != -1) {\n",
    "            System.out.println(\"Element found at index: \" + Arrays.toString(result));\n",
    "        } else {\n",
    "            System.out.println(\"Element not found.\");\n",
    "        }\n",
    "    }\n",
    "\n",
    "    static int[] linearSearch(int[][] arr, int target) {\n",
    "        for (int i = 0; i < arr.length; i++) { // Loop through rows\n",
    "            for (int j = 0; j < arr[i].length; j++) { // Loop through columns\n",
    "                if (arr[i][j] == target) { // Check if the current element matches the target\n",
    "                    return new int[] {i, j}; // Return the row and column index\n",
    "                }\n",
    "            }\n",
    "        }\n",
    "        return new int[] {-1, -1}; // Return -1 if the target is not found\n",
    "    }\n",
    "}\n",
    "Main.main(null);"
   ]
  },
  {
   "cell_type": "markdown",
   "metadata": {},
   "source": [
    "Checks each element in the array sequentially until the target value is found or the end of the array is reached. Can be implemented on both sorted and unsorted arrays.\n",
    "\n",
    "## Binary Search\n",
    "Divide the sorted array in half repeatedly to locate the target value. It starts by comparing the target value to the middle element of the array. If the target is equal to the middle element, the search is complete. If the target is less than the middle element, the search continues in the lower half; if greater, it continues in the upper half. This process is repeated until the target is found or the search space is exhausted."
   ]
  },
  {
   "cell_type": "code",
   "execution_count": 8,
   "metadata": {
    "vscode": {
     "languageId": "java"
    }
   },
   "outputs": [
    {
     "name": "stdout",
     "output_type": "stream",
     "text": [
      "Element found at: Row 2, Column 1\n"
     ]
    }
   ],
   "source": [
    "public class Main {\n",
    "    public static void main(String[] args) {\n",
    "        int[][] array = {\n",
    "            {1, 2, 3, 4},\n",
    "            {5, 6, 7, 8},\n",
    "            {9, 10, 11, 12},\n",
    "            {13, 14, 15, 16}\n",
    "        };\n",
    "        \n",
    "        int target = 10;\n",
    "        int[] result = binarySearch2D(array, target);\n",
    "        \n",
    "        if (result[0] != -1) {\n",
    "            System.out.println(\"Element found at: Row \" + result[0] + \", Column \" + result[1]);\n",
    "        } else {\n",
    "            System.out.println(\"Element not found.\");\n",
    "        }\n",
    "    }\n",
    "    \n",
    "    public static int[] binarySearch2D(int[][] array, int target) {\n",
    "        int rows = array.length;\n",
    "        if (rows == 0) return new int[] {-1, -1};\n",
    "        int cols = array[0].length;\n",
    "        \n",
    "        int left = 0;\n",
    "        int right = rows * cols - 1;\n",
    "        \n",
    "        while (left <= right) {\n",
    "            int mid = left + (right - left) / 2;\n",
    "            int midValue = array[mid / cols][mid % cols];\n",
    "            \n",
    "            if (midValue == target) {\n",
    "                return new int[] {mid / cols, mid % cols}; // Return the row and column index\n",
    "            }\n",
    "            if (midValue < target) {\n",
    "                left = mid + 1; // Move to the right half\n",
    "            } else {\n",
    "                right = mid - 1; // Move to the left half\n",
    "            }\n",
    "        }\n",
    "        \n",
    "        return new int[] {-1, -1}; // Target not found\n",
    "    }\n",
    "}\n",
    "Main.main(null);"
   ]
  },
  {
   "cell_type": "markdown",
   "metadata": {},
   "source": [
    "### Popcorn Hack:\n",
    "Create your own 2D array and use either binary search or linear search. (maybe both 😏 )\n"
   ]
  },
  {
   "cell_type": "code",
   "execution_count": null,
   "metadata": {
    "vscode": {
     "languageId": "java"
    }
   },
   "outputs": [],
   "source": [
    "public class Main {\n",
    "    public static void main(String[] args) {\n",
    "        int[][] array = {\n",
    "        }\n",
    "    }\n",
    "}\n",
    "Main.main(null);"
   ]
  },
  {
   "cell_type": "markdown",
   "metadata": {},
   "source": [
    "## Enhanced For-Each Loop for 2D Arrays\n",
    "2D arrays can be considered as arrays that contain other arrays. You can utilize a nested enhanced for-each loop to iterate through all the elements within a 2D array. In this structure, the outer loop iterates over each inner array (or row), while the inner loop goes through all the values within that specific inner array.\n",
    "For example, if you have a 2D array of type String, the variable type for the outer loop should match the type of the inner arrays, which in this case is String[]. It’s essential to ensure that the variable types in the for-each loops align with the types of the elements in the array.\n",
    "Enhanced for-each loops simplify the code by eliminating the need for manual index management and square brackets. However, keep in mind that these loops are most suitable for scenarios where you do not plan to modify the original values in an array of primitive types, as the loop variable (e.g., fruit in the inner loop) will not change the values stored in the array.\n",
    "Here’s an example code segment that demonstrates how to use enhanced for-each loops with a 2D array:"
   ]
  },
  {
   "cell_type": "code",
   "execution_count": 9,
   "metadata": {
    "vscode": {
     "languageId": "java"
    }
   },
   "outputs": [
    {
     "name": "stdout",
     "output_type": "stream",
     "text": [
      "Apple Banana Cherry \n",
      "Date Fig Grape \n",
      "Honeydew Kiwi Lemon \n"
     ]
    }
   ],
   "source": [
    "public class Main {\n",
    "    public static void main(String[] args) {\n",
    "        // Define a 2D array of strings\n",
    "        String[][] fruits = {\n",
    "            {\"Apple\", \"Banana\", \"Cherry\"},\n",
    "            {\"Date\", \"Fig\", \"Grape\"},\n",
    "            {\"Honeydew\", \"Kiwi\", \"Lemon\"}\n",
    "        };\n",
    "\n",
    "        // Use enhanced for-each loops to iterate through the 2D array\n",
    "        for (String[] row : fruits) { // Iterate through each inner array (row)\n",
    "            for (String fruit : row) { // Iterate through each element in the row\n",
    "                System.out.print(fruit + \" \"); // Print the fruit name\n",
    "            }\n",
    "            System.out.println(); // Print a new line after each row\n",
    "        }\n",
    "    }\n",
    "}\n",
    "Main.main(null);"
   ]
  },
  {
   "cell_type": "markdown",
   "metadata": {},
   "source": [
    "## Algorithms involving traversing a 2D Array\n",
    "In the APCSA AP exam, you may be asked to write an algorithm for a 2D array based on a given scenario. College Board will present a problem, and your task will be to develop an algorithm that addresses it.\n",
    "\n",
    "Here's an example from the 2023 College Board APCSA exam:\n",
    "\n",
    "The question required students to write the countIncreasingCols method. This method counts how many columns in the grid (a 2D array filled with random numbers) are in increasing order.\n"
   ]
  },
  {
   "cell_type": "code",
   "execution_count": 21,
   "metadata": {
    "vscode": {
     "languageId": "java"
    }
   },
   "outputs": [
    {
     "name": "stdout",
     "output_type": "stream",
     "text": [
      "columns increasing = 2"
     ]
    }
   ],
   "source": [
    "public class Main {\n",
    "    public static void main(String[] args) {\n",
    "        System.out.print(\"columns increasing = \" + countIncreasingCols());\n",
    "    }\n",
    "   \n",
    "}\n",
    "public int countIncreasingCols() {\n",
    "    int count = 0;\n",
    "    int[][] grid = {\n",
    "        {1, 2, 3,4,5},\n",
    "        {6, 7, 8,32,10},\n",
    "        {11, 12, 23,14,15},\n",
    "        {16, 17, 18,19,5}\n",
    "    };\n",
    "    \n",
    "    for (int j = 0; j < grid[0].length; j++) { // Loop through each column\n",
    "        boolean isIncreasing = true; \n",
    "        if (grid.length > 1) { // Ensure there is more than one row\n",
    "            for (int i = 1; i < grid.length; i++) { // Loop through each row\n",
    "                if (grid[i][j] <= grid[i - 1][j]) { // Check if the current element is less than or equal to the previous one\n",
    "                    isIncreasing = false; // Set isIncreasing to false and exit the loop\n",
    "                    break; \n",
    "                }\n",
    "            }\n",
    "    \n",
    "            if (isIncreasing) { // If the column is increasing, increase the count\n",
    "                count++;        \n",
    "            }\n",
    "        }\n",
    "        \n",
    "        else if (grid.length == 1) { // If there is only one row, count it as increasing\n",
    "            count++;\n",
    "        }\n",
    "        \n",
    "        else { // If there are no rows, exit the loop\n",
    "            break;\n",
    "        }\n",
    "    }\n",
    "    return count; \n",
    "}\n",
    "Main.main(null);"
   ]
  }
 ],
 "metadata": {
  "kernelspec": {
   "display_name": "Java",
   "language": "java",
   "name": "java"
  },
  "language_info": {
   "codemirror_mode": "java",
   "file_extension": ".jshell",
   "mimetype": "text/x-java-source",
   "name": "Java",
   "pygments_lexer": "java",
   "version": "17.0.12+7-Ubuntu-1ubuntu222.04"
  }
 },
 "nbformat": 4,
 "nbformat_minor": 2
}
