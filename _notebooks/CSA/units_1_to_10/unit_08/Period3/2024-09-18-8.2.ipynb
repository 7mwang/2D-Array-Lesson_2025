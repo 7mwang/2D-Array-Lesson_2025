{
 "cells": [
  {
   "cell_type": "markdown",
   "metadata": {},
   "source": [
    "---\n",
    "layout: post\n",
    "title: 8.2 Lesson\n",
    "description: By David, Torin, Josh, Nandan \n",
    "menu: nav/CSA_Units/csa_unit8_p3.html\n",
    "courses: {'csa': {'week': 4}}\n",
    "toc: true\n",
    "comments: true\n",
    "permalink: /csa/unit8yay/8.2/\n",
    "---"
   ]
  },
  {
   "cell_type": "markdown",
   "metadata": {
    "vscode": {
     "languageId": "plaintext"
    }
   },
   "source": [
    "# Learning Objectives:\n",
    "- Traverse 2D arrays using nested for loops.\n",
    "- Traverse 2D arrays using nested enhanced for loops.\n",
    "\n",
    "---\n",
    "\n",
    "## Needed Knowledge:\n",
    "- **Nested iteration** refers to statements that iterate over elements in a 2D array.\n",
    "- **2D arrays** are arrays of arrays and are traversed using for loops, similar to enhanced for loops for 1D arrays.\n",
    "\n",
    "### Key Concept:\n",
    "- Nested iteration statements can be written to traverse the 2D array in **row-major order** or **column-major order**.\n",
    "\n",
    "---\n",
    "\n",
    "### Traversing with Nested Enhanced For Loops:\n",
    "- The **outer loop** in a nested enhanced for loop traverses the rows.\n",
    "- The enhanced for loop variable must be a 1D array type since the row itself is a 1D array.\n",
    "- The **inner loop** traverses a single row, and the inner enhanced for loop variable must be the same type as the elements in the 1D array.\n",
    "\n",
    "---\n",
    "\n",
    "## Example Code: Nested For Loops"
   ]
  }
 ],
 "metadata": {
  "language_info": {
   "name": "python"
  }
 },
 "nbformat": 4,
 "nbformat_minor": 2
}
