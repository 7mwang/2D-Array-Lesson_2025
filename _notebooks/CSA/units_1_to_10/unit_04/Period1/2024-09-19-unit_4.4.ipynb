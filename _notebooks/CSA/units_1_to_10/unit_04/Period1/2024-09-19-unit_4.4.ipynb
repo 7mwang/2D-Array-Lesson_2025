{
 "cells": [
  {
   "cell_type": "markdown",
   "metadata": {},
   "source": [
    "---\n",
    "layout: post\n",
    "type: collab\n",
    "title: Unit 4.4 - Nested Iteration\n",
    "description: Unit 4 Team Teach\n",
    "comments: true\n",
    "permalink: /csa/unit4-p1/unit4-4\n",
    "menu: nav/CSA_Units/csa_unit4_p1.html\n",
    "author: hanlun, saaras, arthur, miheer, eshaan, beijan\n",
    "---"
   ]
  },
  {
   "cell_type": "markdown",
   "metadata": {},
   "source": [
    "## 4.4 Nested Iteration\n",
    "How to iterate through with a time complexity of O(n^2)"
   ]
  },
  {
   "cell_type": "code",
   "execution_count": 6,
   "metadata": {
    "vscode": {
     "languageId": "java"
    }
   },
   "outputs": [
    {
     "name": "stdout",
     "output_type": "stream",
     "text": [
      "Outer loop iteration: 1\n",
      "    Inner loop iteration: 1\n",
      "    Inner loop iteration: 2\n",
      "    Inner loop iteration: 3\n",
      "Outer loop iteration: 2\n",
      "    Inner loop iteration: 1\n",
      "    Inner loop iteration: 2\n",
      "    Inner loop iteration: 3\n",
      "Outer loop iteration: 3\n",
      "    Inner loop iteration: 1\n",
      "    Inner loop iteration: 2\n",
      "    Inner loop iteration: 3\n"
     ]
    }
   ],
   "source": [
    "for (int i = 1; i <= 3; i++) { // Outer loop\n",
    "    System.out.println(\"Outer loop iteration: \" + i);\n",
    "    for (int j = 1; j <= 3; j++) { // Inner loop\n",
    "        System.out.println(\"    Inner loop iteration: \" + j);\n",
    "        }\n",
    "    }"
   ]
  },
  {
   "cell_type": "markdown",
   "metadata": {},
   "source": [
    "## What is wrong with this code cell(Hack)"
   ]
  },
  {
   "cell_type": "code",
   "execution_count": 5,
   "metadata": {
    "vscode": {
     "languageId": "java"
    }
   },
   "outputs": [
    {
     "name": "stdout",
     "output_type": "stream",
     "text": [
      "Enter the number of rows: "
     ]
    },
    {
     "name": "stdout",
     "output_type": "stream",
     "text": [
      "1 2 3 4 5 \n",
      "1 2 3 4 \n",
      "1 2 3 \n",
      "1 2 \n",
      "1 \n"
     ]
    }
   ],
   "source": [
    "//Hint: Check the Syntax and look at the equals to signs on the example above\n",
    "\n",
    "import java.util.Scanner;\n",
    "Scanner scanner = new Scanner(System.in);\n",
    "System.out.print(\"Enter the number of rows: \");\n",
    "int rows = scanner.nextInt();\n",
    "for (int i = rows; i>1; i-) {\n",
    "    for (int j = 1; j <= i; j++) {\n",
    "        System.out.print(j + \" \");\n",
    "    }\n",
    "    System.out.println();\n",
    "    }\n",
    "        \n",
    "scanner.close();\n",
    "    \n",
    "\n"
   ]
  },
  {
   "cell_type": "markdown",
   "metadata": {},
   "source": [
    "Sample input:\n",
    "5\n",
    "\n",
    "Sample Output\n",
    "1 2 3 4 5\n",
    "1 2 3 4\n",
    "1 2 3\n",
    "1 2\n",
    "1\n"
   ]
  },
  {
   "cell_type": "markdown",
   "metadata": {},
   "source": [
    "<img width=\"540\" alt=\"Screenshot 2024-09-19 at 20 45 04\" src=\"https://github.com/user-attachments/assets/ef76eea5-ffa1-432b-9ca0-95c1b9fd002d\">\n"
   ]
  },
  {
   "cell_type": "markdown",
   "metadata": {},
   "source": [
    "### Answer here + One sentence Explanation\n"
   ]
  },
  {
   "cell_type": "markdown",
   "metadata": {},
   "source": [
    "<img width=\"542\" alt=\"Screenshot 2024-09-29 at 15 54 38\" src=\"https://github.com/user-attachments/assets/e3639622-1162-49fa-84fa-8853f5a7c347\">\n"
   ]
  },
  {
   "cell_type": "markdown",
   "metadata": {},
   "source": [
    "### Answer here + One sentence Explanation"
   ]
  },
  {
   "cell_type": "markdown",
   "metadata": {},
   "source": [
    "[Video To watch later if you need more help](https://www.youtube.com/watch?v=DgLptGRzFl4)"
   ]
  },
  {
   "cell_type": "markdown",
   "metadata": {},
   "source": [
    "### Cool Usecase of nested loops"
   ]
  },
  {
   "cell_type": "code",
   "execution_count": 9,
   "metadata": {
    "vscode": {
     "languageId": "java"
    }
   },
   "outputs": [
    {
     "name": "stdout",
     "output_type": "stream",
     "text": [
      "Diamond Pattern:\n",
      "    *\n",
      "   ***\n",
      "  *****\n",
      " *******\n",
      "*********\n",
      " *******\n",
      "  *****\n",
      "   ***\n",
      "    *\n",
      "\n",
      "Magic Square (Latin Square):\n",
      "9\t15\t1\t7\t\n",
      "14\t4\t6\t12\t\n",
      "3\t5\t11\t13\t\n",
      "8\t10\t16\t2\t\n",
      "\n",
      "Prime Number Spiral:\n",
      "0\t2\t3\t0\t5\t\n",
      "0\t17\t0\t19\t0\t\n",
      "0\t0\t0\t0\t7\t\n",
      "0\t23\t0\t0\t0\t\n",
      "13\t0\t11\t0\t0\t\n"
     ]
    }
   ],
   "source": [
    "\n",
    "    // Define the dimensions\n",
    "    int rows = 5;\n",
    "\n",
    "    // First loop to generate a diamond pattern\n",
    "    System.out.println(\"Diamond Pattern:\");\n",
    "    for (int i = 1; i <= rows; i++) {\n",
    "        // Print spaces for left alignment\n",
    "        for (int j = i; j < rows; j++) {\n",
    "            System.out.print(\" \");\n",
    "        }\n",
    "        // Print asterisks for the upper part of the diamond\n",
    "        for (int k = 1; k <= (2 * i - 1); k++) {\n",
    "            System.out.print(\"*\");\n",
    "        }\n",
    "        System.out.println();\n",
    "    }\n",
    "    for (int i = rows - 1; i >= 1; i--) {\n",
    "        // Print spaces for right alignment\n",
    "        for (int j = rows; j > i; j--) {\n",
    "            System.out.print(\" \");\n",
    "        }\n",
    "        // Print asterisks for the lower part of the diamond\n",
    "        for (int k = 1; k <= (2 * i - 1); k++) {\n",
    "            System.out.print(\"*\");\n",
    "        }\n",
    "        System.out.println();\n",
    "    }\n",
    "\n",
    "    // Second loop: Magic Square (Latin Square)\n",
    "    System.out.println(\"\\nMagic Square (Latin Square):\");\n",
    "    int size = 4;\n",
    "    int[][] magicSquare = new int[size][size];\n",
    "    int num = 1, row = 0, col = size / 2;\n",
    "\n",
    "    while (num <= size * size) {\n",
    "        magicSquare[row][col] = num;\n",
    "        num++;\n",
    "        int newRow = (row - 1 + size) % size;\n",
    "        int newCol = (col + 1) % size;\n",
    "\n",
    "        if (magicSquare[newRow][newCol] != 0) {\n",
    "            row = (row + 1) % size;\n",
    "        } else {\n",
    "            row = newRow;\n",
    "            col = newCol;\n",
    "        }\n",
    "    }\n",
    "\n",
    "    // Print the magic square\n",
    "    for (int[] r : magicSquare) {\n",
    "        for (int c : r) {\n",
    "            System.out.print(c + \"\\t\");\n",
    "        }\n",
    "        System.out.println();\n",
    "    }\n",
    "    \n",
    "    // Third loop: Prime Number Spiral\n",
    "    System.out.println(\"\\nPrime Number Spiral:\");\n",
    "    int spiralSize = 5;\n",
    "    int[][] spiral = new int[spiralSize][spiralSize];\n",
    "    int val = 1, startRow = 0, endRow = spiralSize - 1, startCol = 0, endCol = spiralSize - 1;\n",
    "\n",
    "    while (startRow <= endRow && startCol <= endCol) {\n",
    "        // Fill top row\n",
    "        for (int i = startCol; i <= endCol; i++) {\n",
    "            spiral[startRow][i] = isPrime(val) ? val : 0;\n",
    "            val++;\n",
    "        }\n",
    "        startRow++;\n",
    "\n",
    "        // Fill right column\n",
    "        for (int i = startRow; i <= endRow; i++) {\n",
    "            spiral[i][endCol] = isPrime(val) ? val : 0;\n",
    "            val++;\n",
    "        }\n",
    "        endCol--;\n",
    "\n",
    "        // Fill bottom row\n",
    "        if (startRow <= endRow) {\n",
    "            for (int i = endCol; i >= startCol; i--) {\n",
    "                spiral[endRow][i] = isPrime(val) ? val : 0;\n",
    "                val++;\n",
    "            }\n",
    "            endRow--;\n",
    "        }\n",
    "\n",
    "        // Fill left column\n",
    "        if (startCol <= endCol) {\n",
    "            for (int i = endRow; i >= startRow; i--) {\n",
    "                spiral[i][startCol] = isPrime(val) ? val : 0;\n",
    "                val++;\n",
    "            }\n",
    "            startCol++;\n",
    "        }\n",
    "    }\n",
    "\n",
    "    // Print the spiral\n",
    "    for (int[] r : spiral) {\n",
    "        for (int c : r) {\n",
    "            System.out.print(c + \"\\t\");\n",
    "        }\n",
    "        System.out.println();\n",
    "    }\n",
    "\n",
    "\n",
    "// Method to check if a number is prime\n",
    "static boolean isPrime(int num) {\n",
    "    if (num <= 1) return false;\n",
    "    for (int i = 2; i <= Math.sqrt(num); i++) {\n",
    "        if (num % i == 0) return false;\n",
    "    }\n",
    "    return true;\n",
    "}\n"
   ]
  }
 ],
 "metadata": {
  "kernelspec": {
   "display_name": "Java",
   "language": "java",
   "name": "java"
  },
  "language_info": {
   "codemirror_mode": "java",
   "file_extension": ".jshell",
   "mimetype": "text/x-java-source",
   "name": "Java",
   "pygments_lexer": "java",
   "version": "17.0.12+8-LTS-286"
  }
 },
 "nbformat": 4,
 "nbformat_minor": 2
}
