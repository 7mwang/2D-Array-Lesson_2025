{
 "cells": [
  {
   "cell_type": "raw",
   "metadata": {
    "vscode": {
     "languageId": "raw"
    }
   },
   "source": [
    "---\n",
    "layout: post\n",
    "toc: true\n",
    "title: 7.5 Searching\n",
    "description: Searching ArrayLists\n",
    "authors: Aidan Lau, Saathvik Gampa, Sri Surapaneni, Tanav Kambhampati\n",
    "categories: [AP CSA]\n",
    "type: ccc\n",
    "permalink: /csa/unit7-p1/unit7-5\n",
    "menu: nav/CSA_Units/csa_unit7_p1.html\n",
    "---"
   ]
  },
  {
   "cell_type": "markdown",
   "metadata": {},
   "source": [
    "# 7.5 Searching\n",
    "\n",
    "## Learning Objectives\n",
    "- Use sequential/linear search algorithms search for specific elements in ArrayLists \n",
    "\n",
    "## Essential Knowledge:\n",
    "- Sequential/linear search algorithms iterate each element of an ArrayList until the desired searched value is found.   \n",
    "\n",
    "## Search Process\n",
    "\n",
    "1. Remember iteration and selection? Its the same for ArrayLists: a for loop with an if statement inside. \n",
    "2. The for loop parameter uses comparison operators to compare an item inside the ArrayList to the desired searched value\n",
    "3. Keep repeating 1 and 2 until we find the desired searched value\n",
    "\n",
    "## Important Takeaway\n",
    "> To remember searching and the structure, think:\n",
    "- Iteration and Selection\n",
    "    - **Iteration**\n",
    "        - Iteration is the process of repeating a step multiple times; In this case, we keep searching for a desired value until it is found\n",
    "    - **Selection**\n",
    "        - Selection is the process of finding a specific element within a list. We do this using comparison operators\n",
    "- When comparing ``int`` values, use the == operator.\n",
    "- When comparing ``Object`` values, use the ``.equals()`` method to compare values. "
   ]
  },
  {
   "cell_type": "markdown",
   "metadata": {},
   "source": [
    "## Searching an ``ArrayList`` for an integer using Sequential Searching"
   ]
  },
  {
   "cell_type": "markdown",
   "metadata": {},
   "source": [
    "### Sequential Searching Diagram\n",
    "\n",
    "![Sequential Searching Diagram](https://github.com/user-attachments/assets/0fb4112b-4472-4ec7-badf-014859177681)\n",
    "\n",
    "> A for loop will go through each index and its corresponding value until it finds the desired value. \n",
    "\n",
    "### Lets look at an example of Sequential Searching\n",
    "- Take note of how iteration and selection is actually implemented in a coding sense"
   ]
  },
  {
   "cell_type": "code",
   "execution_count": 2,
   "metadata": {
    "vscode": {
     "languageId": "java"
    }
   },
   "outputs": [],
   "source": [
    "import java.util.ArrayList;\n",
    "import java.util.Scanner;\n",
    "\n",
    "public class Main {\n",
    "    public static void main(String[] args) {\n",
    "        ArrayList<Integer> numbers = new ArrayList<Integer>();\n",
    "        \n",
    "        // missing 3, 6, 7, and 10\n",
    "        numbers.add(1);\n",
    "        numbers.add(2);\n",
    "        \n",
    "        numbers.add(4);\n",
    "        numbers.add(5);\n",
    "        \n",
    "      \n",
    "        numbers.add(8);\n",
    "        numbers.add(9);\n",
    "        \n",
    "        \n",
    "        Scanner scanNumber = new Scanner(System.in);\n",
    "        System.out.println(\"Enter a number 1-10\");\n",
    "        Integer desiredNumber = scanNumber.nextInt();\n",
    "        \n",
    "\n",
    "        for (int index = 0; index < numbers.size(); index++) {\n",
    "            // notice how the == operator is used to compare integers\n",
    "            if (numbers.get(index) == desiredNumber) {\n",
    "\n",
    "                System.out.println(desiredNumber + \" is in the list\");\n",
    "                scanNumber.close();\n",
    "            } else {\n",
    "                System.out.println(desiredNumber + \" is not in the list.\");\n",
    "                scanNumber.close();\n",
    "            }\n",
    "        }\n",
    "\n",
    "        \n",
    "    }   \n",
    "\n",
    "}"
   ]
  },
  {
   "cell_type": "markdown",
   "metadata": {},
   "source": [
    "### Explanation\n",
    "> Create the `ArrayList` of numbers and then add numbers.\n",
    "> Create a `Scanner` object which asks for user's desired number\n",
    "> Uses a `for` loop to iterate through each number in the `ArrayList` \n",
    "> Conditional `if` statement to check if the user's desired number is in the list"
   ]
  },
  {
   "cell_type": "markdown",
   "metadata": {},
   "source": [
    "## Searching an ``ArrayList`` for an integer using Binary Search\n",
    "\n",
    "![Binary Search Diagram](https://github.com/user-attachments/assets/c2b59b69-6cc4-43cb-83ee-2bebec684815)\n",
    "\n",
    "> Repeatedly divide the search range in half until the target is found or the range is empty\n",
    "\n",
    "### Lets look at an example of Binary Searching\n",
    "- Take note of how iteration and selection is actually implemented in a coding sense"
   ]
  },
  {
   "cell_type": "code",
   "execution_count": null,
   "metadata": {
    "vscode": {
     "languageId": "java"
    }
   },
   "outputs": [],
   "source": [
    "import java.util.ArrayList;\n",
    "import java.util.Collections;\n",
    "\n",
    "public class SearchTest\n",
    "{\n",
    "    public static int binarySearch(ArrayList<Integer> elements, int target)\n",
    "    {\n",
    "        int left = 0;\n",
    "        int right = elements.size() - 1;\n",
    "        while (left <= right)\n",
    "        {\n",
    "            int middle = (left + right) / 2;\n",
    "            if (target < elements.get(middle))\n",
    "            {\n",
    "                right = middle - 1;\n",
    "            }\n",
    "            else if (target > elements.get(middle))\n",
    "            {\n",
    "                left = middle + 1;\n",
    "            }\n",
    "            else\n",
    "            {\n",
    "                return middle;\n",
    "            }\n",
    "        }\n",
    "        return -1;\n",
    "    }\n",
    "\n",
    "    public static void main(String[] args)\n",
    "    {\n",
    "        ArrayList<Integer> arrList = new ArrayList<>();\n",
    "        arrList.add(-20);\n",
    "        arrList.add(3);\n",
    "        arrList.add(15);\n",
    "        arrList.add(81);\n",
    "        arrList.add(432);\n",
    "\n",
    "        Collections.sort(arrList);\n",
    "\n",
    "\n",
    "        int index = binarySearch(arrList, 15);\n",
    "        System.out.println(index);\n",
    "\n",
    "        index = binarySearch(arrList, -20);\n",
    "        System.out.println(index);\n",
    "\n",
    "        index = binarySearch(arrList, 432);\n",
    "        System.out.println(index);\n",
    "\n",
    "        index = binarySearch(arrList, 53);\n",
    "        System.out.println(index);\n",
    "    }\n",
    "}\n"
   ]
  },
  {
   "cell_type": "markdown",
   "metadata": {},
   "source": [
    "# Homework\n",
    "- Imagine you're an online E-store that sells video games. Help Aidan find if the game, Grand Theft Auto V, is offered in the E-store. If it is, tell him the price. If it isn't, tell him where he can find it"
   ]
  },
  {
   "cell_type": "code",
   "execution_count": null,
   "metadata": {
    "vscode": {
     "languageId": "java"
    }
   },
   "outputs": [],
   "source": [
    "import java.util.ArrayList;\n",
    "import java.util.Scanner;\n",
    "\n",
    "public class searchString {\n",
    "    public static void main(String[] args) {\n",
    "        ArrayList<String> videoGames = new ArrayList<String>();\n",
    "        // You can modify ArrayLists unlike Arrays; What should you do to add the games? \n",
    "        \n",
    "        Scanner scanGame = new Scanner(System.in);\n",
    "        System.out.println(\"Enter your favorite video game: \");\n",
    "        String desiredGame = scanGame.nextLine();\n",
    "}"
   ]
  }
 ],
 "metadata": {
  "kernelspec": {
   "display_name": "java (IJava/j!)",
   "language": "java",
   "name": "jbang-ijava"
  },
  "language_info": {
   "codemirror_mode": "java",
   "file_extension": ".jshell",
   "mimetype": "text/x-java-source",
   "name": "Java",
   "pygments_lexer": "java",
   "version": "17.0.12+0"
  }
 },
 "nbformat": 4,
 "nbformat_minor": 2
}
