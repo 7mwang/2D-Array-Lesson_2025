{
 "cells": [
  {
   "cell_type": "raw",
   "metadata": {
    "vscode": {
     "languageId": "raw"
    }
   },
   "source": [
    "---\n",
    "layout: post\n",
    "toc: true\n",
    "title: Unit 1 - Primitive & Reference Types Examples\n",
    "description: Primitive & Reference Types Examples\n",
    "authors: Aniket Chakradeo, Soham Kamat\n",
    "menu: nav/CSA_Units/csa_unit1.html\n",
    "type: ccc\n",
    "permalink: /unit1lessonexamples\n",
    "---"
   ]
  },
  {
   "cell_type": "markdown",
   "metadata": {},
   "source": [
    "## Primitive Data Types\n",
    "In your personal blog you should have a comprehensive example that help you recall Primitive Data Types."
   ]
  },
  {
   "cell_type": "markdown",
   "metadata": {},
   "source": [
    "### All Primitives Demo\n",
    "\n",
    "The **class PrivitiveTypes** shows an assignment and output of each of the Java primitive types."
   ]
  },
  {
   "cell_type": "code",
   "execution_count": null,
   "metadata": {},
   "outputs": [],
   "source": [
    "public class PrimitiveTypes {\n",
    "    public static void main(String[] args) {\n",
    "        // Declare and initialize variables of different primitive types\n",
    "        byte myByte = 10; // 8-bit integer\n",
    "        short myShort = 32000; // 16-bit integer\n",
    "        int myInt = 123456; // 32-bit integer\n",
    "        long myLong = 123456789L; // 64-bit integer\n",
    "\n",
    "        float myFloat = 3.14f; // 32-bit floating-point\n",
    "        double myDouble = 3.14159; // 64-bit floating-point\n",
    "\n",
    "        char myChar = 'A'; // 16-bit Unicode character\n",
    "        boolean myBoolean = true; // true or false\n",
    "\n",
    "        // Perform some operations\n",
    "        int sum = myInt + 1000;\n",
    "        float division = myFloat / 2;\n",
    "        boolean isEqual = myByte == 10;\n",
    "\n",
    "        // Print the results\n",
    "        System.out.println(\"Byte value: \" + myByte);\n",
    "        System.out.println(\"Short value: \" + myShort);\n",
    "        System.out.println(\"Int value: \" + myInt);\n",
    "        System.out.println(\"Long value: \" + myLong);\n",
    "        System.out.println(\"Float value: \" + myFloat);\n",
    "        System.out.println(\"Double value: \" + myDouble);\n",
    "        System.out.println(\"Char value: \" + myChar);\n",
    "        System.out.println(\"Boolean value: \" + myBoolean);\n",
    "\n",
    "        System.out.println(\"Sum of myInt and 1000: \" + sum);\n",
    "        System.out.println(\"Division of myFloat by 2: \" + division);\n",
    "        System.out.println(\"Is myByte equal to 10? \" + isEqual);\n",
    "    }\n",
    "}\n",
    "\n",
    "PrimitiveTypes.main(null);"
   ]
  },
  {
   "cell_type": "markdown",
   "metadata": {},
   "source": [
    "### Overflow and Underflow\n",
    "\n",
    "In Java, by nature of using strongly typed definitions, the developer needs to be aware of the limits of numeric data. The **class OverFlow** demonstrates the constraints of **int** and **double** addition, and introduces the terms **overflow** and **underflow**."
   ]
  },
  {
   "cell_type": "code",
   "execution_count": null,
   "metadata": {},
   "outputs": [],
   "source": [
    "import java.text.DecimalFormat;\n",
    "\n",
    "public class OverFlow {\n",
    "    public static void main(String[] args) {\n",
    "        DecimalFormat df = new DecimalFormat(\"#,###\");\n",
    "        DecimalFormat dfDouble = new DecimalFormat(\"#,###.################\");\n",
    "\n",
    "        System.out.println(\"Max Integer: \" + Integer.MAX_VALUE);\n",
    "        System.out.println(\"Min Integer: \" + Integer.MIN_VALUE);\n",
    "        System.out.println(\"Max Double: \" + dfDouble.format(Double.MAX_VALUE));\n",
    "        System.out.println(\"Min Double: \" + Double.MIN_VALUE);\n",
    "\n",
    "        // Integer Show Overflow\n",
    "        int i = Integer.MAX_VALUE;\n",
    "        i++;\n",
    "        System.out.println(\"Overflow error (flips negative), Integer Max + 1: \" + df.format(i));\n",
    "        // Integer Show Underflow\n",
    "        int j = Integer.MIN_VALUE;\n",
    "        j--;\n",
    "        System.out.println(\"Underflow error (flips positive), Integer Min - 1: \" + df.format(j));\n",
    "\n",
    "        // Double Show Double Handling Integer.MAX_Value + 1\n",
    "        double d = Integer.MAX_VALUE + 1.0;\n",
    "        System.out.println(\"Double Handling Integer Max + 1: \" + dfDouble.format(d));\n",
    "        // Double Show Double Handling Integer.MIN_Value - 1\n",
    "        double e = Integer.MIN_VALUE - 1.0;\n",
    "        System.out.println(\"Double Handling Integer Min - 1: \" + dfDouble.format(e));\n",
    "\n",
    "        // Integer Max + Min\n",
    "        int k = Integer.MAX_VALUE + Integer.MIN_VALUE;\n",
    "        System.out.println(\"Integer Max + Min, shows Min is greater: \" + df.format(k));\n",
    "    }\n",
    "}\n",
    "\n",
    "OverFlow.main(null);"
   ]
  },
  {
   "cell_type": "markdown",
   "metadata": {},
   "source": [
    "## Refrence Types Examples\n",
    "In your Personal Blog you should create a class that captures key reference type in Java.   In fact, there is at least one common reference type we will be testing on in AP CSA that is not represented below."
   ]
  },
  {
   "cell_type": "markdown",
   "metadata": {},
   "source": [
    "### Class Reference Type\n",
    "The **class Person** illustrates the basics of a **Java class**. When a **Person person** object is created, it is stored on the heap, and it contains data for the name and age. This object is a reference type, meaning that the variable `person` holds a reference (or address) to the memory location where the actual `Person` object is stored, rather than the object itself.\n",
    "\n",
    "Key Points:\n",
    "1. Instance Variables: Attributes of the class that hold data.\n",
    "2. Constructor: Initializes the instance variables.\n",
    "3. Methods: Define behaviors for the class.\n",
    "4. **Reference Type**: The variable holds a reference to the memory location of the object on the heap."
   ]
  },
  {
   "cell_type": "code",
   "execution_count": null,
   "metadata": {},
   "outputs": [],
   "source": [
    "public class Person {\n",
    "    // Fields (attributes) of the Person class\n",
    "    String name;\n",
    "    int age;\n",
    "\n",
    "    // Constructor to initialize the Person object\n",
    "    Person(String name, int age) {\n",
    "        this.name = name;\n",
    "        this.age = age;\n",
    "    }\n",
    "\n",
    "    // Method to introduce the person\n",
    "    void introduce() {\n",
    "        System.out.println(\"Hello, my name is \" + name + \" and I am \" + age + \" years old.\");\n",
    "    }\n",
    "\n",
    "    // Method to simulate having a birthday\n",
    "    void haveBirthday() {\n",
    "        age++;\n",
    "        System.out.println(\"Happy Birthday! I am now \" + age + \" years old.\");\n",
    "    }\n",
    "\n",
    "    public static void main(String[] args) {\n",
    "        // Create an instance of the Person class (a custom reference type)\n",
    "        Person person = new Person(\"John\", 25);\n",
    "\n",
    "        // Call methods on the Person object\n",
    "        person.introduce();\n",
    "        person.haveBirthday();\n",
    "    }\n",
    "}\n",
    "Person.main(null);"
   ]
  },
  {
   "cell_type": "markdown",
   "metadata": {},
   "source": [
    "### Array Reference Types\n",
    "The **class ArrayReferenceTypes** demonstrates the usage of arrays, which are reference types in Java. This class includes examples of a single-dimensional array of integers (`int[]`) and a two-dimensional array of strings (`String[][]`). Both arrays are initialized with hard-coded literals.\n",
    "\n",
    "Key Points:\n",
    "1. Single-Dimensional Array: Demonstrates the use of int[] with hard-coded literals.\n",
    "2. Two-Dimensional Array: Demonstrates the use of String[][] with hard-coded literals.\n",
    "3. Enhanced For-Loop: Used for iterating over the single-dimensional array.\n",
    "4. Classic For-Loop: Used for iterating over the two-dimensional array with i and j indices.\n",
    "5. **Reference Type**: Arrays are reference types, meaning the variable holds a reference to the memory location of the array data."
   ]
  },
  {
   "cell_type": "code",
   "execution_count": null,
   "metadata": {},
   "outputs": [],
   "source": [
    "public class ArrayReferenceTypes {\n",
    "    public static void main(String[] args) {\n",
    "        // Create and initialize an array of integers\n",
    "        int[] numbers = {1, 2, 3, 4, 5};\n",
    "\n",
    "        // Print the contents of the integer array\n",
    "        System.out.println(\"Array contents:\");\n",
    "        for (int number : numbers) {\n",
    "            System.out.println(number);\n",
    "        }\n",
    "\n",
    "        // Create and initialize a 2D array of strings\n",
    "        String[][] matrix = {\n",
    "            {\"A1\", \"B1\", \"C1\"},\n",
    "            {\"A2\", \"B2\", \"C2\"},\n",
    "            {\"A3\", \"B3\", \"C3\"}\n",
    "        };\n",
    "\n",
    "        // Print the contents of the 2D string array\n",
    "        System.out.println(\"2D array contents:\");\n",
    "        for (int i = 0; i < matrix.length; i++) {\n",
    "            for (int j = 0; j < matrix[i].length; j++) {\n",
    "                System.out.print(matrix[i][j] + \" \");\n",
    "            }\n",
    "            System.out.println();\n",
    "        }\n",
    "    }\n",
    "}\n",
    "ArrayReferenceTypes.main(null);"
   ]
  }
 ],
 "metadata": {
  "kernelspec": {
   "display_name": "java (IJava/j!)",
   "language": "java",
   "name": "jbang-ijava"
  },
  "language_info": {
   "codemirror_mode": "java",
   "file_extension": ".jshell",
   "mimetype": "text/x-java-source",
   "name": "java",
   "pygments_lexer": "java",
   "version": "17.0.12+0"
  }
 },
 "nbformat": 4,
 "nbformat_minor": 2
}
