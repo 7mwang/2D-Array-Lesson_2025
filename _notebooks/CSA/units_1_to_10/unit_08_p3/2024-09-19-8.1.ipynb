{
 "cells": [
  {
   "cell_type": "markdown",
   "metadata": {},
   "source": [
    "---\n",
    "layout: post\n",
    "title: 8.1 Lesson\n",
    "description: By David, Torin, Josh, Nandan \n",
    "menu: nav/CSA_Units/csa_unit8.html\n",
    "courses: {'csa': {'week': 4}}\n",
    "toc: true\n",
    "comments: true\n",
    "permalink: /csa/unit8/8.1/\n",
    "---"
   ]
  },
  {
   "cell_type": "markdown",
   "metadata": {},
   "source": [
    "# Main Concepts\n",
    "\n",
    "### Representing Collections with 2D Arrays\n",
    "- **2D arrays**: Arrays of arrays, representing collections of related primitive or object reference data.\n",
    "- **Creation and Indexing**: Created and indexed similarly to 1D arrays, but each element is an array.\n",
    "- **Initializer Arrays**: Can be initialized using initializer lists, which represent 1D arrays.\n",
    "\n",
    "---\n",
    "\n",
    "# Vocabulary\n",
    "\n",
    "### Array\n",
    "- A data structure used to implement a list of primitive or object reference data.\n",
    "\n",
    "### Element\n",
    "- A single value in an array.\n",
    "\n",
    "### Index\n",
    "- The position of an element in an array. The first element is at index `0` in Java.\n",
    "\n",
    "### Length of an Array\n",
    "- The number of elements in the array. It's a `public final` data member of an array.\n",
    "  - **Public**: Accessible in any class.\n",
    "  - **Final**: The length of the array cannot change after it is created.\n",
    "  - The last element of an array is the length of the index - 1.\n",
    "\n",
    "### Example\n",
    "- **1D Array**: Roster of students with strings.\n",
    "\n",
    "<img src=\"{{site.baseurl}}/images/1D_Array.png\" alt=\"Image 1\">\n",
    "\n",
    "- **2D Array**: Student grades (array of arrays).\n",
    "\n",
    "<img src=\"{{site.baseurl}}/images/2d_Array.png\" alt=\"Image 1\">\n",
    "- A student's grades:\n",
    "    -  Collection of arrays representing student grades, where each entry is an array of a student’s grades.\n",
    "    - This is a rectangular 2D array since each row array has the same number of entries.\n",
    "    - Example: 7 arrays (students), each with 4 grades (tests). Total: 28 elements.\n"
   ]
  },
  {
   "cell_type": "markdown",
   "metadata": {},
   "source": [
    "# Declaring and Initializing 2D Arrays in Java\n",
    "\n",
    "### Declaring Arrays\n",
    "\n",
    "To declare a 2D array in Java, use the following format:\n",
    "\n",
    "int[][] 2DArrayName = new datatype[# of rows][# of columns]\n",
    "\n",
    "### Example\n",
    "int[][] grades = new int[3][4];"
   ]
  },
  {
   "cell_type": "code",
   "execution_count": null,
   "metadata": {
    "vscode": {
     "languageId": "java"
    }
   },
   "outputs": [],
   "source": [
    "public class Main {\n",
    "    public static void main(String[] args) {\n",
    "        int[][] grades = {\n",
    "            {90, 85, 88, 92}, \n",
    "            {75, 80, 78, 85},\n",
    "            {60, 65, 70, 75}\n",
    "        };\n",
    "\n",
    "        int rows = grades.length; // Attribute 1\n",
    "        int columns = grades[0].length;\n",
    "\n",
    "        System.out.println(\"Number of rows: \" + rows);\n",
    "        System.out.println(\"Number of columns: \" + columns);\n",
    "\n",
    "        int element = grades[1][2]; // Accessing an element \n",
    "        System.out.println(\"Element at row 2, column 3: \" + element);\n",
    "    }\n",
    "}\n",
    "\n",
    "Main.main(null)"
   ]
  },
  {
   "cell_type": "markdown",
   "metadata": {},
   "source": [
    "## Popcorn Hack #1\n",
    "\n",
    "<img src=\"{{site.baseurl}}/images/p1.png\" alt=\"Image 1\">\n",
    "\n",
    "How would you write the code to access the last score? MC\n",
    "- A. grades[6][3]\n",
    "- B. grades[7][4]\n",
    "- C. grades[grades.length - 1] [grades[0].length - 1]\n",
    "- D. A and C\n"
   ]
  }
 ],
 "metadata": {
  "language_info": {
   "name": "python"
  }
 },
 "nbformat": 4,
 "nbformat_minor": 2
}
