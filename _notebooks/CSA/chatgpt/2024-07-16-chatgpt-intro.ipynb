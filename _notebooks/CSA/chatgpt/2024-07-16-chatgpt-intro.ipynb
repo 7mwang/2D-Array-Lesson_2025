{
 "cells": [
  {
   "cell_type": "raw",
   "metadata": {
    "vscode": {
     "languageId": "raw"
    }
   },
   "source": [
    "---\n",
    "layout: post\n",
    "title: GPT chatbot overview and basic guide\n",
    "description: Simple overview of a basic chatbot implementation using nighthawk pages and java spring backend.\n",
    "type: ccc\n",
    "courses: { csa: {week: 3}  }\n",
    "menu: nav/GPT_overview.html\n",
    "toc: true\n",
    "comments: true\n",
    "permalink: /GPT_overview/overview\n",
    "---"
   ]
  },
  {
   "cell_type": "markdown",
   "metadata": {},
   "source": [
    "# what is this?\n",
    "\n",
    "> This is a GPT chatbot implementation that runs off of the gpt API. \n",
    "\n",
    "# important files \n",
    "\n",
    "\n",
    "In portfolio_2025, the frontend contains the following important files (https://github.com/nighthawkcoders/portfolio_2025):\n",
    "\n",
    "/_posts/2024-07-11-GPTchatbot.md (the main frontend file)\n",
    "\n",
    "/assets/js/chatbot.js (javascript for functions which call to the endpoints)\n",
    "\n",
    "_sass/minima/nighthawk/chatbot.scss (styling for the frontend)\n",
    "\n",
    "In Spring portfolio, the backend contains these important files/folders (https://github.com/nighthawkcoders/portfolio_2025):\n",
    "\n",
    "src/main/java/com/nighthawk/spring_portfolio/mvc/chathistory (folder containing all of the backend java files for setting up the GPT endpoints)\n",
    "\n",
    ".env (the location where your GPT api key information must be stored)"
   ]
  },
  {
   "cell_type": "markdown",
   "metadata": {},
   "source": [
    "# setting up the backend to run the bot\n",
    "\n",
    "1: clone the following repository for the java backend, if you didn't already have this project available: https://github.com/nighthawkcoders/spring_portfolio\n",
    "\n",
    "this is a java backend built on spring, and will be used for the endpoints for our project\n",
    "\n",
    "2: add your own api key variables to .env (see guide below for obtaining all the necessary variables)\n",
    "\n",
    "At this point, you should also test the key functionality by running the static main method in AIChatbotController.java, which will send a test message using your api key. You can run the method by clicking the run button, which should appear above the method. The method should look like this:"
   ]
  },
  {
   "cell_type": "code",
   "execution_count": null,
   "metadata": {},
   "outputs": [],
   "source": [
    "\t// main method for testing key functionality\n",
    "\tpublic static void main(String[] args) throws Exception {\n",
    "\t\tString aiKey = System.getenv(\"AI_KEY\");\n",
    "        System.out.println(\"AI key: \" + aiKey);\n",
    "\t\tAIChatbotController ai = new AIChatbotController();\n",
    "\t\tString response = ai.getResponseFromAI(\"Hi\");\n",
    "\t\tSystem.out.println(response);\n",
    "\t}"
   ]
  },
  {
   "cell_type": "markdown",
   "metadata": {},
   "source": [
    "3: run the backend locally. Make sure the backend is running on port 8085. \n",
    "\n",
    "### running the frontend\n",
    "\n",
    "If you are using portfolio_2025, you should only have to run the frontend locally and open the chatbot frontend page. Theres a section below for functionality, but you can just send a message for now and see if a response is sent back.\n",
    "\n",
    "Make sure you are running the backend locally otherwise your frontend will not be able to send any requests.\n",
    "\n",
    "## obtaining api variables from OPENAI\n",
    "\n",
    "This part of the guide will be a walkthrough to acquiring the assistantId, threadId, and aiKey, which are required for accessing the OPENAI api.\n",
    "\n",
    "1. go to https://platform.openai.com/account/api-keys and create an account or log in\n",
    "\n",
    "2. create a new secret key, with all permissions, and save your key. Add the secret to the .env for the ai_key variable.\n",
    "\n",
    "3. click on Assistants on the left navbar and create a new assistant. Take note of the assistant id at the top, as this is the assistant id. add that id variable to your .env for the ai_asst_id variable.\n",
    "\n",
    "4. afterwards, click on the Assistants from the Playground section of the left navbar, and send a message.\n",
    "\n",
    "5. copy the thread id generated from the message and add it to the .env for the ai_thread_id variable.\n",
    "\n",
    "IMPORTANT: It is important to hide your secret variables to prevent theft of keys. Do not commit the .env with all of the variables within directly to github, as your key will likely get stolen. There are many different solutions for hiding secrets, however the one I used was simply splitting each variable into 2 separate strings, then concatenating them when I needed those secret variables."
   ]
  },
  {
   "cell_type": "markdown",
   "metadata": {},
   "source": [
    "# how does this work?\n",
    "\n",
    "This basic chatbot implementation simply makes calls to the GPT API, taking in the message you typed in and returning the response the api generated from the message sent. Other than basic chatbot functionality, there are a few different new features for experimentation:\n",
    "\n",
    "1: all messages are saved in sqlite.db on the backend.\n",
    "\n",
    "2: pressing the reload button next to the trash can icon on the chatbot frontend will fetch all responses from the database and display them.\n",
    "\n",
    "3: pressing the trash can icon will delete all of the chats from the database.\n",
    "\n",
    "4: pressing the button at the bottom lets you switch between a streamed response, which will gradually feed the response to the user, versus an instant response."
   ]
  }
 ],
 "metadata": {
  "kernelspec": {
   "display_name": "Java",
   "language": "java",
   "name": "java"
  },
  "language_info": {
   "name": "java"
  }
 },
 "nbformat": 4,
 "nbformat_minor": 2
}
