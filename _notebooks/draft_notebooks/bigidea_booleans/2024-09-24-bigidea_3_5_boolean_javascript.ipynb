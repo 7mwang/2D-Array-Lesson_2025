{
 "cells": [
  {
   "cell_type": "raw",
   "metadata": {
    "vscode": {
     "languageId": "raw"
    }
   },
   "source": [
    "---\n",
    "toc: false\n",
    "comments: true\n",
    "layout: post\n",
    "title: 3.5 Javascript Booleans\n",
    "description: Student led teaching on Javascript Booleans.\n",
    "permalink: /big-idea-3-5/boolean/javascript\n",
    "menu: nav/csp_units/csp_idea3_5_p4.html\n",
    "---"
   ]
  },
  {
   "cell_type": "markdown",
   "metadata": {
    "vscode": {
     "languageId": "javascript"
    }
   },
   "source": [
    "# Lesson: JavaScript Relational Operators\n",
    "\n",
    "## Introduction\n",
    "Relational operators in JavaScript are used to compare two values, returning a Boolean value (`true` or `false`) based on the relationship. Relational operators are extremley similar to math functions such as less than or equal too. \n",
    "\n",
    "## Common Relational Operators\n",
    "- `==`: Equal to, checks if two values are the same (e.g., verifying a password match).\n",
    "- `!=`: Not equal to, checks if two values are different (e.g., ensuring input changes).\n",
    "- `===`: Strict equal to, checks equality and type (e.g., validating exact user ID).\n",
    "- `!==`: Strict not equal to, checks inequality and type (e.g., ensuring different type or value).\n",
    "- `>`: Greater than, left value is larger than the right (e.g., comparing scores or ages).\n",
    "- `<`: Less than, left value is smaller than the right (e.g., setting age limits).\n",
    "- `>=`: Greater than or equal to, left value is larger or equal (e.g., minimum age validation).\n",
    "- `<=`: Less than or equal to, left value is smaller or equal (e.g., ensuring max quantity in cart).\n",
    "\n",
    "## Example: Using Relational Operators in JavaScript\n",
    "Let's consider an example where we compare a person's age with a minimum age requirement.\n",
    "\n",
    "```javascript\n",
    "// Example demonstrating relational operators in JavaScript\n",
    "\n",
    "let age = 20;\n",
    "let minimumAge = 18;\n",
    "\n",
    "// Equal to (==)\n",
    "console.log(age == minimumAge); // false\n",
    "\n",
    "// Not equal to (!=)\n",
    "console.log(age != minimumAge); // true\n",
    "\n",
    "// Strict equal to (===)\n",
    "console.log(age === minimumAge); // false\n",
    "\n",
    "// Strict not equal to (!==)\n",
    "console.log(age !== minimumAge); // true\n",
    "\n",
    "// Greater than (>)\n",
    "console.log(age > minimumAge); // true\n",
    "\n",
    "// Less than (<)\n",
    "console.log(age < minimumAge); // false\n",
    "\n",
    "// Greater than or equal to (>=)\n",
    "console.log(age >= minimumAge); // true\n",
    "\n",
    "// Less than or equal to (<=)\n",
    "console.log(age <= minimumAge); // false\n",
    "\n",
    "## Example: Using Relational Operators in JavaScript\n",
    "Let's consider an example where we compare a person's age with a minimum age requirement.\n"
   ]
  },
  {
   "cell_type": "code",
   "execution_count": null,
   "metadata": {
    "vscode": {
     "languageId": "javascript"
    }
   },
   "outputs": [],
   "source": [
    "// Example demonstrating relational operators in JavaScript\n",
    "\n",
    "let age = 20;\n",
    "let minimumAge = 18;\n",
    "\n",
    "// Equal to (==)\n",
    "console.log(age == minimumAge); // false\n",
    "\n",
    "// Not equal to (!=)\n",
    "console.log(age != minimumAge); // true\n",
    "\n",
    "// Strict equal to (===)\n",
    "console.log(age === minimumAge); // false\n",
    "\n",
    "// Strict not equal to (!==)\n",
    "console.log(age !== minimumAge); // true\n",
    "\n",
    "// Greater than (>)\n",
    "console.log(age > minimumAge); // true\n",
    "\n",
    "// Less than (<)\n",
    "console.log(age < minimumAge); // false\n",
    "\n",
    "// Greater than or equal to (>=)\n",
    "console.log(age >= minimumAge); // true\n",
    "\n",
    "// Less than or equal to (<=)\n",
    "console.log(age <= minimumAge); // false"
   ]
  },
  {
   "cell_type": "raw",
   "metadata": {
    "vscode": {
     "languageId": "raw"
    }
   },
   "source": [
    "<html lang=\"en\">\n",
    "<head>\n",
    "    <meta charset=\"UTF-8\">\n",
    "    <meta name=\"viewport\" content=\"width=device-width, initial-scale=1.0\">\n",
    "    <title>Relational Operators Example</title>\n",
    "</head>\n",
    "<body>\n",
    "    <h1>Relational Operators Example</h1>\n",
    "    <button onclick=\"runExample()\">Run Example</button>\n",
    "    <pre id=\"output\"></pre>\n",
    "\n",
    "    <script>\n",
    "        function runExample() {\n",
    "            let age = 20;\n",
    "            let minimumAge = 18;\n",
    "            let output = '';\n",
    "\n",
    "            // Equal to (==)\n",
    "            output += `age == minimumAge: ${age == minimumAge}\\n`; // false\n",
    "\n",
    "            // Not equal to (!=)\n",
    "            output += `age != minimumAge: ${age != minimumAge}\\n`; // true\n",
    "\n",
    "            // Strict equal to (===)\n",
    "            output += `age === minimumAge: ${age === minimumAge}\\n`; // false\n",
    "\n",
    "            // Strict not equal to (!==)\n",
    "            output += `age !== minimumAge: ${age !== minimumAge}\\n`; // true\n",
    "\n",
    "            // Greater than (>)\n",
    "            output += `age > minimumAge: ${age > minimumAge}\\n`; // true\n",
    "\n",
    "            // Less than (<)\n",
    "            output += `age < minimumAge: ${age < minimumAge}\\n`; // false\n",
    "\n",
    "            // Greater than or equal to (>=)\n",
    "            output += `age >= minimumAge: ${age >= minimumAge}\\n`; // true\n",
    "\n",
    "            // Less than or equal to (<=)\n",
    "            output += `age <= minimumAge: ${age <= minimumAge}\\n`; // false\n",
    "\n",
    "            document.getElementById('output').textContent = output;\n",
    "        }\n",
    "    </script>\n",
    "</body>\n",
    "</html>"
   ]
  }
 ],
 "metadata": {
  "language_info": {
   "name": "python"
  }
 },
 "nbformat": 4,
 "nbformat_minor": 2
}
