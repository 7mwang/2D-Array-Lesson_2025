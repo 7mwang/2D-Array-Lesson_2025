{
 "cells": [
  {
   "cell_type": "raw",
   "metadata": {
    "vscode": {
     "languageId": "raw"
    }
   },
   "source": [
    "---\n",
    "toc: false\n",
    "comments: true\n",
    "layout: post\n",
    "title: 3.5 Javascript Relational Operators Hacks\n",
    "description: Student practice on Relational Operators.\n",
    "permalink: /big-idea-3-5/math/javascript/hacks\n",
    "---"
   ]
  },
  {
   "cell_type": "markdown",
   "metadata": {},
   "source": [
    "# Hacks\n",
    "\n",
    "## De Morgan's Law\n",
    "\n",
    "Using De Morgan's Law you can simplify the following, \n",
    "\n",
    "!(A && B) === (!A || !B) \n",
    "\n",
    "!(A || B) === (!A && !B)\n",
    "\n",
    "### Examples:\n",
    "Without De Morgan's Law: \n",
    "if (!(a || b)) {\n",
    "    \n",
    "}\n",
    " - Confusing to read and understand\n",
    "\n",
    "Using De Morgan's Law:\n",
    "if (!a && !b){\n",
    "    \n",
    "}\n",
    "- Simplified, easy to read and understand\n",
    "\n",
    "### Purpose\n",
    "\n",
    "De Morgan's Law allows further simplification of logical expressions involving And(&&), Or(||), and Not(!). This allows code to be simplified making it easier to read and understand.\n",
    "\n",
    "## Password Creator Hack\n",
    "\n",
    "This hack is a password creator that checks whether a user's password meets certain criteria (length, character types, etc). Use what you learned with relational operators to create a simple password create and use De Morgan's Law to simplfiy the conditions for easier readability and understanding\n",
    "#### Features:\n",
    " - The password must be at least 10 characters long.\n",
    " - It must include both uppercase and lowercase letters.\n",
    " - It must contain at least one number.\n",
    " - It must not contain any spaces.\n",
    "\n",
    "#### Extra Features:\n",
    " - The password must contain at least 1 special character\n",
    " - The password contains no more than 3 of the same letter in a row\n",
    "\n",
    "## Personality Quiz Hack\n",
    "\n",
    "Create a simple multiple-choice personality quiz that gives you a brief description of your personality based on the questions answered from the quiz. Use what you learned from relational operators and apply it for this hack. \n",
    "\n",
    "#### Requirements: \n",
    " - Must have at least 10 differnt questions\n",
    " - Must be multiple choice\n",
    " - Must have multiple different outputs based on results\n",
    "\n",
    "\n"
   ]
  }
 ],
 "metadata": {
  "language_info": {
   "name": "python"
  }
 },
 "nbformat": 4,
 "nbformat_minor": 2
}
