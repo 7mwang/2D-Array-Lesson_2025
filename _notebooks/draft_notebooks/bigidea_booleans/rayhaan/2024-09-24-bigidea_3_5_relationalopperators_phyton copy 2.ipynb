{
 "cells": [
  {
   "cell_type": "raw",
   "metadata": {
    "vscode": {
     "languageId": "raw"
    }
   },
   "source": [
    "---\n",
    "toc: false\n",
    "comments: true\n",
    "layout: post\n",
    "title: 3.3 Python Relational Operators\n",
    "description: Student led teaching on Relational Operators.\n",
    "permalink: /big-idea-3-5/math/python/\n",
    "---"
   ]
  }
 ],
 "metadata": {
  "language_info": {
   "name": "python"
  }
 },
 "nbformat": 4,
 "nbformat_minor": 2
}
