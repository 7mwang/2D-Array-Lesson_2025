{
 "cells": [
  {
   "cell_type": "raw",
   "metadata": {
    "vscode": {
     "languageId": "raw"
    }
   },
   "source": [
    "---\n",
    "toc: false\n",
    "comments: true\n",
    "layout: post\n",
    "title: 3.5 Python Relational Operators\n",
    "description: Student led teaching on Relational Operators.\n",
    "permalink: /big-idea-3-5/math/python/\n",
    "---"
   ]
  },
  {
   "cell_type": "markdown",
   "metadata": {},
   "source": [
    "# Relational Operators in Python\n",
    "\n",
    "## Introduction\n",
    "\n",
    "Relational Operators in Python are used to create a relationship between two entities usuually using comparisons such as involving comparisons such as equality, inequality, greater than, and less than. The operators then evaluvate the relationship between the entities and give an ouput of either True or False for the relationship.\n",
    "\n",
    "## Equal to Operator in Python\n",
    "1. Equal To: ==  \n",
    "    This opertor means equal to and is true if both operands are equal to each other. The syntax for an equal to operator would be a == b.  \n",
    "\n",
    "2. Not Equal To: != \n",
    "    This operator means not equal to and is true if both operands are not equal. The syntax for a not equal to operator would be a != b. \n",
    "\n",
    "3. Greater Than: > \n",
    "    This operator is true if the operand on the left is greater than the operand on the right. The syntax for a greater than operator would be a > b.\n",
    "\n",
    "4. Less Than: < \n",
    "    This operator is true if the operand on the left is less than the operand on the right. The syntax for a less than operator would be a < b.\n",
    "\n",
    "5. Greater Than or Equal to: >= \n",
    "    This operator is true if the operand on the left is greater than or equal to the operand on the right. The syntax for a greater than or equal to operator would be a >= b.\n",
    "\n",
    "6. Less Than or Equal to: <= \n",
    "    This operator is true if the operand on the left is less than or equal to the operand on the right. The syntax for a less than or equal to operator would be a <= b.\n",
    "\n",
    "## Examples using Relational Operators in Python\n"
   ]
  },
  {
   "cell_type": "code",
   "execution_count": 7,
   "metadata": {},
   "outputs": [
    {
     "name": "stdout",
     "output_type": "stream",
     "text": [
      "False, a does not equal b\n",
      "True, a does not equal b\n",
      "False, a is not greater than b\n",
      "True, a is less than b\n",
      "False, a is not greater than or equal to b\n",
      "True, a is less than or equal to b\n"
     ]
    }
   ],
   "source": [
    "a = 5\n",
    "b = 10\n",
    "\n",
    "#  1. Equal to: ==\n",
    "if a == b:\n",
    "    print(\"True, a equals b\")\n",
    "else: \n",
    "    print(\"False, a does not equal b\")\n",
    " \n",
    "\n",
    "#2. Not equal to: !=\n",
    "if a != b:\n",
    "    print(\"True, a does not equal b\")\n",
    "else:\n",
    "    print(\"False, a equals b\")\n",
    "\n",
    "# 3. Greater than: >\n",
    "if a > b:\n",
    "    print(\"True, a is greater than b\")\n",
    "else:    \n",
    "    print(\"False, a is not greater than b\")\n",
    "\n",
    "# 4. Less than: <\n",
    "if a < b:\n",
    "    print(\"True, a is less than b\")\n",
    "else:   \n",
    "    print(\"False, a is not less than b\")\n",
    "\n",
    "# 5. Greater than or equal to: >=\n",
    "if a >= b:\n",
    "    print(\"True, a is greater than or equal to b\")\n",
    "else:   \n",
    "    print(\"False, a is not greater than or equal to b\")\n",
    "\n",
    "# 6. Less than or equal to: <=\n",
    "if a <= b:\n",
    "    print(\"True, a is less than or equal to b\")\n",
    "else:   \n",
    "    print(\"False, a is not less than or equal to b\")\n"
   ]
  }
 ],
 "metadata": {
  "kernelspec": {
   "display_name": "Python 3",
   "language": "python",
   "name": "python3"
  },
  "language_info": {
   "codemirror_mode": {
    "name": "ipython",
    "version": 3
   },
   "file_extension": ".py",
   "mimetype": "text/x-python",
   "name": "python",
   "nbconvert_exporter": "python",
   "pygments_lexer": "ipython3",
   "version": "3.10.12"
  }
 },
 "nbformat": 4,
 "nbformat_minor": 2
}
