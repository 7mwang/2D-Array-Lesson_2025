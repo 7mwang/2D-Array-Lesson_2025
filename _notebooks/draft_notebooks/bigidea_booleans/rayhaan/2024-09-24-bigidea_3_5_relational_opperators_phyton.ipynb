{
 "cells": [
  {
   "cell_type": "raw",
   "metadata": {
    "vscode": {
     "languageId": "raw"
    }
   },
   "source": [
    "---\n",
    "toc: false\n",
    "comments: true\n",
    "layout: post\n",
    "title: 3.5 Python Relational Operators\n",
    "description: Student led teaching on Relational Operators.\n",
    "permalink: /big-idea-3-5/math/python/\n",
    "---"
   ]
  },
  {
   "cell_type": "markdown",
   "metadata": {},
   "source": [
    "# Relational Operators in Python\n",
    "\n",
    "## Introduction\n",
    "\n",
    "Relational Operators in Python are used to create a relationship between two entities usuually using comparisons such as involving comparisons such as equality, inequality, greater than, and less than. The operators then evaluvate the relationship between the entities and give an ouput of either True or False for the relationship.\n",
    "\n",
    "## Common Operands\n",
    "\n",
    "1. Equal To: ==  (This opertor means equal to and is true if both operands are equal) Ex: a == b\n",
    "2. Not Equal To: != (This operator means not equal to and is true if both operands are not equal) Ex: a != b\n",
    "3. Greater Than: > (This operator is true if the operand on the left is greater than the operand on the right) Ex: a > b\n",
    "4. Less Than: < (Ths operator is true if the operand on the left is less than the operand on the right) Ex: a < b\n",
    "5. Greater Than or Equal to: >= (This operator is true if the operand on the left is greater than or equal to the operand on the right) Ex: a >= b\n",
    "6. Less Than or Equal to: <= (This operator is true if the operand on the left is less than or equal to the operand on the right) Ex: a <= b"
   ]
  },
  {
   "cell_type": "markdown",
   "metadata": {},
   "source": []
  }
 ],
 "metadata": {
  "language_info": {
   "name": "python"
  }
 },
 "nbformat": 4,
 "nbformat_minor": 2
}
