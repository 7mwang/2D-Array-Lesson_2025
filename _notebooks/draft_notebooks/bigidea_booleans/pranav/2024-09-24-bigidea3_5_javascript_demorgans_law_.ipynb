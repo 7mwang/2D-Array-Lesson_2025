{
 "cells": [
  {
   "cell_type": "raw",
   "metadata": {
    "vscode": {
     "languageId": "raw"
    }
   },
   "source": [
    "---\n",
    "layout: post\n",
    "title: Big Idea 3.5 - Hacks\n",
    "description: De Morgan's law and truth tables in Javascript.\n",
    "categories: [Javascript]\n",
    "author: Pranav Santhosh\n",
    "---"
   ]
  },
  {
   "cell_type": "markdown",
   "metadata": {
    "vscode": {
     "languageId": "raw"
    }
   },
   "source": [
    "# De Morgan’s Law\n",
    "\n",
    "## Introduction to De Morgan’s Law\n",
    "- Rule for handling logical expressions.\n",
    "- Allows you to simplify conditions.\n",
    "\n",
    "## The Two Key Parts of De Morgan’s Law\n",
    "- **Negating an AND:**\n",
    "  - `!(A && B)` becomes `!A || !B`\n",
    "- **Negating an OR:**\n",
    "  - `!(A || B)` becomes `!A && !B`\n"
   ]
  },
  {
   "cell_type": "code",
   "execution_count": null,
   "metadata": {
    "vscode": {
     "languageId": "javascript"
    }
   },
   "outputs": [],
   "source": [
    "## Applications in Code\n",
    "- Simplifies complex conditional logic.\n",
    "- Example:\n",
    "\n",
    "```javascript\n",
    "// Original condition\n",
    "let isRaining = true;\n",
    "let isCold = false;\n",
    "\n",
    "if (!(isRaining && isCold)) {\n",
    "  console.log(\"It's either not raining or not cold.\");\n",
    "}\n",
    "\n",
    "// Simplified using De Morgan's Law\n",
    "if (!isRaining || !isCold) {\n",
    "  console.log(\"It's either not raining or not cold.\");\n",
    "}"
   ]
  },
  {
   "cell_type": "code",
   "execution_count": null,
   "metadata": {
    "vscode": {
     "languageId": "javascript"
    }
   },
   "outputs": [],
   "source": [
    "<html lang=\"en\">\n",
    "<head>\n",
    "    <meta charset=\"UTF-8\">\n",
    "    <meta name=\"viewport\" content=\"width=device-width, initial-scale=1.0\">\n",
    "    <title>De Morgan's Law Example</title>\n",
    "</head>\n",
    "<body>\n",
    "    <h1>De Morgan's Law Example</h1>\n",
    "    <button onclick=\"runExample()\">Run Example</button>\n",
    "    <pre id=\"output\"></pre>\n",
    "\n",
    "    <script>\n",
    "        function runExample() {\n",
    "            let isRaining = true;\n",
    "            let isCold = false;\n",
    "            let output = '';\n",
    "\n",
    "            // Original condition\n",
    "            if (!(isRaining && isCold)) {\n",
    "                output += \"It's either not raining or not cold.\\n\";\n",
    "            }\n",
    "\n",
    "            // Simplified using De Morgan's Law\n",
    "            if (!isRaining || !isCold) {\n",
    "                output += \"It's either not raining or not cold.\\n\";\n",
    "            }\n",
    "\n",
    "            document.getElementById('output').textContent = output;\n",
    "        }\n",
    "    </script>\n",
    "</body>\n",
    "</html>"
   ]
  }
 ],
 "metadata": {
  "language_info": {
   "name": "python"
  }
 },
 "nbformat": 4,
 "nbformat_minor": 2
}
