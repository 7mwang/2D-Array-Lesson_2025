{
 "cells": [
  {
   "cell_type": "raw",
   "metadata": {
    "vscode": {
     "languageId": "raw"
    }
   },
   "source": [
    "---\n",
    "toc: false\n",
    "comments: true\n",
    "layout: post\n",
    "title: 3.5 Python Logical Operators\n",
    "description: Student led teaching on  Mathematical Expressions. Learn how mathematical expressions involve using arithmetic operators (like addition, subtraction, multiplication, and division) to perform calculations\n",
    "permalink: /big-idea-3-5/booleans/python/logicaloperators\n",
    "menu: nav/csp_units/csp_idea3_5_p4.html\n",
    "---"
   ]
  },
  {
   "cell_type": "markdown",
   "metadata": {},
   "source": [
    "# Logical Operators "
   ]
  },
  {
   "cell_type": "markdown",
   "metadata": {},
   "source": [
    "## NOT function\n",
    "----------------------------\n",
    "### What is it?\n",
    "\n",
    "The NOT function for booleans is a logical operator that inverts the value of a boolean expression. In simple terms:\n",
    "\n",
    "If the input is TRUE, the NOT function returns FALSE.\n",
    "If the input is FALSE, the NOT function returns TRUE.\n",
    "The NOT function operates on a single boolean value (it is a unary operator).\n",
    "\n",
    "In Boolean algebra:\n",
    "\n",
    "NOT(A)=¬A\n",
    "\n",
    "Where \n",
    " - A is a boolean value, and \n",
    " - ¬𝐴 is the negation of 𝐴\n",
    "\n",
    "For example:\n",
    "\n",
    "NOT(TRUE) = FALSE\n",
    "\n",
    "NOT(FALSE) = TRUE\n",
    "\n",
    "In programming languages, the NOT function is often represented by symbols like ! or the keyword not. For example:\n",
    "\n",
    " - In C, C++, Java, etc.: !TRUE == FALSE\n",
    " - In Python: not True == False\n",
    "\n",
    " ### Real World Example:\n",
    "\n",
    "Essentially the NOT function is an INVERSE function\n",
    " - You put your shoes on in the morning, and you take your shoes off in the night\n",
    " - Wrapping a present before Christmas, unwrapping a present after Christmas\n",
    " - Setting up decorations for Halloween, taking out decorations after Halloween\n",
    " - When you convert Celcius to Farenheit, you are multiplying and adding, but when you convert Farenhiet to Celcius, you are subtracting and adding.\n",
    "\n",
    " ### Coding Example in Python:\n",
    "\n"
   ]
  },
  {
   "cell_type": "code",
   "execution_count": 2,
   "metadata": {},
   "outputs": [
    {
     "name": "stdout",
     "output_type": "stream",
     "text": [
      "Press Enter to toggle the light switch. Type 'exit' to stop.\n",
      "The light is now ON.\n",
      "The light is now OFF.\n",
      "The light is now ON.\n",
      "The light is now OFF.\n"
     ]
    }
   ],
   "source": [
    "# Initial state of the light (False means OFF, True means ON)\n",
    "light_on = False\n",
    "\n",
    "def toggle_light():\n",
    "    global light_on\n",
    "    # Toggle the light state using the NOT function\n",
    "    light_on = not light_on\n",
    "    # Output the current state of the light\n",
    "    if light_on:\n",
    "        print(\"The light is now ON.\")\n",
    "    else:\n",
    "        print(\"The light is now OFF.\")\n",
    "\n",
    "print(\"Press Enter to toggle the light switch. Type 'exit' to stop.\")\n",
    "\n",
    "while True:\n",
    "    user_input = input()  # Simulate button press\n",
    "    if user_input.lower() == 'exit':\n",
    "        break\n",
    "    toggle_light()"
   ]
  },
  {
   "cell_type": "markdown",
   "metadata": {},
   "source": [
    "# AND \n",
    "--------------------------------------"
   ]
  },
  {
   "cell_type": "markdown",
   "metadata": {},
   "source": [
    "## What is it?\n",
    "\n",
    "The Boolean AND function is a logical operation that outputs true if both of its operands are true; otherwise, it outputs false.\n",
    "\n",
    "Here’s the formal definition of the Boolean AND function for two operands \n",
    "\n",
    "𝐴 and 𝐵:\n",
    "\n",
    "𝐴∧𝐵 = true if and only if both 𝐴 = true and 𝐵 = true\n",
    "𝐴∧𝐵 = false if 𝐴 = false or 𝐵 = false.\n",
    "\n",
    "If both 𝐴 and 𝐵 are true, then 𝐴∧𝐵 = true\n",
    "If 𝐴 is false or 𝐵 is false, or 𝐴 and 𝐵 is false, then 𝐴∧𝐵 = false\n",
    "\n",
    "### Real World Example:\n",
    " - You have to scan your keycard and enter a pin to access a safe\n",
    " - When you want to throw away your trash, you need to open the trash can and throw away your trash\n",
    " - To use your phone, you must turn it on and put your passcode in\n",
    "\n",
    "### Coding Example in Python"
   ]
  },
  {
   "cell_type": "code",
   "execution_count": 5,
   "metadata": {},
   "outputs": [
    {
     "name": "stdout",
     "output_type": "stream",
     "text": [
      "Access denied\n",
      "Access granted\n"
     ]
    }
   ],
   "source": [
    "def allow_entry(keycard_scanned, pin_correct):\n",
    "    if keycard_scanned and pin_correct:\n",
    "        return \"Access granted\"\n",
    "    else:\n",
    "        return \"Access denied\"\n",
    "\n",
    "\n",
    "keycard_scanned = True  \n",
    "pin_correct = False     \n",
    "\n",
    "result = allow_entry(keycard_scanned, pin_correct)\n",
    "print(result)  \n",
    "\n",
    "keycard_scanned = True  \n",
    "pin_correct = True    \n",
    "\n",
    "result = allow_entry(keycard_scanned, pin_correct)\n",
    "print(result)  "
   ]
  },
  {
   "cell_type": "markdown",
   "metadata": {},
   "source": [
    "# OR \n",
    "__________________________________"
   ]
  },
  {
   "cell_type": "markdown",
   "metadata": {},
   "source": [
    "## "
   ]
  }
 ],
 "metadata": {
  "kernelspec": {
   "display_name": "Python 3",
   "language": "python",
   "name": "python3"
  },
  "language_info": {
   "codemirror_mode": {
    "name": "ipython",
    "version": 3
   },
   "file_extension": ".py",
   "mimetype": "text/x-python",
   "name": "python",
   "nbconvert_exporter": "python",
   "pygments_lexer": "ipython3",
   "version": "3.12.4"
  }
 },
 "nbformat": 4,
 "nbformat_minor": 2
}
