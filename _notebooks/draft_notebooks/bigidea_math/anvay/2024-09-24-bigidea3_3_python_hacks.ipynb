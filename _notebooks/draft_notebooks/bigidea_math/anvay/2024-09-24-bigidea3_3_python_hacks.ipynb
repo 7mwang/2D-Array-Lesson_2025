{
 "cells": [
  {
   "cell_type": "raw",
   "metadata": {
    "vscode": {
     "languageId": "raw"
    }
   },
   "source": [
    "---\n",
    "toc: false\n",
    "comments: true\n",
    "layout: post\n",
    "title: 3.3 Python Mathematical Hacks\n",
    "description: Student led teaching on  Mathematical Expressions. Learn how mathematical expressions involve using arithmetic operators (like addition, subtraction, multiplication, and division) to perform calculations\n",
    "permalink: /big-idea-3-3/math/python/hacks\n",
    "---"
   ]
  },
  {
   "cell_type": "markdown",
   "metadata": {},
   "source": [
    "# Mathematical Expressions"
   ]
  },
  {
   "cell_type": "markdown",
   "metadata": {},
   "source": [
    "## Algorithms:\n",
    "\n",
    "### What is it?\n",
    "\n",
    "An algorithm is a finite set of instructions designed to perform a specific task. It's it a set of procedures that you follow step-by-step to achieve a desired outcome. For example, when you bake cookies, you follow a series of specific steps to get the final product.\n",
    "\n",
    "### Real World Examples:\n",
    "- Getting ready in the morning\n",
    "    - First wake up and brush\n",
    "    - Wear shirt/pants/socks etc.\n",
    "    - Eat breakfast\n",
    "\n",
    "### Coding Example (in JavaScript):"
   ]
  },
  {
   "cell_type": "code",
   "execution_count": null,
   "metadata": {
    "vscode": {
     "languageId": "javascript"
    }
   },
   "outputs": [],
   "source": [
    "const array = [3, 8, 12, 6, 10, 2]; //defining a list of numbers in an array\n",
    "\n",
    "function checkForN(arr, n) {\n",
    "    for(let i = 0; i < array.length; i++) {\n",
    "        if (n === array[i]) {\n",
    "            return `${true} ${n} exists at index ${i}`;\n",
    "        }\n",
    "    }\n",
    "\n",
    "  return `${false} ${n} does not exist in the given array.`;\n",
    "}\n",
    "\n",
    "checkForN(array, 10);"
   ]
  }
 ],
 "metadata": {
  "language_info": {
   "name": "python"
  }
 },
 "nbformat": 4,
 "nbformat_minor": 2
}
