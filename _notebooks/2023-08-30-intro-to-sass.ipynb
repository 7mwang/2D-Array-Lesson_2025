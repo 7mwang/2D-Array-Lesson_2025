{
 "cells": [
  {
   "cell_type": "raw",
   "metadata": {
    "vscode": {
     "languageId": "raw"
    }
   },
   "source": [
    "---\n",
    "title: Introduction to SASS\n",
    "description: How to use SASS in your project\n",
    "layout: default\n",
    "categories: [SASS]\n",
    "permalink: /frontend/basics/SASS\n",
    "---"
   ]
  },
  {
   "cell_type": "markdown",
   "metadata": {},
   "source": [
    "## What is SASS?\n",
    "SASS (Syntactically Awesome Style Sheets) is a preprocessor language that’s interpreted into CSS. This adds power and elegance to the basic language. You can checkout the SASS files of this repository under the _sass/minima folder."
   ]
  },
  {
   "cell_type": "markdown",
   "metadata": {},
   "source": [
    "## Popcorn Hack #1\n",
    "- Go to the _sass/minima folder and change the style. You can do this by uncommenting one of the imported themes under the comment with custom styles for minima"
   ]
  },
  {
   "cell_type": "markdown",
   "metadata": {},
   "source": [
    "## SASS vs CSS\n",
    "> CSS is mainly used for simple styling while SASS is more powerful when working with more than one page\n",
    "- SASS allows for variables and mixins (reusable blocks of code). It also has nesting capabilities which increases readability"
   ]
  },
  {
   "cell_type": "code",
   "execution_count": null,
   "metadata": {
    "vscode": {
     "languageId": "html"
    }
   },
   "outputs": [],
   "source": [
    "<nav>\n",
    "    <ul>\n",
    "      <li><a href=\"#\">Home</a></li>\n",
    "      <li><a href=\"#\">About</a></li>\n",
    "      <li><a href=\"#\">Contact</a></li>\n",
    "    </ul>\n",
    "  </nav>\n",
    "\n",
    "<!-- This is CSS which doesn't utilize nesting -->\n",
    "  <style>\n",
    "    nav {\n",
    "    background-color: #333;\n",
    "    }\n",
    "\n",
    "    nav ul {\n",
    "    list-style: none;\n",
    "    }\n",
    "\n",
    "    nav ul li {\n",
    "    display: inline-block;\n",
    "    }\n",
    "\n",
    "    nav ul li a {\n",
    "    color: white;\n",
    "    text-decoration: none;\n",
    "    }\n",
    "\n",
    "    nav ul li a:hover {\n",
    "    color: #ff0;\n",
    "    }\n",
    "  </style>"
   ]
  },
  {
   "cell_type": "code",
   "execution_count": null,
   "metadata": {
    "vscode": {
     "languageId": "html"
    }
   },
   "outputs": [],
   "source": [
    "<!-- This does not actually work because it's not within a .scss file, but its a good example of nesting.-->\n",
    "<style>\n",
    "    // Declaring a variable (comments in SASS use the double slash). Variables in SASS are declared with a dollar sign and words are seperated by dashes.\n",
    "    $my-color: #333;\n",
    "    nav {\n",
    "        background-color: $my-color;\n",
    "\n",
    "        ul {\n",
    "            list-style: none;\n",
    "\n",
    "            li {\n",
    "                display: inline-block;\n",
    "\n",
    "                a {\n",
    "                    color: white;\n",
    "                    text-decoration: none;\n",
    "\n",
    "                    &:hover {\n",
    "                        color: #ff0;\n",
    "                    }\n",
    "                }\n",
    "            }\n",
    "        }\n",
    "    }\n",
    "</style>\n"
   ]
  },
  {
   "cell_type": "code",
   "execution_count": null,
   "metadata": {
    "vscode": {
     "languageId": "html"
    }
   },
   "outputs": [],
   "source": [
    "<!-- Here's how we can use mixins! -->\n",
    "<style>\n",
    "    // Mixins are just like functions. They are declared with the mixin directive and can take arguments\n",
    "    @mixin border-radius($radius) {\n",
    "        -webkit-border-radius: $radius;\n",
    "        -moz-border-radius: $radius;\n",
    "        -ms-border-radius: $radius;\n",
    "        border-radius: $radius;\n",
    "    }\n",
    "    // We can use the mixin to reduce complexity in our code\n",
    "    .box {\n",
    "        @include border-radius(10px);\n",
    "    }\n",
    "</style>"
   ]
  }
 ],
 "metadata": {
  "kernelspec": {
   "display_name": "Python 3",
   "language": "python",
   "name": "python3"
  },
  "language_info": {
   "codemirror_mode": {
    "name": "ipython",
    "version": 3
   },
   "file_extension": ".py",
   "mimetype": "text/x-python",
   "name": "python",
   "nbconvert_exporter": "python",
   "pygments_lexer": "ipython3",
   "version": "3.10.12"
  }
 },
 "nbformat": 4,
 "nbformat_minor": 2
}
