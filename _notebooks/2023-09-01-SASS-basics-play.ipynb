{
 "cells": [
  {
   "cell_type": "raw",
   "metadata": {
    "vscode": {
     "languageId": "raw"
    }
   },
   "source": [
    "---\n",
    "title: Introduction to SASS\n",
    "description: Experiment with SASS using your project\n",
    "layout: default\n",
    "categories: [SASS]\n",
    "permalink: /sass_basics/play\n",
    "---"
   ]
  },
  {
   "cell_type": "raw",
   "metadata": {
    "vscode": {
     "languageId": "raw"
    }
   },
   "source": [
    "{% include nav/sass_basics.html %}"
   ]
  },
  {
   "cell_type": "markdown",
   "metadata": {},
   "source": [
    "## What is SASS?\n",
    "SASS (Syntactically Awesome Style Sheets) is a preprocessor language that’s interpreted into CSS. This adds power and elegance to the basic language. You can checkout the SASS files of this repository under the _sass/minima folder."
   ]
  },
  {
   "cell_type": "markdown",
   "metadata": {},
   "source": [
    "## Popcorn Hack #1\n",
    "- Go to the _sass/minima folder and change the style. You can do this by uncommenting one of the imported themes under the comment with custom styles for minima"
   ]
  },
  {
   "cell_type": "markdown",
   "metadata": {},
   "source": [
    "## SASS vs CSS\n",
    "> CSS is mainly used for simple styling while SASS is more powerful when working with more than one page\n",
    "- SASS allows for variables and mixins (reusable blocks of code). It also has nesting capabilities which increases readability"
   ]
  },
  {
   "cell_type": "markdown",
   "metadata": {},
   "source": [
    "## Variable Declaration and Nesting\n",
    "- Variables can be declared and used in SCSS in this format: **$your-variable: value;**\n",
    "- Nesting is done by indenting the child elements\n",
    "- Both variables and nesting allows for reduced complexity and increased readability"
   ]
  },
  {
   "cell_type": "code",
   "execution_count": null,
   "metadata": {
    "vscode": {
     "languageId": "html"
    }
   },
   "outputs": [],
   "source": [
    "<nav>\n",
    "    <ul>\n",
    "      <li><a href=\"#\">Home</a></li>\n",
    "      <li><a href=\"#\">About</a></li>\n",
    "      <li><a href=\"#\">Contact</a></li>\n",
    "    </ul>\n",
    "  </nav>\n",
    "\n",
    "<!-- This is CSS which doesn't utilize nesting -->\n",
    "  <style>\n",
    "    nav {\n",
    "    background-color: #333;\n",
    "    }\n",
    "\n",
    "    nav ul {\n",
    "    list-style: none;\n",
    "    }\n",
    "\n",
    "    nav ul li {\n",
    "    display: inline-block;\n",
    "    }\n",
    "\n",
    "    nav ul li a {\n",
    "    color: white;\n",
    "    text-decoration: none;\n",
    "    }\n",
    "\n",
    "    nav ul li a:hover {\n",
    "    color: #ff0;\n",
    "    }\n",
    "  </style>"
   ]
  },
  {
   "cell_type": "code",
   "execution_count": null,
   "metadata": {
    "vscode": {
     "languageId": "html"
    }
   },
   "outputs": [],
   "source": [
    "<!-- This does not actually work because it's not within a .scss file, but its a good example of nesting.-->\n",
    "<style>\n",
    "    // Declaring a variable (comments in SASS use the double slash). Variables in SASS are declared with a dollar sign and words are seperated by dashes.\n",
    "    $my-color: #333;\n",
    "    // Nesting in SASS is done by indenting the child elements. This makes it much more readable\n",
    "    nav {\n",
    "        background-color: $my-color;\n",
    "\n",
    "        ul {\n",
    "            list-style: none;\n",
    "\n",
    "            li {\n",
    "                display: inline-block;\n",
    "\n",
    "                a {\n",
    "                    color: white;\n",
    "                    text-decoration: none;\n",
    "\n",
    "                    &:hover {\n",
    "                        color: #ff0;\n",
    "                    }\n",
    "                }\n",
    "            }\n",
    "        }\n",
    "    }\n",
    "</style>\n"
   ]
  },
  {
   "cell_type": "markdown",
   "metadata": {},
   "source": [
    "## Mixins\n",
    "- Mixins are a powerful feature in SASS that allow you to create reusuable blocks of styles\n",
    "- Declaration: mixins are declared using the @mixin declaration followed by a name and optionally parameters\n",
    "- Usage: To apply a mixin to a selector, use the @include directive followed by the mixin name and arguments (if any)."
   ]
  },
  {
   "cell_type": "code",
   "execution_count": null,
   "metadata": {
    "vscode": {
     "languageId": "html"
    }
   },
   "outputs": [],
   "source": [
    "<!-- Here's how we can use mixins! -->\n",
    "<style>\n",
    "    // Mixins are just like functions. They are declared with the mixin directive and can take arguments\n",
    "    @mixin border-radius($radius) {\n",
    "        border-radius: $radius;\n",
    "    }\n",
    "    // We can use the mixin to reduce complexity in our code\n",
    "    .box {\n",
    "        @include border-radius(10px);\n",
    "    }\n",
    "</style>"
   ]
  },
  {
   "cell_type": "markdown",
   "metadata": {},
   "source": [
    "## How to customize your project using SASS (Hacks)!\n",
    "- SASS can completely change the look of a project and make it more customized for what you're doing\n",
    "- If there is CSS being used on nearly every relevant page, then convert the code to SASS and make it into a SASS file\n",
    "- Make use of variables, mixins, and nesting\n",
    "- To create a new SASS file and use it, create a new file .scss file in the _sass/minima folder and add the code inside. Afterwards, make sure that this new style is imported into custom-styles.scss\n",
    "    - Format: '@import minima/[name of style].scss;'"
   ]
  },
  {
   "cell_type": "code",
   "execution_count": null,
   "metadata": {
    "vscode": {
     "languageId": "html"
    }
   },
   "outputs": [],
   "source": [
    "<!-- Here's a custom SASS that I made with my group before. Don't be afraid to look online to borrow outlines to customize and make your own! The SASS below is a Christmas themed SASS. It uses variables and mixins with minimal nesting due to it being a simple theme-->\n",
    " <style>\n",
    "    // Variables\n",
    "    $primary-font: 'Lobster', cursive;\n",
    "    $primary-bg-color: #61c0a8;\n",
    "    $secondary-bg-color: #ffffff;\n",
    "    $primary-color: white;\n",
    "    $secondary-color: #cc0000;\n",
    "    $tertiary-color: #ffd700;\n",
    "    $th-bg-color: rgb(123, 35, 53);\n",
    "    $tbody-bg-color: rgb(182, 49, 80);\n",
    "    $border-color: rgb(123, 35, 53);\n",
    "    $star-unicode: '\\2605';\n",
    "\n",
    "    // Mixins\n",
    "    @mixin font-family($font) {\n",
    "    font-family: $font !important;\n",
    "    }\n",
    "\n",
    "    @mixin background($color) {\n",
    "    background-color: $color !important;\n",
    "    }\n",
    "\n",
    "    @mixin text-style($color) {\n",
    "    color: $color;\n",
    "    }\n",
    "\n",
    "    @mixin border($color) {\n",
    "    border-color: $color !important;\n",
    "    }\n",
    "\n",
    "    @mixin box-shadow($shadow-color) {\n",
    "    text-shadow: 2px 2px 4px $shadow-color;\n",
    "    }\n",
    "\n",
    "    @mixin animation($name, $duration, $timing, $iteration) {\n",
    "    animation: #{$name} #{$duration} #{$timing} #{$iteration};\n",
    "    }\n",
    "\n",
    "    // Styles\n",
    "    header, footer {\n",
    "    @include font-family($primary-font);\n",
    "    @include background($primary-bg-color);\n",
    "    }\n",
    "\n",
    "    body {\n",
    "    @include font-family($primary-font);\n",
    "    @include background($secondary-bg-color);\n",
    "    @include text-style($primary-color);\n",
    "    background-image: url('https://images3.alphacoders.com/196/196797.jpg');\n",
    "    //filter: blur(8px);\n",
    "    }\n",
    "\n",
    "    .snow, .snow:before, .snow:after {\n",
    "    z-index: -3;\n",
    "    position: absolute;\n",
    "    top: -650px;\n",
    "    left: 0;\n",
    "    bottom: 0;\n",
    "    right: 0;\n",
    "    background-image: \n",
    "        radial-gradient(4px 4px at 100px 50px, #fff , transparent), \n",
    "        radial-gradient(6px 6px at 200px 150px, #fff, transparent), \n",
    "        radial-gradient(3px 3px at 300px 250px, #fff 50%, transparent), \n",
    "        radial-gradient(4px 4px at 400px 350px, #fff 50%, transparent), \n",
    "        radial-gradient(6px 6px at 500px 100px, #fff 50%, transparent), \n",
    "        radial-gradient(3px 3px at 50px 200px, #fff 50%, transparent), \n",
    "        radial-gradient(4px 4px at 150px 300px, #fff 50%, transparent), \n",
    "        radial-gradient(6px 6px at 250px 400px, #fff 50%, transparent), \n",
    "        radial-gradient(3px 3px at 350px 500px, #fff 50%, transparent);\n",
    "    background-size: 650px 650px;\n",
    "    @include animation(snow, 3s, linear, infinite);\n",
    "    content: \"\";\n",
    "    }\n",
    "\n",
    "    .snow:after {\n",
    "    margin-left: -250px;\n",
    "    opacity: 0.5;\n",
    "    filter: blur(2px);\n",
    "    @include animation(snow, 6s, linear, infinite reverse);\n",
    "    z-index: -4;\n",
    "    }\n",
    "\n",
    "    .snow:before {\n",
    "    margin-left: -350px;\n",
    "    opacity: 0.7;\n",
    "    filter: blur(1px);\n",
    "    @include animation(snow, 9s, linear, infinite reverse);\n",
    "    z-index: -4;\n",
    "    }\n",
    "\n",
    "    @keyframes snow {\n",
    "    to {\n",
    "        transform: translateY(650px);\n",
    "    }\n",
    "    }\n",
    "\n",
    "    th {\n",
    "    @include text-style($primary-color);\n",
    "    @include background($th-bg-color);\n",
    "    @include border($th-bg-color);\n",
    "    }\n",
    "\n",
    "    ul {\n",
    "    @include text-style($primary-color);\n",
    "    }\n",
    "\n",
    "    tbody, td, tr, table {\n",
    "    @include font-family($primary-font);\n",
    "    @include text-style($primary-color);\n",
    "    @include background($tbody-bg-color);\n",
    "    @include border($border-color);\n",
    "    }\n",
    "\n",
    "    a {\n",
    "    @include font-family($primary-font);\n",
    "    @include text-style($primary-color);\n",
    "    }\n",
    "\n",
    "    h2, p {\n",
    "    @include font-family($primary-font);\n",
    "    @include text-style($primary-color);\n",
    "    }\n",
    "\n",
    "    h1 {\n",
    "    font-size: 36px;\n",
    "    @include text-style($secondary-color);\n",
    "    text-align: center;\n",
    "    text-transform: uppercase;\n",
    "    letter-spacing: 2px;\n",
    "    margin-bottom: 20px;\n",
    "    font-weight: bold;\n",
    "    @include box-shadow($primary-color);\n",
    "    }\n",
    "\n",
    "    h1::before {\n",
    "    content: $star-unicode;\n",
    "    font-size: 42px;\n",
    "    margin-right: 10px;\n",
    "    }\n",
    "\n",
    "    h1::after {\n",
    "    content: $star-unicode;\n",
    "    font-size: 42px;\n",
    "    margin-left: 10px;\n",
    "    }\n",
    "\n",
    "    /* Additional styles for a Christmas-themed feel */\n",
    "    h1::before, h1::after {\n",
    "    display: inline-block;\n",
    "    @include animation(twinkling, 1.5s, ease-in-out, infinite);\n",
    "    @include text-style($tertiary-color);\n",
    "    }\n",
    "\n",
    "    .basicChex {\n",
    "    @include text-style($primary-color);\n",
    "    }\n",
    "\n",
    "    /* Animation for a twinkling effect */\n",
    "    @keyframes twinkling {\n",
    "    0%, 100% { opacity: 1; }\n",
    "    50% { opacity: 0.8; }\n",
    "    }\n",
    "\n",
    "    form {\n",
    "    @include text-style($primary-color);\n",
    "    }\n",
    "\n",
    " </style>"
   ]
  }
 ],
 "metadata": {
  "kernelspec": {
   "display_name": "Python 3",
   "language": "python",
   "name": "python3"
  },
  "language_info": {
   "codemirror_mode": {
    "name": "ipython",
    "version": 3
   },
   "file_extension": ".py",
   "mimetype": "text/x-python",
   "name": "python",
   "nbconvert_exporter": "python",
   "pygments_lexer": "ipython3",
   "version": "3.10.12"
  }
 },
 "nbformat": 4,
 "nbformat_minor": 2
}
