{
 "cells": [
  {
   "attachments": {},
   "cell_type": "raw",
   "metadata": {
    "vscode": {
     "languageId": "raw"
    }
   },
   "source": [
    "---\n",
    "layout: post\n",
    "title: Play with Javascript\n",
    "description: Build a simple project with Javascript \n",
    "categories: [Javascript]\n",
    "courses: { csse: {week: 3}, csp: {week: 1}, csa: {week: 0} }\n",
    "type: ccc\n",
    "permalink: /javascript/project/play\n",
    "menu: nav/javascript_project.html\n",
    "toc: true\n",
    "comments: true\n",
    "---"
   ]
  },
  {
   "attachments": {},
   "cell_type": "markdown",
   "metadata": {},
   "source": [
    "## Introduction to JavaScript and Projects \n",
    "What do beginning developers like to work on?  Everyones says the best way to learn a language is to build something. What would beginning developers like to build? \n",
    "- [Geeks for Geeks Research Ideas](https://www.geeksforgeeks.org/top-10-projects-for-beginners-to-practice-html-and-css-skills/#)\n",
    "    - Talk to someone who rembers their 1st Web project.  What did the build?\n",
    "    - Ask someone what they need.   It is always best to be working on something that is useful.\n",
    "    - Think about your school year.  Computer Science is often thought about as a tool box.  How would you use the tools of Computer Science to help you become a better student this year? "
   ]
  },
  {
   "attachments": {},
   "cell_type": "markdown",
   "metadata": {},
   "source": [
    "### Complete a Calculator\n",
    "Students can grab a simple calculator using HTML, CSS, and JavaScript. This project will introduce them to basic user interface design and event handling in JavaScript.\n",
    "- Learn about STYLE with SASS and SCRIPT with JavaScript\n",
    "- Show how style usage is integrated into the GITHUB THEME\n",
    "\n",
    "* Many calculators are available on Internet and ChatGPT, search \"calculator in javascript\".  Additionally, Teacher has these calculators...\n",
    "    > 90% Hack: Add 3 more operations on the calculator (EX: exponent)\n",
    "\n",
    "    > 100% Hack: Make one different type of calculator (graphing/programmer/matrix multiplication, inversion etc) \n",
    "    * [Binary Calculator]({{site.baseurl}}/frontend/binary-calculator)\n",
    "        > 90% Hack: Fix overflow/underflow error\n",
    "        \n",
    "        > 100% Hack: Add 2 more sets of binary manipulation sections and then display those binary values as colors"
   ]
  },
  {
   "attachments": {},
   "cell_type": "markdown",
   "metadata": {},
   "source": [
    "###  Complete a Game\n",
    "Building a game is an excellent project for students to explore more advanced JavaScript concepts, such as game logic, handling user interactions, and managing state.\n",
    "\n",
    "* Many Tic Tac Toe games are available on Internet and ChatGPT, search \"tic-tack-toe in javascript\".  Additionally, Here are a couple of games that are very common...\n",
    "    * [Snake Game]({{site.baseurl}}/frontend/snake)\n",
    "        > 90% Hack: Add a game over screen/popup/notification\n",
    "\n",
    "        > 100% Hack: Add two color sliders to change color of \"alive\" squares and color of \"dead\" squares\n",
    "    * [Game of Life]({{site.baseurl}}/frontend/life)\n",
    "        > 90% Hack: Make grid, Make arrow keys dont move screen around\n",
    "\n",
    "        > 100% Hack: Make powerups (EX: Extra life)"
   ]
  },
  {
   "cell_type": "markdown",
   "metadata": {},
   "source": [
    "### Explore the world of API's\n",
    "There are many providers of data on the internet, they service that data through API's.  As a programmer,we find data, searc data and format data.  We NEVER turn in \"static\" data that we type into Javascript.  There is ALWAYS a BETTER WAY than static data.\n",
    "\n",
    "#### iTunes API\n",
    "The music API example is an endpoint for itunes.apple.com.   A request to itunes providea a response.   They create and manage the iTunes data, we code and do not perform data entry.   The formatting of the response provides the Input and Output interaction with the itunes data.  \n",
    "\n",
    "We do not create or manage their data.  The itunes system has  backend processes that create and store data.  \n",
    "\n",
    "As we play with the API, we itunes could provide:\n",
    "\n",
    "- A better starting screen.  Perhaps provide sample queries on screen.\n",
    "- Provide local storage to show recent or liked queries by the user.\n",
    "- Have interaction between this API and other functions on our site.  For instance, we could allow music selection to dictate background music while playing a platformer game.\n",
    "\n",
    "But additionally, we could explore backend service from itunes to:\n",
    "\n",
    "- Show most popular queries.\n",
    "- Show songs by genre.\n",
    "- Show songs by era.\n"
   ]
  }
 ],
 "metadata": {
  "language_info": {
   "name": "python"
  },
  "orig_nbformat": 4
 },
 "nbformat": 4,
 "nbformat_minor": 2
}
