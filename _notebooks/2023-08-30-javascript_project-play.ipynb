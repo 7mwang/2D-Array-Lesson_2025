{
 "cells": [
  {
   "attachments": {},
   "cell_type": "raw",
   "metadata": {
    "vscode": {
     "languageId": "raw"
    }
   },
   "source": [
    "---\n",
    "layout: post\n",
    "title: Play with Javascript\n",
    "description: Build a simple project with Javascript \n",
    "categories: [Javascript]\n",
    "courses: { csse: {week: 3}, csp: {week: 1}, csa: {week: 0} }\n",
    "type: ccc\n",
    "permalink: /javascript/project/play\n",
    "menu: nav/javascript_project.html\n",
    "toc: true\n",
    "comments: true\n",
    "---"
   ]
  },
  {
   "attachments": {},
   "cell_type": "markdown",
   "metadata": {},
   "source": [
    "## Introduction to JavaScript and Projects \n",
    "What do beginning developers like to work on?  Everyones says the best way to learn a language is to build something. What would beginning developers like to build? \n",
    "- [Geeks for Geeks Research Ideas](https://www.geeksforgeeks.org/top-10-projects-for-beginners-to-practice-html-and-css-skills/#)\n",
    "    - Talk to someone who rembers their 1st Web project.  What did the build?\n",
    "    - Ask someone what they need.   It is always best to be working on something that is useful.\n",
    "    - Think about your school year.  Computer Science is often thought about as a tool box.  How would you use the tools of Computer Science to help you become a better student this year? "
   ]
  },
  {
   "attachments": {},
   "cell_type": "markdown",
   "metadata": {},
   "source": [
    "### Complete a Calculator\n",
    "Students can grab a simple calculator using HTML, CSS, and JavaScript. This project will introduce them to basic user interface design and event handling in JavaScript.\n",
    "- Learn about STYLE with SASS and SCRIPT with JavaScript\n",
    "- Show how style usage is integrated into the GITHUB THEME\n",
    "\n",
    "* Many calculators are available on Internet and ChatGPT, search \"calculator in javascript\".  Additionally, Teacher has these calculators...\n",
    "    * [Calculator with Background]({{site.baseurl}}/frontend/js-calculator)\n",
    "    * [Binary Calculator]({{site.baseurl}}/frontend/binary-calculator)"
   ]
  },
  {
   "attachments": {},
   "cell_type": "markdown",
   "metadata": {},
   "source": [
    "###  Complete a Game\n",
    "Building a game is an excellent project for students to explore more advanced JavaScript concepts, such as game logic, handling user interactions, and managing state.\n",
    "\n",
    "* Many Tic Tac Toe games are available on Internet and ChatGPT, search \"tic-tack-toe in javascript\".  Additionally, Here are a couple of games that are very common...\n",
    "    * [Snake Game]({{site.baseurl}}/frontend/snake)\n",
    "    * [Game of Life]({{site.baseurl}}/frontend/life)"
   ]
  }
 ],
 "metadata": {
  "language_info": {
   "name": "python"
  },
  "orig_nbformat": 4
 },
 "nbformat": 4,
 "nbformat_minor": 2
}
