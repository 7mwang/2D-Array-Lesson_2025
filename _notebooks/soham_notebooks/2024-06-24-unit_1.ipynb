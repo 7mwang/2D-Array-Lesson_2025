{
 "cells": [
  {
   "cell_type": "code",
   "execution_count": null,
   "metadata": {},
   "outputs": [],
   "source": [
    "---\n",
    "layout: post\n",
    "toc: true\n",
    "title: Unit 1 Lesson\n",
    "description: Unit 1 Lesson\n",
    "authors: Aniket Chakradeo, Soham Kamat\n",
    "courses: { csa: {week: 1} }\n",
    "categories: [AP_Prep]\n",
    "type: ccc\n",
    "permalink: /unit1lesson\n",
    "---"
   ]
  }
 ],
 "metadata": {
  "language_info": {
   "name": "python"
  }
 },
 "nbformat": 4,
 "nbformat_minor": 2
}
