{
 "cells": [
  {
   "cell_type": "markdown",
   "metadata": {},
   "source": [
    "---\n",
    "layout: post\n",
    "toc: true\n",
    "title: Unit 2 - Using Objects\n",
    "description: Using Objects\n",
    "authors: Aniket Chakradeo, Soham Kamat\n",
    "courses: { csa: {week: 1} }\n",
    "categories: [AP_Prep]\n",
    "type: ccc\n",
    "permalink: /unit2lesson\n",
    "---"
   ]
  }
 ],
 "metadata": {
  "kernelspec": {
   "display_name": "Java",
   "language": "java",
   "name": "java"
  },
  "language_info": {
   "name": "java"
  }
 },
 "nbformat": 4,
 "nbformat_minor": 2
}
