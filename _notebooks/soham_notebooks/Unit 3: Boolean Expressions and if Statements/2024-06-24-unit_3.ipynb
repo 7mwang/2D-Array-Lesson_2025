{
 "cells": [
  {
   "cell_type": "markdown",
   "metadata": {},
   "source": [
    "---\n",
    "layout: post\n",
    "toc: true\n",
    "title: Unit 3 - Boolean Expressions and If Statements\n",
    "description: Boolean Expressions and If Statements\n",
    "authors: Aniket Chakradeo, Soham Kamat\n",
    "courses: { csa: {week: 1} }\n",
    "categories: [AP_Prep]\n",
    "type: ccc\n",
    "permalink: /unit3lesson\n",
    "---"
   ]
  }
 ],
 "metadata": {
  "kernelspec": {
   "display_name": "Java",
   "language": "java",
   "name": "java"
  },
  "language_info": {
   "name": "java"
  }
 },
 "nbformat": 4,
 "nbformat_minor": 2
}
