{
 "cells": [
  {
   "cell_type": "markdown",
   "metadata": {},
   "source": [
    "---\n",
    "layout: post\n",
    "title: SASS Hacks\n",
    "description: Applying you're knowledge to these SASS problems\n",
    "permalink: /sass_basics/hacks\n",
    "menu: nav/sass_basics.html\n",
    "toc: true\n",
    "comments: true\n",
    "author: Finn Carpenter\n",
    "---"
   ]
  },
  {
   "cell_type": "markdown",
   "metadata": {},
   "source": [
    "## SASS Hacks Overview\n",
    "- Make sure to copy these code segments/notebook into you're own blog\n",
    "- wget link:\n",
    "- Use chatGPT as needed, recommend to use articles from the the nav\n",
    "- Implement at least one of these questions into you're blog\n",
    "\n",
    "## Hacks checklist\n",
    "1. Complete the questions below\n",
    "2. Implement one of these concepts into you're project\n",
    "3. Discover and add a new concept not listed from below into your'e hacks\n",
    "\n",
    "### Question 1\n",
    "- Make the animation work in an infinite loop\n",
    "- Make the colors match the rainbow\n",
    "- Fix the keyframes\n",
    "\n",
    "<br>"
   ]
  },
  {
   "cell_type": "markdown",
   "metadata": {},
   "source": [
    "```scss\n",
    "@keyframes rainbow {\n",
    "  // 0% { color: red; }\n",
    "  14% { color: orange; }\n",
    "  28% { background-color: yellow; }\n",
    "  42% { border-color: red; }\n",
    "  // 57% { background-color: red; }\n",
    "  71% { background-color: red; }\n",
    "  85% { background-color: violet; }\n",
    "  100% { background-color: yellow; }\n",
    "}\n",
    "\n",
    ".rainbow {\n",
    "  width: 100px;\n",
    "  height: 100px;\n",
    "  animation: rainbow 1s linear;\n",
    "}\n",
    "```\n",
    "\n"
   ]
  },
  {
   "cell_type": "code",
   "execution_count": null,
   "metadata": {
    "vscode": {
     "languageId": "html"
    }
   },
   "outputs": [],
   "source": [
    "<!-- HTML CODE NEEDED-->\n",
    "<div class=\"rainbow\"></div>"
   ]
  },
  {
   "cell_type": "markdown",
   "metadata": {},
   "source": [
    "<div class=\"rainbow\"> ;) </div>\n",
    "\n",
    "### Question 2\n",
    "- Make the entire animations\n",
    "- Movement has to be different than mine to mine\n",
    "\n",
    "<br>\n",
    "<br>"
   ]
  },
  {
   "cell_type": "markdown",
   "metadata": {},
   "source": [
    "```scss\n",
    "@keyframes spin {\n",
    "\n",
    "}\n",
    "\n",
    "@keyframes move {\n",
    "\n",
    "}\n",
    "```"
   ]
  },
  {
   "cell_type": "code",
   "execution_count": null,
   "metadata": {
    "vscode": {
     "languageId": "html"
    }
   },
   "outputs": [],
   "source": [
    "<!-- HTML CODE NEEDED-->    \n",
    "<div class=\"spinMove\"></div>"
   ]
  },
  {
   "cell_type": "markdown",
   "metadata": {},
   "source": [
    "<div class=\"spinMove\">Code Code Code</div>"
   ]
  },
  {
   "cell_type": "markdown",
   "metadata": {},
   "source": [
    "## You're own creation\n",
    "- Needs to be something different than what the two questions above are talking about\n",
    "- Finding it hard to start on something, type in \"cool SASS designs\", ask Chat to help create cool design\n",
    "- Implement this into you're project"
   ]
  }
 ],
 "metadata": {
  "kernelspec": {
   "display_name": "Python 3",
   "language": "python",
   "name": "python3"
  },
  "language_info": {
   "codemirror_mode": {
    "name": "ipython",
    "version": 3
   },
   "file_extension": ".py",
   "mimetype": "text/x-python",
   "name": "python",
   "nbconvert_exporter": "python",
   "pygments_lexer": "ipython3",
   "version": "3.8.10"
  }
 },
 "nbformat": 4,
 "nbformat_minor": 2
}
