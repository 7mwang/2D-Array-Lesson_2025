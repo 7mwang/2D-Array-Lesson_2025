{
 "cells": [
  {
   "cell_type": "raw",
   "metadata": {
    "vscode": {
     "languageId": "raw"
    }
   },
   "source": [
    "---\n",
    "layout: post\n",
    "title: GitHub Pages Playground \n",
    "description: The Web Programming topics are focused on learning Frontend programming, GitHub Pages, and Jupyter Notebooks.\n",
    "categories: [Javascript]\n",
    "permalink: /github/pages/playground\n",
    "type: ccc\n",
    "courses: { csse: {week: 1}, csp: {week: 1}, csa: {week: 0} }\n",
    "author: John Mortensen\n",
    "menu: nav/github_pages.html\n",
    "---"
   ]
  },
  {
   "cell_type": "markdown",
   "metadata": {},
   "source": [
    "\n",
    "## GitHub Pages Frontend Development\n",
    "This mini project is intended to help student make their own submenu, start Web Programming, and learn GitHub Pages. The original topics for these lessons include ...\n",
    "- Making a submenu\n",
    "- Using the submenu to Guide topics\n",
    "- Make your own customized pages for elements on the submenu\n",
    "- Making a page that has dynamic actions through JavaScript\n",
    "- Review usage of Styles in GitHub Pages\n",
    "- Start the process of debugging\n",
    "\n",
    "## Files in this mini project\n",
    "Learning how to identify files in GitHub Pages is a key skill.  The class will continually share files and have challenges using GitHup Pages and Jupyter Notebooks. \n",
    "- To copy files between repostories, open two vscode windows and you can drag and drop\n",
    "- The _includes directory is the default location to place files that you want to share across many files. i\n",
    "  - Copy the file _includes/nav/frontend_basics.html into the _includes folder of your student repository.  \n",
    "  - This creates the navigation links between the different pages in this mini project\n",
    "- The _notebooks directory is the default location to place all .ipynb files.  These are interactive notebooks in VSCode and are converted to Web Pages through GitHub Pages Actions.\n",
    "  - Copy all files that contain **frontend-basics** in the name.\n",
    "\n",
    "## JavaScript console in VSCode for Jupyter Notebooks\n",
    "- When printing outputs from javascript to the console you will need to open the developer console\n",
    "  - Go to Help->Toggle Developer Tools and click console on the top bar of the developer window"
   ]
  }
 ],
 "metadata": {
  "kernelspec": {
   "display_name": "Python 3",
   "language": "python",
   "name": "python3"
  },
  "language_info": {
   "name": "python",
   "version": "3.9.12"
  },
  "orig_nbformat": 4
 },
 "nbformat": 4,
 "nbformat_minor": 2
}
