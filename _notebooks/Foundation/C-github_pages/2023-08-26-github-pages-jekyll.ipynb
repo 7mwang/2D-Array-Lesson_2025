{
 "cells": [
  {
   "cell_type": "raw",
   "metadata": {
    "vscode": {
     "languageId": "raw"
    }
   },
   "source": [
    "---\n",
    "layout: post\n",
    "title: GitHub Pages Jekyll \n",
    "description: Learn about the power of GitHub Pages and Jekyll \n",
    "categories: [Github Pages]\n",
    "permalink: /github/pages/jekyll\n",
    "menu: nav/github_pages.html\n",
    "toc: true\n",
    "comments: true\n",
    "---"
   ]
  },
  {
   "cell_type": "markdown",
   "metadata": {},
   "source": [
    "## GitHub Pages and Jekyll\n",
    "GitHub Pages leverages the power of Jekyll to transform your Markdown and HTML files into a static website. \n",
    "\n",
    "1. **Front Matter**: All Markdown (`.md`) and Jupyter Notebook (`.ipynb`) files with front matter are processed into a static data structure, making their keys and values accessible to the GitHub Pages system via Jekyll.\n",
    "\n",
    "2. **Jekyll Language**: Jekyll can access all site-wide keys and values defined in `_config.yml`, as well as individual page front matter keys and values. This allows for dynamic organization and rendering of documents based on their metadata."
   ]
  },
  {
   "cell_type": "markdown",
   "metadata": {},
   "source": [
    "## Jekyll and Liquid\n",
    "The primary purpose of Jekyll within GitHub Pages is to help developers create dynamic web pages. By using site and page front matter, you can organize and render pages based on data. Liquid provides the templating syntax that allows you to dynamically generate content within your Jekyll templates. In essence, Jekyll is the system, and Liquid is the templating language.\n",
    "\n",
    "Jekyll and Liquid provide programming constructs that are essential in all programming environments. These constructs are particularly relevant to concepts required by AP (CSP, CSA) and college articulated courses (CSSE, Data Structures).\n",
    "\n",
    "Here are these key elements as defined in Liquid:\n",
    "\n",
    "- **Variable Assignments**: This assigns all the posts in the site to the variable rawposts.\n",
    "  ```liquid\n",
    "  {% assign rawposts = site.posts %}\n",
    "  ```\n",
    "\n",
    "- **Conditionals**: This checks if the number of posts is greater than zero.\n",
    "  ```liquid\n",
    "  {%- if posts.size > 0 -%}\n",
    "  {%- endif %}\n",
    "  ```\n",
    "\n",
    "- **xLoops**: This iterates through each post in the site's posts.\n",
    "  ```liquid\n",
    "  {%- for post in site.posts -%}\n",
    "  {%- endfor -%}\n",
    "  ```"
   ]
  },
  {
   "cell_type": "markdown",
   "metadata": {},
   "source": [
    "## Blogging Example\n",
    "A core part of this project is the `blogs` layout (`_layouts/blogs.html`). The block below shows how Jekyll and Liquid are used to organize the blog list on this site. Read the comments and consider changes to the front matter that you could make to utilize the features of this code.\n",
    "\n",
    "```liquid\n",
    "<!-- This inserts content from the page using this layout -->\n",
    "{{ content | markdownify }}\n",
    "\n",
    "<!-- Get all posts -->\n",
    "{% assign rawposts = site.posts %}\n",
    "\n",
    "<!-- Hide posts if front matter flag hide:true -->\n",
    "{% assign posts = '' | split:'' %}\n",
    "{% for post in rawposts %}\n",
    "  {% if post.hide != true %}\n",
    "    {% assign posts = posts | push: post %}\n",
    "  {% endif %}\n",
    "{% endfor %}\n",
    "\n",
    "<!-- Sort posts by rank, then date, put posts with \"sticky_posts: 1\" front matter at the top -->\n",
    "{% assign grouped_posts = posts | group_by: \"sticky_rank\" | sort: \"name\", \"last\" %}\n",
    "{% assign sticky_posts = '' | split:'' %}\n",
    "{% assign non_sticky_posts = '' | split:'' %}\n",
    "<!-- Split posts into sticky and non-sticky -->\n",
    "{% for gp in grouped_posts %}\n",
    "  {%- if gp.name == \"\" -%}\n",
    "    {% assign non_sticky_posts = gp.items | sort: \"date\" | reverse %}\n",
    "  {%- else %}\n",
    "    {% assign sticky_posts = sticky_posts | concat: gp.items %}\n",
    "  {%- endif %}\n",
    "{% endfor %}\n",
    "\n",
    "<!-- Generate Card for each Post -->\n",
    "{% assign sticky_posts = sticky_posts | sort: \"sticky_rank\", \"last\" %}\n",
    "{% assign posts = sticky_posts | concat: non_sticky_posts %}\n",
    "{%- if posts.size > 0 -%}\n",
    "  {%- if page.list_title -%}\n",
    "    <h2 class=\"post-list-heading\">{{ page.list_title }}</h2>\n",
    "  {%- endif -%}\n",
    "  <ul class=\"post-list\">\n",
    "    {%- assign date_format = site.minima.date_format | default: \"%b %-d, %Y\" -%}\n",
    "    {%- for post in posts -%}\n",
    "    <li>\n",
    "      {%- include post_list_image_card.html -%}\n",
    "    </li>\n",
    "    {%- endfor -%}\n",
    "  </ul>\n",
    "{%- endif -%}"
   ]
  }
 ],
 "metadata": {
  "language_info": {
   "name": "python"
  }
 },
 "nbformat": 4,
 "nbformat_minor": 2
}
