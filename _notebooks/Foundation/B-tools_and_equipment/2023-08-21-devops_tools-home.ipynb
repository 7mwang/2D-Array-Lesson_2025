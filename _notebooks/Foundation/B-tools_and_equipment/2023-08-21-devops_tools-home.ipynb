{
 "cells": [
  {
   "cell_type": "raw",
   "metadata": {
    "vscode": {
     "languageId": "raw"
    }
   },
   "source": [
    "---\n",
    "toc: false\n",
    "comments: true\n",
    "layout: post\n",
    "title: Tools and Equipment\n",
    "description: Tech has reshaped our lives, from the internet to the smartphone in your phone pocket, or the advent of AI.  This course is opening new technology possibilities, by equipping you with the developer tools that are the keys to boundless technology possibilities.\n",
    "courses: { csse: {week: 0}, csp: {week: 0}, csa: {week: 0} }\n",
    "type: ccc\n",
    "categories: [DevOps]\n",
    "permalink: /devops/tools/home\n",
    "menu: nav/devops_tools.html\n",
    "toc: true\n",
    "comments: true\n",
    "---"
   ]
  },
  {
   "cell_type": "markdown",
   "metadata": {},
   "source": [
    "## Quick Start to Development Tools\n",
    "Embrace the essentials of development with a focus on practical tools and equipment. This intro highlights the core components you'll need for a smooth entry into coding, collaboration, and project creation.\n",
    "\n",
    "A Computer, GitHub, and a Code Editor are the starting points for rapid entry into <mark>Code/Code/Coding</mark>.  Add Jupyter Notebooks (computational documents) and you bridge a Computer to the field of Data Science."
   ]
  },
  {
   "cell_type": "markdown",
   "metadata": {},
   "source": [
    "## Essentials\n",
    "- Laptop Requirement: Ensure you have a laptop with development tools installed. MacOS and Windows are preferred. Chromebooks are supported by using a KASM cloud workspace.\n",
    "- Version Control: GitHub will store your coding projects and is used as a collaboration hub with others.\n",
    "- Code Editor: This course will use Visual Studio Code for its extensive support for programming languages and helpful coding features.\n",
    "- Interactive Coding: In this class, coding will be interactive and instantaneous.  Visual Studio Code, with support for Jupyter Notebooks and GitHub Pages, is ideal for coding, data analysis, capturing notes and creating documentation.\n",
    "- Web Hosting: Throughout this course, Students and Teachers will publish their projects and notes.  Students will showcase their projects and chronicle their development journey.\n",
    "- Application Containerization:  Using tools like GitHub Pages, Docker, and AWS teach students to create, deploy, and run applications on the Internet.\n",
    "- Communication and Collaboration: Stay updated and connected with course announcements and discussions using Slack. The DM, group messages, and channel communication options allow students to be informed.  "
   ]
  },
  {
   "cell_type": "markdown",
   "metadata": {},
   "source": [
    "## Obtain Tool and Setup Depth\n",
    "- GitHub portal:  Create an account!  GitHub will be used to store coding projects, plan and track those projects, and publish those projects on the internet.\n",
    "- MacOS Tools: The Terminal with the Homebrew `brew` command is used for MacOS developer tools installation. \n",
    "- Windows Tools: The Terminal with the `wsl` command sets a Linux shell.  The `apt` command in that shell is used to for Ubuntu developer tools installation.\n",
    "- Visual Studio and the VS Code marketplace:  Become familiar with the Visual Studio editor and the marketplace extensions to improve you on the path to editing code as a Developer.\n",
    "- Python Packages: Learn the Terminal command `pip` to add Python libraries to your projects.  A library is code written and shared by others.\n",
    "- Java Packages: Learn the pom.xml configuration file used to add Java 3rd-party libraries to your project."
   ]
  },
  {
   "cell_type": "markdown",
   "metadata": {},
   "source": [
    "## Engagement and Participation\n",
    "- Active Participation: Bringing your laptop daily is crucial. Lack of access to necessary tools equates to an absence and will require makeup.\n",
    "- Understanding Tools: Daily engagement with tools.  Talk about what you learn as you use your tools with your pair coder, then share newly learned elements with others. Familiarity and sharing will breed understanding and efficiency in your individual and team projects.\n",
    "- Community and Support: Be a daily communicator at your table and in Slack. Start the communication habit now.  Information sharing needs to be constant and timely.\n",
    "- Team and Project Communication:  Start researching tenants of Agile/Scrum methodologies. Use the GitHub Issue and GitHub Project tools. All students will qualify for the right to be on a project team based on fundamental tool knowledge, communication habits, and supporting assessments and analytics."
   ]
  }
 ],
 "metadata": {
  "language_info": {
   "name": "python"
  }
 },
 "nbformat": 4,
 "nbformat_minor": 2
}
