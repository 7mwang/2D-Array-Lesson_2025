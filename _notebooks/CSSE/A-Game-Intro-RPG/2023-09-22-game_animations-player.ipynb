{
 "cells": [
  {
   "attachments": {},
   "cell_type": "raw",
   "metadata": {
    "vscode": {
     "languageId": "raw"
    }
   },
   "source": [
    "---\n",
    "toc: true\n",
    "layout: post\n",
    "title: Player \n",
    "description: A guide to understand the Player.js algorithms.\n",
    "menu: nav/game_intro.html\n",
    "permalink: /game/intro/player\n",
    "---\n"
   ]
  },
  {
   "cell_type": "markdown",
   "metadata": {},
   "source": [
    "## Popcorn Hack\n",
    "\n",
    "Provide examples of code from `Player.js` to illustrate and define these terms.\n",
    "\n",
    "1. **Dependencies**\n",
    "\n",
    "2. **Constructor**\n",
    "\n",
    "3. **Attributes**\n",
    "\n",
    "4. **Methods**\n",
    "\n",
    "5. **Exports**"
   ]
  },
  {
   "attachments": {},
   "cell_type": "markdown",
   "metadata": {},
   "source": [
    "### Setting up Player \n",
    "This articles will review the `Player.js` algoritmic code."
   ]
  }
 ],
 "metadata": {
  "kernelspec": {
   "display_name": "base",
   "language": "python",
   "name": "python3"
  },
  "language_info": {
   "codemirror_mode": {
    "name": "ipython",
    "version": 3
   },
   "file_extension": ".py",
   "mimetype": "text/x-python",
   "name": "python",
   "nbconvert_exporter": "python",
   "pygments_lexer": "ipython3",
   "version": "3.12.5"
  },
  "orig_nbformat": 4
 },
 "nbformat": 4,
 "nbformat_minor": 2
}
