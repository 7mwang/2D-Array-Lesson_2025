{
 "cells": [
  {
   "cell_type": "raw",
   "metadata": {
    "vscode": {
     "languageId": "raw"
    }
   },
   "source": [
    "---\n",
    "toc: true\n",
    "layout: post\n",
    "title: Ideation Hacks \n",
    "description: Minimum elements to accomplish in this project\n",
    "menu: nav/game_intro.html\n",
    "permalink: /game/hacks\n",
    "courses: { csse: {week: 5} }\n",
    "type: ccc\n",
    "---"
   ]
  },
  {
   "cell_type": "markdown",
   "metadata": {},
   "source": [
    "## Ideation Hacks \n",
    "\n",
    "The objective of this introduction to games and animation is to learn how to ideate and code."
   ]
  },
  {
   "cell_type": "markdown",
   "metadata": {},
   "source": [
    "### Integration\n",
    "\n",
    "You must be able to follow the instructions in the Anatomy section and integrate the RPT Game into your repository.\n",
    "\n",
    "1. Make an Issue\n",
    "2. Capture links to your key commits.\n",
    "3. Capture a link to your completed action.\n",
    "4. Capture screen shot that includes your link and running Turtle/Water."
   ]
  },
  {
   "cell_type": "markdown",
   "metadata": {},
   "source": [
    "### Build a Blog(s) to summarize lesson\n",
    "\n",
    "Capture these items into a personal blog or blog(s)\n",
    "\n",
    "1. As a review create a blog that help you setup a project, for Kasm users include steps to activate tools and start a project.\n",
    "2. Have a link to your Issue that reminds you of key files and changes to get the game working on your machine (link to Integration hack above) \n",
    "3. Be sure to define key parts to defining a class.  Use popcorn hack to define key elements in Player.js (Dependencies, Constructor, Attributes, Methods, Exports)\n",
    "4. Capture, show JSON objects and assets you changed to personalize RPG Game to your own.  New background and new sprite."
   ]
  },
  {
   "cell_type": "markdown",
   "metadata": {},
   "source": [
    "## Ideation Hacks\n",
    "\n",
    "To learn how to code in PBL you need to build a plan and start to work on it.  Let's start that process."
   ]
  },
  {
   "cell_type": "markdown",
   "metadata": {},
   "source": [
    "### Home Page\n",
    "\n",
    "At this point you should have a Snake Game and this RPG Game to add to your Blog.   Start the process of organizing you index.md to capture your key hacks so far.   Make links and descriptions from your index.md file to show your projects and progress.   Be sure to update this throughout the trimester.  \n",
    "\n",
    "- Form a strategy for index.md\n",
    "- Capture key projects you want to showcase.\n",
    "- Add visuals and text to make it interesting."
   ]
  },
  {
   "cell_type": "markdown",
   "metadata": {},
   "source": [
    "### Ideas Page\n",
    "\n",
    "In the ideas page you should be describing elements you want to do in coding.  This is general, but could be complemented by the RPG game.  If you don't have any ideas froom Snake Game, RPG Game, or Platformer Game at this point in time it will be hard for you to be creative in the future.   \n",
    "\n",
    "- Form a strategy for ideas.md\n",
    "- Be sure you have started some ideas.  \n",
    "- Add some ideas for RPG Game\n",
    "- Add visuals and text to make it understandable.\n",
    "- Link to Issues that capture history or work that supports your ideas.\n",
    "- Create a section that links to your \"soft skills\", use soft skills to show growth toward ideas."
   ]
  },
  {
   "cell_type": "markdown",
   "metadata": {
    "vscode": {
     "languageId": "raw"
    }
   },
   "source": [
    "### RPG Game Ideas Hack\n",
    "\n",
    "Here are some ideas for a role-playing game (RPG) that you can create using the starters you have learned in this course.\n",
    "\n",
    "- [ ] Create a player\n",
    "- [ ] Create a monster  \n",
    "- [ ] Create a weapon\n",
    "- [ ] Create a spell\n",
    "- [ ] Create a map\n",
    "- [ ] Create a quest\n"
   ]
  },
  {
   "cell_type": "markdown",
   "metadata": {},
   "source": [
    "### Ideation/Early Coding Hack\n",
    "\n",
    "After making a preliminary plan, start to edit the Turtle - Water world to your own world.  Then you might ask yourself or teacher some of the following questions.\n",
    "\n",
    "- Make some code changes in your own Blog/Repo (ie change Background and Player)\n",
    "- Try to make a code change beyond change JSON Object.\n",
    "- Could I make a monster?  Is it like an Apple in Snake?  Is it an NPC?\n",
    "- Do I need a collision in my Game?\n",
    "- Is a map and image?  How do I setup boundaries?\n",
    "- What experiments can I try on my own from what I know?\n",
    "- Can I team up with pair or table to work on these elements together?\n"
   ]
  },
  {
   "cell_type": "markdown",
   "metadata": {},
   "source": [
    "### Collaboration Hack\n",
    "\n",
    "Do the following, work as table.\n",
    "\n",
    "- Capture a few screen designs and requirements for RPG game.\n",
    "- Advocate for change or idea by asking fellow Table, Teacher or TA some questions."
   ]
  }
 ],
 "metadata": {
  "language_info": {
   "name": "python"
  }
 },
 "nbformat": 4,
 "nbformat_minor": 2
}
