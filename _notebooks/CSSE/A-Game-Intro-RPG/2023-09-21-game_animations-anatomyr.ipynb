{
 "cells": [
  {
   "attachments": {},
   "cell_type": "raw",
   "metadata": {
    "vscode": {
     "languageId": "raw"
    }
   },
   "source": [
    "---\n",
    "toc: true\n",
    "layout: post\n",
    "title: Anatomy of RPG Game \n",
    "description: A guide to using Javascript, and to learning how to build, edit and change the RPG game.\n",
    "menu: nav/game_intro.html\n",
    "permalink: /game/intro/anatomy\n",
    "---\n"
   ]
  },
  {
   "attachments": {},
   "cell_type": "markdown",
   "metadata": {},
   "source": [
    "## Setting up RPG Game\n",
    "\n",
    "This guide will walk you through the steps to set up and modify a starter [RPG Player Game]({{site.baseurl}}/images/rpg/turtle.png) as a demonstration.\n",
    "\n",
    "> Download the assets to your personal instance of the `student_2025` repository.\n",
    "\n",
    "Ensure that the code and assets are copied into the correct locations in your project for everything to work seamlessly.\n",
    "\n",
    "- **_config.yml**: References `navigation/rpg.md` for navigation.\n",
    "- **assets/js/rpg**: JavaScript files for the game.\n",
    "- **images/rpg**: Images for background and sprite.\n",
    "- **navigation/rpg.md**: File that loads the game."
   ]
  },
  {
   "cell_type": "markdown",
   "metadata": {},
   "source": [
    "### Game Starting Code (rpg.md)\n",
    "\n",
    "Here are the highlights of this file:\n",
    "- The `rpg.md` file is converted to HTML.\n",
    "- All visuals of the game are rendered into the canvas (`<canvas></canvas>`).\n",
    "- The script section performs two key functions:\n",
    "    - Defines data for assets in the game.\n",
    "    - Starts the game.\n",
    "\n",
    "> Let's play with the game to see behavior differences by including assets."
   ]
  },
  {
   "cell_type": "code",
   "execution_count": null,
   "metadata": {
    "vscode": {
     "languageId": "html"
    }
   },
   "outputs": [],
   "source": [
    "<canvas id='gameCanvas'></canvas>\n",
    "\n",
    "<script type=\"module\">\n",
    "    import GameControl from '{{site.baseurl}}/assets/js/rpg/GameControl.js';\n",
    "\n",
    "    // Background data\n",
    "    const image_src = \"{{site.baseurl}}/images/rpg/water.png\";\n",
    "    const image_data = {\n",
    "        pixels: {height: 580, width: 1038}\n",
    "    };\n",
    "    const image = {src: image_src, data: image_data};\n",
    "\n",
    "    // Sprite data\n",
    "    const sprite_src = \"{{site.baseurl}}/images/rpg/turtle.png\";\n",
    "    const sprite_data = {\n",
    "        SCALE_FACTOR: 10,\n",
    "        STEP_FACTOR: 1000,\n",
    "        ANIMATION_RATE: 50,\n",
    "        pixels: {height: 280, width: 256},\n",
    "        orientation: {rows: 4, columns: 3 },\n",
    "        down: {row: 0, start: 0, columns: 3 },\n",
    "        left: {row: 1, start: 0, columns: 3 },\n",
    "        right: {row: 2, start: 0, columns: 3 },\n",
    "        up: {row: 3, start: 0, columns: 3 },\n",
    "    };\n",
    "    const sprite = {src: sprite_src, data: sprite_data};\n",
    "\n",
    "    // Uncomment 1 of the 4 lines to change assets being used\n",
    "    //const assets = {}\n",
    "    //const assets = {image: image}\n",
    "    //const assets = {sprite: sprite}\n",
    "    const assets = {image: image, sprite: sprite}\n",
    "\n",
    "    // Start game engine\n",
    "    GameControl.start(assets);\n",
    "</script>"
   ]
  },
  {
   "cell_type": "markdown",
   "metadata": {},
   "source": [
    "## Using Object Oriented Programming "
   ]
  },
  {
   "cell_type": "markdown",
   "metadata": {},
   "source": [
    "### Game Control (assets/js/rpg/GameControl)\n",
    "\n",
    "This code uses the JavaScript **object literal pattern** to centralize control logic. This pattern allows key events to be concise and managed in one location.\n",
    "\n",
    "> Review central logic of the game\n",
    "\n",
    "- **start**: Code that starts the game.\n",
    "- **gameLoop**: Recursive code that keeps the game running.\n",
    "- **resize**: Code that adjusts the game when you resize the screen, demonstrating dynamic sizing."
   ]
  },
  {
   "cell_type": "code",
   "execution_count": null,
   "metadata": {
    "vscode": {
     "languageId": "javascript"
    }
   },
   "outputs": [],
   "source": [
    "import GameEnv from './GameEnv.js';\n",
    "import Background from './Background.js';\n",
    "import Player from './Player.js';\n",
    "\n",
    "/**\n",
    " * The GameControl object manages the game.\n",
    " * \n",
    " * This code uses the JavaScript \"object literal pattern\" which is nice for centralizing control logic.\n",
    " * \n",
    " * The object literal pattern is a simple way to create singleton objects in JavaScript.\n",
    " * It allows for easy grouping of related functions and properties, making the code more organized and readable.\n",
    " * In the context of GameControl, this pattern helps centralize the game's control logic, \n",
    " * making it easier to manage game states, handle events, and maintain the overall flow of the game.\n",
    " * \n",
    " * @type {Object}\n",
    " * @property {Player} player - The player object.\n",
    " * @property {function} start - Initialize game assets and start the game loop.\n",
    " * @property {function} gameLoop - The game loop.\n",
    " * @property {function} resize - Resize the canvas and player object when the window is resized.\n",
    " */\n",
    "const GameControl = {\n",
    "\n",
    "    start: function(assets = {}) {\n",
    "        GameEnv.create(); // Create the Game World, this is pre-requisite for all game objects.\n",
    "        this.background = new Background(assets.image || null);\n",
    "        this.player = new Player(assets.sprite || null);\n",
    "        this.gameLoop();\n",
    "    },\n",
    "\n",
    "    gameLoop: function() {\n",
    "        GameEnv.clear(); // Clear the canvas\n",
    "        this.background.draw();\n",
    "        this.player.update();\n",
    "        requestAnimationFrame(this.gameLoop.bind(this));\n",
    "    },\n",
    "\n",
    "    resize: function() {\n",
    "        GameEnv.resize(); // Adapts the canvas to the new window size, ie a new Game World.\n",
    "        this.player.resize();\n",
    "    }\n",
    "};\n",
    "\n",
    "// Detect window resize events and call the resize function.\n",
    "window.addEventListener('resize', GameControl.resize.bind(GameControl));\n",
    "\n",
    "export default GameControl;"
   ]
  },
  {
   "attachments": {},
   "cell_type": "markdown",
   "metadata": {},
   "source": [
    "### Classic Object Oriented Programming\n",
    "\n",
    "Object Oriented Programming is a model of programming which **creates 'objects' from code that is called ' class'**. Specific data, parameters are sent to the **class constructor** which defines an instance of the class, an object. The classes are essentially 'blueprints', which can be used to create one or more instances of the same class. This makes code easy to reuse, but data is still very specific to needs.\n",
    "\n",
    "> Review OOP classes in RPG Game Project\n",
    "\n",
    "**Backgroud.js** - Creates the background.\n",
    "**Player.js** -- Creates the player."
   ]
  }
 ],
 "metadata": {
  "kernelspec": {
   "display_name": "base",
   "language": "python",
   "name": "python3"
  },
  "language_info": {
   "codemirror_mode": {
    "name": "ipython",
    "version": 3
   },
   "file_extension": ".py",
   "mimetype": "text/x-python",
   "name": "python",
   "nbconvert_exporter": "python",
   "pygments_lexer": "ipython3",
   "version": "3.12.5"
  },
  "orig_nbformat": 4
 },
 "nbformat": 4,
 "nbformat_minor": 2
}
